{
  "cells": [
    {
      "cell_type": "markdown",
      "metadata": {},
      "source": [
        "---\n",
        "title: Probability and Statistics Refresher\n",
        "jupyter: python3\n",
        "---\n",
        "\n",
        "[![](https://colab.research.google.com/assets/colab-badge.svg)](https://colab.research.google.com/github/tools4ds/DS701-Course-Notes/blob/main/ds701_book/jupyter_notebooks/03-Probability-and-Statistics-Refresher.ipynb)"
      ]
    },
    {
      "cell_type": "code",
      "metadata": {
        "hide_input": true,
        "slideshow": {
          "slide_type": "skip"
        },
        "tags": [
          "hide-cell"
        ]
      },
      "source": [
        "%matplotlib inline\n",
        "%config InlineBackend.figure_format='retina'\n",
        "import numpy as np\n",
        "import pandas as pd\n",
        "import matplotlib.pyplot as plt\n",
        "import seaborn as sns\n",
        "from IPython.display import Image, display_html, display, Math, HTML;"
      ],
      "execution_count": null,
      "outputs": []
    },
    {
      "cell_type": "markdown",
      "metadata": {},
      "source": [
        "Today we'll review the essentials of probability and statistics that we'll need for this course.\n",
        "\n",
        "## Probability\n",
        "\n",
        "What is probability?  \n",
        "\n",
        "We all have a general sense of what is meant by probability.\n",
        "\n",
        "However, when we look closely, we see that there are at least two different ways to interpret the notion of \"the probability of an event.\"\n",
        "\n",
        "The first view is summarized by this quote from the first pages of a probability textbook:\n",
        "\n",
        ">Suppose an experiment under consideration can be repeated any number of times, so that, in principle at least, we can produce a whole series of “independent trials under identical conditions” in each of which, depending on chance, a particular event $A$ of interest either occurs or does not occur. \n",
        "\n",
        ">Let $n$ be the total number of experiments in the whole series of trials, and let $n(A)$ be the number of experiement in which $A$ occurs. Then the ratio $n(A)/n$ is called the relative frequency of the event $A.$ \n",
        "\n",
        "> It turns out that the relative frequencies observed in different series of trials are virtually the same for large $n,$ clustering about some constant $P[A],$ which is called the **probability of the event $A.$**\n",
        "\n",
        "Y. A. Rozanov. Probability Theory: A Concise Course. Dover Publications, Inc., 1969.\n",
        "\n",
        "This is called the **frequentist** intepretation of probability.\n",
        "\n",
        "You can think of it as treating each event as a sort of idealized coin-flip.\n",
        "\n",
        "The key idea in the above definition is to be able to:\n",
        "\n",
        "> produce a whole series of “independent trials under identical conditions” \n",
        "\n",
        "However, we often use probability in another setting.\n",
        "\n",
        "On a visit to the doctor, we may ask, \"What is the probability that I have disease X?\"\n",
        "\n",
        "Or, before digging a well, we may ask, \"What is the probability that I will strike water?\"\n",
        "\n",
        "These questions are __totally incompatible__ with the notion of \"independent trials under identical conditions\"!\n",
        "\n",
        "Rather, it seems that we are really asking:\n",
        ">\"How certain should I be that I have disease X?\" \n",
        "\n",
        "> \"How certain should I be that I will strike water?\"\n",
        "\n",
        "In this setting, we are using probability to encode \"degree of belief\" or a \"state of knowledge.\"\n",
        "\n",
        "This is called the __Bayesian__ interpretation of probability.\n",
        "\n",
        "> ... the probability emerging in the time of Pascal is essentially dual.\n",
        "> It has to do both with stable frequencies and with degrees of belief.\n",
        "> It is, as I shall put it, both aleatory and epistemological.\n",
        "> \n",
        "> The Emergence of Probability, Ian Hacking, 2006\n",
        "\n",
        "Somewhat amazingly, it turns out that whichever way we think of probability (frequentist or Bayesian),\n",
        "\n",
        "... the __rules__ that we use for computing probabilities should be __exactly the same.__\n",
        "\n",
        "In most cases in this course we will use frequentist language and examples when talking about probability.\n",
        "\n",
        "But in point of fact, it's often really a \"state of knowledge\" that we are really talking about when we use probability models in this course.\n",
        "\n",
        "> A thing appears random only through the incompleteness of our knowledge \n",
        "\n",
        "-- Spinoza\n",
        "\n",
        "In other words, we use probability as an abstraction that __hides details__ we don't want to deal with.  \n",
        "\n",
        "(This is a time-honored use of probability.)\n",
        "\n",
        "So it's important to recognize that both frequentist and Bayesian views are __valid__ and __useful__ views of probability.\n",
        "\n",
        "<center>\n",
        "\n",
        "<img src=\"./figs/Bayes-Frequentism.png\" width=\"500px\">\n",
        "\n",
        "</center>\n",
        "\n",
        "\n",
        "So, now, let's talk about rules for computing probabilities.\n",
        "\n",
        ">Any simple idea is approximate; as an illustration, consider an object ... what is an object? Philosophers are always \n",
        ">saying, “Well, just take a chair for example.” The moment they say that, you know that they do not know what they are \n",
        ">talking about any more. What is a chair? ... every object is a mixture of a lot of things, so we can deal with it \n",
        "> only as a series of approximations and idealizations.\n",
        "\n",
        ">The trick is the idealizations.\n",
        "\n",
        "Richard Feynman, _The Feynman Lectures on Physics, 12-2_\n",
        "\n",
        "Here is an illustration of this principle applied to probability:\n",
        "\n",
        ">In a serious work ... an expression such as “this phenomenon is due to chance” constitutes simply, \n",
        ">an elliptic form of speech. ... It really means “everything occurs as if this phenomenon were due to chance,” \n",
        ">or, to be more precise: “To describe, or interpret or formalize this phenomenon, \n",
        ">only probabilistic models have so far given good results.”\n",
        "\n",
        "Georges Matheron, _Estimating and Choosing: An Essay on Probability in Practice_\n",
        "\n",
        "### Probability and Conditioning\n",
        "\n",
        "__Definition.__  Consider a set $\\Omega$, referred to as the\n",
        "_sample space._  A _probability\n",
        "  measure_ on $\\Omega$ is a function $P[\\cdot]$ defined on all the subsets of $\\Omega$ (the\n",
        "  _events_) such that:\n",
        "  \n",
        "1. $P[\\Omega] = 1$\n",
        "2. For any event $A \\subset \\Omega$, $P[A] \\geq 0.$\n",
        "3. For any events $A, B \\subset \\Omega$ where $A \\cap B =\n",
        "    \\emptyset$, $P[A \\cup B] = P[A] + P[B]$.\n",
        "\n",
        "\n",
        "Often we want to ask how a probability measure changes if we restrict the sample space to be some subset of $\\Omega$.  \n",
        "\n",
        "This is called __conditioning.__\n",
        "\n",
        "__Here and throughout we need examples.__\n",
        "\n",
        "__Definition.__ The _conditional probability_ of an event $A$ given that\n",
        "event $B$ (having positive probability) is known to occur, is \n",
        "\n",
        "$$ P[A|B] = \\frac{P[A \\cap B]}{P[B]}  \\mbox{ where } P[B] > 0 $$\n",
        "\n",
        "The function $P[\\cdot|B]$ is a probability measure over the sample space\n",
        "$B$.  \n",
        "\n",
        "Note that in the expression $P[A|B]$, $A$ is random but $B$ is fixed. \n",
        "\n",
        "Now if $B$ is a proper subset of $\\Omega,$ then $P[B] < 1$.   So $P[\\cdot|B]$ is a rescaling of the quantity $P[A\\cap B]$ so that $P[B|B] = 1.$ \n",
        "\n",
        "The sample space $\\Omega$ may be continuous or discrete, and bounded or unbounded.\n",
        "\n",
        "__Independent Events.__\n",
        "\n",
        "__Definition.__ Two events $A$ and $B$ are __independent__ if $P[A\\cap B] = P[A] \\cdot P[B].$\n",
        "\n",
        "This is exactly the same as saying that $P[A|B] = P[A].$  \n",
        "\n",
        "So we can see that the intuitive notion of independence is that \"if one event occurs, that does not change the probability of the other event.\"\n",
        "\n",
        "## Random Variables\n",
        "\n",
        "We are usually interested in numeric values associated with events.  \n",
        "\n",
        "When a random event has a numeric value we refer to it as a random variable.\n",
        "\n",
        "Notationally, we use CAPITAL LETTERS for random variables and lowercase for non-random quantities.\n",
        "\n",
        "To collect information about what values of the random variable are more probable than others, we have some more definitions.\n",
        "\n",
        "__Definition.__ The cumulative distribution function (CDF) F for a random\n",
        " variable $X$ is equal to the probability measure for the event that\n",
        " consists of all possible outcomes with a value of the random variable $X$\n",
        " less than or equal to $x$, that is, $F(x) = P[X \\leq x].$\n",
        "\n",
        "__Example.__  Consider the roll of a single die.  The random variable here is the number of points showing.  What is the CDF?\n",
        "\n",
        "<img src=\"./figs/single-die.png\" alt=\"Die\" width=\"100px\">"
      ]
    },
    {
      "cell_type": "code",
      "metadata": {
        "hide_input": true,
        "scrolled": true,
        "slideshow": {
          "slide_type": "fragment"
        },
        "tags": [
          "hide-input"
        ]
      },
      "source": [
        "plt.figure()\n",
        "for i in range(7):\n",
        "    plt.plot([i, i+1-.08], [i/6, i/6],'-b')\n",
        "for i in range(1, 7):\n",
        "    plt.plot(i, i/6, 'ob')\n",
        "    plt.plot(i, (i-1)/6, 'ob', fillstyle = 'none')\n",
        "plt.xlim([0, 7])\n",
        "plt.ylim([-0.05, 1.1])\n",
        "plt.title('Cumulative Distribution Function (CDF)')\n",
        "plt.xlabel(r'$x$ (Number of points showing)', size=14)\n",
        "plt.ylabel(r'$P[X\\leq x]$', size=14);"
      ],
      "execution_count": null,
      "outputs": []
    },
    {
      "cell_type": "markdown",
      "metadata": {},
      "source": [
        "Now, consider this CDF of some random variable:"
      ]
    },
    {
      "cell_type": "code",
      "metadata": {
        "hide_input": true,
        "slideshow": {
          "slide_type": "-"
        },
        "tags": [
          "hide-input"
        ]
      },
      "source": [
        "from scipy.stats import norm\n",
        "plt.figure()\n",
        "x = np.linspace(norm.ppf(0.001), norm.ppf(0.999), 100)\n",
        "plt.plot(x, norm.cdf(x),'b-', lw=5, alpha = 0.6)\n",
        "plt.title('Cumulative Distribution Function (CDF)')\n",
        "plt.xlabel(r'$x$', size=14)\n",
        "plt.ylabel(r'$P[X\\leq x]$', size=14);"
      ],
      "execution_count": null,
      "outputs": []
    },
    {
      "cell_type": "markdown",
      "metadata": {},
      "source": [
        "What does it mean when the slope is steeper for some $x$ values?\n",
        "\n",
        "The slope tells us how likely values are in a particular range.\n",
        "\n",
        "This is important enough that we define a function to capture it.  \n",
        "\n",
        "__Definition.__ The _probability density function_ (pdf) is the derivative of the CDF, when that is defined.\n",
        "\n",
        "$$ f(x) = \\frac{dF(x)}{dx}.$$\n",
        "\n",
        "Often we will go the other way as well:\n",
        "\n",
        "$$ F(x) = \\int_{-\\infty}^{x} f(t)\\; dt $$\n",
        "\n",
        "You should be able to see that:\n",
        "\n",
        "$$ \\int_{-\\infty}^{+\\infty} f(x)\\; dx = 1 $$\n",
        "\n",
        "and\n",
        "\n",
        "$$      f(x) \\geq 0 $$\n",
        "\n",
        "Now, for a discrete random variable, the CDF is not differentiable (because the CDF is a step function).  \n",
        "\n",
        "For the PDF of discrete RVs, we simply plot the probability function of\n",
        "each value.  That is, we plot $P[X = x]$ for the various values of $x$.\n",
        "\n",
        "Another way to think of the PDF is that it consists of impulses at the\n",
        "points of discontinuity of the CDF. \n",
        "\n",
        "For our example of the single die:"
      ]
    },
    {
      "cell_type": "code",
      "metadata": {
        "hide_input": true,
        "slideshow": {
          "slide_type": "-"
        },
        "tags": [
          "hide-input"
        ]
      },
      "source": [
        "plt.figure()\n",
        "x = np.arange(1, 7)\n",
        "plt.plot(x, 6*[1/6.], 'bo', ms=8)\n",
        "plt.vlines(x, 0, 1/6., colors='b', lw=5, alpha=0.5)\n",
        "plt.xlim([0.5, 6.5])\n",
        "plt.ylim([0, 1.1])\n",
        "plt.xlabel(r'x (Number of points showing)', size=14)\n",
        "plt.ylabel(r'$P[X = x]$', size=14);"
      ],
      "execution_count": null,
      "outputs": []
    },
    {
      "cell_type": "markdown",
      "metadata": {},
      "source": [
        "## Characterizing Random Variables\n",
        "\n",
        "__Definition.__ The _expected value_ $E[X]$ of a random\n",
        "variable $X$ is the probability-weighted sum or integral of all possible values of\n",
        "the R.V.  \n",
        "\n",
        "For a discrete random variable, this is:\n",
        "\n",
        "$$ E[X] \\equiv \\sum_{-\\infty}^{+\\infty} x\\; P[X=x] $$\n",
        "\n",
        "and for a continuous random variable with pdf $p():$\n",
        "\n",
        "$$ E[X] \\equiv \\int_{-\\infty}^{+\\infty} x\\; p(x)\\; dx $$\n",
        "\n",
        "The expected value is also called the average or the mean, although we\n",
        "prefer to reserve those terms for empirical statistics (actual\n",
        "measurements, not idealizations like these formulas).\n",
        "\n",
        "The expected value is in some sense the \"center of mass\" of the random\n",
        "variable.   It is often denoted $\\mu$.\n",
        "\n",
        "The mean is usually a quite useful characterization of the random variable.\n",
        "\n",
        "However, be careful: in some cases, the mean may not be very informative, or important.  \n",
        "\n",
        "In some cases a\n",
        "random variable may not ever take on the mean as a possible value.  (Consider again the single die, whose mean is 3.5)\n",
        "\n",
        "In other cases the notion of average isn't useful, as for the person\n",
        "with their head in the oven and feet in the freezer who claims \"on\n",
        "average I feel fine.\" \n",
        "\n",
        "In other words, the mean may not be very informative when\n",
        "observations are highly variable.   \n",
        "\n",
        "In fact, the variability of random quantities is crucially important to characterize.\n",
        "\n",
        "For this we use __variance,__ the mean squared difference of the random variable from its mean.\n",
        "\n",
        "__Definition.__ The variance of a random variable $X$ is\n",
        "\n",
        "$$ \\mbox{Var} (X) \\equiv E[(X - E[X])^2]. $$\n",
        "\n",
        "For example, given a discrete R.V. with $E[X] = \\mu$ this would be:\n",
        "\n",
        "$$ \\mbox{Var} (X) = \\sum_{x=-\\infty}^{+\\infty} (x-\\mu)^2\\; P[X=x]. $$\n",
        "\n",
        "We use the symbol $\\sigma^2$ to denote variance.\n",
        "\n",
        "The units of variance are the square of the units of the mean. \n",
        "\n",
        "So to compare variance and mean in the same units, we take the square root of the variance.\n",
        "\n",
        "This is called the __standard deviation__ and is denoted $\\sigma$.\n",
        "\n",
        "Next, let's recall the case of the Tesla and Yelp returns from the last lecture:"
      ]
    },
    {
      "cell_type": "code",
      "metadata": {
        "hide_input": false,
        "tags": [
          "hide-input"
        ]
      },
      "source": [
        "import pandas as pd\n",
        "import yfinance as yf\n",
        "\n",
        "stocks = ['TSLA', 'YELP']\n",
        "df = pd.DataFrame()\n",
        "for s in stocks:\n",
        "    df[s] = pd.DataFrame(yf.download(s,start='2014-01-01',end='2014-12-31', progress = False))['Close']\n",
        "\n",
        "rets = df.pct_change(30)\n",
        "rets[['TSLA', 'YELP']].plot(lw=2)\n",
        "plt.legend(loc='best');"
      ],
      "execution_count": null,
      "outputs": []
    },
    {
      "cell_type": "markdown",
      "metadata": {},
      "source": [
        "Treating these two timeseries as random variables, we are interested in how they vary __together__.\n",
        "\n",
        "This is captured by the concept of __covariance.__\n",
        "\n",
        "__Definition.__ For two random variables $X$ and $Y$, their _covariance_ is defined as:\n",
        "\n",
        "$$\\text{Cov}(X,Y) = E\\left[(X-\\mu_X)(Y-\\mu_Y)\\right]$$\n",
        "\n",
        "If covariance is positive, this tells us that $X$ and $Y$ tend to be both above their means together, and both below their means together.\n",
        "\n",
        "We will often denote $\\text{Cov}(X,Y)$ as $\\sigma_{XY}$\n",
        "\n",
        "If we are interested in asking \"how similar\" are two random variables, we want to normalize covariance by the amount of variance shown by the random variables.\n",
        "\n",
        "The tool for this purpose is __correlation__, ie, normalized covariance:\n",
        "\n",
        "$$\\rho(X,Y) = \\frac{E\\left[(X-\\mu_X)(Y-\\mu_Y)\\right]}{\\sigma_X \\sigma_Y}$$\n",
        "\n",
        "$\\rho(X, Y)$ takes on values between -1 and 1.   \n",
        "\n",
        "If $\\rho(X, Y) = 0$ then $X$ and $Y$ are __uncorrelated__.   Note that this is not the same thing as being independent!\n",
        "\n",
        "$\\rho$ is sometimes called \"Pearson $r$\" after Karl Pearson who popularized it.\n",
        "\n",
        "Let's look at our example again:"
      ]
    },
    {
      "cell_type": "code",
      "metadata": {
        "hide_input": true,
        "tags": [
          "hide-input"
        ]
      },
      "source": [
        "rets = df.pct_change(30)\n",
        "rets[['TSLA', 'YELP']].plot(lw=2)\n",
        "plt.legend(loc='best');"
      ],
      "execution_count": null,
      "outputs": []
    },
    {
      "cell_type": "code",
      "metadata": {
        "slideshow": {
          "slide_type": "fragment"
        }
      },
      "source": [
        "df.cov()"
      ],
      "execution_count": null,
      "outputs": []
    },
    {
      "cell_type": "markdown",
      "metadata": {},
      "source": [
        "In the case of Tesla ($X$) and Yelp ($Y$) above, we find that\n",
        "\n",
        "$$\\text{Cov}(X,Y) = 9.53$$\n",
        "\n",
        "Is that a big number? small number?"
      ]
    },
    {
      "cell_type": "code",
      "metadata": {
        "slideshow": {
          "slide_type": "fragment"
        }
      },
      "source": [
        "df.corr()"
      ],
      "execution_count": null,
      "outputs": []
    },
    {
      "cell_type": "markdown",
      "metadata": {},
      "source": [
        "So:\n",
        "\n",
        "$$\\rho(X,Y) = 0.137$$\n",
        "\n",
        "Apparently, not a big number!\n",
        "\n",
        "## Low and High Variability\n",
        "\n",
        "Historically, most sources of random variation that have concerned\n",
        "statisticians are instances of low variability.  \n",
        "\n",
        "The original roots of\n",
        "probability in the study of games of chance, and later in the study of\n",
        "biology and medicine, have mainly studied objects with low variability.\n",
        "\n",
        "(Note that by \"low variability\" I don't mean that such variability is unimportant.)\n",
        "\n",
        "Some examples of random variation in this category are: \n",
        "\n",
        "* the heights of adult humans\n",
        "* the number of trees per unit area in a mature forest\n",
        "* the sum of 10 rolls of a die\n",
        "* the time between emission of subatomic particles from a radioactive material.\n",
        "\n",
        "In each of these cases, there are a range of values that are\n",
        " \"typical,\" and there is a clear threshold above what is typical, that essentially never occurs.\n",
        "\n",
        "On the other hand, there are some situations in which variability is\n",
        "quite different.  \n",
        "\n",
        "In these cases, there is no real \"typical\" range of\n",
        "values, and arbitrarily large values can occur with non-negligible\n",
        "frequency.   \n",
        "\n",
        "Some examples in this category are\n",
        "\n",
        "* the distribution of wealth among individuals in society\n",
        "* the sizes of human settlements\n",
        "* the areas burnt in forest fires\n",
        "* the runs of gains and losses in various financial markets over time\n",
        "* and the number of collaborators a scholar has over her lifetime.   \n",
        "\n",
        "> The banking system (betting against rare events) just lost [more than] 1\n",
        "> Trillion dollars (so far) on a single error, more than was ever earned\n",
        "> in the history of banking.\n",
        "\n",
        "Nassim Nicholas Taleb, September 2008 \n",
        "\n",
        "\n",
        "\n",
        "\n",
        "![](figs/derivatives-portfolio-variation.png)\n",
        "\n",
        "An example of a run of observations showing high variability.   This figure shows the daily\n",
        "variations in a derivatives portfolio over the timeframe 1988-2008.\n",
        "About 99% of the variation over the 20 years occurs in a single day\n",
        "(the day the European Monetary System collapsed).\n",
        "\n",
        "## Important Random Variables\n",
        "\n",
        "Now we will review certain random variables that come up over and over again in typical situations.\n",
        "\n",
        "### Independent Binary Trials\n",
        "\n",
        "Here is our canonical experiment: flipping a weighted coin.  \n",
        "\n",
        "The coin\n",
        "comes up \"heads\" (aka \"success\") with probability $p$.  \n",
        "\n",
        "We use the standard notation that the corresponding probability (\"tails\", \"failure\") is denoted $q$\n",
        "(i.e., $q = 1-p$).  \n",
        "\n",
        "These are called _Bernoulli trials_.\n",
        "\n",
        "One can think of each trial as a timestep so these are about _discrete\n",
        "  time_.\n",
        "  \n",
        "Notice that by definition, Bernoulli trials are __independent events.__\n",
        "\n",
        "Now we will extend this notion to continuous time.\n",
        "\n",
        "To start with, imagine that you flip the coin once per second.\n",
        "\n",
        "So we expect to observe $p$ successes per second.\n",
        "\n",
        "Now, imagine that you \"speed up\" the coin flipping so that instead of flipping a coin once per second,\n",
        "you flip it $m > 1$ times per second, \n",
        "\n",
        "... and you simultaneously decrease the\n",
        "probability of success to $p/m$.   \n",
        "\n",
        "Then you expect the same number of\n",
        "successes per second (i.e., $p$) ... but events can happen at finer time\n",
        "intervals.   \n",
        "\n",
        "Now imagine the limit as $m \\rightarrow \\infty$.  \n",
        "\n",
        "This is a\n",
        "mathematical abstraction in which \n",
        "* an event can happen at _any_ time instant\n",
        "* an event at any time instant is equally likely\n",
        "* and an event at any time instant is independent of any other time instant (it's still a coin with no memory).   \n",
        "\n",
        "In this setting, we can think of events happening at some _rate_ $\\lambda$ that is\n",
        "equal to $p$ per second.  \n",
        "\n",
        "Note that $\\lambda$ has units of inverse time, e.g., sec$^{-1}$. \n",
        "\n",
        "Thus we have defined two kinds of coin-flipping:\n",
        "* in discrete time (Bernoulli trials with success probability $p$)\n",
        "* and in continuous time (with success rate $\\lambda$)\n",
        "\n",
        "For each of these two cases (discrete and continuous time) there are two questions we can ask:\n",
        "\n",
        "1. Given that an event has just occured, how long until the next\n",
        "  success?\n",
        "2. In a fixed number of trials or amount of time, how many events\n",
        "  occur?\n",
        "\n",
        "These four cases define four commonly-used random variables.\n",
        "\n",
        "\n",
        "\n",
        "\n",
        "| | # Trials or Time Until Event | Number of Events in Fixed Time  |\n",
        "|-|:--:|:--:|\n",
        "|__Discrete Trials__| Geometric| Binomial |\n",
        "|__Continuous Rate__| Exponential | Poisson|\n",
        "\n",
        "Each one has an associated distribution.\n",
        "\n",
        "#### The Geometric Distribution\n",
        "\n",
        "The geometric distribution concerns Bernoulli trials.\n",
        "\n",
        "It answers the question: \"what is the probability it takes $k$ trials to obtain the first success?\"\n",
        "\n",
        "Its PDF is given by:\n",
        "\n",
        "$$ P[X = k] = p(1-p)^{k-1}. \\;\\; k \\geq 1$$ \n",
        "\n",
        "Its mean is $\\mu = \\frac{1}{p}$ and its variance is $\\sigma^2 = \\frac{1-p}{p^2}$.\n",
        "\n",
        "Its pdf looks like:"
      ]
    },
    {
      "cell_type": "code",
      "metadata": {
        "hide_input": true,
        "slideshow": {
          "slide_type": "-"
        },
        "tags": [
          "hide-input"
        ]
      },
      "source": [
        "from scipy.stats import geom\n",
        "p = 0.3\n",
        "x = np.arange(geom.ppf(0.01, p), geom.ppf(0.995, p))\n",
        "plt.ylim([0, 0.4])\n",
        "plt.xlim([0.5, max(x)])\n",
        "plt.plot(x, geom.pmf(x, p), 'bo', ms=8, label = 'geom pmf')\n",
        "plt.vlines(x, 0, geom.pmf(x, p), colors='b', lw = 5, alpha = 0.6)\n",
        "plt.title(f'Geometric PDF, $p$ = {p}', size=14)\n",
        "plt.xlabel(r'$k$', size=14)\n",
        "plt.ylabel(r'$P[X = k]$', size=14);"
      ],
      "execution_count": null,
      "outputs": []
    },
    {
      "cell_type": "markdown",
      "metadata": {},
      "source": [
        "#### The Binomial Distribution\n",
        "\n",
        "The Binomial also concerns Bernoulli trials.\n",
        "\n",
        "In this experiment there are precisely $N$ coin flips, and $p$ is still\n",
        "the probability of a success.  \n",
        "\n",
        "Now we ask: what is the probability there\n",
        "will be $k$ successes?\n",
        "\n",
        "For any __given__ sequence of $k$ successes and $N-k$ failures, the probability is $p^k \\;(1-p)^{N-k}$.\n",
        "\n",
        "But there are many different such sequences: $\\binom{N}{k}$ of them in fact. \n",
        "\n",
        "So this distribution is $P[X=k] = \\binom{N}{k}\\; p^k\\; (1-p)^{N-k}.$\n",
        "\n",
        "Its mean is $pN$, and its variance is $pqN$.  "
      ]
    },
    {
      "cell_type": "code",
      "metadata": {
        "hide_input": true,
        "slideshow": {
          "slide_type": "fragment"
        },
        "tags": [
          "hide-input"
        ]
      },
      "source": [
        "from scipy.stats import binom\n",
        "p = 0.3\n",
        "x = np.arange(binom.ppf(0.01, 10, p), binom.ppf(0.9995, 10, p))\n",
        "plt.ylim([0, 0.4])\n",
        "plt.xlim([-0.5, max(x)+0.5])\n",
        "plt.plot(x, binom.pmf(x, 10, p), 'bo', ms=8, label = 'binom pmf')\n",
        "plt.vlines(x, 0, binom.pmf(x, 10, p), colors='b', lw = 5, alpha=0.6)\n",
        "plt.title(f'Binomial PDF, $p$ = {p}, $N$ = 10', size=14)\n",
        "plt.xlabel(r'$k$', size=14)\n",
        "plt.ylabel(r'$P[X = k]$', size=14);"
      ],
      "execution_count": null,
      "outputs": []
    },
    {
      "cell_type": "markdown",
      "metadata": {},
      "source": [
        "#### The Exponential Distribution\n",
        "\n",
        "Now we shift to a situation where successes occur at a fixed __rate.__\n",
        "\n",
        "The Exponential random variable is the analog of the geometric in the continuous case,\n",
        "_i.e.,_ the situation in which a success happens at some rate\n",
        "$\\lambda$.  \n",
        "\n",
        "This RV can be thought of as measuring the __time__ until a success occurs. \n",
        "\n",
        "Its pdf is:\n",
        "\n",
        "$$ p(x) = \\lambda e^{- \\lambda x}$$\n",
        "\n",
        "The mean is $1/\\lambda$, and the variance is $1/\\lambda^2$."
      ]
    },
    {
      "cell_type": "code",
      "metadata": {
        "hide_input": true,
        "slideshow": {
          "slide_type": "fragment"
        },
        "tags": [
          "hide-input"
        ]
      },
      "source": [
        "from scipy.stats import expon\n",
        "p = 0.3\n",
        "x = np.linspace(expon.ppf(0.01, scale=1/p), expon.ppf(0.995, scale=1/p), 100)\n",
        "plt.plot(x, expon.pdf(x, scale=1/p),'b-', lw = 5, alpha = 0.6, label='expon pdf')\n",
        "plt.title(f'Exponential PDF, $\\lambda$ = {p}', size=14)\n",
        "plt.xlabel(r'$x$', size=14)\n",
        "plt.ylabel(r'$p(x)$', size=14)\n",
        "plt.ylim([0, 0.4])\n",
        "plt.xlim([0, 14]);"
      ],
      "execution_count": null,
      "outputs": []
    },
    {
      "cell_type": "markdown",
      "metadata": {},
      "source": [
        "Notice how the Exponential is the __continuous analog__ of the Geometric:"
      ]
    },
    {
      "cell_type": "code",
      "metadata": {
        "hide_input": true,
        "tags": [
          "hide-input"
        ]
      },
      "source": [
        "from math import exp \n",
        "lam = 0.3\n",
        "p = 1 - exp(- lam)\n",
        "x = np.linspace(expon.ppf(0, scale=1/lam), expon.ppf(0.995, scale=1/lam), 100)\n",
        "plt.plot(x, expon.cdf(x, scale=1/lam),'b-', lw = 5, alpha = 0.6, label='Exponential')\n",
        "xg = np.arange(geom.ppf(0, p), geom.ppf(0.995, p))\n",
        "plt.ylim([0, 1])\n",
        "plt.xlim([-0.5, max(xg)])\n",
        "plt.plot(xg, geom.cdf(xg, p), 'ro', ms = 8, label = 'Geometric')\n",
        "plt.suptitle(f'Geometric and Exponential CDFs', size = 14)\n",
        "plt.title(r'$\\lambda = 0.3; \\;\\;\\; p = 1-e^{-\\lambda} =$' + f' {p:0.3f}', size=12)\n",
        "plt.xlabel(r'$x$', size=14)\n",
        "plt.ylabel(r'$P[X \\leq x]$', size = 14)\n",
        "plt.legend(loc = 'best');"
      ],
      "execution_count": null,
      "outputs": []
    },
    {
      "cell_type": "markdown",
      "metadata": {},
      "source": [
        "#### The Poisson Distribution\n",
        "\n",
        "When we ask the question \n",
        "\n",
        "\"How many successes occur in a fixed amount of time?\", \n",
        "\n",
        "...we get the Poisson distribution.\n",
        "\n",
        "The Poisson Distribution is the limiting form of binomial, when the\n",
        "number of trials goes to infinity, happening at some rate $\\lambda$.\n",
        "\n",
        "$$ P[k \\mbox{ successes in time } T] = (\\lambda T)^k \\frac{e^{- \\lambda T}}{k!}$$\n",
        "\n",
        "It answers the question: when events happen indepdently at some fixed rate, how many will occur in a given fixed interval?\n",
        "\n",
        "Its mean is $\\lambda T$ and its variance is $\\lambda T$ as well."
      ]
    },
    {
      "cell_type": "code",
      "metadata": {
        "hide_input": true,
        "slideshow": {
          "slide_type": "fragment"
        },
        "tags": [
          "hide-input"
        ]
      },
      "source": [
        "from scipy.stats import poisson\n",
        "mu = 3\n",
        "x = np.arange(poisson.ppf(0.01, mu), poisson.ppf(0.9995, mu))\n",
        "# plt.ylim([0,1])\n",
        "plt.xlim([-0.5, max(x)+0.5])\n",
        "plt.ylim(ymax = 0.4)\n",
        "plt.plot(x, poisson.pmf(x, mu), 'bo', ms=8, label='poisson pmf')\n",
        "plt.vlines(x, 0, poisson.pmf(x, mu), colors='b', lw=5, alpha=0.6)\n",
        "plt.title(f'Poisson PDF.  $\\lambda T$ = {mu}', size=14)\n",
        "plt.xlabel(r'k', size=14)\n",
        "plt.ylabel(r'P[X = k]', size=14);"
      ],
      "execution_count": null,
      "outputs": []
    },
    {
      "cell_type": "markdown",
      "metadata": {},
      "source": [
        "The Poisson distribution has an interesting role in our perception of randomness (which you can read more about [here](http://www.empiricalzeal.com/2012/12/21/what-does-randomness-look-like/#more-2450)).    \n",
        "\n",
        "The classic example comes from history.  From the above site:\n",
        "\n",
        ">In 1898 Ladislaus Bortkiewicz, a Russian statistician of Polish descent, was trying to understand why, in some years, \n",
        ">an unusually large number of soldiers in the Prussian army were dying due to horse-kicks. In a single army corp, \n",
        ">there were sometimes 4 such deaths in a single year. Was this just coincidence?\n",
        "\n",
        "To assess whether horse-kicks were random (not following any pattern) Bortkiewicz simply compared the number per year to what would be predicted by the Poisson distribution."
      ]
    },
    {
      "cell_type": "code",
      "metadata": {
        "hide_input": true,
        "slideshow": {
          "slide_type": "fragment"
        },
        "tags": [
          "hide-input"
        ]
      },
      "source": [
        "# note that this data is available in 'data/HorseKicks.txt'\n",
        "horse_kicks = pd.DataFrame(\n",
        "data = np.array([\n",
        "[0, 108.67, 109],\n",
        "[1, 66.29, 65],\n",
        "[2, 20.22, 22],\n",
        "[3, 4.11, 3],\n",
        "[4, 0.63, 1],\n",
        "[5, 0.08, 0],\n",
        "[6, 0.01, 0]]),\n",
        "columns = [\"Number of Deaths Per Year\",\"Predicted Instances (Poisson)\",\"Observed Instances\"])\n",
        "horse_kicks"
      ],
      "execution_count": null,
      "outputs": []
    },
    {
      "cell_type": "code",
      "metadata": {
        "hide_input": true,
        "slideshow": {
          "slide_type": "fragment"
        },
        "tags": [
          "hide-input"
        ]
      },
      "source": [
        "horse_kicks[[\"Predicted Instances (Poisson)\",\"Observed Instances\"]].plot.bar()\n",
        "plt.xlabel(\"Number of Deaths Per Year\", size=14)\n",
        "plt.ylabel(\"Count\", size=14);"
      ],
      "execution_count": null,
      "outputs": []
    },
    {
      "cell_type": "markdown",
      "metadata": {},
      "source": [
        "The message here is that when events occur at random, we actually tend to perceive them as clustered.   \n",
        "\n",
        "Here is another example:\n",
        "\n",
        "![](figs/pinker-glow-worms-and-stars-plot.jpg)\n",
        "\n",
        "Which of these was generated by a random process ocurring equally likely everywhere?\n",
        "\n",
        "These images are from Steven Pinker’s book, _The Better Angels of our Nature._\n",
        "\n",
        "In the left figure, the number of dots falling into regions of a given size follows the Poisson distribution.\n",
        "\n",
        "#### The Uniform Distribution\n",
        "\n",
        "The uniform distribution models the case in which all outcomes are equally probable.  \n",
        "\n",
        "It can be a discrete or continuous distribution.\n",
        "\n",
        "We have already seen the uniform distribution in the case of rolls of a fair die:"
      ]
    },
    {
      "cell_type": "code",
      "metadata": {
        "hide_input": true,
        "slideshow": {
          "slide_type": "fragment"
        },
        "tags": [
          "hide-input"
        ]
      },
      "source": [
        "plt.figure()\n",
        "x = np.arange(1, 7)\n",
        "plt.plot(x, 6*[1/6.], 'bo', ms=8)\n",
        "plt.vlines(x, 0, 1/6., colors='b', lw=5, alpha=0.5)\n",
        "plt.xlim([0.5, 6.5])\n",
        "plt.ylim([0, 1.1])\n",
        "plt.xlabel(r'x (Number of points showing)', size=14)\n",
        "plt.ylabel(r'$P[X = x]$', size=14);"
      ],
      "execution_count": null,
      "outputs": []
    },
    {
      "cell_type": "markdown",
      "metadata": {},
      "source": [
        "There is an important relationship between the uniform and Poisson distributions.\n",
        "\n",
        "__When the time an event occurs is uniformly distributed, the number of events in a time interval is Poisson distributed.__\n",
        "\n",
        "You can replace \"time\" with \"location\", and so on.\n",
        "\n",
        "Also, the reverse statment is true as well.\n",
        "\n",
        "So a simple way to generate a picture like the scattered points above is to select the $x$ and $y$ coordinates of each point uniformly distributed over the picture size.\n",
        "\n",
        "### The Gaussian Distribution\n",
        "\n",
        "The Gaussian Distribution is also called the Normal Distribution.\n",
        "\n",
        "We will make __extensive__ use of Gaussian distribution, for a number of reasons.\n",
        "\n",
        "<center>\n",
        "\n",
        "<img src=\"./figs/Gauss-on-Deutschemark.png\" width=\"600px\">\n",
        "\n",
        "</center>\n",
        "\n",
        "One of reasons we will use it so much is that it is a good guess for how errors are distributed in data.\n",
        "\n",
        "This comes from the celebrated __Central Limit Theorem__.   Informally, \n",
        "\n",
        ">_The sum of a large number of independent observations from any\n",
        ">distribution with finite variance tends to have a Gaussian\n",
        "> distribution._\n",
        "\n",
        "<center>\n",
        "\n",
        "<img src=\"./figs/Galton-Bean-Machine.png\" width=\"350px\">\n",
        "\n",
        "     Francis Galton's \"Bean Machine\"\n",
        "    \n",
        "</center>\n",
        "\n",
        "As a special case, the sum of $n$ independent Gaussian variates is Gaussian.\n",
        "\n",
        "\n",
        "Thus Gaussian processes remain Gaussian after passing through linear\n",
        "systems.   \n",
        "\n",
        "If $X_1$ and $X_2$ are Gaussian, then $X_3 = aX_1 + bX_2$ is Gaussian.\n",
        "\n",
        "Thus we can see that one way of thinking of the Gaussian is that it is the\n",
        "limit of the Binomial when $n$ is large, that is, the limit of\n",
        "the sum of many Bernoulli trials.    \n",
        "\n",
        "However many other\n",
        "sums of random variables (not just Bernoulli trials) converge to the\n",
        "Gaussian as well.\n",
        "\n",
        "The _standard Gaussian_ distribution has mean zero and a variance (and standard deviation)\n",
        "of 1.   The pdf of the standard Gaussian is:\n",
        "\n",
        "$$ p(x) = \\frac{1}{\\sqrt{2 \\pi}} e^{-x^2/2}. $$"
      ]
    },
    {
      "cell_type": "code",
      "metadata": {
        "hide_input": true,
        "slideshow": {
          "slide_type": "fragment"
        },
        "tags": [
          "hide-input"
        ]
      },
      "source": [
        "from scipy.stats import norm\n",
        "plt.figure()\n",
        "x = np.linspace(norm.ppf(0.001), norm.ppf(0.999), 100)\n",
        "plt.plot(x, norm.pdf(x),'b-', lw = 5, alpha = 0.6)\n",
        "plt.title(r'Standard Gaussian PDF.  $\\mu = 0, \\sigma = 1$', size=14)\n",
        "plt.xlabel('x', size=14)\n",
        "plt.ylabel(r'$p(x)$', size=14);"
      ],
      "execution_count": null,
      "outputs": []
    },
    {
      "cell_type": "code",
      "metadata": {
        "hide_input": true,
        "slideshow": {
          "slide_type": "fragment"
        },
        "tags": [
          "hide-input"
        ]
      },
      "source": [
        "plt.figure()\n",
        "x = np.linspace(norm.ppf(0.001), norm.ppf(0.999), 100)\n",
        "plt.plot(x, norm.cdf(x),'b-', lw = 5, alpha = 0.6)\n",
        "plt.title(r'Standard Gaussian CDF.  $\\mu = 0, \\sigma = 1$', size=14)\n",
        "plt.xlabel('x', size=14)\n",
        "plt.ylabel(r'$P[X\\leq x]$', size=14);"
      ],
      "execution_count": null,
      "outputs": []
    },
    {
      "cell_type": "markdown",
      "metadata": {},
      "source": [
        "For an arbitrary Gaussian distribution with mean $\\mu$ and variance\n",
        "$\\sigma^2$, the pdf is simply the standard Gaussian that is relocated to\n",
        "have its center at $\\mu$ and its width scaled by $\\sigma$:\n",
        "\n",
        "$$ p_{\\mu,\\sigma}(x) = \\frac{1}{\\sigma \\sqrt{2 \\pi}} e^{-\\frac{1}{2}\\left(\\frac{x-\\mu}{\\sigma}\\right)^2}. $$\n",
        "\n",
        "### Heavy Tails\n",
        "\n",
        "Earlier we discussed high- and low-variability.   \n",
        "\n",
        "All of the distributions we have discussed so far have \"light tails\", meaning that they show low variability.\n",
        "\n",
        "In other words, extremely large observations are essentially impossible.\n",
        "\n",
        "However in other cases, extremely large observations can occur.   Distributions that capture this property are called \"heavy tailed\".\n",
        "\n",
        "Some examples of data that can be often modeled using heavy-tailed distributions:\n",
        "\n",
        "* The sizes of files in a file system\n",
        "* The sizes of objects transferred over the Internet\n",
        "* The execution time of jobs on a computer system\n",
        "* The degree of nodes in a network (eg, social network).\n",
        "\n",
        "In practice, random variables that follow heavy tailed distributions\n",
        "are characterized as exhibiting many small observations mixed in with\n",
        "a few large observations.  \n",
        "\n",
        "In such datasets, most of the observations\n",
        "are small, but most of the contribution to the sample mean or variance\n",
        "comes from the rare, large observations.\n",
        "\n",
        "#### The Pareto Distribution\n",
        "\n",
        "The Pareto distribution is the simplest continuous heavy-tailed\n",
        "distribution.    \n",
        "\n",
        "Pareto was an Italian economist who studied income distributions.\n",
        "(In fact, income distributions typically show heavy tails.)\n",
        "\n",
        "Its pdf is:\n",
        "\n",
        "$$ p(x) = \\alpha k^{\\alpha} x^{-\\alpha-1}\\;\\;\\; k \\leq x,\\; \\;0 < \\alpha\n",
        "\\leq 2. $$\n",
        "\n",
        "It takes on values in the range $[k, \\infty]$. "
      ]
    },
    {
      "cell_type": "code",
      "metadata": {
        "hide_input": false,
        "slideshow": {
          "slide_type": "skip"
        },
        "tags": [
          "hide-input"
        ]
      },
      "source": [
        "from scipy.stats import pareto\n",
        "alpha = 1.3\n",
        "x = np.linspace(pareto.ppf(0.005,alpha), pareto.ppf(0.995,alpha), 100)\n",
        "plt.plot(x, pareto.pdf(x,alpha),'b-', lw = 5, alpha = 0.6, label='pareto pdf')\n",
        "plt.title(r'Pareto PDF.  $\\alpha$ = {}'.format(alpha), size=14)\n",
        "plt.xlabel(r'x', size=14)\n",
        "plt.ylabel(r'p(x)', size=14);"
      ],
      "execution_count": null,
      "outputs": []
    },
    {
      "cell_type": "markdown",
      "metadata": {},
      "source": [
        "The variance of the Pareto distribution is infinite.  (The corresponding\n",
        "integral diverges.)\n",
        "\n",
        "In practice, this means that a new observation that significantly\n",
        "changes the sample variance is _always_ possible, no matter how many samples\n",
        "of the random variable have already been taken.\n",
        "\n",
        "The mean of the Pareto is $\\frac{k\\alpha}{\\alpha-1}$, for $\\alpha > 1$.  \n",
        "\n",
        "But\n",
        "note that as $\\alpha$ decreases, the variability of the Pareto\n",
        "increases.  \n",
        "\n",
        "In fact, for $\\alpha \\leq 1$, the Pareto distribution has\n",
        "_infinite mean._  Again, in practice this means that a swamping\n",
        "observation for the mean is always possible.   \n",
        "\n",
        "Hence the running average\n",
        "of a series of Pareto observations with $\\alpha \\leq 1$ will never\n",
        "converge to a fixed value, and the mean itself is not a useful\n",
        "statistic in this case.\n",
        "\n",
        "### Multivariate Random Variables\n",
        "\n",
        "A __multivariate random variable__ is a vector of random variables.\n",
        "\n",
        "We often simply say a \"random vector\".\n",
        "\n",
        "That is, \n",
        "\n",
        "$$ \\mathbf{X} = \\left[\\begin{array}{c}X_1 \\\\ X_2 \\\\ \\vdots \\\\ X_n\\end{array}\\right] $$\n",
        "\n",
        "The expected value of a random vector is obtained by taking the expected value of each component random variable:\n",
        "    \n",
        "$$ E[\\mathbf{X}] = \\mathbf{\\mu_X} = \\left[\\begin{array}{c}E[X_1] \\\\ E[X_2] \\\\ \\vdots \\\\ E[X_n]\\end{array}\\right] $$\n",
        "\n",
        "To properly characterize the variability of a random vector, we need to specify all the covariances of pairs of components.\n",
        "\n",
        "We organize these values into a __covariance matrix:__\n",
        "\n",
        "$$ \\text{Cov}[X] = \\left[\\begin{array}{cccc}\n",
        "\\text{Var}[X_1] & \\text{Cov}[X_1, X_2] & \\dots & \\text{Cov}[X_1, X_n]\\\\\n",
        "\\text{Cov}[X_2, X_1] & \\text{Var}[X_2] & \\dots & \\text{Cov}[X_2, X_n]\\\\\n",
        "\\vdots & \\vdots & \\ddots & \\vdots\\\\\n",
        "\\text{Cov}[X_n,X_1] & \\text{Cov}[X_n, X_2] & \\dots & \\text{Var}[X_n]\\\\\n",
        "\\end{array}\\right] $$\n",
        "\n",
        "A couple things to note about a covariance matrix.\n",
        "\n",
        "1. The covariance matrix is symmetric (because $\\text{Cov}(X_i, X_j) = \\text{Cov}(X_j, X_i)$)\n",
        "2. The covariance matrix is __positive semidefinite__.\n",
        "\n",
        "### Random Variables as Vectors\n",
        "\n",
        "When working with data, we will often treat multiple observations of some feature as samples of a random variable.\n",
        "\n",
        "We will also typically organize the observations into a vector.\n",
        "\n",
        "For example, consider our stock data:"
      ]
    },
    {
      "cell_type": "code",
      "metadata": {},
      "source": [
        "df"
      ],
      "execution_count": null,
      "outputs": []
    },
    {
      "cell_type": "markdown",
      "metadata": {},
      "source": [
        "Each column can be treated as a vector.\n",
        "\n",
        "So:\n",
        "* Let's say that our data frame `df` is represented as a matrix $D$, \n",
        "* and that `df['TSLA']` are observations of some random variable $X$, \n",
        "* and `df['YELP']` are observations of some random variable $Y$.  \n",
        "\n",
        "Let $D$ have $n$ rows (ie, $n$ observations).\n",
        "\n",
        "Now, let us subtract from each column its mean, to form a new matrix $\\tilde{D}$.\n",
        "\n",
        "In the new matrix $\\tilde{D}$, every column has zero mean.\n",
        "\n",
        "Then notice the following: the Covariance matrix of $(X, Y)$ is simply $\\frac{1}{n}\\; \\tilde{D}^T\\tilde{D}$.\n",
        "\n",
        "For example, \n",
        "\n",
        "$$ \\text{Cov}(X,Y) = E\\left[(X-\\mu_X)(Y-\\mu_Y)\\right] $$ \n",
        "\n",
        "$$ = \\frac{1}{n} \\sum_i (\\tilde{D}_{i1} \\cdot \\tilde{D}_{i2}) $$\n",
        "\n",
        "$$ = \\frac{1}{n}\\;\\tilde{d}_1^T\\tilde{d}_2$$\n",
        "\n",
        "where $\\tilde{d}_1$ and $\\tilde{d}_2$ are the columns of $\\tilde{D}$.\n",
        "\n",
        "This shows that __covariance is actually an inner product__ between normalized observation vectors.\n",
        "\n",
        "### The Multivariate Gaussian\n",
        "\n",
        "The most common multivariate distribution we will work with is the multivariate Gaussian.\n",
        "\n",
        "\n",
        "\n",
        "The multivariate normal distribution of a random vector $\\mathbf{X} = (X_1, \\dots, X_k)^T$ is denoted:\n",
        "\n",
        "$$\\mathbf{X} \\sim \\mathcal{N}(\\mathbf{\\mu}, \\Sigma)$$\n",
        "\n",
        "where $\\mathbf{\\mu} = E[\\mathbf{X}] = (E[X_1], \\dots, E[X_k])^T$\n",
        "\n",
        "and $\\Sigma$ is the $k \\times k$ covariance matrix where $\\Sigma_{i,j} = \\text{Cov}(X_i, X_j)$.\n",
        "\n",
        "Here are some examples.\n",
        "\n",
        "We'll consider two-component random vectors:\n",
        "\n",
        "$$ \\mathbf{X} = \\begin{bmatrix}X_1\\\\X_2\\end{bmatrix} $$\n",
        "\n",
        "And our first example will be a simple one:\n",
        "\n",
        "$$ \\mathbf{\\mu} = \\begin{bmatrix}1\\\\1\\end{bmatrix}\\;\\;\\;\\;\\Sigma = \\begin{bmatrix}1 & 0\\\\0 & 1\\end{bmatrix} $$\n",
        "\n",
        "We see that the variance (and standard deviation) of each component is 1.\n",
        "\n",
        "However the covariances are zero -- the components are uncorrelated.\n",
        "\n",
        "We will take 600 samples from this distribution."
      ]
    },
    {
      "cell_type": "code",
      "metadata": {
        "hide_input": false,
        "slideshow": {
          "slide_type": "skip"
        },
        "tags": [
          "hide-cell"
        ]
      },
      "source": [
        "from scipy.stats import multivariate_normal\n",
        "np.random.seed(4)\n",
        "df1 = pd.DataFrame(multivariate_normal.rvs(mean = np.array([1, 1]), cov = np.eye(2), size = 600),\n",
        "                  columns = ['X1', 'X2'])"
      ],
      "execution_count": null,
      "outputs": []
    },
    {
      "cell_type": "code",
      "metadata": {
        "cell_style": "split",
        "hide_input": true,
        "slideshow": {
          "slide_type": "fragment"
        },
        "tags": [
          "hide-input"
        ]
      },
      "source": [
        "g = sns.JointGrid(data = df1, x = 'X1', y = 'X2', height = 5)\n",
        "g.plot(sns.scatterplot, sns.kdeplot)\n",
        "g.ax_joint.plot(1, 1, 'ro', markersize = 6)\n",
        "g.ax_marg_x.plot(1, 0, 'ro')\n",
        "g.ax_marg_y.plot(0, 1, 'ro');"
      ],
      "execution_count": null,
      "outputs": []
    },
    {
      "cell_type": "code",
      "metadata": {
        "cell_style": "split",
        "hide_input": true,
        "slideshow": {
          "slide_type": "fragment"
        },
        "tags": [
          "hide-input"
        ]
      },
      "source": [
        "g = sns.JointGrid(data = df1, x = 'X1', y = 'X2', height = 5)\n",
        "g.plot(sns.kdeplot, sns.kdeplot)\n",
        "g.ax_joint.plot(1, 1, 'ro', markersize = 6)\n",
        "g.ax_marg_x.plot(1, 0, 'ro')\n",
        "g.ax_marg_y.plot(0, 1, 'ro');"
      ],
      "execution_count": null,
      "outputs": []
    },
    {
      "cell_type": "code",
      "metadata": {
        "hide_input": false,
        "slideshow": {
          "slide_type": "skip"
        },
        "tags": [
          "hide-cell"
        ]
      },
      "source": [
        "np.random.seed(4)\n",
        "df1 = pd.DataFrame(multivariate_normal.rvs(mean = np.array([1, 1]), cov = np.array([[1, 0.8],[0.8, 1]]), \n",
        "                                           size = 600),\n",
        "                  columns = ['X1', 'X2'])"
      ],
      "execution_count": null,
      "outputs": []
    },
    {
      "cell_type": "markdown",
      "metadata": {},
      "source": [
        "Next, we look at the case:\n",
        "\n",
        "$$ \\mathbf{\\mu} = \\begin{bmatrix}1\\\\1\\end{bmatrix}\\;\\;\\;\\;\\Sigma = \\begin{bmatrix}1 & 0.8\\\\0.8 & 1\\end{bmatrix} $$\n",
        "\n",
        "Notice that $\\text{Cov}(X_1, X_2) = 0.8$.   \n",
        "\n",
        "We say that the components are __positively correlated.__\n",
        "\n",
        "Nonetheless, __the marginals are still Gaussian.__"
      ]
    },
    {
      "cell_type": "code",
      "metadata": {
        "cell_style": "split",
        "hide_input": true,
        "slideshow": {
          "slide_type": "fragment"
        },
        "tags": [
          "hide-input"
        ]
      },
      "source": [
        "g = sns.JointGrid(data = df1, x = 'X1', y = 'X2', height = 5)\n",
        "g.plot(sns.scatterplot, sns.kdeplot)\n",
        "g.ax_joint.plot(1, 1, 'ro', markersize = 6)\n",
        "g.ax_marg_x.plot(1, 0, 'ro')\n",
        "g.ax_marg_y.plot(0, 1, 'ro');"
      ],
      "execution_count": null,
      "outputs": []
    },
    {
      "cell_type": "code",
      "metadata": {
        "cell_style": "split",
        "hide_input": true,
        "slideshow": {
          "slide_type": "-"
        },
        "tags": [
          "hide-input"
        ]
      },
      "source": [
        "g = sns.JointGrid(data = df1, x = 'X1', y = 'X2', height = 5)\n",
        "g.plot(sns.kdeplot, sns.kdeplot)\n",
        "g.ax_joint.plot(1, 1, 'ro', markersize = 6)\n",
        "g.ax_marg_x.plot(1, 0, 'ro')\n",
        "g.ax_marg_y.plot(0, 1, 'ro');"
      ],
      "execution_count": null,
      "outputs": []
    },
    {
      "cell_type": "code",
      "metadata": {
        "hide_input": false,
        "slideshow": {
          "slide_type": "skip"
        },
        "tags": [
          "hide-cell"
        ]
      },
      "source": [
        "np.random.seed(4)\n",
        "df1 = pd.DataFrame(multivariate_normal.rvs(mean = np.array([1, 1]), cov = np.array([[1, -0.8],[-0.8, 1]]), \n",
        "                                           size = 600),\n",
        "                  columns = ['X1', 'X2'])"
      ],
      "execution_count": null,
      "outputs": []
    },
    {
      "cell_type": "markdown",
      "metadata": {},
      "source": [
        "Next, we look at the case:\n",
        "\n",
        "$$ \\mathbf{\\mu} = \\begin{bmatrix}1\\\\1\\end{bmatrix}\\;\\;\\;\\;\\Sigma = \\begin{bmatrix}1 & -0.8\\\\-0.8 & 1\\end{bmatrix} $$\n",
        "\n",
        "Notice that $\\text{Cov}(X_1, X_2) = -0.8$.   We say that the components are __negatively correlated__ or __anticorrelated.__"
      ]
    },
    {
      "cell_type": "code",
      "metadata": {
        "cell_style": "split",
        "hide_input": true,
        "slideshow": {
          "slide_type": "fragment"
        },
        "tags": [
          "hide-input"
        ]
      },
      "source": [
        "g = sns.JointGrid(data = df1, x = 'X1', y = 'X2', height = 5)\n",
        "g.plot(sns.scatterplot, sns.kdeplot)\n",
        "g.ax_joint.plot(1, 1, 'ro', markersize = 6)\n",
        "g.ax_marg_x.plot(1, 0, 'ro')\n",
        "g.ax_marg_y.plot(0, 1, 'ro');"
      ],
      "execution_count": null,
      "outputs": []
    },
    {
      "cell_type": "code",
      "metadata": {
        "cell_style": "split",
        "hide_input": true,
        "scrolled": false,
        "slideshow": {
          "slide_type": "-"
        },
        "tags": [
          "hide-input"
        ]
      },
      "source": [
        "g = sns.JointGrid(data = df1, x = 'X1', y = 'X2', height = 5)\n",
        "g.plot(sns.kdeplot, sns.kdeplot)\n",
        "g.ax_joint.plot(1, 1, 'ro', markersize = 6)\n",
        "g.ax_marg_x.plot(1, 0, 'ro')\n",
        "g.ax_marg_y.plot(0, 1, 'ro');"
      ],
      "execution_count": null,
      "outputs": []
    },
    {
      "cell_type": "markdown",
      "metadata": {},
      "source": [
        "Finally, let's look at our stock data:"
      ]
    },
    {
      "cell_type": "code",
      "metadata": {
        "cell_style": "split",
        "hide_input": true,
        "slideshow": {
          "slide_type": "-"
        },
        "tags": [
          "hide-input"
        ]
      },
      "source": [
        "g = sns.JointGrid(data = df, x = 'TSLA', y = 'YELP', height = 5)\n",
        "g.plot(sns.scatterplot, sns.kdeplot)\n",
        "g.ax_joint.plot(df.mean()['TSLA'], df.mean()['YELP'], 'ro', markersize = 6);"
      ],
      "execution_count": null,
      "outputs": []
    },
    {
      "cell_type": "code",
      "metadata": {
        "cell_style": "split",
        "hide_input": true,
        "tags": [
          "hide-input"
        ]
      },
      "source": [
        "g = sns.JointGrid(data = df, x = 'TSLA', y = 'YELP', height = 5)\n",
        "g.plot(sns.kdeplot, sns.kdeplot)\n",
        "g.ax_joint.plot(df.mean()['TSLA'], df.mean()['YELP'], 'ro', markersize = 6);"
      ],
      "execution_count": null,
      "outputs": []
    },
    {
      "cell_type": "markdown",
      "metadata": {},
      "source": [
        "Recall that the correlation between these two stocks was about 0.137.\n",
        "\n",
        "That is, the stocks are positively correlated, but not highly so.\n",
        "\n",
        "### Bayes' Rule\n",
        "\n",
        "Bayes' Rule is a simple way of manipulating conditional probabilities in a way that can be very useful.\n",
        "\n",
        "Start with a situation in which we are interested in two events, $A_1$ and $A_2$.  \n",
        "\n",
        "These are exhaustive, meaning that in any experiment either $A_1$ or $A_2$ must occur.   (That is, they form a partition of $\\Omega$.)\n",
        "\n",
        "Now, according to the rules of probability:\n",
        "\n",
        "$$ P[A_1|B] = \\frac{P[A_1 \\cap B]}{P[B]}$$\n",
        "\n",
        "$$ = \\frac{P[A_1 \\cap B]}{P[B|A_1] + P[B|A_2]}$$\n",
        "\n",
        "$$ = \\frac{P[B|A_1]\\,P[A_1]}{P[B|A_1] + P[B|A_2]}$$\n",
        "\n",
        "(This is easy to extend to the case where $A_1, A_2, ..., A_n$ form a partition of $\\Omega$.)\n",
        "\n",
        "This formula is useful because often the probabilities $P[B|A_i]$ can be\n",
        "estimated, while the probabilties $P[A_i|B]$ may be hard to estimate.\n",
        "\n",
        "Or perhaps $P[B]$ itself (which is really the denominator) is easy to estimate.\n",
        "\n",
        "We interpret this transformation as updating our estimate of the probability of each $A_i$\n",
        "based on new information, namely, that $B$ is true.   \n",
        "\n",
        "This update\n",
        "transforms the __prior__ probabilities $P[A_i]$ into the \n",
        "__posterior__ probabilities $P[A_i|B]$.\n",
        "\n",
        "__Example.__\n",
        "\n",
        "Empirical evidence suggests that amongs sets of twins,\n",
        "about 1/3 are identical.  \n",
        "\n",
        "Assume therefore that probability of a pair of\n",
        "twins being identical to be 1/3.  \n",
        "\n",
        "Now, consider how a couple might\n",
        "update this probability after they get an ultrasound that shows that the\n",
        "twins are of the same gender.   \n",
        "\n",
        "What is their new estimate of the\n",
        "probability that their twins are identical?\n",
        "\n",
        "Let $I$ be the event that the twins are identical.  Let $G$ be the event\n",
        "that gender is the same via ultrasound.  \n",
        "\n",
        "The prior probabilities here\n",
        "is $P[I]$.\n",
        "\n",
        "What we want to calculate is the\n",
        "posterior probability $P[I\\,|\\,G]$.\n",
        "\n",
        "First, we note:\n",
        "\n",
        "$$P[G\\,|\\,I] = 1 $$\n",
        "\n",
        "(Surprisingly, people are sometimes confused about that fact!)   \n",
        "\n",
        "Note that this conditional probability is easy to estimate.\n",
        "\n",
        "Also,\n",
        "we assume that if the twins are not identical, they are like any two\n",
        "siblings, _i.e.,_ their probability of being same gender is 1/2: \n",
        "\n",
        "$$P[G\\,|\\,\\bar{I}] = 1/2 $$\n",
        "\n",
        "Again, easy to estimate.\n",
        "\n",
        "And we know from observing the population at large that among all sets\n",
        "of twins, about 1/3 are identical:\n",
        "\n",
        "$$ P[I] = 1/3 $$\n",
        "\n",
        "Note that this statistic is easy to obtain from data.\n",
        "\n",
        "Then:\n",
        "\n",
        "$$ P[I\\,|\\,G] = \\frac{P[G\\,|\\,I]\\; P[I]}{P[G\\,|\\,I]\\,P[I] + P[G\\,|\\,\\bar{I}]\\,P[\\bar{I}]} $$\n",
        "\n",
        "$$ = \\frac{1 \\cdot 1/3}{(1 \\cdot 1/3) + (1/2 \\cdot 2/3)} = \\frac{1}{2}$$\n",
        "\n",
        "So we have updated our estimate of the twins being identical from 1/3\n",
        "(prior probability) to 1/2 (posterior probability).\n",
        "\n",
        "We did this in a way that used quantities that were relatively easy to obtain or measure.\n",
        "\n",
        "### Confidence Intervals\n",
        "\n",
        "Say you are concerned with some data that we take as coming from a random process.\n",
        "\n",
        "You want to characterize it as accurately as possible.   You measure it, yielding a\n",
        "single value.  \n",
        "\n",
        "How much does that value tell you?   Can you rely on it as a description of the random process?\n",
        "\n",
        "Let's say you have a dataset and you compute its average value.   \n",
        "\n",
        "How certain are you that the average would be the same if you took another dataset from the same source (i.e., the same random process)?\n",
        "\n",
        "We think of the hypothetical data source as a random variable with a true mean $\\mu$.\n",
        "\n",
        "(Note that we are using frequentist style thinking here.)\n",
        "\n",
        "We would like to find a range within which we are 90% sure that the\n",
        "true mean $\\mu$ lies.  \n",
        "\n",
        "In other words, we want the probability that the true mean lies in\n",
        "the interval to be 0.9.  \n",
        "\n",
        "This interval is then called the 90% confidence interval.\n",
        "\n",
        "To be more precise:  A confidence interval at level $\\gamma$ for a fixed\n",
        "but unknown parameter $m$ is an interval $(a,b)$ such that\n",
        "\n",
        "$$ P[A < m < B] \\geq \\gamma. $$\n",
        "\n",
        "Note that $m$ is fixed --- it is not random.  \n",
        "\n",
        "What is random is the\n",
        "interval $(A, B)$.  \n",
        "\n",
        "This interval is constructed based on the\n",
        "data, which (by assumption) are random.\n",
        "\n",
        "![](figs/confidence-intervals.png)\n",
        "\n",
        "### Confidence Intervals for the Mean\n",
        "\n",
        "Imagine we have a set of $n$ samples of a random variable,\n",
        "$x_1, x_2, ..., x_n$ Let's assume that the random variable has mean\n",
        "$\\mu$ and variance $\\sigma^2$.\n",
        "\n",
        "An estimate of $\\mu$ is the empirical average of the samples, $\\bar{x}$.   \n",
        "\n",
        "Now, the Central Limit Theorem tells us that the sum of a\n",
        "large number $n$ of random variables, each with mean $\\mu$ and variance\n",
        "$\\sigma^2$, yields a Gaussian random variable with mean\n",
        "$n\\mu$ and variance $n \\sigma^2$.   \n",
        "\n",
        "So the distribution of the average of $n$ samples\n",
        "is normal with mean $\\mu$ and variance $\\sigma^2 / n$.  That\n",
        "is, \n",
        "\n",
        "$$ \\bar{x} \\sim \\mathcal{N}(\\mu, \\sigma/\\sqrt{n}) $$\n",
        "\n",
        "We usually assume that the number of samples should be 30 or more for\n",
        "the CLT to hold.   \n",
        "\n",
        "While the specific value 30 is a bit arbitrary, we will usually be\n",
        "using very large samples (datasets) in this course for which this assumption is \n",
        "valid.\n",
        "\n",
        "The standard deviation of the sample mean is called the standard error.\n",
        "\n",
        "Notice that the standard error decreases as we increase the sample size, according to $1/\\sqrt{n}.$\n",
        "\n",
        "So it will turn out that using $\\bar{x}$, we can get\n",
        "increasingly \"tight\" estimates of $\\mu$ as we increase the number of\n",
        "samples $n$.\n",
        "\n",
        "Now, remember that the true mean $\\mu$ is a constant, while the\n",
        "empirical mean $\\bar{x}$ is a random variable.   \n",
        "\n",
        "Let us assume for a\n",
        "moment that we know the true $\\mu$ and $\\sigma$, and that we accept that\n",
        "$\\bar{x}$ has a $N(\\mu, \\sigma/\\sqrt{n})$ distribution.   \n",
        "\n",
        "Then it is\n",
        "true that \n",
        "\n",
        "$$ P[\\mu-k\\sigma/\\sqrt{n} < \\bar{x} < \\mu+k\\sigma/\\sqrt{n}] = P[-k < S <\n",
        "k]$$\n",
        "\n",
        "where $S$ is the standard Gaussian random variable (having distribution $N(0,1)$).\n",
        "\n",
        "We write $z_{1-\\alpha/2}$ to be the $1-\\alpha/2$ quantile of the\n",
        "unit normal.  That is, \n",
        "\n",
        "$$ P[-z_{1-\\alpha/2} < S < z_{1-\\alpha/2}] = 1-\\alpha.$$\n",
        "\n",
        "So to form a 90% probability interval for $S$ (centered on\n",
        "zero) we choose $k = z_{0.95}$.  "
      ]
    },
    {
      "cell_type": "code",
      "metadata": {
        "hide_input": true,
        "slideshow": {
          "slide_type": "fragment"
        },
        "tags": [
          "hide-input"
        ]
      },
      "source": [
        "from scipy.stats import norm\n",
        "plt.figure()\n",
        "x = np.linspace(norm.ppf(0.001), norm.ppf(0.999), 100)\n",
        "x90 = np.linspace(norm.ppf(0.05), norm.ppf(0.95), 100)\n",
        "plt.plot(x, norm.pdf(x),'b-')\n",
        "plt.fill_between(x90, 0, norm.pdf(x90))\n",
        "plt.title(r'90% region for Standard Gaussian', size = 14)\n",
        "plt.xlabel('x', size = 14)\n",
        "plt.ylabel(r'$p(x)$', size = 14);"
      ],
      "execution_count": null,
      "outputs": []
    },
    {
      "cell_type": "markdown",
      "metadata": {},
      "source": [
        "Turning back to $\\bar{x}$, the\n",
        "90% probability interval on $\\bar{x}$ would be:\n",
        "\n",
        "$$ \\mu-z_{0.95}\\sigma/\\sqrt{n} < \\bar{x} <\n",
        "\\mu+z_{0.95}\\sigma/\\sqrt{n}. $$\n",
        "\n",
        "The last step: by a simple argument, we can show that the sample mean is \n",
        "in some fixed-size interval centered on the true mean, if and only if the true\n",
        "mean is also in\n",
        "a fixed-size interval (of the same size) centered on the sample mean.\n",
        "\n",
        "This means that:\n",
        "\n",
        "\\begin{eqnarray*}\n",
        "  1-\\alpha & = & P[\\mu-z_{1-\\alpha/2}\\sigma/\\sqrt{N} < \\bar{x} <\n",
        "\\mu+z_{1-\\alpha/2}\\sigma/\\sqrt{N}]\\\\\n",
        "& = & P[\\bar{x}-k\\sigma\\sqrt{N} < \\mu < \\bar{x}+k\\sigma/\\sqrt{N}].\n",
        "\\end{eqnarray*}\n",
        "\n",
        "This latter expression defines the __$1-\\alpha$ confidence interval\n",
        "  for the mean.__\n",
        "\n",
        "We are done, except for estimating $\\sigma$.  We do this\n",
        "directly from the data: $\\hat{\\sigma} = s$\n",
        "\n",
        "where $s$ is the sample standard deviation, that is,\n",
        "$s = \\sqrt{1/(n-1) \\sum (x_i - \\bar{x})^2}$.\n",
        "\n",
        "To summarize: by the argument presented here, a 100(1-$\\alpha$)%\n",
        "confidence interval for the population mean is given by\n",
        "\n",
        "$$\\bar{x} \\pm  z_{1-\\alpha/2} \\, \\frac{s}{\\sqrt{n}}. $$\n",
        "\n",
        "As an example, a 95% confidence interval for the mean is the sample average plus or minus two standard errors.\n"
      ]
    }
  ],
  "metadata": {
    "kernelspec": {
      "name": "python3",
      "language": "python",
      "display_name": "Python 3 (ipykernel)",
      "path": "/Users/tomg/Source/courses/tools4ds/DS701-Course-Notes/.venv/share/jupyter/kernels/python3"
    }
  },
  "nbformat": 4,
  "nbformat_minor": 4
}