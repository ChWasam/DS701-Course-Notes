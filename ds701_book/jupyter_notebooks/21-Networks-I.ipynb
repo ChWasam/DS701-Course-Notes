{
  "cells": [
    {
      "cell_type": "markdown",
      "metadata": {},
      "source": [
        "---\n",
        "title: Introduction to Networks\n",
        "jupyter: python3\n",
        "---\n",
        "\n",
        "[![](https://colab.research.google.com/assets/colab-badge.svg)](https://colab.research.google.com/github/tools4ds/DS701-Course-Notes/blob/main/ds701_book/jupyter_notebooks/21-Networks-I.ipynb)"
      ]
    },
    {
      "cell_type": "code",
      "metadata": {
        "hide_input": true,
        "slideshow": {
          "slide_type": "skip"
        },
        "tags": [
          "hide-input"
        ]
      },
      "source": [
        "import numpy as np\n",
        "import scipy as sp\n",
        "import matplotlib.pyplot as plt\n",
        "import pandas as pd\n",
        "import seaborn as sns\n",
        "import matplotlib as mp\n",
        "import sklearn\n",
        "import networkx as nx\n",
        "from IPython.display import Image, HTML\n",
        "\n",
        "import laUtilities as ut\n",
        "\n",
        "%matplotlib inline"
      ],
      "execution_count": null,
      "outputs": []
    },
    {
      "cell_type": "markdown",
      "metadata": {},
      "source": [
        "Now we will encounter a new kind of data: __networks__, also called __graphs.__\n",
        "\n",
        "(We're going to use the two terms interchangeably).\n",
        "\n",
        "## Basic Definitions\n",
        "\n",
        "A graph is a pair $(V, E)$ where $V$ is a set of __vertices__ and $E$ is a set of vertex pairs called __edges.__\n",
        "\n",
        "We'll also use the term __nodes__ for vertices,\n",
        "\n",
        "and we'll use the term __links__ for edges.\n",
        "\n",
        "We'll distinguish between __undirected__ graphs and __directed__ graphs.\n",
        "\n",
        "In an underdirected graph, an edge $(u, v)$ is an unordered pair.  The edge $(v, u)$ is the same thing.\n",
        "\n",
        "In a directed graph, $(u, v)$ is an ordered pair, and it is different from $(v, u)$."
      ]
    },
    {
      "cell_type": "code",
      "metadata": {
        "hide_input": true,
        "slideshow": {
          "slide_type": "fragment"
        },
        "tags": [
          "hide-input"
        ]
      },
      "source": [
        "G = nx.Graph()\n",
        "G.add_edges_from([(1,2), (1,3), (2, 3), (3, 4), (3, 5)])\n",
        "DG = nx.DiGraph()\n",
        "DG.add_edges_from([(1,2), (1,3), (2, 3), (3, 4), (3, 5)])\n",
        "pos = {\n",
        "    1: [0, 0],\n",
        "    2: [-1, -1],\n",
        "    3: [1, -1],\n",
        "    4: [1, 0],\n",
        "    5: [2, 0]\n",
        "}\n",
        "fig = plt.figure(figsize = (12, 4))\n",
        "ax1 = fig.add_subplot(121)\n",
        "nx.draw_networkx(G, \n",
        "                 ax = ax1,\n",
        "                 node_size=300, \n",
        "                 edge_color='k',\n",
        "                 node_color = 'lightcoral', \n",
        "                 pos = nx.spring_layout(G, seed = 1),\n",
        "                 with_labels=True, \n",
        "                 alpha=1, linewidths=2)\n",
        "plt.axis('off')\n",
        "plt.title('Undirected Graph', size = 16)\n",
        "ax2 = fig.add_subplot(122)\n",
        "nx.draw_networkx(DG, \n",
        "                 ax = ax2,\n",
        "                 node_size=300, \n",
        "                 edge_color='k',\n",
        "                 node_color = 'lightblue',\n",
        "                 pos = pos,\n",
        "                 with_labels=True, \n",
        "                 arrowsize = 25,\n",
        "                 alpha=1, linewidths=2)\n",
        "plt.title('Directed Graph', size = 16)\n",
        "plt.axis('off');"
      ],
      "execution_count": null,
      "outputs": []
    },
    {
      "cell_type": "markdown",
      "metadata": {},
      "source": [
        "A __path__ in a graph from $u$ to $v$ is a sequence of edges that starts at $u$ and ends at $v$.\n",
        "\n",
        "In a directed graph, all of the edges in a path need to be oriented head-to-tail.\n",
        "\n",
        "If there is a path from $u$ to $v$, we say that $v$ is __reachable__ from $u$.\n",
        "\n",
        "### Degree\n",
        "\n",
        "The __degree__ of a node is the number of edges that connect to it.\n",
        "\n",
        "In a directed graph, we distinguish between:\n",
        "* __in-degree__: the number of incoming edges to the node\n",
        "* __out-degree__: the number of outgoing edges to the node"
      ]
    },
    {
      "cell_type": "code",
      "metadata": {
        "hide_input": true,
        "slideshow": {
          "slide_type": "fragment"
        },
        "tags": [
          "hide-input"
        ]
      },
      "source": [
        "G = nx.Graph()\n",
        "G.add_edges_from([(1,2), (1,3), (2, 3), (3, 4), (3, 5)])\n",
        "DG = nx.DiGraph()\n",
        "DG.add_edges_from([(1,2), (1,3), (2, 3), (3, 4), (3, 5)])\n",
        "pos = {\n",
        "    1: [0, 0],\n",
        "    2: [-1, -1],\n",
        "    3: [1, -1],\n",
        "    4: [1, 0],\n",
        "    5: [2, 0]\n",
        "}\n",
        "fig = plt.figure(figsize = (12, 4))\n",
        "ax1 = fig.add_subplot(121)\n",
        "nx.draw_networkx(G, \n",
        "                 ax = ax1,\n",
        "                 node_size=300, \n",
        "                 edge_color='k',\n",
        "                 node_color = 'lightcoral', \n",
        "                 pos = nx.spring_layout(G, seed = 1),\n",
        "                 with_labels=True, \n",
        "                 alpha=1, linewidths=2)\n",
        "plt.axis('off')\n",
        "plt.title('Undirected Graph', size = 16)\n",
        "ax2 = fig.add_subplot(122)\n",
        "nx.draw_networkx(DG, \n",
        "                 ax = ax2,\n",
        "                 node_size=300, \n",
        "                 edge_color='k',\n",
        "                 node_color = 'lightblue',\n",
        "                 pos = pos,\n",
        "                 with_labels=True, \n",
        "                 arrowsize = 25,\n",
        "                 alpha=1, linewidths=2)\n",
        "plt.title('Directed Graph', size = 16)\n",
        "plt.axis('off');"
      ],
      "execution_count": null,
      "outputs": []
    },
    {
      "cell_type": "markdown",
      "metadata": {},
      "source": [
        "The __neighbors__ of a node are the nodes to which it is connected.\n",
        "\n",
        "So the degree of a node is the number of neighbors it has.\n",
        "\n",
        "Node that in a network with $n$ nodes and $e$ edges, the average node degree is $2e/n$.  \n",
        "\n",
        "Make sure that this is obvious to you!\n",
        "\n",
        "### Connectivity\n",
        "\n",
        "The first question to ask about a graph is: is it __connected__?\n",
        "\n",
        "For an undirected graph to be connected, for each pair of nodes $(u, v)$, $u$ is reachable from $v$.\n",
        "\n",
        "We say a directed graph is connected when its undirected version is connected."
      ]
    },
    {
      "cell_type": "code",
      "metadata": {
        "hide_input": true,
        "slideshow": {
          "slide_type": "fragment"
        },
        "tags": [
          "hide-input"
        ]
      },
      "source": [
        "G = nx.Graph()\n",
        "G.add_edges_from([(1,2), (1,3), (2, 3)])\n",
        "G.add_node(4)\n",
        "G.add_node(5)\n",
        "DG = nx.Graph()\n",
        "DG.add_edges_from([(1,2), (3, 1), (2, 3), (3, 4), (3, 5)])\n",
        "pos = {\n",
        "    1: [0, 0],\n",
        "    2: [-1, -1],\n",
        "    3: [1, -1],\n",
        "    4: [1, 0],\n",
        "    5: [2, 0]\n",
        "}\n",
        "fig = plt.figure(figsize = (12, 4))\n",
        "ax1 = fig.add_subplot(121)\n",
        "nx.draw_networkx(G, \n",
        "                 ax = ax1,\n",
        "                 node_size=300, \n",
        "                 edge_color='k',\n",
        "                 node_color = 'lightblue', \n",
        "                 pos = pos,\n",
        "                 with_labels=True, \n",
        "                 arrowsize = 25,\n",
        "                 alpha=1, linewidths=2)\n",
        "plt.axis('off')\n",
        "plt.title('Not Connected', size = 16)\n",
        "ax2 = fig.add_subplot(122)\n",
        "nx.draw_networkx(DG, \n",
        "                 ax = ax2,\n",
        "                 node_size=300, \n",
        "                 edge_color='k',\n",
        "                 node_color = 'lightcoral',\n",
        "                 pos = pos,\n",
        "                 with_labels=True, \n",
        "                 arrowsize = 25,\n",
        "                 alpha=1, linewidths=2)\n",
        "plt.title('Connected', size = 16)\n",
        "plt.axis('off');"
      ],
      "execution_count": null,
      "outputs": []
    },
    {
      "cell_type": "markdown",
      "metadata": {},
      "source": [
        "If the graph is not connected, it may contain __connected components__.   \n",
        "\n",
        "A connected component is a subgraph that is connected.\n",
        "\n",
        "In a directed graph, we can also ask if it is __strongly connected.__\n",
        "\n",
        "A directed graph is strongly connected if there is a (directed) path between any two nodes.\n",
        "\n",
        "That is, any node is reachable from any other node.\n",
        "\n",
        "Within a directed graph, only a subset of nodes may be strongly connected.\n",
        "\n",
        "These are called the __strongly connected component__ (SCC)."
      ]
    },
    {
      "cell_type": "code",
      "metadata": {
        "hide_input": true,
        "slideshow": {
          "slide_type": "fragment"
        },
        "tags": [
          "hide-input"
        ]
      },
      "source": [
        "G = nx.DiGraph()\n",
        "G.add_edges_from([(1,2), (1,3), (2, 3), (3, 4), (3, 5)])\n",
        "DG = nx.DiGraph()\n",
        "DG.add_edges_from([(1,2), (3, 1), (2, 3), (3, 4), (3, 5)])\n",
        "pos = {\n",
        "    1: [0, 0],\n",
        "    2: [-1, -1],\n",
        "    3: [1, -1],\n",
        "    4: [1, 0],\n",
        "    5: [2, 0]\n",
        "}\n",
        "fig = plt.figure(figsize = (12, 4))\n",
        "ax1 = fig.add_subplot(121)\n",
        "nx.draw_networkx(G, \n",
        "                 ax = ax1,\n",
        "                 node_size=300, \n",
        "                 edge_color='k',\n",
        "                 node_color = 'lightblue', \n",
        "                 pos = pos,\n",
        "                 with_labels=True, \n",
        "                 arrowsize = 25,\n",
        "                 alpha=1, linewidths=2)\n",
        "plt.axis('off')\n",
        "plt.title('No SCC', size = 16)\n",
        "ax2 = fig.add_subplot(122)\n",
        "nx.draw_networkx(DG, \n",
        "                 ax = ax2,\n",
        "                 node_size=300, \n",
        "                 edge_color='k',\n",
        "                 node_color = ['lightcoral', 'lightcoral', 'lightcoral', 'lightblue', 'lightblue'],\n",
        "                 pos = pos,\n",
        "                 with_labels=True, \n",
        "                 arrowsize = 25,\n",
        "                 alpha=1, linewidths=2)\n",
        "plt.title('Has a SCC', size = 16)\n",
        "plt.axis('off');"
      ],
      "execution_count": null,
      "outputs": []
    },
    {
      "cell_type": "markdown",
      "metadata": {},
      "source": [
        "## Characterizing Graphs\n",
        "\n",
        "When you first start working with a network, there are some basic questions that are very helpful to ask.\n",
        "\n",
        "It is helpful to characterize the degrees, components, and other structures in the graph.\n",
        "\n",
        "### Comparison Case: the $G(n, p)$ Random Graph\n",
        "\n",
        "In studying real-world graphs, it is helpful to have a case to compare against.\n",
        "\n",
        "The most common comparison is the __$G(n, p)$ random graph__.   It is also called the __Erdős–Rényi__ graph, after the two mathematicians who developed and studied it.\n",
        "\n",
        "The $G(n, p)$ random graph model is very simple:  \n",
        "* we start with a set of $n$ nodes\n",
        "* for each pair of nodes, we connect them with probability $p$.\n",
        "\n",
        "It is easy to see that in this graph, the average node degree is $np$."
      ]
    },
    {
      "cell_type": "code",
      "metadata": {
        "hide_input": true,
        "slideshow": {
          "slide_type": "fragment"
        },
        "tags": [
          "hide-input"
        ]
      },
      "source": [
        "n = 35\n",
        "p = 0.15\n",
        "er = nx.erdos_renyi_graph(n, p, seed = 0)\n",
        "plt.figure(figsize = (12, 8))\n",
        "nx.draw_networkx(er, node_size=45, \n",
        "                 edge_color='gray', \n",
        "                 pos = nx.spring_layout(er, seed = 1),\n",
        "                 with_labels=False, alpha=1, linewidths=2)\n",
        "plt.axis('off')\n",
        "plt.title(f'$G(n, p)$ with $n$ = {n} and $p$ = {p:0.2f}', size = 16);"
      ],
      "execution_count": null,
      "outputs": []
    },
    {
      "cell_type": "markdown",
      "metadata": {},
      "source": [
        "In this graph, the average degree is $np = 35 \\cdot 0.15 = 5.25$\n",
        "\n",
        "As it turns out, most real-world graphs do __not__ match the properties of $G(n, p)$ graphs.  \n",
        "\n",
        "But it is useful to have a comparison to a \"random\" graph.\n",
        "\n",
        "### Degree Distributions\n",
        "\n",
        "Understanding connectivity starts with asking about observed degrees in the graph.\n",
        "\n",
        "This is captured in the __degree distribution.__\n",
        "\n",
        "$$ P[D > x] = \\text{probability that a node has degree at least } x $$\n",
        "\n",
        "We typically focus our attention on large values of $x$ -- nodes that are highly connected.\n",
        "\n",
        "#### Power Law Degree Distributions\n",
        "\n",
        "It's common for a degree distribution to __approximately__ follow a power-law.\n",
        "\n",
        "The simplest power-law distribution is called the Pareto distribution:\n",
        "\n",
        "$$ P[D > x] = k^{\\alpha} x^{-\\alpha}\\;\\;\\; k \\leq x,\\; \\;0 < \\alpha\n",
        "\\leq 2. $$\n",
        "\n",
        "It takes on values in the range $[k, \\infty]$. "
      ]
    },
    {
      "cell_type": "code",
      "metadata": {
        "hide_input": true,
        "slideshow": {
          "slide_type": "fragment"
        },
        "tags": [
          "hide-input"
        ]
      },
      "source": [
        "from scipy.stats import pareto\n",
        "alpha = 1.3\n",
        "x = np.linspace(pareto.ppf(0.005,alpha), pareto.ppf(0.995,alpha), 100)\n",
        "plt.figure(figsize = (8, 6))\n",
        "plt.plot(x, pareto.pdf(x,alpha),'b-', lw = 5, alpha = 0.6, label='pareto pdf')\n",
        "plt.title(r'Pareto PDF.  $\\alpha$ = {}'.format(alpha), size=16)\n",
        "plt.xlabel('$x$', size=14)\n",
        "plt.ylabel('$p(x)$', size=14);"
      ],
      "execution_count": null,
      "outputs": []
    },
    {
      "cell_type": "markdown",
      "metadata": {},
      "source": [
        "We've seen distributions like this before when looking at recommender system data.\n",
        "\n",
        "In a distribution like this, almost all values are very small, \n",
        "\n",
        "but there is a non-negligible fraction of values that are __very__ large.\n",
        "\n",
        "This is like \"grains of sand\" mixed with a few \"boulders.\"\n",
        "\n",
        "This is also referred to as \"elephants and mice.\"\n",
        "\n",
        "What does this mean for node degree?\n",
        "\n",
        "It means that \n",
        "* most nodes have __few neighbors,__ but\n",
        "* an important small subset of nodes have __many, many neighbors.__\n",
        "\n",
        "To capture such high-variable degree distributions, a common strategy is to plot them on __log-log__ axes.\n",
        "\n",
        "On log-log axes, a Pareto distribution appears as a straight line:"
      ]
    },
    {
      "cell_type": "code",
      "metadata": {
        "hide_input": true,
        "tags": [
          "hide-input"
        ]
      },
      "source": [
        "from scipy.stats import pareto\n",
        "alpha = 1.3\n",
        "plt.figure(figsize = (8, 6))\n",
        "x = np.linspace(pareto.ppf(0.005,alpha), pareto.ppf(0.995,alpha), 100)\n",
        "plt.plot(np.log10(x), np.log10(pareto.pdf(x,alpha)),'b-', lw = 5, alpha = 0.6, label='pareto pdf')\n",
        "plt.title(r'Pareto PDF.  $\\alpha$ = {}'.format(alpha), size=16)\n",
        "plt.xlabel('$\\log_{10}(x)$', size=14)\n",
        "plt.ylabel('$\\log_{10}(p(x))$', size=14);"
      ],
      "execution_count": null,
      "outputs": []
    },
    {
      "cell_type": "markdown",
      "metadata": {},
      "source": [
        "#### Power Law Degree Distributions are Ubiquitous\n",
        "\n",
        "<center>\n",
        "    \n",
        "<img src=\"figs/L21-newman-powerlaws.png\" alt=\"Figure\" width=\"800px\">\n",
        "    \n",
        "</center>\n",
        "\n",
        "> The networks shown are: (a) the collaboration network of mathematicians [182]; (b) citations between 1981 and 1997 to all papers cataloged by the Institute for Scientific Information [351]; (c) a 300 million vertex subset of the World Wide Web, circa 1999 [74]; (d) the Internet at the level of autonomous systems, April 1999 [86]; (e) the power grid of the western United States [416]; (f) the interaction network of proteins in the metabolism of the yeast S. Cerevisiae [212]. \n",
        ">\n",
        "> _The structure and function of complex networks,_ M. E. J. Newman\n",
        ">\n",
        "> https://arxiv.org/abs/cond-mat/0303516\n",
        "\n",
        "Note that $G(n, p)$ random graphs do __not__ have power-law degree distributions.\n",
        "\n",
        "Their degree distributions have exponential tails (like the power grid example above.)\n",
        "\n",
        "### Clustering\n",
        "\n",
        "The next important property of a network to understand is __clustering__.  \n",
        "\n",
        "In the context of networks, clustering refers to the tendency for groups of nodes to have higher connectivity within the group than the network-wide average.\n",
        "\n",
        "The simplest measure of local clustering is __clustering coefficient__.\n",
        "\n",
        "The clustering coefficient is the answer to the question \"are my friends themselves friends?\"\n",
        "\n",
        "In other words, do the neighbors of a node tend to be neighbors?\n",
        "\n",
        "More specifically, clustering coefficient measures the __probability that two of your neighbors are connected.__ \n",
        "\n",
        "There are two ways one can measure this:\n",
        "\n",
        "$$C^{(1)} = \\frac{\\sum_i \\text{number of triangles that include }i}{\\sum_i \\text{number of pairs of neigbors of }i} $$\n",
        "\n",
        "This is the ratio of the mean triangle count to mean neighbor pair count.\n",
        "\n",
        "It is the probability that a __random pair__ of neighbors are connected."
      ]
    },
    {
      "cell_type": "code",
      "metadata": {
        "hide_input": true,
        "slideshow": {
          "slide_type": "fragment"
        },
        "tags": [
          "hide-input"
        ]
      },
      "source": [
        "G = nx.Graph()\n",
        "G.add_edges_from([(1,2), (1,3), (2, 3), (3, 4), (3, 5)])\n",
        "plt.figure(figsize = (6, 4))\n",
        "nx.draw_networkx(G, node_size=300, \n",
        "                 edge_color='k', \n",
        "                 pos = nx.spring_layout(G, seed = 1),\n",
        "                 with_labels=False, alpha=1, linewidths=2)\n",
        "plt.axis('off');"
      ],
      "execution_count": null,
      "outputs": []
    },
    {
      "cell_type": "markdown",
      "metadata": {},
      "source": [
        "$$C^{(1)} = \\frac{3}{1 + 1 + 6} = \\frac{3}{8} = 0.375$$\n",
        "\n",
        "The second way to measure clustering coefficient is the mean of the ratios:\n",
        "    \n",
        "$$ C^{(2)} = \\frac{1}{n} \\sum_i \\frac{\\text{number of triangles that include }i}{\\text{number of pairs of neigbors of }i} $$\n",
        "\n",
        "This is the probability that neighbors are connected for a __random node.__\n",
        "\n",
        "$$ C^{(2)} = \\frac{1}{5} (1 + 1 + \\frac{1}{6}) = \\frac{13}{30} = 0.433$$\n",
        "\n",
        "What is the clustering coefficient in a $G(n, p)$ random graph?\n",
        "\n",
        "This is easy: the probability that two of your neighbors are connected is the same as the probability that __any__ two nodes are connected.\n",
        "    \n",
        "In other words, $C^{(1)} = C^{(2)} = p$.\n",
        "\n",
        "__Real World Graphs Tend to Show Large Amounts of Clustering.__\n",
        "\n",
        "In practice one finds that real world graphs show strong clustering.\n",
        "\n",
        "For example, consider a social network.  Your friends are much more likely to be themselves friends than two randomly chosen people.\n",
        "\n",
        "<center>\n",
        "    \n",
        "<img src=\"figs/L21-clustering-coefs.png\" alt=\"Figure\" width=\"800px\">\n",
        "    \n",
        "</center>\n",
        "\n",
        "## Clustering and Path Length: Small Worlds\n",
        "\n",
        "The strong presence of clustering in networks leads to a question: how long is a typical shortest path between nodes?\n",
        "    \n",
        "The average shortest path length between nodes is one way to measure a network's \"diameter.\"\n",
        "\n",
        "Let's consider a highly clustered graph:\n",
        "\n",
        "<center>\n",
        "    \n",
        "<img src=\"figs/L21-high-clustering.png\" alt=\"Figure\" width=\"300px\">\n",
        "    \n",
        "</center>\n",
        "\n",
        "In this graph, each node has four neighbors, and of the 6 pairs of neighbors, 3 are connected.\n",
        "\n",
        "So the clustering coefficient is 0.5, quite high.\n",
        "\n",
        "What is the average shortest path between nodes?   \n",
        "\n",
        "It seems to be around $n/8$ - on average you go 1/4 of the way around the circle, in hops of 2.\n",
        "\n",
        "So the path length grows linearly with $n$. \n",
        "\n",
        "__If the number of nodes is large, the average path length is large.__\n",
        "\n",
        "Now, we know that real-world social networks are highly clustered,\n",
        "\n",
        "So, based on this model, we might assume that the average path length between two people in a large social network is going to be quite large.\n",
        "\n",
        "Is this true?   If you choose two people at random from the population of the United States (say), is the shortest path length between them long?\n",
        "\n",
        "In 1967 the social psychologist Stanley Milgram set out to empirically answer this question.\n",
        "<p>\n",
        "<center>\n",
        "    \n",
        "<img src=\"figs/Stanley_Milgram_Profile.jpeg\" alt=\"Figure\" width=\"200px\">\n",
        "    \n",
        "</center>\n",
        "\n",
        "Milgram picked 160 people at random in Omaha, Nebraska.  (It helped that there used to be phone books.)\n",
        "\n",
        "He asked them to get a letter to a particular person, a stockbroker in Boston.\n",
        "\n",
        "The rules that he set were that they could only pass the letter between friends that were known on a first-name basis.\n",
        "\n",
        "Surprisingly, 62 of the letters made it to the stockbroker!\n",
        "\n",
        "More surprising was the fact that the __average path length was 6.2 people!__\n",
        "\n",
        "This statistic became famous when John Guare wrote a play called _Six Degrees of Separation._\n",
        "\n",
        "Given what we know about clustering in social networks, this is quite surprising.   How can we explain it?\n",
        "\n",
        "The first clue comes from another classic social science paper, called _The Stength of Weak Ties,_ by Mark Granovetter.\n",
        "\n",
        "This is sometimes referred to as the most famous paper in sociology (60,000 citations!).   \n",
        "\n",
        "Granovetter interviewed people about how the found their jobs.  He found that most people did not get a job through someone that was a close friend, but rather through a __distant__ acquaintance.\n",
        "\n",
        "This suggests that an important way that information travels in a social network is via the rare connections that exist __outside__ of the local clustering of friendships.\n",
        "\n",
        "This was all put on an experimental basis in __another__ classic paper, by the social scientist Duncan Watts and the mathematician Steve Strogatz.\n",
        "<center>\n",
        "    \n",
        "<img src=\"figs/duncan_watts.jpeg\" alt=\"Figure\" width=\"200px\" align=\"left\">\n",
        "<img src=\"figs/steven-strogatz.png\" alt=\"Figure\" width=\"200px\" align=\"left\">\n",
        "    \n",
        "</center>\n",
        "\n",
        "In their paper _Collective Dynamics of Small-World Networks_, Watts and Strogatz perfomed an elegant experiment.\n",
        "\n",
        "They asked: if we take a highly clustered network, and slightly perturb it (randomize it), what happens?\n",
        "\n",
        "Specifically, they started with a network in which each node is connected to a fixed number of neighbors, and connections are made in a __highly clustered__ way.\n",
        "\n",
        "<center>\n",
        "    \n",
        "<img src=\"figs/L21-watts-strogatz.png\" alt=\"Figure\" width=\"60%\">\n",
        "    \n",
        "</center>\n",
        "\n",
        "Then, with probability $p$, __rewire__ each edge: change it to connect to a __random__ destination.\n",
        "\n",
        "\n",
        "So, as $p$ varies, what happens to:\n",
        "* Average path length $L(p)$ and\n",
        "* Clustering coefficient $C(p)$?\n",
        "\n",
        "And here is the famous figure from that paper:\n",
        "   \n",
        "<center>\n",
        "    \n",
        "<img src=\"figs/watts-strogatz-2.png\" alt=\"Figure\" width=\"700px\">\n",
        "    \n",
        "</center> \n",
        "\n",
        "Notice the log scale on the $p$ axis.\n",
        "\n",
        "What Watts and Strogatz showed is that __it only takes a small amount of long-range connections__ to dramatically shrink the average path length between nodes.\n",
        "\n",
        "They showed that high clustering and short path lengths can coexist.  They called networks with high clustering and short path lengths __small world networks.__\n",
        "\n",
        "Once this phenomenon is understood, we see that it shows up repeatedly.\n",
        "\n",
        "For example, consider the network of movie actors:  two actors are connected if they appear in the same movie.\n",
        "\n",
        "Thus we have the phenomenon of the __six degrees of Kevin Bacon__:\n",
        "<p>\n",
        "    \n",
        "<center>\n",
        "    \n",
        "<img src=\"figs/L21-six-degrees-bacon.png\" alt=\"Figure\" width=\"700px\">\n",
        "    \n",
        "</center> \n",
        "\n",
        "You can try your luck at [The Oracle of Bacon](https://oracleofbacon.org/movielinks.php).\n",
        "\n",
        "For example, Elvis Presley:\n",
        "\n",
        "<center>\n",
        "    \n",
        "<img src=\"figs/L21-oracle-bacon.png\" alt=\"Figure\" width=\"300px\">\n",
        "    \n",
        "</center> \n",
        "\n",
        "What's special about Kevin Bacon?\n",
        "\n",
        "Not really anything.  \n",
        "\n",
        "Because movie co-appearance forms a small world network, most any path between two actors is a short one.\n",
        "\n",
        "__Implications of Small Worlds.__\n",
        "\n",
        "Viruses spread rapidly in small worlds.  \n",
        "\n",
        "One of the goals of pandemic lockdowns is to keep people circulating in their local social groups, and to eliminate the effect of long-range (weak-tie) connections.\n",
        "\n",
        "This is the idea behind travel bans and mandatory quarantining after travel.\n",
        "\n",
        "Here is a figure showing the effect on virus propagation of deleting most of the long-range edges from a small-world network:\n",
        "\n",
        "<p>\n",
        "    \n",
        "<center>\n",
        "    \n",
        "<img src=\"figs/L21-covid-mitigation.png\" alt=\"Figure\" width=\"600px\">\n",
        "    \n",
        "</center> \n",
        "\n",
        "Different curves correspond to when the lockdown is deployed (after how many deaths).\n",
        "    \n",
        "From [_Mitigating COVID-19 on a Small-World Network_,](https://www.nature.com/articles/s41598-021-99607-z) Marvin Du, Scientific Reports Oct 2021.\n",
        "\n",
        "Another question concerns how \"shortcuts\" arise.\n",
        "\n",
        "Remember that node degree distributions are typically power-law.\n",
        "\n",
        "So although most people have small acquaintance sets, a small subset of people are very highly connected.\n",
        "\n",
        "<center>\n",
        "    \n",
        "<img src=\"figs/F2.large.jpeg\" alt=\"Figure\" width=\"500px\">\n",
        "    \n",
        "</center> \n",
        "\n",
        "These \"high social capital\" individuals play a big role in creating long-range, path-shortening connections in social networks.\n",
        "\n",
        "## Analyzing Graphs\n",
        "\n",
        "When first starting to work with a network, understanding its properties can be difficult.\n",
        "\n",
        "Clustering and the presence of high-degree nodes both contribute to the problem.\n",
        "\n",
        "Nonetheless, there are a number of strategies that are used to \"get to know\" a new network dataset.\n",
        "\n",
        "They include:\n",
        "* visualize the network in a way that communicates as much insight as possible, and\n",
        "* compute important metrics of the network \n",
        "\n",
        "### Visualizing Networks\n",
        "\n",
        "As an example, we'll use the following network.\n",
        "\n",
        "It records American football games between NCAA Div IA colleges in Fall 2000 (available [here](http://www-personal.umich.edu/~mejn/netdata/)). \n",
        "\n",
        "Each vertex represents a football team, which belongs to a specific conference (Big Ten, Conference USA, Pac-10, etc.). \n",
        "\n",
        "An edge between two vertices $v_1$ and $v_2$ means that the two teams played each other; the weight of the edge ($v_1$, $v_2$) is equal to the number of times they played each other.\n",
        "\n",
        "(Data from  M. Girvan and M. E. J. Newman,\n",
        "_Community structure in social and biological networks,_\n",
        "Proc. Natl. Acad. Sci. USA 99, 7821-7826 (2002).)"
      ]
    },
    {
      "cell_type": "code",
      "metadata": {
        "slideshow": {
          "slide_type": "fragment"
        }
      },
      "source": [
        "# data from http://www-personal.umich.edu/~mejn/netdata/                                \n",
        "football = nx.readwrite.gml.read_gml('data/football.gml')"
      ],
      "execution_count": null,
      "outputs": []
    },
    {
      "cell_type": "code",
      "metadata": {
        "hide_input": true,
        "slideshow": {
          "slide_type": "fragment"
        }
      },
      "source": [
        "print(f'The football network has {len(football.nodes())} nodes and {len(football.edges())} edges')"
      ],
      "execution_count": null,
      "outputs": []
    },
    {
      "cell_type": "markdown",
      "metadata": {},
      "source": [
        "To get a sense of what is unusual here, we can compare this network to a $G(n, p)$ random network with the same number of nodes and edges:"
      ]
    },
    {
      "cell_type": "code",
      "metadata": {
        "hide_input": false
      },
      "source": [
        "n = len(football.nodes())\n",
        "e = len(football.edges())\n",
        "p = e / ((n * (n-1))/2)\n",
        "F_random = nx.erdos_renyi_graph(n, p, seed = 0)"
      ],
      "execution_count": null,
      "outputs": []
    },
    {
      "cell_type": "markdown",
      "metadata": {},
      "source": [
        "One way to visualize is to use a circular layout, which keeps all the edges in the interior. \n",
        "\n",
        "This can make things easier to see sometimes."
      ]
    },
    {
      "cell_type": "code",
      "metadata": {
        "hide_input": true,
        "tags": [
          "hide-input"
        ]
      },
      "source": [
        "plt.figure(figsize = (18, 8))\n",
        "ax1 = plt.subplot(121)\n",
        "nx.draw_networkx(football, ax = ax1,\n",
        "                 node_size=35, \n",
        "                 edge_color='gray', \n",
        "                 pos = nx.circular_layout(football),\n",
        "                 with_labels=False, alpha=.8, linewidths=2)\n",
        "plt.axis('off')\n",
        "plt.title('Title 1 Football -- Circular Layout', size = 16)\n",
        "ax2 = plt.subplot(122)\n",
        "nx.draw_networkx(F_random, ax = ax2,\n",
        "                 node_size=35, \n",
        "                 edge_color='gray', \n",
        "                 pos = nx.circular_layout(F_random),\n",
        "                 with_labels=False, alpha=.8, linewidths=2)\n",
        "plt.axis('off')\n",
        "plt.title('Same Density Random -- Circular Layout', size = 16);"
      ],
      "execution_count": null,
      "outputs": []
    },
    {
      "cell_type": "markdown",
      "metadata": {},
      "source": [
        "There is some non-random structure here, but it's not clear exactly what it is.\n",
        "\n",
        "So we will turn to a more informative layout.\n",
        "\n",
        "The standard `networkx` routine uses what is called a 'spring' layout. \n",
        "\n",
        "Here is how 'spring' layout works:\n",
        "* Each edge has a `weight` parameter (could be 1 for all edges).  \n",
        "* The layout routine fixes \n",
        "    * a spring of length = 1/`weight` between the nodes, and \n",
        "    * a repulsive force between each pair of nodes, \n",
        "* and then lets the set of all forces reach its minimum energy state.  \n",
        "\n",
        "This is a kind of minimal distortion in a least-squares sense."
      ]
    },
    {
      "cell_type": "code",
      "metadata": {
        "hide_input": true,
        "slideshow": {
          "slide_type": "fragment"
        },
        "tags": [
          "hide-input"
        ]
      },
      "source": [
        "plt.figure(figsize = (18, 8))\n",
        "ax1 = plt.subplot(121)\n",
        "nx.draw_networkx(football, ax = ax1,\n",
        "                 node_size=35, \n",
        "                 edge_color='gray', \n",
        "                 pos = nx.spring_layout(football, seed = 0),\n",
        "                 with_labels=False, alpha=.8, linewidths=2)\n",
        "plt.axis('off')\n",
        "plt.title('Title 1 Football -- Spring Layout', size = 16)\n",
        "ax2 = plt.subplot(122)\n",
        "nx.draw_networkx(F_random, ax = ax2,\n",
        "                 node_size=35, \n",
        "                 edge_color='gray', \n",
        "                 pos = nx.spring_layout(F_random, seed = 0),\n",
        "                 with_labels=False, alpha=.8, linewidths=2)\n",
        "plt.axis('off')\n",
        "plt.title('Same Density Random -- Spring Layout', size = 16);"
      ],
      "execution_count": null,
      "outputs": []
    },
    {
      "cell_type": "markdown",
      "metadata": {},
      "source": [
        "Notice how the spring layout tends to bring clusters of densely connected nodes close to each other.\n",
        "\n",
        "Finally, we can try the spectral layout.\n",
        "\n",
        "(We will define the spectral layout in the next lecture.)"
      ]
    },
    {
      "cell_type": "code",
      "metadata": {
        "hide_input": true,
        "slideshow": {
          "slide_type": "fragment"
        },
        "tags": [
          "hide-input"
        ]
      },
      "source": [
        "plt.figure(figsize = (18, 8))\n",
        "ax1 = plt.subplot(121)\n",
        "nx.draw_networkx(football, ax = ax1,\n",
        "                 node_size=35, \n",
        "                 edge_color='gray', \n",
        "                 pos = nx.spectral_layout(football),\n",
        "                 with_labels=False, alpha=.8, linewidths=2)\n",
        "plt.axis('off')\n",
        "plt.title('Title 1 Football -- Spectral Layout', size = 16)\n",
        "ax2 = plt.subplot(122)\n",
        "nx.draw_networkx(F_random, ax = ax2,\n",
        "                 node_size=35, \n",
        "                 edge_color='gray', \n",
        "                 pos = nx.spectral_layout(F_random),\n",
        "                 with_labels=False, alpha=.8, linewidths=2)\n",
        "plt.axis('off')\n",
        "plt.title('Same Density Random -- Spectral Layout', size = 16);"
      ],
      "execution_count": null,
      "outputs": []
    },
    {
      "cell_type": "markdown",
      "metadata": {},
      "source": [
        "With this layout, we can start to understand the structure of the network --\n",
        "\n",
        "see clusters of teams that correspond to conferences, --\n",
        "\n",
        "and understand that there are not too many high-degree nodes.\n",
        "\n",
        "### Characterizing Graphs\n",
        "\n",
        "Another way to undersand network structured data is to look at important metrics.\n",
        "\n",
        "For example, we can start with __clustering coefficient:__"
      ]
    },
    {
      "cell_type": "code",
      "metadata": {
        "hide_input": false,
        "slideshow": {
          "slide_type": "-"
        }
      },
      "source": [
        "clustering_coefficient = nx.average_clustering(football)\n",
        "print(f'The clustering coefficient of the Football network is {clustering_coefficient:0.3f}')\n",
        "cc_random = nx.average_clustering(F_random)\n",
        "print(f'The clustering coefficient for the equivalent random network is {cc_random:0.3f}')"
      ],
      "execution_count": null,
      "outputs": []
    },
    {
      "cell_type": "markdown",
      "metadata": {},
      "source": [
        "Another useful metric is diameter:"
      ]
    },
    {
      "cell_type": "code",
      "metadata": {
        "slideshow": {
          "slide_type": "-"
        }
      },
      "source": [
        "print(f'The diameter of the Football network is {nx.diameter(football)}' +\n",
        "      f' and the average shortest path length is {nx.average_shortest_path_length(football):0.3f}')\n",
        "print(f'The diameter of the equivalent random network is {nx.diameter(F_random)}' +\n",
        "      f' and the average shortest path length is {nx.average_shortest_path_length(F_random):0.3f}')"
      ],
      "execution_count": null,
      "outputs": []
    },
    {
      "cell_type": "markdown",
      "metadata": {},
      "source": [
        "The next property we can look at is the __degree distribution:__"
      ]
    },
    {
      "cell_type": "code",
      "metadata": {
        "hide_input": false,
        "slideshow": {
          "slide_type": "fragment"
        }
      },
      "source": [
        "degree_freq = nx.degree_histogram(football)\n",
        "degrees = np.array(range(len(degree_freq)))"
      ],
      "execution_count": null,
      "outputs": []
    },
    {
      "cell_type": "code",
      "metadata": {
        "hide_input": true,
        "tags": [
          "hide-input"
        ]
      },
      "source": [
        "plt.figure(figsize = (8, 6))\n",
        "plt.bar(degrees, degree_freq)\n",
        "plt.xlabel('Degree', size = 14)\n",
        "plt.ylabel('Number of Nodes', size = 14)\n",
        "plt.title('Degree Distribution of Football Network', size = 16);"
      ],
      "execution_count": null,
      "outputs": []
    },
    {
      "cell_type": "markdown",
      "metadata": {},
      "source": [
        "To get a sense of what is unusual here, we can again compare this to the equivalent random network:"
      ]
    },
    {
      "cell_type": "code",
      "metadata": {
        "hide_input": true,
        "tags": [
          "hide-input"
        ]
      },
      "source": [
        "rand_degree_freq = nx.degree_histogram(F_random)\n",
        "rand_degrees = range(len(rand_degree_freq))\n",
        "plt.figure(figsize = (8, 6))\n",
        "plt.bar(rand_degrees, rand_degree_freq, 0.425, label = 'Random')\n",
        "plt.bar(degrees+0.5, degree_freq, 0.425, label = 'Actual')\n",
        "plt.xlabel('Degree', size = 14)\n",
        "plt.ylabel('Number of Nodes', size = 14)\n",
        "plt.legend(loc = 'best', fontsize = 14)\n",
        "plt.title('Degree Distribution of Football Network\\nCompared to Random', size = 16);"
      ],
      "execution_count": null,
      "outputs": []
    },
    {
      "cell_type": "markdown",
      "metadata": {},
      "source": [
        "We can see the evidence of scheduling of games in this distribution: a much larger number of teams plays 11 games than would occur by chance.\n"
      ]
    }
  ],
  "metadata": {
    "kernelspec": {
      "name": "python3",
      "language": "python",
      "display_name": "Python 3 (ipykernel)",
      "path": "/Users/tomg/Source/courses/tools4ds/DS701-Course-Notes/.venv/share/jupyter/kernels/python3"
    }
  },
  "nbformat": 4,
  "nbformat_minor": 4
}