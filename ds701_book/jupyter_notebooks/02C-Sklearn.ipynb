{
  "cells": [
    {
      "cell_type": "markdown",
      "metadata": {},
      "source": [
        "---\n",
        "title: 'Essential Tools: Scikit-Learn'\n",
        "jupyter: python3\n",
        "code-fold: false\n",
        "---\n",
        "\n",
        "## Introduction\n",
        "\n",
        "[![](https://colab.research.google.com/assets/colab-badge.svg)](https://colab.research.google.com/github/tools4ds/DS701-Course-Notes/blob/main/ds701_book/jupyter_notebooks/02C-Sklearn.ipynb)\n",
        "\n",
        "In this chapter we discuss another important Python package, Scikit-Learn (sklearn).\n",
        "\n",
        "::: {.content-visible when-profile=\"slides\"}\n",
        "## Scikit-Learn\n",
        ":::\n",
        "[Scikit-Learn](https://scikit-learn.org/stable/) (sklearn) is a powerful Python package for machine learning. The theoretical underpinnings of the methods introduced in this lecture will be covered in later lectures. The intent of this lecture is to demonstrate\n",
        "\n",
        ":::: {.incremental}\n",
        "1. how to implement a machine learning model using Scikit-Learn and\n",
        "1. understand the structure of the Scikit-Learn API.\n",
        "::::\n",
        "\n",
        ":::: {.fragment}\n",
        "The 2nd point is key, because understanding the generality of the API will allow you to easily work with different sklearn machine learning models.\n",
        "::::\n",
        "\n",
        "::: {.content-visible when-profile=\"slides\"}\n",
        "## Scikit-Learn\n",
        ":::\n",
        "\n",
        "The general framework for implementing a machine learning models in sklearn is\n",
        "\n",
        ":::: {.incremental}\n",
        "1. Import the sklearn objects you need.\n",
        "1. Prepare the dataset.\n",
        "1. Instantiate a machine learning object.\n",
        "1. Train your model on the dataset.\n",
        "1. Use the trained model to make predictions.\n",
        "1. Evaluate the performance of the model. \n",
        "::::\n",
        "\n",
        "::: {.content-visible when-profile=\"slides\"}\n",
        "## Scikit-Learn continued\n",
        ":::\n",
        "\n",
        ":::: {.fragment}\n",
        "We will demonstrate the sklearn machine learning framework by working with the sklearn `LinearRegression` object. This object can be used to train a linear model that predicts continuous values. \n",
        "::::\n",
        "\n",
        ":::: {.fragment}\n",
        "In this example we will work with the california housing dataset. We will see how to predict the median house price based on features, such as the age of the house, average number of bedrooms, etc. \n",
        "::::\n",
        "\n",
        ":::: {.fragment}\n",
        "We will cover theoretical details of linear regression in the [Linear regression](17-Regression-I-Linear.qmd) lecture.\n",
        "::::\n",
        "\n",
        "::: {.content-visible when-profile=\"slides\"}\n",
        "## Scikit-Learn continued\n",
        ":::\n",
        "\n",
        "We will also use sklearn when we cover\n",
        "\n",
        ":::: {.incremental}\n",
        "- [clustering](06-Clustering-I-kmeans.qmd),\n",
        "- [SVD](11-Dimensionality-Reduction-SVD-II.qmd),\n",
        "- [decision trees](14-Classification-I-Decision-Trees.qmd),\n",
        "- [k nearest neighbors](15-Classification-II-kNN.qmd),\n",
        "- [Naive Bayes and SVM](16-Classification-III-NB-SVM.qmd),\n",
        "- [Logistic regression](18-Regression-II-Logistic.qmd).\n",
        "::::\n",
        "\n",
        "## Import sklearn\n",
        "\n",
        "Let's first import all sklearn module and submodules that will be used in the following demonstrations."
      ]
    },
    {
      "cell_type": "code",
      "metadata": {},
      "source": [
        "import sklearn\n",
        "from sklearn.datasets import fetch_california_housing\n",
        "from sklearn.model_selection import train_test_split\n",
        "from sklearn.preprocessing import StandardScaler\n",
        "from sklearn.linear_model import LinearRegression\n",
        "from sklearn.metrics import mean_squared_error\n",
        "\n",
        "print(sklearn.__version__)"
      ],
      "execution_count": null,
      "outputs": []
    },
    {
      "cell_type": "markdown",
      "metadata": {},
      "source": [
        "## Prepare the dataset\n",
        "\n",
        "Scikit-Learn provides a variety of datasets in the `datasets` submodule. These can be used to train simple models. Below we import the california housing dataset. We store the data features as a NumPy arrays called $X$ (2-D) and the target (labels) $y$ (1-D). We can see a description of the dataset by using the `.DESCR` attribute."
      ]
    },
    {
      "cell_type": "code",
      "metadata": {},
      "source": [
        "# Fetch data\n",
        "housing_dataset = fetch_california_housing()\n",
        "X = housing_dataset[\"data\"]\n",
        "y = housing_dataset[\"target\"]\n",
        "print(housing_dataset.DESCR)"
      ],
      "execution_count": null,
      "outputs": []
    },
    {
      "cell_type": "markdown",
      "metadata": {},
      "source": [
        "::: {.content-visible when-profile=\"slides\"}\n",
        "## Train-test split\n",
        ":::\n",
        "We are going to train a model to predict the median house value. To train and test the model we are going to split the dataset into 80% training data and 20% test data. We use the `train_test_split` function from sklearn."
      ]
    },
    {
      "cell_type": "code",
      "metadata": {},
      "source": [
        "# Split data into train and test sets\n",
        "X_train, X_test, y_train, y_test = train_test_split(X, y, test_size=0.20 ,random_state=42)"
      ],
      "execution_count": null,
      "outputs": []
    },
    {
      "cell_type": "markdown",
      "metadata": {},
      "source": [
        "::: {.content-visible when-profile=\"slides\"}\n",
        "## Dataset scaling\n",
        ":::\n",
        "\n",
        ":::: {.fragment}\n",
        "As part of the data preparation we will want to scale the dataset. Datasets often contain data with different orders of magnitude. Scaling the dataset prevents data with a large magnitude from potentially dominating the model. \n",
        "::::\n",
        "\n",
        ":::: {.fragment}\n",
        "We will use the `StandardScaler` object which scales data to have zero-mean and unit variance (i.e, standard deviation is 1). \n",
        "\n",
        "::: {.content-hidden when-profile=\"slides\"}\n",
        "There are of course other scaling objects. See this [link](https://scikit-learn.org/stable/modules/preprocessing.html) for documentation. \n",
        ":::\n",
        "\n",
        "For this example we are not going to scale the target variables because they represent a price in dollars. Depending on the application, you may need to scale your target variable.\n",
        "::::\n",
        "\n",
        ":::: {.fragment}"
      ]
    },
    {
      "cell_type": "code",
      "metadata": {},
      "source": [
        "# Scale the data \n",
        "scaler = StandardScaler()\n",
        "X_train = scaler.fit_transform(X_train)\n",
        "X_test = scaler.fit_transform(X_test)"
      ],
      "execution_count": null,
      "outputs": []
    },
    {
      "cell_type": "markdown",
      "metadata": {},
      "source": [
        "::::\n",
        "\n",
        "## Instantiate and train the machine learning object\n",
        "\n",
        "With our scaled dataset, we are now in a position to instantiate and train our model. The following code accomplishes this."
      ]
    },
    {
      "cell_type": "code",
      "metadata": {},
      "source": [
        "# Create regression model\n",
        "reg = LinearRegression()\n",
        "# Train\n",
        "reg.fit(X_train, y_train)"
      ],
      "execution_count": null,
      "outputs": []
    },
    {
      "cell_type": "markdown",
      "metadata": {},
      "source": [
        "We instantiate a `LinearRegression()` object and store it in a variable called `reg`. We then call the `fit((X_train, y_train)` method to train the model. \n",
        "\n",
        "The `fit()` method is a common function to train a variety of models in sklearn. \n",
        "\n",
        "## Prediction with the model\n",
        "\n",
        "The linear regression model has now been trained. To make predictions we use the `predict()` method. This function is also shared across many machine learning model classes."
      ]
    },
    {
      "cell_type": "code",
      "metadata": {},
      "source": [
        "# Predict on test set\n",
        "y_pred = reg.predict(X_test)"
      ],
      "execution_count": null,
      "outputs": []
    },
    {
      "cell_type": "markdown",
      "metadata": {},
      "source": [
        "The values in `y_pred` are the models predictions of the median house prices based on the input features of `X_test`.\n",
        "\n",
        "## Evaluating the performance of the model\n",
        "\n",
        ":::: {.fragment}\n",
        "To evaluate the performance of the model, we can use the `score()` method, which is also shared across many model objects in sklearn. \n",
        "::::\n",
        "\n",
        "::: {.content-hidden when-profile=\"slides\"}\n",
        "In addition, we can use specific functions to evaluate the error in our predictions.\n",
        ":::\n",
        "\n",
        ":::: {.fragment}\n",
        "Next is the code that computes the $R^2$ value of the model and the mean squared error.\n",
        "\n",
        "The $R^2$ value is a number between [0, 1] and provides a measure of how good the fit of the model is. A value of 1 \n",
        "means the model fits the data perfectly, while a value of 0 indicates there is no linear relationship between the \n",
        "observed and predicted values.\n",
        "::::\n",
        "\n",
        ":::: {.fragment}\n",
        "The mean squared error (MSE) is given by the formula\n",
        "\n",
        "$$ \n",
        "\\frac{1}{n}\\sum_{i}^{n} (y_i - \\hat{y}_i)^2,\n",
        "$$\n",
        "\n",
        "where $n$ is the number of data points in the target vector, $y_i$ are the true values of the test set (`y_test`), and $\\hat{y}_i$ are the predicted values (`y_pred`).\n",
        "::::\n",
        "\n",
        "::: {.content-visible when-profile=\"slides\"}\n",
        "## Computing $R^2$ and MSE\n",
        ":::"
      ]
    },
    {
      "cell_type": "code",
      "metadata": {},
      "source": [
        "# R^2 value\n",
        "r2 = reg.score(X_test, y_test)\n",
        "print(\"The R^2 score is : \", r2)\n",
        "\n",
        "# Report Mean Square Error (mse)\n",
        "mse = mean_squared_error(y_test, y_pred)\n",
        "print(\"Mean squared error: \", mse)"
      ],
      "execution_count": null,
      "outputs": []
    }
  ],
  "metadata": {
    "kernelspec": {
      "name": "python3",
      "language": "python",
      "display_name": "Python 3 (ipykernel)",
      "path": "/Users/tomg/Source/courses/tools4ds/DS701-Course-Notes/.venv/share/jupyter/kernels/python3"
    }
  },
  "nbformat": 4,
  "nbformat_minor": 4
}