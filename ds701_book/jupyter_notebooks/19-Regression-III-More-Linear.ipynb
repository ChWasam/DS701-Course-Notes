{
  "cells": [
    {
      "cell_type": "markdown",
      "metadata": {},
      "source": [
        "---\n",
        "title: Regularization\n",
        "jupyter: python3\n",
        "---\n",
        "\n",
        "[![](https://colab.research.google.com/assets/colab-badge.svg)](https://colab.research.google.com/github/tools4ds/DS701-Course-Notes/blob/main/ds701_book/jupyter_notebooks/19-Regression-III-More-Linear.ipynb)"
      ]
    },
    {
      "cell_type": "code",
      "metadata": {
        "hide_input": true,
        "slideshow": {
          "slide_type": "skip"
        },
        "tags": [
          "hide-input"
        ]
      },
      "source": [
        "import numpy as np\n",
        "import scipy as sp\n",
        "import matplotlib.pyplot as plt\n",
        "import pandas as pd\n",
        "import seaborn as sns\n",
        "import matplotlib as mp\n",
        "import sklearn\n",
        "from IPython.display import Image, HTML\n",
        "import statsmodels.api as sm\n",
        "from sklearn import model_selection\n",
        "from sklearn import metrics\n",
        "\n",
        "import laUtilities as ut\n",
        "\n",
        "%matplotlib inline\n",
        "\n",
        "from statsmodels.sandbox.regression.predstd import wls_prediction_std\n",
        "from statsmodels.regression.linear_model import OLS\n",
        "import statsmodels.formula.api as smf\n",
        "\n",
        "import warnings\n",
        "\n",
        "np.random.seed(9876789)"
      ],
      "execution_count": null,
      "outputs": []
    },
    {
      "cell_type": "markdown",
      "metadata": {},
      "source": [
        "Today, we'll look at some additional aspects of Linear Regression.\n",
        "\n",
        "Our first topic is multicollinearity.\n",
        "\n",
        "## Multicollinearity\n",
        "\n",
        "To illustrate the multcollinearity problem, we'll load a standard dataset.\n",
        "\n",
        "The Longley dataset contains various US macroeconomic variables from 1947–1962.\n",
        "\n",
        "```{note}\n",
        "A good reference for the following is \n",
        "https://www.sjsu.edu/faculty/guangliang.chen/Math261a/Ch9slides-multicollinearity.pdf\n",
        "and\n",
        "https://www.stat.cmu.edu/~ryantibs/datamining/lectures/17-modr2.pdf\n",
        "```"
      ]
    },
    {
      "cell_type": "code",
      "metadata": {
        "slideshow": {
          "slide_type": "fragment"
        }
      },
      "source": [
        "from statsmodels.datasets.longley import load_pandas\n",
        "y = load_pandas().endog\n",
        "X = load_pandas().exog\n",
        "X['const'] = 1.0\n",
        "X.index = X['YEAR']\n",
        "y.index = X['YEAR']\n",
        "X.drop('YEAR', axis = 1, inplace = True)\n",
        "X"
      ],
      "execution_count": null,
      "outputs": []
    },
    {
      "cell_type": "code",
      "metadata": {
        "slideshow": {
          "slide_type": "fragment"
        }
      },
      "source": [
        "ols_model = sm.OLS(y, X)\n",
        "ols_results = ols_model.fit()\n",
        "with warnings.catch_warnings():\n",
        "    warnings.simplefilter('ignore')\n",
        "    print(ols_results.summary())"
      ],
      "execution_count": null,
      "outputs": []
    },
    {
      "cell_type": "markdown",
      "metadata": {},
      "source": [
        "What does this mean?\n",
        "\n",
        ">In statistics, multicollinearity (also collinearity) is a phenomenon in which two or more predictor variables in a multiple regression model are highly correlated, meaning that one can be linearly predicted from the others with a substantial degree of accuracy.\n",
        "\n",
        "(Wikipedia)\n",
        "\n",
        "### Condition Number\n",
        "\n",
        "The condition number being referred to is the condition number of the design matrix.\n",
        "\n",
        "That is the $X$ in $X\\beta = y$. \n",
        "\n",
        "Remember that to solve a least-squares problem $X\\beta = y$, we solve the normal equations\n",
        "\n",
        "$$X^TX\\beta = X^Ty.$$\n",
        "\n",
        "These equations always have at least one solution.\n",
        "\n",
        "However, the \"at least one\" part is problematic!\n",
        "\n",
        "If there are multiple solutions, they are in a sense all equivalent in that they yield the same value of $\\Vert X\\beta - y\\Vert$.\n",
        "\n",
        "However, the actual values of $\\beta$ can vary tremendously and so it is not clear how best to interpret the case when $X$ does not have full column rank.\n",
        "\n",
        "When does this problem occur?   Look at the normal equations:\n",
        "\n",
        "$$X^TX\\beta = X^Ty.$$\n",
        "\n",
        "It occurs when $X^TX$ is __not invertible.__\n",
        "\n",
        "In that case, we cannot simply solve the normal equations by computing $\\hat{\\beta} = (X^TX)^{-1}X^Ty.$\n",
        "\n",
        "When is $(X^TX)$ not invertible?\n",
        "\n",
        "This happens when the columns of $X$ are linearly dependent --\n",
        "\n",
        "That is, one column can be expressed as a linear combination of the other columns.\n",
        "\n",
        "This is the simplest kind of __multicollinearity__.\n",
        "\n",
        "### Sources of Multicollinearity\n",
        "\n",
        "One obvious case is if $X$ has more columns than rows.   That is, if data have __more features than there are observations__.\n",
        "\n",
        "This case is easy to recognize. \n",
        "\n",
        "However, a more insidious case occurs when the columns of $X$ happen to be linearly dependent because of the nature of the data itself.\n",
        "\n",
        "This happens when one column is a linear function of the other columns.   \n",
        "\n",
        "In other words, one independent variable is a linear function of one or more of the others.\n",
        "\n",
        "Unfortunately, in practice we will run into trouble even if variables are __almost__ linearly dependent. \n",
        "\n",
        "Near-dependence causes problems because measurements are not exact, and small errors are magnified when computing $(X^TX)^{-1}$. \n",
        "\n",
        "So, more simply, when two or more columns are __strongly correlated__, we will have problems with linear regression.\n",
        "\n",
        "Consider an experiment with the following predictors:\n",
        "    \n",
        "$$ x_1 = \\text{arm length} $$\n",
        "\n",
        "$$ x_2 = \\text{leg length} $$\n",
        "\n",
        "$$ x_3 = \\text{height} $$\n",
        "\n",
        "$$ \\dots $$\n",
        "\n",
        "Condition number is a measure of whether $X$ is __nearly__ lacking full column rank.\n",
        "\n",
        "In other words, whether some column is __close to__ being a linear combination of the other columns.\n",
        "\n",
        "In this case, the actual values of $\\beta$ can vary a lot due to noise in the measurements.\n",
        "\n",
        "One way to say that $X^TX$ is not invertible is to say that it has at least one zero eigenvalue.   \n",
        "\n",
        "Condition number relaxes this -- it asks if $X^TX$ has a __very small__ eigenvalue (compared to its largest eigenvalue).\n",
        "\n",
        "An easy way to assess this is using the SVD of $X$.\n",
        "\n",
        "(Thank you, \"swiss army knife\"!)\n",
        "\n",
        "The eigenvalues of $X^TX$ are the squares of the singular values of $X$.   \n",
        "\n",
        "So the condition number of $X$ is defined as:\n",
        "\n",
        "$$\\kappa(X) = \\frac{\\sigma_{\\mbox{max}}}{\\sigma_{\\mbox{min}}}$$\n",
        "\n",
        "where $\\sigma_{\\mbox{max}}$ and $\\sigma_{\\mbox{min}}$ are the largest and smallest singular values of $X$.\n",
        "\n",
        "A large condition number is evidence of a problem.   \n",
        "\n",
        "* If the condition number is less than 100, there is no serious problem\n",
        "with multicollinearity.\n",
        "* Condition numbers between 100 and 1000 imply moderate to strong multicollinearity.\n",
        "* Condition numbers bigger than 1000 indicate severe multicollinearity.\n",
        "\n",
        "Recall that the condition number of our data is around $10^8$. \n",
        "\n",
        "Let's look at pairwise scatterplots of the Longley data:"
      ]
    },
    {
      "cell_type": "code",
      "metadata": {
        "hide_input": true,
        "slideshow": {
          "slide_type": "fragment"
        },
        "tags": [
          "hide-input"
        ]
      },
      "source": [
        "sns.pairplot(X[['GNPDEFL', 'GNP', 'UNEMP', 'ARMED', 'POP']]);"
      ],
      "execution_count": null,
      "outputs": []
    },
    {
      "cell_type": "markdown",
      "metadata": {},
      "source": [
        "We can see __very__ strong linear relationships between, eg, __GNP Deflator__, __GNP__, and __Population.__\n",
        "\n",
        "## Addressing Multicollinearity\n",
        "\n",
        "\n",
        "There are some things that can be done if it does happen.\n",
        "\n",
        "We will review two strategies:\n",
        "\n",
        "1. Ridge Regression\n",
        "2. Model Selection via LASSO\n",
        "\n",
        "### Ridge Regression\n",
        "\n",
        "The first thing to note is that when columns of $X$ are nearly dependent, the components of $\\hat{\\beta}$ tend to be __large in magnitude__.\n",
        "\n",
        "Consider a regression in which we are predicting the point $\\mathbf{y}$ as a linear function of two $X$ columns, which we'll denote $\\mathbf{u}$ and $\\mathbf{v}$."
      ]
    },
    {
      "cell_type": "code",
      "metadata": {
        "hide_input": true,
        "tags": [
          "hide-input"
        ]
      },
      "source": [
        "ax = ut.plotSetup(size=(6,3))\n",
        "ut.centerAxes(ax)\n",
        "u = np.array([1, 2])\n",
        "v = np.array([4, 1])\n",
        "alph = 1.6\n",
        "beta = -1.25\n",
        "sum_uv = (alph * u) + (beta * v)\n",
        "ax.arrow(0, 0, u[0], u[1], head_width=0.2, head_length=0.2, length_includes_head = True)\n",
        "ax.arrow(0, 0, v[0], v[1], head_width=0.2, head_length=0.2, length_includes_head = True)\n",
        "ax.text(sum_uv[0]-.5, sum_uv[1]+0.25, r'$\\mathbf{y}$',size=12)\n",
        "ax.text(u[0]+0.25, u[1]-0.25, r'${\\bf u}$', size=12)\n",
        "ax.text(v[0]+0.25, v[1]+0.25, r'${\\bf v}$',size=12)\n",
        "ut.plotPoint(ax, sum_uv[0], sum_uv[1])\n",
        "ax.plot(0, 0, '');"
      ],
      "execution_count": null,
      "outputs": []
    },
    {
      "cell_type": "markdown",
      "metadata": {},
      "source": [
        "Via least-squares, we determine the coefficients $\\beta_1$ and $\\beta_2$:"
      ]
    },
    {
      "cell_type": "code",
      "metadata": {
        "hide_input": true,
        "tags": [
          "hide-input"
        ]
      },
      "source": [
        "ax = ut.plotSetup(size=(6,3))\n",
        "ut.centerAxes(ax)\n",
        "u = np.array([1, 2])\n",
        "v = np.array([4, 1])\n",
        "alph = 1.6\n",
        "beta = -1.25\n",
        "sum_uv = (alph * u) + (beta * v)\n",
        "ax.arrow(0, 0, u[0], u[1], head_width=0.2, head_length=0.2, length_includes_head = True)\n",
        "ax.arrow(0, 0, v[0], v[1], head_width=0.2, head_length=0.2, length_includes_head = True)\n",
        "ax.arrow(0, 0, alph * u[0], alph * u[1], head_width=0.2, \n",
        "         head_length=0.2, length_includes_head = True)\n",
        "ax.arrow(alph * u[0], alph * u[1], sum_uv[0] - alph * u[0], sum_uv[1] - alph * u[1], \n",
        "         head_width=0.2, \n",
        "         head_length=0.2, length_includes_head = True, color = 'r')\n",
        "ax.text(sum_uv[0]-2, sum_uv[1]+0.25, r'$\\beta_1{\\bf u}$+$\\beta_2{\\bf v}$',size=12)\n",
        "ax.text(u[0]+0.25, u[1]-0.25, r'${\\bf u}$', size=12)\n",
        "ax.text(alph * u[0]+0.25, alph * u[1]-0.25, r'$\\beta_1{\\bf u}$', size=12)\n",
        "ax.text(-2, 2.75, r'$\\beta_2{\\bf v}$', size=12)\n",
        "ax.text(v[0]+0.25, v[1]+0.25, r'${\\bf v}$',size=12)\n",
        "ut.plotPoint(ax, sum_uv[0], sum_uv[1])\n",
        "ax.plot(0, 0, '');"
      ],
      "execution_count": null,
      "outputs": []
    },
    {
      "cell_type": "markdown",
      "metadata": {},
      "source": [
        "Now consider if the columns of $X$ are __nearly dependent__: ie, they are almost in the same direction:"
      ]
    },
    {
      "cell_type": "code",
      "metadata": {
        "hide_input": true,
        "tags": [
          "hide-input"
        ]
      },
      "source": [
        "ax = ut.plotSetup(size=(6,3))\n",
        "ut.centerAxes(ax)\n",
        "u = np.array([2, 1])\n",
        "v = np.array([4, 1])\n",
        "ax.arrow(0, 0, u[0], u[1], head_width=0.2, head_length=0.2, length_includes_head = True)\n",
        "ax.arrow(0, 0, v[0], v[1], head_width=0.2, head_length=0.2, length_includes_head = True)\n",
        "ax.text(sum_uv[0]-.5, sum_uv[1]+0.25, r'$\\mathbf{y}$',size=12)\n",
        "ax.text(u[0]+0.25, u[1]-0.25, r'${\\bf u}$', size=12)\n",
        "ax.text(v[0]+0.25, v[1]+0.25, r'${\\bf v}$',size=12)\n",
        "ut.plotPoint(ax, sum_uv[0], sum_uv[1])\n",
        "ax.plot(0, 0, '');"
      ],
      "execution_count": null,
      "outputs": []
    },
    {
      "cell_type": "markdown",
      "metadata": {},
      "source": [
        "If you imagine the values of $\\beta_1$ and $\\beta_2$ necessary to create $\\mathbf{y} = \\beta_1{\\bf u}$+$\\beta_2{\\bf v}$, you can see that $\\beta_1$ and $\\beta_2$ will be __very large__ in magnitude.\n",
        "\n",
        "This geometric argument illustrates why the regression coefficients will be very large under multicollinearity.\n",
        "\n",
        "Put another way, the value of $\\Vert\\beta\\Vert$ will be very large.\n",
        "\n",
        "### Ridge Regression\n",
        "\n",
        "Ridge regression adjusts least squares regression by shrinking the estimated coefficients towards zero.\n",
        "\n",
        "The purpose is to fix the magnitude inflation of $\\Vert\\beta\\Vert$.\n",
        "\n",
        "To do this, Ridge regression assumes that the model has no intercept term --\n",
        "\n",
        "both the response and the predictors have been centered so that $\\beta_0 = 0$.\n",
        "\n",
        "Ridge regression then consists of adding a penalty term to the regression:\n",
        "\n",
        "$$ \\hat{\\beta} = \\arg \\min_\\beta \\Vert X\\beta - y \\Vert^2 + \\lambda \\Vert\\beta\\Vert^2.$$\n",
        "\n",
        "For any given $\\lambda$ this has a closed-form solution in which $\\hat{\\beta}$ is a linear function of $X$ (just as in ordinary least squares).\n",
        "\n",
        "The solution to the Ridge regression problem always exists and is unique, even when the data contains multicollinearity.\n",
        "\n",
        "\n",
        "Here, $\\lambda \\geq 0$ is a tradeoff parameter (amount of shrinkage).\n",
        "\n",
        "It controls the strength of the penalty term:\n",
        "* When $\\lambda = 0$, we get the least squares estimator: $\\hat{\\beta} = (X^TX)^{−1}X^T\\mathbf{y}$\n",
        "* When $\\lambda = \\infty$, we get $\\hat{\\beta} = 0.$\n",
        "* Increasing the value of $\\lambda$ forces the norm of $\\hat{\\beta}$ to decrease, yielding smaller coefficient estimates (in magnitude).\n",
        "\n",
        "For a finite, positive value of $\\lambda$, we are balancing two tasks: fitting\n",
        "a linear model and shrinking the coefficients.\n",
        "\n",
        "So once again, we have a __hyperparameter__ that controls model complexity:\n",
        "* hence, we typically set $\\lambda$ by holding out data, ie, __cross-validation.__\n",
        "\n",
        "Note that the penalty term $\\Vert\\beta\\Vert^2$ would be unfair to the different predictors, if they are not on the same scale. \n",
        "\n",
        "Therefore, if we know that the variables are not measured in the same units, we typically first perform unit normal scaling on the columns of $X$ and on $\\mathbf{y}$ (to standardize the predictors), and then perform ridge regression.\n",
        "\n",
        "Note that by scaling $\\mathbf{y}$ to zero-mean, we do not need (or include) an intercept in the model.\n",
        "\n",
        "The general strategy of including extra criteria to improve the behavior of a model is called \"regularization.\"\n",
        "\n",
        "Accordingly, Ridge regression is also known as __Tikhanov regularization__.\n",
        "\n",
        "Here is the performance of Ridge regression on the Longley data.\n",
        "\n",
        "We are training on half of the data, and using the other half for testing."
      ]
    },
    {
      "cell_type": "code",
      "metadata": {
        "hide_input": true,
        "slideshow": {
          "slide_type": "skip"
        },
        "tags": [
          "hide-input"
        ]
      },
      "source": [
        "from sklearn.metrics import r2_score\n",
        "nreps = 1000\n",
        "\n",
        "from sklearn.preprocessing import StandardScaler\n",
        "scaler = StandardScaler()\n",
        "X_std = scaler.fit_transform(X[['GNPDEFL', 'GNP', 'UNEMP', 'ARMED', 'POP']])\n",
        "y_std = scaler.fit_transform(y.values.reshape(-1, 1))\n",
        "\n",
        "np.random.seed(1)\n",
        "\n",
        "vals = []\n",
        "for alpha in np.r_[np.array([0]), 10**np.linspace(-8.5, -0.5, 20)]:\n",
        "    res = []\n",
        "    for rep in range(nreps):\n",
        "        X_train, X_test, y_train, y_test = model_selection.train_test_split(\n",
        "            X_std, y_std,\n",
        "            test_size=0.5)\n",
        "        model = sm.OLS(y_train, X_train)\n",
        "        results = model.fit_regularized(alpha = alpha, L1_wt = 0)\n",
        "        y_oos_predict = results.predict(X_test)\n",
        "        r2_test = r2_score(y_test, y_oos_predict)\n",
        "        res.append(r2_test)\n",
        "    vals.append([alpha, np.mean(res), np.std(res)/np.sqrt(nreps)])\n",
        "\n",
        "results = np.array(vals)"
      ],
      "execution_count": null,
      "outputs": []
    },
    {
      "cell_type": "code",
      "metadata": {
        "hide_input": true,
        "tags": [
          "hide-input"
        ]
      },
      "source": [
        "ax = plt.figure(figsize = (6, 4)).add_subplot()\n",
        "ax.errorbar(np.log10(results[1:][:, 0]), results[1:][:, 1], \n",
        "            results[1:][:, 2],\n",
        "            label = 'Ridge Regression')\n",
        "ax.hlines(results[0,1], np.log10(results[1, 0]), \n",
        "           np.log10(results[-1, 0]), linestyles = 'dashed',\n",
        "          label = 'Without Regularization')\n",
        "ax.hlines(results[0,1]+results[0,2], np.log10(results[1, 0]), \n",
        "           np.log10(results[-1, 0]), linestyles = 'dotted')\n",
        "ax.hlines(results[0,1]-results[0,2], np.log10(results[1, 0]), \n",
        "           np.log10(results[-1, 0]), linestyles = 'dotted')\n",
        "ax.tick_params(labelsize=12)\n",
        "ax.set_ylabel('$R^2$', fontsize = 14)\n",
        "plt.legend(loc = 'best')\n",
        "ax.set_xlabel('$\\log_{10}(\\lambda)$', fontsize = 14)\n",
        "ax.set_title('Ridge Regression Accuracy on Longley Data', fontsize = 16);"
      ],
      "execution_count": null,
      "outputs": []
    },
    {
      "cell_type": "markdown",
      "metadata": {},
      "source": [
        "To sum up the idea behind Ridge regression: \n",
        "\n",
        "1. There may be many $\\beta$ values that are (approximately) consistent with the equations.   \n",
        "2. However over-fit $\\beta$ values tend to have large magnitudes \n",
        "3. We apply shrinkage to avoid those solutions\n",
        "4. We do so by tuning $\\lambda$ via cross-validation\n",
        "\n",
        "### Model Selection\n",
        "\n",
        "Of course, one might attack the problem of multicollinearity as follows:\n",
        "    \n",
        "1. Multicollinearity occurs because there are near-dependences among variables (features)\n",
        "2. The extra variables do not contribute anything \"meaningful\" to the quality of the model\n",
        "3. Hence, why not simply remove variables from the model that are causing dependences?\n",
        "\n",
        "If we remove variables from our regression, we are creating a new model.\n",
        "\n",
        "Hence this strategy is called \"model selection.\"\n",
        "\n",
        "One of the advantages of model selection is __interpretability__: by eliminating variables, we get a clearer picture of the relationship between truly useful features and dependent variables.\n",
        "\n",
        "However, there is a big challenge inherent in model selection:\n",
        "    \n",
        "in general, the possibilities to consider are exponential in the number of features.\n",
        "\n",
        "That is, if we have $n$ features to consider, then there are $2^n-1$ possible models that incorporate one or more of those features.\n",
        "\n",
        "This space is usually too big to search directly.\n",
        "\n",
        "Can we use Ridge regression for this problem?\n",
        "\n",
        "Ridge regression does not set any coefficients exactly to zero unless $\\lambda = \\infty$ (in which case they’re all zero). \n",
        "\n",
        "Hence, Ridge regression cannot perform variable selection, and even though it performs well in terms of prediction accuracy, it does not offer a clear interpretation\n",
        "\n",
        "### The LASSO\n",
        "\n",
        "LASSO differs from Ridge regression __only in terms of the norm__ used by the penalty term.\n",
        "\n",
        "__Ridge regression:__\n",
        "\n",
        "$$ \\hat{\\beta} = \\arg \\min_\\beta \\Vert X\\beta - y \\Vert^2 + \\lambda \\Vert\\beta\\Vert_2^2.$$\n",
        "\n",
        "__LASSO:__\n",
        "\n",
        "$$ \\hat{\\beta} = \\arg \\min_\\beta \\Vert X\\beta - y \\Vert^2 + \\lambda \\Vert\\beta\\Vert_1.$$\n",
        "\n",
        "However, this small change in the norm makes a __big difference__ in practice.\n",
        "\n",
        "The nature of the $\\ell_1$ penalty will cause some coefficients to be shrunken to zero exactly!\n",
        "\n",
        "This means that LASSO can perform model selection: it can tell us which variables to keep and which to set aside.\n",
        "\n",
        "As $\\lambda$ increases, more coefficients are set to zero (fewer variables are selected).\n",
        "\n",
        "In terms of prediction error, LASSO performs comparably to Ridge regression, \n",
        "\n",
        "... but it has a __big advantage with respect to interpretation.__"
      ]
    },
    {
      "cell_type": "code",
      "metadata": {
        "hide_input": true,
        "slideshow": {
          "slide_type": "skip"
        },
        "tags": [
          "hide-input"
        ]
      },
      "source": [
        "from sklearn.metrics import r2_score\n",
        "nreps = 200\n",
        "\n",
        "from sklearn.preprocessing import StandardScaler\n",
        "scaler = StandardScaler()\n",
        "X_std = scaler.fit_transform(X[['GNPDEFL', 'GNP', 'UNEMP', 'ARMED', 'POP']])\n",
        "X_std = np.column_stack([X_std, np.ones(X_std.shape[0])])\n",
        "y_std = scaler.fit_transform(y.values.reshape(-1, 1))\n",
        "\n",
        "np.random.seed(1)\n",
        "\n",
        "vals = []\n",
        "mean_params = []\n",
        "for alpha in np.r_[np.array([0]), 10**np.linspace(-5, -0.75, 10)]:\n",
        "    res = []\n",
        "    params = []\n",
        "    for rep in range(nreps):\n",
        "        X_train, X_test, y_train, y_test = model_selection.train_test_split(\n",
        "            X_std, y_std,\n",
        "            test_size=0.5)\n",
        "        model = sm.OLS(y_train, X_train)\n",
        "        results = model.fit_regularized(alpha = alpha, L1_wt = 1.0)\n",
        "        y_oos_predict = results.predict(X_test)\n",
        "        r2_test = r2_score(y_test, y_oos_predict)\n",
        "        res.append(r2_test)\n",
        "        params.append(results.params)\n",
        "    vals.append([alpha, np.mean(res), np.std(res)/np.sqrt(nreps)])\n",
        "    mean_params.append(np.r_[alpha, np.mean(params, axis = 0)])\n",
        "results = np.array(vals)\n",
        "mean_params = np.array(mean_params)"
      ],
      "execution_count": null,
      "outputs": []
    },
    {
      "cell_type": "code",
      "metadata": {
        "hide_input": true,
        "tags": [
          "hide-input"
        ]
      },
      "source": [
        "ax = plt.figure(figsize = (6, 4)).add_subplot()\n",
        "ax.errorbar(np.log10(results[1:][:, 0]), results[1:][:, 1], \n",
        "            results[1:][:, 2],\n",
        "            label = 'LASSO Regression')\n",
        "ax.hlines(results[0,1], np.log10(results[1, 0]), \n",
        "           np.log10(results[-1, 0]), linestyles = 'dashed',\n",
        "          label = 'Without Regularization')\n",
        "ax.hlines(results[0,1]+results[0,2], np.log10(results[1, 0]), \n",
        "           np.log10(results[-1, 0]), linestyles = 'dotted')\n",
        "ax.hlines(results[0,1]-results[0,2], np.log10(results[1, 0]), \n",
        "           np.log10(results[-1, 0]), linestyles = 'dotted')\n",
        "ax.tick_params(labelsize=12)\n",
        "ax.set_ylabel('$R^2$', fontsize = 14)\n",
        "#ax.set_xlim([-4, -1])\n",
        "plt.legend(loc = 'best')\n",
        "ax.set_xlabel('$\\log_{10}(\\lambda)$', fontsize = 14)\n",
        "ax.set_title('LASSO Accuracy on Longley Data', fontsize = 16);"
      ],
      "execution_count": null,
      "outputs": []
    },
    {
      "cell_type": "code",
      "metadata": {
        "hide_input": true,
        "slideshow": {
          "slide_type": "skip"
        },
        "tags": [
          "hide-input"
        ]
      },
      "source": [
        "df = pd.DataFrame(mean_params, columns = ['$\\log_{10}(\\lambda)$', 'GNPDEFL', 'GNP', 'UNEMP', 'ARMED', 'POP', 'const'])\n",
        "param_df = df[['GNPDEFL', 'GNP', 'UNEMP', 'ARMED', 'POP', 'const']].iloc[1:].copy()\n",
        "param_df.index = np.log10(df.iloc[1:]['$\\log_{10}(\\lambda)$'])"
      ],
      "execution_count": null,
      "outputs": []
    },
    {
      "cell_type": "code",
      "metadata": {
        "hide_input": true,
        "slideshow": {
          "slide_type": "fragment"
        },
        "tags": [
          "hide-input"
        ]
      },
      "source": [
        "param_df.plot()\n",
        "plt.legend(loc='center left', bbox_to_anchor=(1, 0.5), prop={'size': 16})\n",
        "plt.title('LASSO Coefficients vs $\\lambda$');"
      ],
      "execution_count": null,
      "outputs": []
    },
    {
      "cell_type": "markdown",
      "metadata": {},
      "source": [
        "We can use another version of the module that can directly type formulas and expressions in the functions of the models.\n",
        "\n",
        "\n",
        "We can specify the name of the columns to be used to predict another column, remove columns, etc."
      ]
    },
    {
      "cell_type": "code",
      "metadata": {
        "hide_input": true,
        "slideshow": {
          "slide_type": "skip"
        },
        "tags": [
          "hide-cell"
        ]
      },
      "source": [
        "X['TOTEMP'] = y"
      ],
      "execution_count": null,
      "outputs": []
    },
    {
      "cell_type": "code",
      "metadata": {
        "hide_input": false,
        "slideshow": {
          "slide_type": "skip"
        },
        "tags": [
          "hide-cell"
        ]
      },
      "source": [
        "mod = smf.ols(formula='TOTEMP ~ GNPDEFL + GNP + UNEMP + ARMED + POP', data=X)\n",
        "res = mod.fit()   \n",
        "with warnings.catch_warnings():\n",
        "    warnings.simplefilter('ignore')\n",
        "    print(res.summary())"
      ],
      "execution_count": null,
      "outputs": []
    },
    {
      "cell_type": "code",
      "metadata": {
        "hide_input": false,
        "slideshow": {
          "slide_type": "skip"
        },
        "tags": [
          "hide-cell"
        ]
      },
      "source": [
        "mod = smf.ols(formula='TOTEMP ~ GNPDEFL + GNP + UNEMP - 1', data=X)\n",
        "res = mod.fit()\n",
        "with warnings.catch_warnings():\n",
        "    warnings.simplefilter('ignore')\n",
        "    print(res.summary())"
      ],
      "execution_count": null,
      "outputs": []
    },
    {
      "cell_type": "markdown",
      "metadata": {},
      "source": [
        "## Flexible Modeling\n",
        "\n",
        "To look at model selection in practice, we will consider another famous dataset.\n",
        "\n",
        "The Guerry dataset is a collection of historical data used in support of Andre-Michel Guerry’s 1833 \"Essay on the Moral Statistics of France.\"\n",
        "\n",
        ">Andre-Michel Guerry’s (1833) Essai sur la Statistique Morale\n",
        "de la France was one of the foundation studies of modern social science.\n",
        "Guerry assembled data on crimes, suicides, literacy and other “moral\n",
        "statistics,” and used tables and maps to analyze a variety of social issues\n",
        "in perhaps the first comprehensive study relating such variables.\n",
        "\n",
        "Wikipedia\n",
        "\n",
        ">Guerry’s results were startling for two reasons.\n",
        "First he showed that rates of crime and suicide remained\n",
        "remarkably stable over time, when broken\n",
        "down by age, sex, region of France and even season\n",
        "of the year; yet these numbers varied systematically\n",
        "across departements of France. This regularity\n",
        "of social numbers created the possibility to\n",
        "conceive, for the first time, that human actions in\n",
        "the social world were governed by social laws, just\n",
        "as inanimate objects were governed by laws of the\n",
        "physical world.\n",
        "\n",
        "Source: \"A.-M. Guerry’s Moral Statistics of France: Challenges for Multivariable\n",
        "Spatial Analysis\", Michael Friendly.  Statistical Science 2007, Vol. 22, No. 3, 368–399."
      ]
    },
    {
      "cell_type": "code",
      "metadata": {
        "slideshow": {
          "slide_type": "fragment"
        }
      },
      "source": [
        "# Lottery is per-capital wager on Royal Lottery\n",
        "df = sm.datasets.get_rdataset(\"Guerry\", \"HistData\").data\n",
        "df = df[['Lottery', 'Literacy', 'Wealth', 'Region']].dropna()\n",
        "df.head()"
      ],
      "execution_count": null,
      "outputs": []
    },
    {
      "cell_type": "code",
      "metadata": {
        "slideshow": {
          "slide_type": "fragment"
        }
      },
      "source": [
        "mod = smf.ols(formula='Lottery ~ Literacy + Wealth + Region', data=df)\n",
        "res = mod.fit()\n",
        "print(res.summary())"
      ],
      "execution_count": null,
      "outputs": []
    },
    {
      "cell_type": "markdown",
      "metadata": {},
      "source": [
        "__Categorical variables__\n",
        "\n",
        "Patsy is the name of the interpreter that parses the formulas.\n",
        "\n",
        "Looking at the summary printed above, notice that patsy determined that elements of Region were text strings, so it treated Region as a categorical variable. \n",
        "\n",
        "Patsy‘s default is also to include an intercept, so we automatically dropped one of the Region categories.\n",
        "\n",
        "__Removing variables__\n",
        "\n",
        "The “-” sign can be used to remove columns/variables. For instance, we can remove the intercept from a model by:"
      ]
    },
    {
      "cell_type": "code",
      "metadata": {
        "slideshow": {
          "slide_type": "-"
        }
      },
      "source": [
        "res = smf.ols(formula='Lottery ~ Literacy + Wealth + C(Region) -1 ', data=df).fit()\n",
        "print(res.summary())"
      ],
      "execution_count": null,
      "outputs": []
    },
    {
      "cell_type": "markdown",
      "metadata": {},
      "source": [
        "__Functions__\n",
        "\n",
        "We can also apply vectorized functions to the variables in our model:"
      ]
    },
    {
      "cell_type": "code",
      "metadata": {
        "scrolled": false,
        "slideshow": {
          "slide_type": "-"
        }
      },
      "source": [
        "res = smf.ols(formula='Lottery ~ np.log(Literacy)', data=df).fit()\n",
        "print(res.summary())"
      ],
      "execution_count": null,
      "outputs": []
    }
  ],
  "metadata": {
    "kernelspec": {
      "name": "python3",
      "language": "python",
      "display_name": "Python 3 (ipykernel)",
      "path": "/Users/tomg/Source/courses/tools4ds/DS701-Course-Notes/.venv/share/jupyter/kernels/python3"
    }
  },
  "nbformat": 4,
  "nbformat_minor": 4
}