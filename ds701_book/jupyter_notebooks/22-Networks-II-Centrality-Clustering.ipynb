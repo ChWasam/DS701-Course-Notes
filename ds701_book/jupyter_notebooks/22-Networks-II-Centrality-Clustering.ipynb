{
  "cells": [
    {
      "cell_type": "markdown",
      "metadata": {},
      "source": [
        "---\n",
        "title: Network Centrality and Clustering\n",
        "jupyter: python3\n",
        "---\n",
        "\n",
        "[![](https://colab.research.google.com/assets/colab-badge.svg)](https://colab.research.google.com/github/tools4ds/DS701-Course-Notes/blob/main/ds701_book/jupyter_notebooks/22-Networks-II-Centrality-Clustering.ipynb)"
      ]
    },
    {
      "cell_type": "code",
      "metadata": {
        "hide_input": true,
        "slideshow": {
          "slide_type": "skip"
        },
        "tags": [
          "hide-input"
        ]
      },
      "source": [
        "import numpy as np\n",
        "import scipy as sp\n",
        "import matplotlib.pyplot as plt\n",
        "import pandas as pd\n",
        "import seaborn as sns\n",
        "import matplotlib as mp\n",
        "import sklearn\n",
        "import networkx as nx\n",
        "from IPython.display import Image, HTML\n",
        "\n",
        "import laUtilities as ut\n",
        "\n",
        "%matplotlib inline"
      ],
      "execution_count": null,
      "outputs": []
    },
    {
      "cell_type": "markdown",
      "metadata": {},
      "source": [
        "Now we turn to two important concepts in the analysis of networks:\n",
        "* Important __nodes__, and\n",
        "* Important __groups of nodes.__\n",
        "\n",
        "The question of important nodes leads to the notion of __centrality,__\n",
        "\n",
        "And the question of important groups of nodes leads to the notion of __clustering.__\n",
        "\n",
        "In both cases, we will draw connections between graphs and linear algebra.\n",
        "\n",
        "## Centrality\n",
        "\n",
        "An common question in the analysis of networks is to understand the relative \"importance\" of the nodes in the network.\n",
        "\n",
        "For example:\n",
        "\n",
        "* in a social network, who are the most influential individuals?\n",
        "* in the Web, which pages are more informative?\n",
        "* in road network, which intersections are most heavily used?\n",
        "\n",
        "\n",
        "The key idea is that the __structure__ of the network should give us some information about the relative importance of the nodes in the network.\n",
        "\n",
        "To introduce concepts here, we'll look at a very famous dataset in the history of network analysis: Zachary's karate club.\n",
        "\n",
        "The back story: from 1970 to 1972 the anthropologist Wayne Zachary studied the social relationships inside a university karate club.\n",
        "\n",
        "While he was studying the club, a factional division led to a splitting of the club in two.   \n",
        "\n",
        "The club became split between those who rallied around the club president, and those who rallied around the karate instructor.\n",
        "\n",
        "```{note}\n",
        "You can read the story of the Karate club [here](http://www1.ind.ku.dk/complexLearning/zachary1977.pdf).  This dataset has become so famous that it has spawned [its own academic traditions](https://networkkarate.tumblr.com).\n",
        "```\n",
        "\n",
        "Here's a view of the social network of the karate club. "
      ]
    },
    {
      "cell_type": "code",
      "metadata": {
        "hide_input": true,
        "slideshow": {
          "slide_type": "fragment"
        },
        "tags": [
          "hide-input"
        ]
      },
      "source": [
        "Gk = nx.karate_club_graph()\n",
        "np.random.seed(9)\n",
        "fig = plt.figure(figsize = (12, 6))\n",
        "ax1 = fig.add_subplot(121)\n",
        "nx.draw_networkx(Gk, ax = ax1, pos = nx.circular_layout(Gk), \n",
        "                 with_labels = False, node_color='skyblue')\n",
        "plt.title('Circular Layout')\n",
        "plt.axis('off')\n",
        "ax2 = fig.add_subplot(122)\n",
        "nx.draw_networkx(Gk, ax = ax2, pos = nx.spring_layout(Gk), \n",
        "                 with_labels = False, node_color='skyblue')\n",
        "plt.title('Spring Layout')\n",
        "plt.axis('off');"
      ],
      "execution_count": null,
      "outputs": []
    },
    {
      "cell_type": "markdown",
      "metadata": {},
      "source": [
        "Do some nodes in the network have a special role?\n",
        "\n",
        "Are some nodes more \"important\" than others?\n",
        "\n",
        "These are often termed questions of __centrality__ (or __prestige__).\n",
        "\n",
        "Today we'll study metrics for these notions.   We'll work with a graph $G$.\n",
        "\n",
        "We will study three basic notions of centrality:\n",
        "    \n",
        "1. __Closeness__ Centrality:  A central node is close to all others.\n",
        "2. __Betweenness__ Centrality: A central node is on many paths through the network.\n",
        "3. __Status__ Centrality: A central node is connected to other central nodes.\n",
        "\n",
        "### Closeness Centrality\n",
        "\n",
        "The closeness centrality of a node $i$ is an indicator of the proximity between $i$ and all the other nodes in the graph.\n",
        "\n",
        "We assume that $G$ is connected; let $d(i,j)$ be the shortest path distance between $i$ and $j$ in $G$.   \n",
        "\n",
        "(Although other dissimilarity measures could be used.)\n",
        "\n",
        "Then the standard way of formulating closeness centrality is the reciprocal of the total distance to all other nodes.\n",
        "\n",
        "$$ \\text{closeness}(i) = \\frac{1}{\\sum_{j \\in V} d(i,j)}.$$"
      ]
    },
    {
      "cell_type": "code",
      "metadata": {
        "hide_input": true,
        "slideshow": {
          "slide_type": "fragment"
        },
        "tags": [
          "hide-input"
        ]
      },
      "source": [
        "Gk = nx.karate_club_graph()\n",
        "cent = list(nx.closeness_centrality(Gk).values())\n",
        "np.random.seed(9)\n",
        "fig = plt.figure(figsize = (12, 6))\n",
        "ax1 = fig.add_subplot(121)\n",
        "nx.draw_networkx(Gk, ax = ax1, pos = nx.circular_layout(Gk), \n",
        "                 node_color = cent,\n",
        "                 cmap = plt.cm.plasma,\n",
        "                 with_labels = False)\n",
        "plt.title('Closeness Centrality')\n",
        "plt.axis('off')\n",
        "ax2 = fig.add_subplot(122)\n",
        "nx.draw_networkx(Gk, ax = ax2, pos = nx.spring_layout(Gk), \n",
        "                 node_color = cent,\n",
        "                 cmap = plt.cm.plasma,\n",
        "                 with_labels = False)\n",
        "plt.title('Closeness Centrality')\n",
        "plt.axis('off');"
      ],
      "execution_count": null,
      "outputs": []
    },
    {
      "cell_type": "markdown",
      "metadata": {},
      "source": [
        "In this graph, most nodes are close to most other nodes.   \n",
        "\n",
        "However we can see that some nodes are slightly more central than others."
      ]
    },
    {
      "cell_type": "code",
      "metadata": {
        "hide_input": true,
        "tags": [
          "hide-input"
        ]
      },
      "source": [
        "plt.figure(figsize = (6, 4))\n",
        "plt.hist(cent, bins=np.linspace(0, 1, 30))\n",
        "plt.xlabel('Closeness Centrality', size = 14)\n",
        "plt.ylabel('Number of Nodes', size = 14)\n",
        "plt.title('Distribution of Closeness Centrality', size = 16);"
      ],
      "execution_count": null,
      "outputs": []
    },
    {
      "cell_type": "markdown",
      "metadata": {},
      "source": [
        "### Betweenness Centrality\n",
        "\n",
        "Another way to think about centrality is \"is the node on many paths?\"\n",
        "\n",
        "If we picture the network as a conduit for information, then betweenness captures how important a node is to the communication process (or \"how much\" information passes through the node).\n",
        "\n",
        "First, let's consider the case in which there is only one shortest path between any pair of nodes.\n",
        "\n",
        "Then, the betweenness centrality of node $i$ is the __number of shortest paths that pass through $i$.__\n",
        "\n",
        "Mathematically:\n",
        "\n",
        "$$ \\text{betweenness}(i) = \\sum_{i \\neq j \\neq k \\in V} \\left\\{\\begin{array}{ll}1&\\text{if path from }j\\text{ to }k\\text{ goes through }i\\\\0&\\text{otherwise}\\end{array}\\right. $$\n",
        "\n",
        "We can convert this to a value between 0 and 1 by dividing by ${n \\choose 2} = n(n-1)/2$.\n",
        "\n",
        "Now, in a general graph, there may be __multiple__ shortest paths between $j$ and $k$.  \n",
        "\n",
        "To handle this, we define:\n",
        "* $\\sigma(i \\mid j,k)$ is the number of shortest paths between $j$ and $k$ that pass through $i$, and \n",
        "* $\\sigma(j,k)$ is the total number of shortest paths between $j$ and $k$.\n",
        "\n",
        "Then we define the _dependency_ of $i$ on the paths between $j$ and $k$:\n",
        "\n",
        "$$ \\text{dependency}(i \\mid j,k) = \\frac{\\sigma(i \\mid j,k )}{\\sigma(j,k)} $$\n",
        "\n",
        "You can think of this as \"the probability that a shortest path between $j$ and $k$ goes through $i$.\"\n",
        "\n",
        "And finally:\n",
        "    \n",
        "$$ \\text{betweenness}(i) = \\sum_{i \\neq j \\neq k \\in V} \\text{dependency}(i \\mid j, k) $$"
      ]
    },
    {
      "cell_type": "code",
      "metadata": {
        "hide_input": true,
        "slideshow": {
          "slide_type": "fragment"
        },
        "tags": [
          "hide-input"
        ]
      },
      "source": [
        "Gk = nx.karate_club_graph()\n",
        "cent = list(nx.betweenness_centrality(Gk).values())\n",
        "np.random.seed(9)\n",
        "fig = plt.figure(figsize = (12, 6))\n",
        "ax1 = fig.add_subplot(121)\n",
        "nx.draw_networkx(Gk, ax = ax1, pos = nx.circular_layout(Gk), \n",
        "                 node_color = cent,\n",
        "                 cmap = plt.cm.plasma,\n",
        "                 with_labels = False)\n",
        "plt.title('Betweenness Centrality')\n",
        "plt.axis('off')\n",
        "ax2 = fig.add_subplot(122)\n",
        "nx.draw_networkx(Gk, ax = ax2, pos = nx.spring_layout(Gk), \n",
        "                 node_color = cent,\n",
        "                 cmap = plt.cm.plasma,\n",
        "                 with_labels = False)\n",
        "plt.title('Betweenness Centrality')\n",
        "plt.axis('off');"
      ],
      "execution_count": null,
      "outputs": []
    },
    {
      "cell_type": "markdown",
      "metadata": {},
      "source": [
        "We start to see with this metric the \"importance\" of two or three key members of the karate club.\n",
        "\n",
        "Note that many nodes will have a betweenness centrality of zero -- no shortest paths go through them."
      ]
    },
    {
      "cell_type": "code",
      "metadata": {
        "hide_input": true,
        "slideshow": {
          "slide_type": "fragment"
        },
        "tags": [
          "hide-input"
        ]
      },
      "source": [
        "plt.figure(figsize = (6, 4))\n",
        "plt.hist(cent, bins=np.linspace(0, 1, 30))\n",
        "plt.xlabel('Betweenness Centrality', size = 14)\n",
        "plt.ylabel('Number of Nodes', size = 14)\n",
        "plt.title('Distribution of Betweenness Centrality', size = 16);"
      ],
      "execution_count": null,
      "outputs": []
    },
    {
      "cell_type": "markdown",
      "metadata": {},
      "source": [
        "### Adjacency Matrices\n",
        "\n",
        "To define the next centrality, we need to start thinking about graphs as __matrices.__\n",
        "\n",
        "Given an $n$-node undirected graph $G = (V, E)$, its adjacency matrix $A$ is defined as:\n",
        "\n",
        "$$ A_{ij} = \\left\\{ \\begin{array}{ll}1 & \\text{if }(i, j) \\in E\\\\\n",
        "                                    0 & \\text{otherwise} \\\\\n",
        "    \\end{array}\\right. $$\n",
        "\n",
        "Here is what the adjacency matrix of the karate club graph looks like:"
      ]
    },
    {
      "cell_type": "code",
      "metadata": {
        "hide_input": true,
        "slideshow": {
          "slide_type": "-"
        },
        "tags": [
          "hide-input"
        ]
      },
      "source": [
        "from PIL import Image, ImageFont, ImageDraw\n",
        "from contextlib import contextmanager\n",
        "\n",
        "@contextmanager\n",
        "def show_complete_array():\n",
        "    oldoptions = np.get_printoptions()\n",
        "    np.set_printoptions(threshold = np.inf)\n",
        "    np.set_printoptions(linewidth = 200)\n",
        "    try:\n",
        "        yield\n",
        "    finally:\n",
        "        np.set_printoptions(**oldoptions)\n",
        "        \n",
        "A = nx.adjacency_matrix(Gk).astype('int').todense()\n",
        "with show_complete_array():\n",
        "    img = Image.new('RGB', (440, 530), color = (255,255,255))\n",
        "    #fnt = ImageFont.truetype(\"Pillow/Tests/fonts/FreeMono.ttf\", 30)\n",
        "    ImageDraw.Draw(img).text((0,0), str(A), fill=(0,0,0))\n",
        "img"
      ],
      "execution_count": null,
      "outputs": []
    },
    {
      "cell_type": "markdown",
      "metadata": {},
      "source": [
        "An important way to think about adjacency matrices: __column $j$ holds $j$'s neighbors.__\n",
        "\n",
        "Note that the adjacency matrix has some important algebraic properties:\n",
        "* It is nonnegative, and \n",
        "* It is symmetric.\n",
        "\n",
        "### Status Centrality\n",
        "\n",
        "The third notion of centrality is more subtle.   \n",
        "\n",
        "In this context, one often talks of \"prestige\" rather than \"centrality.\"  But the concepts are related.\n",
        "\n",
        "The idea of status centrality is that __\"high status\" nodes are those that are connected to \"high status\" nodes.__\n",
        "\n",
        "If you think this definition is circular, you are right!\n",
        "\n",
        "Nonetheless, it leads to some metrics that are quite well defined and not hard to compute.\n",
        "\n",
        "Let's make this definition more precise: __the centrality of a node is proportional to the sum of the centrality of its neighbors.__\n",
        "\n",
        "Then we would say that:\n",
        "    \n",
        "$$ \\mathbf{e}_i = 1/\\lambda \\sum_{(i, j) \\in E} \\mathbf{e}_j $$\n",
        "\n",
        "This encodes our recursive definition for $\\mathbf{e}_i$, based on a calculation that may or may not converge, depending on $\\lambda.$\n",
        "\n",
        "Now, we can write this equation in terms of the adjacency matrix $A$:\n",
        "    \n",
        "$$ \\mathbf{e}_i = 1/\\lambda \\sum_j A_{ij} \\mathbf{e}_j $$\n",
        "\n",
        "Notice that this is just the definition of a matrix-vector multiplication.   \n",
        "\n",
        "So we can write even more concisely:\n",
        "    \n",
        "$$ A\\mathbf{e} = \\lambda\\mathbf{e} $$\n",
        "\n",
        "... which means that $\\mathbf{e}$ must be an eigenvector of $A$.\n",
        "\n",
        "For this reason, status centrality is often called __eigenvector centrality.__\n",
        "\n",
        "Which eigenvector of $A$ should we choose?   \n",
        "\n",
        "Let's assume that the graph $G$ is connected.\n",
        "\n",
        "Then there is a good argument for choosing the largest eigenvalue of $A$, in which case all of the entries in $\\mathbf{e}$ will be nonnegative.\n",
        "\n",
        "(This fact comes from the Perron-Frobenius theorem, which tells us that if $G$ is connected, then the largest eigenvalue of $A$ is positive and the corresponding eigenvector is nonnegative.)"
      ]
    },
    {
      "cell_type": "code",
      "metadata": {
        "hide_input": true,
        "slideshow": {
          "slide_type": "fragment"
        },
        "tags": [
          "hide-input"
        ]
      },
      "source": [
        "Gk = nx.karate_club_graph()\n",
        "cent = list(nx.eigenvector_centrality(Gk).values())\n",
        "np.random.seed(9)\n",
        "fig = plt.figure(figsize = (12, 6))\n",
        "ax1 = fig.add_subplot(121)\n",
        "nx.draw_networkx(Gk, ax = ax1, pos = nx.circular_layout(Gk), \n",
        "                 node_color = cent,\n",
        "                 cmap = plt.cm.plasma,\n",
        "                 with_labels = False)\n",
        "plt.title('Eigenvector Centrality')\n",
        "plt.axis('off')\n",
        "ax2 = fig.add_subplot(122)\n",
        "nx.draw_networkx(Gk, ax = ax2, pos = nx.spring_layout(Gk), \n",
        "                 node_color = cent,\n",
        "                 cmap = plt.cm.plasma,\n",
        "                 with_labels = False)\n",
        "plt.title('Eigenvector Centrality')\n",
        "plt.axis('off');"
      ],
      "execution_count": null,
      "outputs": []
    },
    {
      "cell_type": "code",
      "metadata": {
        "hide_input": true,
        "slideshow": {
          "slide_type": "fragment"
        },
        "tags": [
          "hide-input"
        ]
      },
      "source": [
        "plt.figure(figsize = (6, 4))\n",
        "plt.hist(cent, bins=np.linspace(0, 1, 30))\n",
        "plt.xlabel('Eigenvector Centrality', size = 14)\n",
        "plt.ylabel('Number of Nodes', size = 14)\n",
        "plt.title('Distribution of Eigenvector Centrality', size = 16);"
      ],
      "execution_count": null,
      "outputs": []
    },
    {
      "cell_type": "markdown",
      "metadata": {},
      "source": [
        "As a more detailed example, we can ask whether this definition of \"prestige\" applies to NCAA Division 1A football teams, based on who they play against.\n",
        "\n",
        "(Remember this data is from 2000!)"
      ]
    },
    {
      "cell_type": "code",
      "metadata": {
        "hide_input": true,
        "slideshow": {
          "slide_type": "fragment"
        },
        "tags": [
          "hide-input"
        ]
      },
      "source": [
        "# data from http://www-personal.umich.edu/~mejn/netdata/\n",
        "football = nx.readwrite.gml.read_gml('data/football.gml')\n",
        "ec = nx.eigenvector_centrality(football)\n",
        "cent = [ec[i] for i in football.nodes()]\n",
        "np.random.seed(1)\n",
        "fig = plt.figure(figsize = (14, 14))\n",
        "nx.draw_networkx(football, \n",
        "                 pos = nx.spring_layout(football), \n",
        "                 node_color = cent,\n",
        "                 cmap = plt.cm.plasma)\n",
        "plt.title('Eigenvector Centrality on Football Network')\n",
        "plt.axis('off');"
      ],
      "execution_count": null,
      "outputs": []
    },
    {
      "cell_type": "markdown",
      "metadata": {},
      "source": [
        "So let's compare the three versions of centrality we've looked at:"
      ]
    },
    {
      "cell_type": "code",
      "metadata": {
        "hide_input": true,
        "tags": [
          "hide-input"
        ]
      },
      "source": [
        "Gk = nx.karate_club_graph()\n",
        "fn = [nx.closeness_centrality, nx.betweenness_centrality, nx.eigenvector_centrality]\n",
        "title = ['Closeness Centrality', 'Betweenness Centrality', 'Eigenvector Centrality']\n",
        "#\n",
        "fig, axs = plt.subplots(2, 3, figsize = (14, 8))\n",
        "for i in range(3):\n",
        "    cent = list(fn[i](Gk).values())\n",
        "    np.random.seed(9)\n",
        "    nx.draw_networkx(Gk, ax = axs[0, i], \n",
        "                 pos = nx.spring_layout(Gk), \n",
        "                 node_color = cent,\n",
        "                 cmap = plt.cm.plasma,\n",
        "                 with_labels = False)\n",
        "    axs[0, i].set_title(title[i], size = 14)\n",
        "    axs[0, i].axis('off')\n",
        "    #\n",
        "    axs[1, i].hist(cent, bins=np.linspace(0, 1, 30))\n",
        "    axs[1, i].set_ylim([0, 27])\n",
        "    axs[1, i].set_xlabel(title[i], size = 14)\n",
        "axs[1, 0].set_ylabel('Number of Nodes', size = 14);"
      ],
      "execution_count": null,
      "outputs": []
    },
    {
      "cell_type": "code",
      "metadata": {
        "slideshow": {
          "slide_type": "skip"
        },
        "tags": [
          "hide-input"
        ]
      },
      "source": [
        "# consider discussing node ranking\n",
        "# this is a fun paper: http://stat.wharton.upenn.edu/~steele/Courses/956/Ranking/RankingFootballSIAM93.pdf\n",
        "# cite: https://epubs.siam.org/doi/10.1137/1035004\n",
        "# The Perron–Frobenius Theorem and the Ranking of Football Teams\n",
        "# and there is useful data here: https://www.sports-reference.com/cfb/years/2020-schedule.html"
      ],
      "execution_count": null,
      "outputs": []
    },
    {
      "cell_type": "markdown",
      "metadata": {},
      "source": [
        "## Clustering and Partitioning\n",
        "\n",
        "We now turn to the question of finding important __groups__ of nodes.\n",
        "\n",
        "Why might we want to cluster graph nodes?\n",
        "\n",
        "* Assiging computations to processors in a parallel computer\n",
        "* Segmenting images (finding boundaries between objects)\n",
        "* Clustering words found together in documents, or documents with similar words\n",
        "* Divide and conquer algorithms\n",
        "* Circuit layout in VLSI\n",
        "* Community detection in social networks\n",
        "\n",
        "### Min $s$-$t$ cut\n",
        "\n",
        "We'll start with a problem that is fundamental to many other problems in graph analysis.\n",
        "\n",
        "Let's say we have a graph $G$ and two nodes in mind, $s$ and $t$.  \n",
        "\n",
        "We would like to __isolate__ $s$ from $t$.  What is the cheapest way to do it?\n",
        "\n",
        "<!-- Image credit: On the history of the transportation and maximum flow problems. -->\n",
        "<!--     Alexander Schrijver in Math Programming, 91: 3, 2002. -->\n",
        "    \n",
        "<center>\n",
        "    \n",
        "<img src=\"figs/L23-max-flow-soviet-rail-1955.png\" width=\"75%\">\n",
        "    \n",
        "</center> \n",
        "\n",
        "```{note}\n",
        "For an interesting historical perspective on the min-cut problem and its relation to the Cold War, see\n",
        " [\"On the history of the transportation and maximum flow problems,\"](https://link.springer.com/article/10.1007%2Fs101070100259) by Alexander Schrijver, in Mathematical Programming 91.3 (2002): 437-445.\n",
        " ```\n",
        "\n",
        "A min $s$-$t$ cut problem is as follows.\n",
        "\n",
        "We are given a weighted graph $G = (V,E)$.\n",
        "\n",
        "An $s$-$t$ cut $C$ of $G$ is a partition of $V$ into $(U, V-U)$ such that $s \\in U$ and $t \\in V-U$.\n",
        "\n",
        "The __cost__ of a cut is the total weight of the edges that go between the two parts:\n",
        "\n",
        "$$ \\text{Cost}(C) = \\sum_{e(u,v),\\, u\\in U,\\, v\\in V-U} w(e)$$\n",
        "\n",
        "This is a very famous problem that can be solved in time that is polynomial in $|V|$ and $|E|$. \n",
        "\n",
        "Increasingly better solutions have been found over the past 60+ years.  \n",
        "\n",
        "What can a min $s$-$t$ cut tell us about a graph?\n",
        "\n",
        "Let's look at the karate club, in which I've highlighted the president and the instructor:  "
      ]
    },
    {
      "cell_type": "code",
      "metadata": {
        "hide_input": true,
        "tags": [
          "hide-input"
        ]
      },
      "source": [
        "G=nx.karate_club_graph()\n",
        "np.random.seed(9)\n",
        "pos = nx.spring_layout(G)\n",
        "cut_edges = nx.minimum_edge_cut(G, s=0, t=33)\n",
        "#\n",
        "fig = plt.figure(figsize=(12,6))\n",
        "node_color = 34 * ['skyblue']\n",
        "node_color[0] = 'tomato'\n",
        "node_color[33] = 'dodgerblue'\n",
        "nx.draw_networkx(G, pos=pos, \n",
        "                 with_labels=True, node_size=1000,\n",
        "                 node_color = node_color,\n",
        "                 font_size=16)\n",
        "plt.axis('off');"
      ],
      "execution_count": null,
      "outputs": []
    },
    {
      "cell_type": "markdown",
      "metadata": {},
      "source": [
        "As mentioned, when Wayne Zachary studied the club, a conflict arose between the instructor and the president (nodes 0 and 33).  \n",
        "\n",
        "Zachary predicted the way the club would split based on an $s$-$t$ min cut.   \n",
        "\n",
        "In fact, he __correctly__ predicted every single member's eventual association except for node 8!"
      ]
    },
    {
      "cell_type": "code",
      "metadata": {
        "hide_input": true,
        "tags": [
          "hide-input"
        ]
      },
      "source": [
        "Gcopy = G.copy()\n",
        "Gcopy.remove_edges_from(cut_edges)\n",
        "cc = nx.connected_components(Gcopy)\n",
        "node_set = {node: i for i, s in enumerate(cc) for node in s}\n",
        "colors = ['dodgerblue', 'tomato']\n",
        "node_colors = [colors[node_set[v]-1] for v in G.nodes()]\n",
        "fig = plt.figure(figsize=(12,6))\n",
        "nx.draw_networkx(G, node_color=node_colors, pos=pos, \n",
        "                 with_labels='True', node_size=1000, font_size=16)\n",
        "plt.axis('off');"
      ],
      "execution_count": null,
      "outputs": []
    },
    {
      "cell_type": "markdown",
      "metadata": {},
      "source": [
        "### Minimum Cuts\n",
        "\n",
        "Now, in partitioning a graph, we may not have any particular $s$ and $t$ in mind.  \n",
        "\n",
        "Rather, we may want to simply find the \"cheapest\" way to disconnect the graph.\n",
        "\n",
        "Clearly, we can do this using $s$-$t$ min cut, by simply trying all $s$ and $t$ pairs.\n",
        "\n",
        "<center>\n",
        "    \n",
        "<img src=\"figs/L23-min-cut.png\" width=\"35%\">\n",
        "    \n",
        "</center> \n",
        "\n",
        "Let's try this approach of finding the minimum $s-t$ cut over all possibilities in the karate club graph:"
      ]
    },
    {
      "cell_type": "code",
      "metadata": {
        "hide_input": true,
        "slideshow": {
          "slide_type": "fragment"
        },
        "tags": [
          "hide-input"
        ]
      },
      "source": [
        "Gcopy = G.copy()\n",
        "Gcopy.remove_edges_from(nx.minimum_edge_cut(G))\n",
        "cc = nx.connected_components(Gcopy)\n",
        "node_set = {node: i for i, s in enumerate(cc) for node in s}\n",
        "#\n",
        "colors = ['tomato', 'dodgerblue']\n",
        "node_colors = [colors[node_set[v]] for v in G]\n",
        "fig = plt.figure(figsize=(12,6))\n",
        "nx.draw_networkx(G, node_color=node_colors, pos=pos, with_labels='True', \n",
        "                 node_size=1000, font_size=16)\n",
        "plt.axis('off');"
      ],
      "execution_count": null,
      "outputs": []
    },
    {
      "cell_type": "markdown",
      "metadata": {},
      "source": [
        "This is in fact the minimum cut: node 11 only has one edge to the rest of the graph, so the min cut is 1.\n",
        "\n",
        "As this example shows, minimum cut is not, in general, a good approach for clustering or partitioning.\n",
        "\n",
        "To get a more useful partition, we need to define a new goal:  finding a __balanced cut.__\n",
        "\n",
        "### Balanced Cuts\n",
        "\n",
        "The idea to avoid the problem above is to normalize the cut by the size of the __smaller__ of the two components.\n",
        "\n",
        "The problem above would be avoided because the smaller of the two cuts is just a single node.\n",
        "\n",
        "This leads us to define the __isoperimetric ratio__:\n",
        "    \n",
        "$$ \\alpha = \\frac{E(U, V\\setminus U)}{\\min(|U|, |V\\setminus U|)} $$\n",
        "\n",
        "And the __isoperimetric number of G:__\n",
        "    \n",
        "$$ \\alpha(G) = \\min_U \\frac{E(U, V\\setminus U)}{\\min(|U|, |V\\setminus U|)} $$\n",
        "\n",
        "The idea is that finding $\\alpha(G)$ gives a _balanced cut_ -- one that maximizes the number of disconnected nodes per edge removed.\n",
        "\n",
        "How easily can we compute this?  \n",
        "\n",
        "Unfortunately, it's not computable in polynomial time.\n",
        "\n",
        "However, we can make good approximations, which we'll look at now.\n",
        "\n",
        "To do so, we'll return to using linear algebra for graphs, and introduce __spectral graph theory.__\n",
        "\n",
        "## Spectral Graph Theory\n",
        "\n",
        "```{note}\n",
        "If you want to study this in more detail, some excellent references are\n",
        "* [Allow Me to Introduce\n",
        "Spectral and Isoperimetric Graph Partitioning](https://people.eecs.berkeley.edu/~jrs/papers/partnotes.pdf) by Jonathan Shewchuck, which has outstanding visualizations and physical intuition.\n",
        "* [Spectral and Algebraic Graph Theory](http://cs-www.cs.yale.edu/homes/spielman/sagt/sagt.pdf) by Daniel Spielman which provides proofs and much more detail.\n",
        "```\n",
        "\n",
        "Spectral graph theory is the use of linear algebra to study the properties of graphs.\n",
        "\n",
        "To introduce spectral graph theory, we define some terms.\n",
        "\n",
        "For a undirected graph $G$ having $n$ nodes, we define the $n\\times n$ matrix $D$ as a diagonal matrix of node degrees.\n",
        "\n",
        "I.e., $D = \\text{diag}(d_1, d_2, d_3, \\dots)$ where $d_i$ is the degree of node $i$.\n",
        "\n",
        "Then assuming $G$ has adjacency matrix $A$, we define the __Laplacian__ of $G$ as:\n",
        "\n",
        "$$ L = D - A $$\n",
        "\n",
        "Here is the Laplacian matrix $L$ for the karate club network, shown as a heatmap:"
      ]
    },
    {
      "cell_type": "code",
      "metadata": {
        "hide_input": true,
        "tags": [
          "hide-input"
        ]
      },
      "source": [
        "L = nx.laplacian_matrix(nx.karate_club_graph()).todense()\n",
        "plt.figure(figsize = (7, 7))\n",
        "sns.heatmap(L, cmap = plt.cm.tab20)\n",
        "plt.axis('equal')\n",
        "plt.axis('off');"
      ],
      "execution_count": null,
      "outputs": []
    },
    {
      "cell_type": "markdown",
      "metadata": {},
      "source": [
        "Now let us think about an $n$-component vector $\\mathbf{x} \\in \\mathbb{R}^n$ as an __assignment of values__ to nodes in the graph $G$.   \n",
        "\n",
        "For example, $\\mathbf{x}$ could encode node \"importance\" or \"strength\" or even a more concrete notion like \"temperature\" or \"altitude.\"\n",
        "\n",
        "Then here is an amazing fact about the Laplacian of $G$.\n",
        "\n",
        "(For a proof you can see the notes.)\n",
        "    \n",
        "The quadratic form\n",
        "\n",
        "$$ \\mathbf{x}^TL\\mathbf{x}$$\n",
        "\n",
        "is exactly the same as\n",
        "\n",
        "$$  \\sum_{(i,j)\\in E} (x_i - x_j)^2 $$\n",
        "\n",
        "```{note}\n",
        "To see that \n",
        "\n",
        "$$ \\mathbf{x}^TL\\mathbf{x} = \\sum_{(i,j)\\in E} (x_i - x_j)^2, $$\n",
        "\n",
        "first consider $\\mathbf{x}^TL\\mathbf{x}$.  Writing out the quadratic form explicitly, we have that\n",
        "\n",
        "$$ \\mathbf{x}^TL\\mathbf{x} = \\sum_{i, j} L_{ij}x_i x_j. $$\n",
        "\n",
        "Now, taking into account the values in $L$, we see that in the sum we will have the term $d_i x_i^2$ for each $i$, and also 2 terms of $-x_ix_j$ whenever $(i,j)\\in E$.  \n",
        "\n",
        "Turning to \n",
        "\n",
        "$$\\sum_{(i,j)\\in E} (x_i - x_j)^2 = \\sum_{(i,j)\\in E} x_i^2 - 2x_ix_j + x_j^2, $$\n",
        "\n",
        "we have the same set of terms in the sum. \n",
        "```\n",
        "\n",
        "That is, the quadratic form $ \\mathbf{x}^TL\\mathbf{x}$ is the sum of squared differences of $\\mathbf{x}$ __over the edges in $G$.__\n",
        "\n",
        "In other words, \"When nodes have the values in $\\mathbf{x}$, how much do __adjacent__ nodes vary?\"\n",
        "\n",
        "Now, let's think about vectors $\\mathbf{x}$ that __minimize__ the differences over the edges in the graph.\n",
        "\n",
        "We can think of these as \"smooth\" functions on the graph -- neighboring nodes don't differ too much.\n",
        "\n",
        "To find such \"smooth\" vectors, we would solve this optimization:\n",
        "\n",
        "$$ \\min_{\\Vert \\mathbf{x}\\Vert = 1}\\sum_{(i,j)\\in E} (x_i - x_j)^2 $$\n",
        "\n",
        "We constrain $\\mathbf{x}$ to have a nonzero norm, otherwise $\\mathbf{x} = \\mathbf{0}$ would be a trivial solution.\n",
        "\n",
        "But we can express this in terms of the graph Laplacian:\n",
        "\n",
        "$$ \\min_{\\Vert \\mathbf{x}\\Vert = 1}\\sum_{(i,j)\\in E} (x_i - x_j)^2 = \\min_{\\Vert \\mathbf{x}\\Vert = 1} \\mathbf{x}^TL\\mathbf{x} $$\n",
        "\n",
        "Now, we know how to solve this constrained minimization!\n",
        "\n",
        "From linear algebra, we know that when\n",
        "\n",
        "$$ \\lambda = \\min_{\\Vert \\mathbf{x}\\Vert = 1} \\mathbf{x}^TL\\mathbf{x} $$\n",
        "\n",
        "then $\\lambda$ is the __smallest eigenvalue of $L$__ and $\\mathbf{x}$ is the corresponding eigenvector.\n",
        "\n",
        "So ... we are connecting functions on the graph $G$ with eigenvectors of the matrix $L$.   \n",
        "\n",
        "Quite remarkable!\n",
        "\n",
        "Well, what do we know about $L$?\n",
        "\n",
        "1. $L$ is __symmetric.__  Therefore the eigenvectors of $L$ are orthogonal and its eigenvalues are real.\n",
        "2. $L$ is __positive semidefinite.__  Therefore the eigenvalues of $L$ are all positive or zero.  (For a proof see the notes.)\n",
        "\n",
        "We can order the eigenvalues from largest to smallest $\\lambda_n  \\geq \\dots \\geq \\lambda_2 \\geq \\lambda_1 \\geq 0.$\n",
        "\n",
        "```{note}\n",
        "How do we know that $L$ is positive semidefinite?\n",
        "\n",
        "Consider $ \\sum_{(i,j)\\in E} (x_i - x_j)^2.$  \n",
        "\n",
        "This is always a nonnegative quantity.\n",
        "\n",
        "So $\\mathbf{x}^T L\\mathbf{x} \\geq 0$ for all $\\mathbf{x}$, which is in fact the definition of positive-semidefiniteness.\n",
        "```\n",
        "\n",
        "Next, let's assume that $G$ is connected.\n",
        "\n",
        "Then $L$ has a single eigenvalue of value $\\lambda_1 = 0$.   The corresponding eigenvector is $\\mathbf{w}_1 = \\mathbf{1} = [1, 1, 1, \\dots]^T$.\n",
        "\n",
        "This is easily seen:\n",
        "\n",
        "$$L{\\mathbf 1}={\\mathbf 0}.$$\n",
        "\n",
        "Recall that row $i$ of $L$ consists of $d_i$ on the diagonal, and $d_i$ -1s in other positions.\n",
        "\n",
        "The second-smallest eigenvalue of $L$, $\\lambda_2$, is called the __Fiedler value.__\n",
        "\n",
        "We know that all of the other eigenvectors of $L$ are orthogonal to $\\mathbf 1$, because $L$ is symmetric.\n",
        "\n",
        "Because of that, a definition of the second smallest eigenvalue is: \n",
        "\n",
        "$$\\lambda_2 = \\min_{\\Vert \\mathbf{x}\\Vert = 1, \\;\\mathbf{x}\\perp {\\mathbf 1}} \\mathbf{x}^TL\\mathbf{x}$$\n",
        "\n",
        "Note that another way of saying that $\\mathbf{x} \\perp {\\mathbf 1}$ is that the entries of $\\mathbf{x}$ sum to 0.\n",
        "\n",
        "In other words, $\\mathbf{x}$ is __mean-centered__ or __zero-mean.__\n",
        "\n",
        "The corresponding eigenvector is called the __Fiedler vector.__\n",
        "\n",
        "It minimizes:\n",
        "\n",
        "$$\\mathbf{w}_2 = \\arg \\min_{\\Vert \\mathbf{x}\\Vert=1,\\;\\mathbf{x}\\perp {\\mathbf 1}} \\sum_{(i,j)\\in E} (x_i - x_j)^2$$\n",
        "\n",
        "Let's look at this closely: \n",
        "\n",
        "if we think of $x_i$ as a 1-D \"coordinate\" for node $i$ in the graph, \n",
        "\n",
        "then choosing $\\mathbf{x} = \\mathbf{w}_2$ (the eigenvector corresponding to $\\lambda_2$) puts each node in a position that minimizes the sum of the \"squared stretching\" of each edge.\n",
        "\n",
        "Now, perhaps you recall that the energy in a stretched spring is proportional to the square of its stretched length.  \n",
        "\n",
        "So imagine that we use the entries in $\\mathbf{w}_2$ to position the nodes of the graph along a single dimension.\n",
        "\n",
        "Then using the Fiedler vector $\\mathbf{w}_2$ for node coordinates is __exactly the spring layout__ of nodes that we discussed in the last lecture -- __except that it is in one dimension only.__\n",
        "\n",
        "This is the basis for the __spectral layout__ that we showed in the last lecture.\n",
        "\n",
        "In spectral layout, we use $\\mathbf{w}_2$ for the first dimension, and $\\mathbf{w}_3$ for the second dimension.\n",
        "\n",
        "$\\mathbf{w}_3$ is the eigenvector corresponding to \n",
        "\n",
        "$$\\lambda_3 = \\min_{\\Vert \\mathbf{x}\\Vert = 1, \\;\\mathbf{x}\\perp \\{\\mathbf{1}, \\mathbf{w}_2\\}} \\mathbf{x}^TL\\mathbf{x}$$\n",
        "\n",
        "Let's look again at layouts for the football network:"
      ]
    },
    {
      "cell_type": "code",
      "metadata": {
        "hide_input": true,
        "tags": [
          "hide-input"
        ]
      },
      "source": [
        "plt.figure(figsize = (12, 6))\n",
        "ax1 = plt.subplot(121)\n",
        "nx.draw_networkx(football, ax = ax1,\n",
        "                 node_size=35, \n",
        "                 edge_color='gray', \n",
        "                 pos = nx.spectral_layout(football),\n",
        "                 with_labels=False, alpha=.8, linewidths=2)\n",
        "plt.axis('off')\n",
        "plt.title('Title 1 Football -- Spectral Layout', size = 16)\n",
        "ax2 = plt.subplot(122)\n",
        "nx.draw_networkx(football, ax = ax2,\n",
        "                 node_size=35, \n",
        "                 edge_color='gray', \n",
        "                 pos = nx.spring_layout(football, seed = 0),\n",
        "                 with_labels=False, alpha=.8, linewidths=2)\n",
        "plt.axis('off')\n",
        "plt.title('Title 1 Football -- Spring Layout', size = 16);"
      ],
      "execution_count": null,
      "outputs": []
    },
    {
      "cell_type": "markdown",
      "metadata": {},
      "source": [
        "So what is the difference between the spectral layout and the spring layout?\n",
        "\n",
        "In one dimension, they are the same, but in multiple dimensions, spectral layout optimizes each dimension separately.\n",
        "\n",
        "### Spectral Partitioning\n",
        "\n",
        "This leads to key ideas in node partitioning.\n",
        "\n",
        "The basic idea is to partition nodes according to the Fiedler vector $\\mathbf{w}_2$.\n",
        "\n",
        "This can be shown to have provably good performance for the __balanced cut__ problem.\n",
        "\n",
        "```{note}\n",
        "See [Spectral and Algebraic Graph Theory](http://cs-www.cs.yale.edu/homes/spielman/sagt/sagt.pdf) by Daniel Spielman, Chapter 20, where it is proved that for every $U \\subset V$ with $|U| \\leq |V|/2$, $\\alpha(G) \\geq \\lambda_2 (1-s)$ where $s = |U|/|V|$.   In particular, $\\alpha(G) \\geq \\lambda_2/2.$\n",
        "```\n",
        "\n",
        "There are a number of options for how to split based on the Fiedler vector.\n",
        "\n",
        "If $\\mathbf{w}_2$ is the Fiedler vector, then split nodes according to a value $s$:\n",
        "    \n",
        "* bisection: $s$ is the median value in $\\mathbf{w}_2$\n",
        "* ratio cut: $s$ is the value that maximizes $\\alpha$\n",
        "* sign: separate positive and negative vaues ($s = 0$)\n",
        "* gap: separate according to the largest gap in the values of $\\mathbf{w}_2$\n",
        "\n",
        "Here is a spectral parititioning for the karate club graph:"
      ]
    },
    {
      "cell_type": "code",
      "metadata": {
        "hide_input": true,
        "tags": [
          "hide-input"
        ]
      },
      "source": [
        "G = nx.karate_club_graph()\n",
        "f = nx.fiedler_vector(G)\n",
        "s = np.zeros(len(f), dtype='int')\n",
        "s[f > 0] = 1\n",
        "#\n",
        "fig = plt.figure(figsize=(12,6))\n",
        "colors = ['tomato', 'dodgerblue']\n",
        "np.random.seed(9)\n",
        "pos = nx.spring_layout(G)\n",
        "node_colors = [colors[s[v]] for v in G]\n",
        "nx.draw_networkx(G, pos=pos, node_color=node_colors, with_labels='True',\n",
        "        node_size=1000, font_size=16)\n",
        "plt.axis('off');"
      ],
      "execution_count": null,
      "outputs": []
    },
    {
      "cell_type": "markdown",
      "metadata": {},
      "source": [
        "Interestingly, this is almost the same as the $s$-$t$ min cut  based on the president and instructor!\n",
        "\n",
        "### Spectral Clustering\n",
        "\n",
        "In many cases we would like to move beyond graph partitioning, to allow for clustering nodes into, say, $k$ clusters.\n",
        "\n",
        "The idea of spectral clustering takes the observations about the Fiedler vector and extends them to more than one dimension.\n",
        "\n",
        "Let's look again at the spectral layout of the football dataset.  \n",
        "\n",
        "Here we've labelled the nodes according to their conference, which we will think of as ground-truth labels."
      ]
    },
    {
      "cell_type": "code",
      "metadata": {
        "hide_input": true,
        "tags": [
          "hide-input"
        ]
      },
      "source": [
        "import matplotlib.patches as mpatches\n",
        "import re\n",
        "cmap = plt.cm.tab20\n",
        "#\n",
        "# data from http://www-personal.umich.edu/~mejn/netdata/\n",
        "football = nx.readwrite.gml.read_gml('data/football.gml')\n",
        "conf_name = {}\n",
        "with open('data/football.txt', 'r') as fp:\n",
        "    for line in fp:\n",
        "        m = re.match('\\s*(\\d+)\\s+=\\s*([\\w\\s-]+)\\s*\\n', line)\n",
        "        if m:\n",
        "            conf_name[int(m.group(1))] = m.group(2)\n",
        "conf = [d['value'] for i, d in football.nodes.data()]\n",
        "#\n",
        "#\n",
        "plt.figure(figsize = (12, 12))\n",
        "nx.draw_networkx(football,\n",
        "                 pos = nx.spectral_layout(football), \n",
        "                 node_color = conf,\n",
        "                 with_labels = False,\n",
        "                 cmap = cmap)\n",
        "plt.title('Conference Membership in Football Network')\n",
        "patches = [mpatches.Patch(color = cmap(i/11), label = conf_name[i]) for i in range(12)]\n",
        "plt.legend(handles = patches)\n",
        "plt.axis('off');"
      ],
      "execution_count": null,
      "outputs": []
    },
    {
      "cell_type": "markdown",
      "metadata": {},
      "source": [
        "Now, the key idea is that using spectral layout, we have placed nodes into a Euclidean space.\n",
        "\n",
        "So ... we could use a __standard clustering algorithm__ in that space."
      ]
    },
    {
      "cell_type": "code",
      "metadata": {
        "hide_input": true,
        "slideshow": {
          "slide_type": "fragment"
        },
        "tags": [
          "hide-input"
        ]
      },
      "source": [
        "plt.figure(figsize = (12, 12))\n",
        "nx.draw_networkx(football,\n",
        "                 pos = nx.spectral_layout(football), \n",
        "                 node_color = conf,\n",
        "                 with_labels = False,\n",
        "                 edgelist = [],\n",
        "                 cmap = cmap)\n",
        "plt.title('Conference Membership in Football Network')\n",
        "patches = [mpatches.Patch(color = cmap(i/11), label = conf_name[i]) for i in range(12)]\n",
        "plt.tick_params(left=True, bottom=True, labelleft=True, labelbottom=True)\n",
        "plt.legend(handles = patches);"
      ],
      "execution_count": null,
      "outputs": []
    },
    {
      "cell_type": "markdown",
      "metadata": {},
      "source": [
        "Now the above plot shows that many clusters are well-separated in this space, but some still overlap.\n",
        "\n",
        "To address this, we can use additional eigenvectors of the Laplacian, ie, $\\mathbf{w}_4, \\mathbf{w}_5, \\dots$.\n",
        "\n",
        "So: the idea of spectral clustering is: \n",
        "* use enough of the smallest eigenvectors of $L$ to sufficiently \"spread out\" the nodes\n",
        "* cluster the nodes in the Euclidean space created by this embedding.\n",
        "\n",
        "More specifically: Given a graph $G$:\n",
        "\n",
        "* Compute $L$, the Laplacian of $G$\n",
        "* Compute the smallest $d$ eigenvectors of $L$, __excluding__ the smallest eigenvector (the ones vector)\n",
        "* Let $U \\in \\mathbb{R}^{n\\times d}$ be the matrix containing the eigenvectors $\\mathbf{w}_2, \\mathbf{w}_3, \\dots, \\mathbf{w}_{d+1}$ as columns\n",
        "* Let the position of each node $i$ be the point in $\\mathbb{R}^d$ given by row $i$ of $U$\n",
        "* Cluster the points into $k$ clusters using $k$-means\n",
        "\n",
        "Let's explore the results of spectral clustering using $d = 2$ dimensions."
      ]
    },
    {
      "cell_type": "code",
      "metadata": {
        "hide_input": true,
        "tags": [
          "hide-input"
        ]
      },
      "source": [
        "# Here is a complete example of spectral clustering\n",
        "#\n",
        "# The number of dimensions of spectral layout\n",
        "k = 2\n",
        "#\n",
        "# Obtain the graph\n",
        "football\n",
        "#\n",
        "# Compute the eigenvectors of its Laplacian\n",
        "L = nx.laplacian_matrix(football).todense()\n",
        "w, v = np.linalg.eig(L)\n",
        "v = np.array(v)\n",
        "# \n",
        "# scale each eigenvector by its eigenvalue\n",
        "X = v @ np.diag(w)\n",
        "#\n",
        "# consider the eigenvectors in increasing order of their eigenvalues\n",
        "w_order = np.argsort(w)\n",
        "X = X[:, w_order]\n",
        "#\n",
        "# run kmeans using k top eigenvectors as coordinates\n",
        "from sklearn.cluster import KMeans\n",
        "kmeans = KMeans(init='k-means++', n_clusters=11 , n_init=10)\n",
        "kmeans.fit_predict(X[:, 1:(k+1)])\n",
        "centroids = kmeans.cluster_centers_\n",
        "labels = kmeans.labels_\n",
        "error = kmeans.inertia_\n",
        "#\n",
        "# visualize the result\n",
        "plt.figure(figsize = (14, 7))\n",
        "ax1 = plt.subplot(121)\n",
        "nx.draw_networkx(football,\n",
        "                 ax = ax1,\n",
        "                 pos = nx.spectral_layout(football), \n",
        "                 node_color = labels,\n",
        "                 with_labels = False,\n",
        "                 edgelist = [],\n",
        "                 cmap = cmap,\n",
        "                 node_size = 100)\n",
        "plt.tick_params(left=True, bottom=True, labelleft=True, labelbottom=True)\n",
        "plt.title(f'Spectral Clustering, 11 Clusters, dimension = {k}')\n",
        "ax2 = plt.subplot(122)\n",
        "nx.draw_networkx(football,\n",
        "                 ax = ax2,\n",
        "                 pos = nx.spectral_layout(football), \n",
        "                 node_color = conf,\n",
        "                 with_labels = False,\n",
        "                 edgelist = [],\n",
        "                 cmap = cmap,\n",
        "                 node_size = 100)\n",
        "plt.title('Conference Membership in Football Network')\n",
        "patches = [mpatches.Patch(color = cmap(i/11), label = conf_name[i]) for i in range(12)]\n",
        "plt.tick_params(left=True, bottom=True, labelleft=True, labelbottom=True)\n",
        "plt.legend(handles = patches, loc='center left', bbox_to_anchor=(1, 0.5));"
      ],
      "execution_count": null,
      "outputs": []
    },
    {
      "cell_type": "markdown",
      "metadata": {},
      "source": [
        "This is pretty good, but we can see that in some cases the clustering is not able to separate clusters that overlap in the visualization.\n",
        "\n",
        "Which makes sense, as for the case $d = 2$, we are running $k$-means on the points just as we see them in the visualization.\n",
        "\n",
        "Let's try $d = 3$.   Now there will be another dimension available to the clustering, which we can't see in the visualization."
      ]
    },
    {
      "cell_type": "code",
      "metadata": {
        "hide_input": true,
        "scrolled": false,
        "tags": [
          "hide-input"
        ]
      },
      "source": [
        "# Here is a complete example of spectral clustering\n",
        "#\n",
        "# The number of dimensions of spectral layout\n",
        "k = 3\n",
        "#\n",
        "#\n",
        "# Compute the eigenvectors of its Laplacian\n",
        "L = nx.laplacian_matrix(football).todense()\n",
        "w, v = np.linalg.eig(L)\n",
        "v = np.array(v)\n",
        "# \n",
        "# scale each eigenvector by its eigenvalue\n",
        "X = v @ np.diag(w)\n",
        "#\n",
        "# consider the eigenvectors in increasing order of their eigenvalues\n",
        "w_order = np.argsort(w)\n",
        "X = X[:, w_order]\n",
        "#\n",
        "# run kmeans using k top eigenvectors as coordinates\n",
        "from sklearn.cluster import KMeans\n",
        "kmeans = KMeans(init='k-means++', n_clusters=11 , n_init=10)\n",
        "kmeans.fit_predict(X[:, 1:(k+1)])\n",
        "centroids = kmeans.cluster_centers_\n",
        "labels = kmeans.labels_\n",
        "error = kmeans.inertia_\n",
        "#\n",
        "# visualize the result\n",
        "plt.figure(figsize = (14, 7))\n",
        "ax1 = plt.subplot(121)\n",
        "nx.draw_networkx(football,\n",
        "                 ax = ax1,\n",
        "                 pos = nx.spectral_layout(football), \n",
        "                 node_color = labels,\n",
        "                 with_labels = False,\n",
        "                 edgelist = [],\n",
        "                 cmap = cmap,\n",
        "                 node_size = 100)\n",
        "plt.tick_params(left=True, bottom=True, labelleft=True, labelbottom=True)\n",
        "plt.title(f'Spectral Clustering, 11 Clusters, dimension = {k}')\n",
        "ax2 = plt.subplot(122)\n",
        "nx.draw_networkx(football,\n",
        "                 ax = ax2,\n",
        "                 pos = nx.spectral_layout(football), \n",
        "                 node_color = conf,\n",
        "                 with_labels = False,\n",
        "                 edgelist = [],\n",
        "                 cmap = cmap,\n",
        "                 node_size = 100)\n",
        "plt.title('Conference Membership in Football Network')\n",
        "patches = [mpatches.Patch(color = cmap(i/11), label = conf_name[i]) for i in range(12)]\n",
        "plt.tick_params(left=True, bottom=True, labelleft=True, labelbottom=True)\n",
        "plt.legend(handles = patches, loc='center left', bbox_to_anchor=(1, 0.5));"
      ],
      "execution_count": null,
      "outputs": []
    },
    {
      "cell_type": "markdown",
      "metadata": {},
      "source": [
        "We can see visually that using 3 dimensions is giving us a better clustering than 2 dimensions.\n",
        "\n",
        "What happens as we increase the dimension further?\n",
        "\n",
        "To evaluate this question we can use Adjusted Rand Index:"
      ]
    },
    {
      "cell_type": "code",
      "metadata": {
        "hide_input": true,
        "tags": [
          "hide-input"
        ]
      },
      "source": [
        "import sklearn.metrics as metrics\n",
        "#\n",
        "# Compute the eigenvectors of its Laplacian\n",
        "L = nx.laplacian_matrix(football).todense()\n",
        "w, v = np.linalg.eig(L)\n",
        "v = np.array(v)\n",
        "# \n",
        "# scale each eigenvector by its eigenvalue\n",
        "X = v @ np.diag(w)\n",
        "#\n",
        "# consider the eigenvectors in increasing order of their eigenvalues\n",
        "w_order = np.argsort(w)\n",
        "X = X[:, w_order]\n",
        "#\n",
        "max_dimension = 15\n",
        "ri = np.zeros(max_dimension - 1)\n",
        "for k in range(1, max_dimension):\n",
        "    # run kmeans using k top eigenvectors as coordinates\n",
        "    kmeans = KMeans(init='k-means++', n_clusters = 11, n_init = 10)\n",
        "    kmeans.fit_predict(X[:, 1:(k+1)])\n",
        "    ri[k - 1] = metrics.adjusted_rand_score(kmeans.labels_, conf)\n",
        "#\n",
        "plt.figure(figsize = (8, 6))\n",
        "plt.plot(range(1, max_dimension), ri, 'o-')\n",
        "plt.xlabel('Number of Dimensions (Eigenvectors)', size = 14)\n",
        "plt.title('Spectral Clustering of Football Network Compared to Known Labels', size = 16)\n",
        "plt.ylabel('Adjusted Rand Index', size = 14);"
      ],
      "execution_count": null,
      "outputs": []
    },
    {
      "cell_type": "markdown",
      "metadata": {},
      "source": [
        "Based on this plot, it looks like the football graph is best described as about six-dimensional.\n",
        "\n",
        "When we embed it in six dimensions and cluster there we get an extremely high Adjusted Rand Index."
      ]
    },
    {
      "cell_type": "code",
      "metadata": {
        "hide_input": true,
        "tags": [
          "hide-input"
        ]
      },
      "source": [
        "print(f'Maximum ARI is {np.max(ri):0.3f}, using {1 + np.argmax(ri)} dimensions for spectral embedding.')"
      ],
      "execution_count": null,
      "outputs": []
    }
  ],
  "metadata": {
    "kernelspec": {
      "name": "python3",
      "language": "python",
      "display_name": "Python 3 (ipykernel)",
      "path": "/Users/tomg/Source/courses/tools4ds/DS701-Course-Notes/.venv/share/jupyter/kernels/python3"
    }
  },
  "nbformat": 4,
  "nbformat_minor": 4
}