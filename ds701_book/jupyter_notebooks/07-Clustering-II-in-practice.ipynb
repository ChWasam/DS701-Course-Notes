{
  "cells": [
    {
      "cell_type": "markdown",
      "metadata": {},
      "source": [
        "---\n",
        "title: Clustering In Practice\n",
        "jupyter: python3\n",
        "---\n",
        "\n",
        "## Clustering in Practice\n",
        "\n",
        "[![](https://colab.research.google.com/assets/colab-badge.svg)](https://colab.research.google.com/github/tools4ds/DS701-Course-Notes/blob/main/ds701_book/jupyter_notebooks/07-Clustering-II-in-practice.ipynb)\n",
        "\n",
        "\n",
        "...featuring $k$-means\n",
        "\n",
        "Today we'll do an extended example showing $k$-means clustering in practice and in the context of the python libraries\n",
        "__`scikit-learn.`__\n",
        "\n",
        "`scikit-learn` is the main python library for machine learning functions.\n",
        "\n",
        "Our goals are to learn:\n",
        "\n",
        "::: {.incremental}\n",
        "* How clustering is used in practice\n",
        "* Tools for evaluating the quality of a clustering\n",
        "* Tools for assigning meaning or labels to a cluster\n",
        "* Important visualizations\n",
        "* A little bit about feature extraction for text\n",
        ":::\n",
        "\n",
        "## Training wheels: Synthetic data\n",
        "\n",
        "Generally, when learning about or developing a new unsupervised method, it's a \n",
        "good idea to try it out on a dataset in which you already know the \"right\" answer.\n",
        "\n",
        "One way to do that is to generate synthetic data that has some known properties.\n",
        " \n",
        "Among other things, `scikit-learn` contains tools for generating synthetic data\n",
        "for testing.\n",
        "\n",
        "We'll use [datasets.make_blobs](https://scikit-learn.org/stable/modules/generated/sklearn.datasets.make_blobs.html)."
      ]
    },
    {
      "cell_type": "code",
      "metadata": {},
      "source": [
        "#| code-fold: false\n",
        "import sklearn.datasets as sk_data\n",
        "X, y, gt_centers = sk_data.make_blobs(n_samples=100, centers=3, n_features=30,\n",
        "                          center_box=(-10.0, 10.0), random_state=0, return_centers=True)"
      ],
      "execution_count": null,
      "outputs": []
    },
    {
      "cell_type": "markdown",
      "metadata": {},
      "source": [
        "Let's check the shapes of the returned values:"
      ]
    },
    {
      "cell_type": "code",
      "metadata": {},
      "source": [
        "#| code-fold: false\n",
        "print(\"X.shape: \", X.shape)\n",
        "print(\"y.shape: \", y.shape)\n",
        "print(\"gt_centers: \", gt_centers.shape)"
      ],
      "execution_count": null,
      "outputs": []
    },
    {
      "cell_type": "markdown",
      "metadata": {},
      "source": [
        "::: {.notes}\n",
        "`datasets.makeblobs` takes as arguments:\n",
        "\n",
        "- `n_samples`: The number of samples to generate\n",
        "- `n_features`: The number of features, or in other words the dimensionality of\n",
        "each sample\n",
        "- `center_box`: The bounds of the cluster centers\n",
        "- `random_state`: The random seed for reproducibility\n",
        "- `return_centers`: A boolean flag, True to return the centers so that we have ground truth\n",
        ":::\n",
        "\n",
        "## Visualize the Data\n",
        "\n",
        "To get a sense of the raw data we can inspect it.\n",
        "\n",
        "For statistical visualization, a good library is [Seaborn](https://seaborn.pydata.org/).\n",
        "\n",
        "Let's plot the `X` data as a matrix\n",
        "[heatmap](https://seaborn.pydata.org/generated/seaborn.heatmap.html), \n",
        "where every row is a data point and the columns are the features."
      ]
    },
    {
      "cell_type": "code",
      "metadata": {},
      "source": [
        "#| fig-align: center\n",
        "import seaborn as sns\n",
        "import matplotlib.pyplot as plt\n",
        "\n",
        "# Set the figure size to make the plot smaller\n",
        "plt.figure(figsize=(7, 5))  # Adjust the width and height as needed\n",
        "sns.heatmap(X, xticklabels = False, yticklabels = False, linewidths = 0, cbar = True)\n",
        "plt.show()"
      ],
      "execution_count": null,
      "outputs": []
    },
    {
      "cell_type": "markdown",
      "metadata": {},
      "source": [
        "---\n",
        "\n",
        ":::: {.columns}\n",
        "::: {.column width=\"40%\"}"
      ]
    },
    {
      "cell_type": "code",
      "metadata": {},
      "source": [
        "#| echo: false\n",
        "import seaborn as sns\n",
        "import matplotlib.pyplot as plt\n",
        "\n",
        "# Set the figure size to make the plot smaller\n",
        "plt.figure(figsize=(4, 3))  # Adjust the width and height as needed\n",
        "sns.heatmap(X, xticklabels = False, yticklabels = False, linewidths = 0, cbar = False)\n",
        "plt.show()"
      ],
      "execution_count": null,
      "outputs": []
    },
    {
      "cell_type": "markdown",
      "metadata": {},
      "source": [
        ":::\n",
        "::: {.column width=\"60%\"}\n",
        "Geometrically, these points live in a __30 dimensional__ space, so we cannot directly visualize their geometry.  \n",
        "\n",
        "This is a __big problem__ that you will run into time and again!\n",
        "\n",
        "We will discuss methods for visualizing high dimensional data later on.\n",
        "\n",
        "For now, we will use a method that can turn a set of pairwise distances into an approximate 2-D representation __in some cases.__\n",
        ":::\n",
        "::::\n",
        "\n",
        "---\n",
        "\n",
        "So let's compute the pairwise distances, _in 30 dimensions_, for visualization purposes.\n",
        "\n",
        "We can compute all pairwise distances in a single step using the `scikit-learn` [`metrics.euclidean_distances`](https://scikit-learn.org/stable/modules/generated/sklearn.metrics.pairwise.euclidean_distances.html) function:"
      ]
    },
    {
      "cell_type": "code",
      "metadata": {},
      "source": [
        "#| code-fold: false\n",
        "import sklearn.metrics as metrics\n",
        "euclidean_dists = metrics.euclidean_distances(X)\n",
        "# euclidean_dists"
      ],
      "execution_count": null,
      "outputs": []
    },
    {
      "cell_type": "code",
      "metadata": {},
      "source": [
        "#| echo: false\n",
        "print(\"Matrix shape is: \", euclidean_dists.shape)"
      ],
      "execution_count": null,
      "outputs": []
    },
    {
      "cell_type": "markdown",
      "metadata": {},
      "source": [
        "Let's look at the upper left and lower right corners of the distances matrix."
      ]
    },
    {
      "cell_type": "code",
      "metadata": {},
      "source": [
        "#| echo: false\n",
        "import sklearn.metrics as metrics\n",
        "import numpy as np\n",
        "\n",
        "euclidean_dists = metrics.euclidean_distances(X)\n",
        "\n",
        "# Function to print the matrix in the desired format\n",
        "def print_matrix(matrix):\n",
        "    # Upper left 3x3\n",
        "    upper_left = matrix[:3, :3]\n",
        "    # Lower right 3x3\n",
        "    lower_right = matrix[-3:, -3:]\n",
        "    \n",
        "    # Print the upper left 3x3\n",
        "    print(\"Upper left 3x3:\")\n",
        "    print(np.round(upper_left, 2))\n",
        "    \n",
        "    print(\"\\n...\")\n",
        "    \n",
        "    # Print the lower right 3x3\n",
        "    print(\"Lower right 3x3:\")\n",
        "    print(np.round(lower_right, 2))\n",
        "\n",
        "print_matrix(euclidean_dists)"
      ],
      "execution_count": null,
      "outputs": []
    },
    {
      "cell_type": "markdown",
      "metadata": {},
      "source": [
        "Note that this produces a $100\\times100$ symmetric matrix where the diagonal\n",
        "is all zeros (distance from itself).\n",
        "\n",
        "---\n",
        "\n",
        "Let's look at a histogram of the distances."
      ]
    },
    {
      "cell_type": "code",
      "metadata": {},
      "source": [
        "import numpy as np\n",
        "import matplotlib.pyplot as plt\n",
        "import sklearn.metrics as metrics\n",
        "\n",
        "# Compute the pairwise distances\n",
        "euclidean_dists = metrics.euclidean_distances(X)\n",
        "\n",
        "# Extract the lower triangular part of the matrix, excluding the diagonal\n",
        "lower_triangular_values = euclidean_dists[np.tril_indices_from(euclidean_dists, k=-1)]\n",
        "\n",
        "# Plot the histogram\n",
        "plt.figure(figsize=(10, 6))\n",
        "plt.hist(lower_triangular_values, bins=30, edgecolor='black')\n",
        "plt.title('Histogram of Lower Diagonal Values of Euclidean Distances')\n",
        "plt.xlabel('Distance')\n",
        "plt.ylabel('Frequency')\n",
        "plt.show()"
      ],
      "execution_count": null,
      "outputs": []
    },
    {
      "cell_type": "markdown",
      "metadata": {},
      "source": [
        "::: {.notes}\n",
        "Remember that these are the pairwise distances, _in 30 dimensions_. So at least\n",
        "with this dataset we see a clean separation presumably between inter-cluster\n",
        "distances and intra-cluster distances.\n",
        "\n",
        "How would the curse of dimensionality affect this? We discuss the curse of\n",
        "dimensionality later in the course.\n",
        ":::\n",
        "## Visualizing with MDS\n",
        "\n",
        "The idea behind [Multidimensional Scaling (MDS)](https://en.wikipedia.org/wiki/Multidimensional_scaling) is given a pairwise distance (or dissimilarity) matrix:\n",
        "\n",
        ":::: {.incremental}\n",
        "* Find a set of coordinates in 1, 2 or 3-D space that approximates those distances as well as possible.\n",
        "* The points that are close (or far) in high dimensional space should be close (or far) in the reduced dimension space.\n",
        "::::\n",
        "\n",
        "::: {.fragment}\n",
        "Note that there are two forms of MDS:\n",
        "\n",
        "* Metric MDS, of which Classical MDS is a special case, and has a closed form solution\n",
        "  based on the eigenvectors of the centered distance matrix.\n",
        "* Non-Metric MDS, which tries to find a non-parametric monotonic relationship\n",
        "  between the dissimilarities and the target coordinates through an iterative approach.\n",
        ":::\n",
        "\n",
        "::: {.fragment}\n",
        "MDS may not always work well if, for example the dissimilarities\n",
        "are not well modeled by a metric like Euclidean distance.\n",
        ":::\n",
        "\n",
        "## MDS Visualization Result"
      ]
    },
    {
      "cell_type": "code",
      "metadata": {},
      "source": [
        "#| label: code-mds\n",
        "import sklearn.manifold\n",
        "import matplotlib.pyplot as plt\n",
        "mds = sklearn.manifold.MDS(n_components=2, max_iter=3000, eps=1e-9, random_state=0,\n",
        "                   dissimilarity = \"precomputed\", n_jobs = 1)\n",
        "fit = mds.fit(euclidean_dists)\n",
        "pos = fit.embedding_\n",
        "plt.scatter(pos[:, 0], pos[:, 1], s=8)\n",
        "plt.axis('square');"
      ],
      "execution_count": null,
      "outputs": []
    },
    {
      "cell_type": "markdown",
      "metadata": {},
      "source": [
        "So we can see that, although our data lives in 30 dimensions, we can get a\n",
        "sense of how the points are clustered by approximately placing the points into\n",
        "two dimensions.\n",
        "\n",
        "---\n",
        "\n",
        "Out of curiosity, we can visualize the pairwise distance matrix using a heatmap."
      ]
    },
    {
      "cell_type": "code",
      "metadata": {},
      "source": [
        "#| code-fold: false\n",
        "#| fig-align: center\n",
        "sns.heatmap(euclidean_dists, xticklabels=False, yticklabels=False, linewidths=0, \n",
        "            square=True )\n",
        "plt.show()"
      ],
      "execution_count": null,
      "outputs": []
    },
    {
      "cell_type": "markdown",
      "metadata": {},
      "source": [
        "## Applying  $k$-Means\n",
        "\n",
        "The Python package `scikit-learn` has a huge set of tools for unsupervised learning generally, and clustering specifically.  \n",
        "\n",
        "These are in __`sklearn.cluster.`__\n",
        "\n",
        "There are 3 functions in all the clustering classes, \n",
        "\n",
        "* **`fit()`**: builds the model from the training data.\n",
        "    * For $k$-means, this function find the centroids.\n",
        "* **`predict()`**: assigns labels to the data after building the models. \n",
        "    * For $k$-means this assigns the cluster number to a point.\n",
        "* **`fit_predict()`**: calls fit and predict in a single step.\n",
        "\n",
        "---\n",
        "\n",
        "Let's go back to the original 30-D synthetic dataset and apply $k$-means and\n",
        "show the cluster numbers."
      ]
    },
    {
      "cell_type": "code",
      "metadata": {},
      "source": [
        "from sklearn.cluster import KMeans\n",
        "kmeans = KMeans(init = 'k-means++', n_clusters = 3, n_init = 100, random_state=0)\n",
        "y_prime = kmeans.fit_predict(X)\n",
        "print(y_prime)"
      ],
      "execution_count": null,
      "outputs": []
    },
    {
      "cell_type": "markdown",
      "metadata": {},
      "source": [
        "For comparisons, here are the original cluster numbers."
      ]
    },
    {
      "cell_type": "code",
      "metadata": {},
      "source": [
        "print(y)"
      ],
      "execution_count": null,
      "outputs": []
    },
    {
      "cell_type": "raw",
      "metadata": {},
      "source": [
        "Note that the $k$-means labels are different than the ground truth labels. \n",
        "\n",
        "---"
      ]
    },
    {
      "cell_type": "markdown",
      "metadata": {},
      "source": [
        "We can remap the values according to\n",
        "\n",
        "$$\n",
        "\\begin{align*}\n",
        "0 &\\rightarrow 0 \\\\\n",
        "1 &\\rightarrow 2 \\\\\n",
        "2 &\\rightarrow 1.\n",
        "\\end{align*}\n",
        "$$"
      ]
    },
    {
      "cell_type": "code",
      "metadata": {},
      "source": [
        "# Remap y_prime\n",
        "remap = {0: 0, 1: 2, 2: 1}\n",
        "y_prime_remapped = np.vectorize(remap.get)(y_prime)\n",
        "print(\"Remapped y_prime:\")\n",
        "print(y_prime_remapped)"
      ],
      "execution_count": null,
      "outputs": []
    },
    {
      "cell_type": "code",
      "metadata": {},
      "source": [
        "# Calculate the number of mismatched entries\n",
        "mismatches = np.sum(y != y_prime_remapped)\n",
        "\n",
        "# Calculate the percentage of mismatched entries\n",
        "total_entries = len(y)\n",
        "percentage_mismatched = (mismatches / total_entries) * 100\n",
        "\n",
        "print(f\"Percentage of mismatched entries: {percentage_mismatched:.2f}%\")"
      ],
      "execution_count": null,
      "outputs": []
    },
    {
      "cell_type": "markdown",
      "metadata": {},
      "source": [
        "To reiterate, mismatches are 0.00%.\n",
        "\n",
        "---\n",
        "\n",
        "All the tools in `scikit-learn` are implemented as Python objects.\n",
        "\n",
        "Recall that the general sequence for using a tool from `scikit-learn` is:\n",
        "\n",
        "* create the object, probably with some hyperparameter settings or initialization,\n",
        "* run the method, generally by using the `fit()` function, and\n",
        "* examine the results, which are generally property variables of the object."
      ]
    },
    {
      "cell_type": "code",
      "metadata": {},
      "source": [
        "#| code-fold: false\n",
        "centroids = kmeans.cluster_centers_\n",
        "labels = kmeans.labels_\n",
        "inertia = kmeans.inertia_"
      ],
      "execution_count": null,
      "outputs": []
    },
    {
      "cell_type": "markdown",
      "metadata": {},
      "source": [
        "And we see the resulting cluster inertia."
      ]
    },
    {
      "cell_type": "code",
      "metadata": {},
      "source": [
        "print(f'Clustering inertia: {inertia:0.1f}.')"
      ],
      "execution_count": null,
      "outputs": []
    },
    {
      "cell_type": "markdown",
      "metadata": {},
      "source": [
        "## Visualizing the Results of Clustering\n",
        "\n",
        "Let's visualize the results.  We'll do that by reordering the data items according to their cluster."
      ]
    },
    {
      "cell_type": "code",
      "metadata": {},
      "source": [
        "#| fig-align: center\n",
        "import numpy as np\n",
        "idx = np.argsort(labels)\n",
        "rX = X[idx, :]\n",
        "sns.heatmap(rX, xticklabels = False, yticklabels = False, linewidths = 0)\n",
        "plt.show()"
      ],
      "execution_count": null,
      "outputs": []
    },
    {
      "cell_type": "markdown",
      "metadata": {},
      "source": [
        "You can clearly see the feature similarities of the samples in the same cluster.\n",
        "\n",
        "---\n",
        "\n",
        "We can also sort the pairwise distance matrix."
      ]
    },
    {
      "cell_type": "code",
      "metadata": {},
      "source": [
        "#| fig-align: center\n",
        "rearranged_dists = euclidean_dists[idx,:][:,idx]\n",
        "sns.heatmap(rearranged_dists, xticklabels = False, yticklabels = False, linewidths = 0, square = True)\n",
        "plt.show()"
      ],
      "execution_count": null,
      "outputs": []
    },
    {
      "cell_type": "markdown",
      "metadata": {},
      "source": [
        "Here again, you can see the inter-cluster sample distances are small.\n",
        "\n",
        "## Cluster Evaluation\n",
        "\n",
        "How do we know whether the clusters we get represent \"real\" structure in our data?\n",
        "\n",
        ":::: {.fragment}\n",
        "Consider a dataset of 100 points _uniformly distributed_ in the unit square."
      ]
    },
    {
      "cell_type": "code",
      "metadata": {},
      "source": [
        "#| fig-align: center\n",
        "import pandas as pd\n",
        "np.random.seed(42)\n",
        "unif_X = np.random.default_rng().uniform(0, 1, 500)\n",
        "unif_Y = np.random.default_rng().uniform(0, 1, 500)\n",
        "df = pd.DataFrame(np.column_stack([unif_X, unif_Y]), columns = ['X', 'Y'])\n",
        "df.plot('X', 'Y', kind = 'scatter', \n",
        "        colorbar = False, xlim = (0, 1), ylim = (0, 1), \n",
        "        figsize = (4, 4))"
      ],
      "execution_count": null,
      "outputs": []
    },
    {
      "cell_type": "markdown",
      "metadata": {},
      "source": [
        "::::\n",
        "\n",
        "---\n",
        "\n",
        "After running $k$-means on this data:"
      ]
    },
    {
      "cell_type": "code",
      "metadata": {},
      "source": [
        "#| fig-align: center\n",
        "kmeans = KMeans(init = 'k-means++', n_clusters = 3, n_init = 500, random_state=0)\n",
        "df['label'] = kmeans.fit_predict(df[['X', 'Y']])\n",
        "df.plot('X', 'Y', kind = 'scatter', c = 'label', \n",
        "        colormap='viridis', colorbar = False, \n",
        "        xlim = (0, 1), ylim = (0, 1), \n",
        "        figsize = (4, 4))"
      ],
      "execution_count": null,
      "outputs": []
    },
    {
      "cell_type": "markdown",
      "metadata": {},
      "source": [
        ":::: {.fragment}\n",
        "The point is: clustering algorithms output some \"clustering\" of the data.\n",
        "::::\n",
        "\n",
        "---\n",
        "\n",
        "The question is, does the clustering reflect __real__ structure?\n",
        "\n",
        ":::: {.fragment}\n",
        "Generally we encounter two problems:\n",
        "::::\n",
        "\n",
        "::: {.incremental}\n",
        "* Are there *real* clusters in the data?\n",
        "* If so, *how many* clusters are there?\n",
        ":::\n",
        "\n",
        ":::: {.fragment}\n",
        "There is often no definitive answer to either of these questions.\n",
        "\n",
        "You will often need to use your judgment in answering them.\n",
        "::::\n",
        "\n",
        "::: {.content-hidden}\n",
        "\n",
        "## Cluster Evaluations\n",
        "\n",
        "(Under Development)\n",
        "\n",
        "### With Ground Truth Data\n",
        "\n",
        "* How to evaluate clustering algorithms when you have ground truth data\n",
        "    * how do you align labels?\n",
        "    * different accuracy measures\n",
        "\n",
        "### Without Ground Truth Data\n",
        "\n",
        "* Can you make guesses to the underlying probability distributions to show that\n",
        "  it is non-uniform?\n",
        "\n",
        "## Clustering Metrics\n",
        "\n",
        "[sklearn clustering examples](https://scikit-learn.org/stable/auto_examples/cluster/index.html)\n",
        "\n",
        "- [sklearn performance evaluation guide](https://scikit-learn.org/stable/modules/clustering.html#clustering-performance-evaluation)\n",
        "- [sklearn metrics](https://scikit-learn.org/stable/api/sklearn.metrics.html)\n",
        "    - [sklearn clustering metrics](https://scikit-learn.org/stable/api/sklearn.metrics.html#module-sklearn.metrics.cluster)\n",
        "        - [sklearn rand score](https://scikit-learn.org/stable/modules/generated/sklearn.metrics.rand_score.html)\n",
        "- [sklearn example: adjustment for chance in clustering performance evaluation](https://scikit-learn.org/stable/auto_examples/cluster/plot_adjusted_for_chance_measures.html)\n",
        "\n",
        ":::\n",
        "\n",
        "## Clustering Metrics\n",
        "\n",
        "Broadly separated into two categories.\n",
        "\n",
        ":::: {.fragment}\n",
        "1. **Ground truth based metrics**\n",
        "\n",
        "We'll look at (Adjusted) Rand Index.\n",
        "\n",
        "::::\n",
        "\n",
        ":::: {.fragment}\n",
        "Even with ground truth labels, we can't apply accuracy measures like we will\n",
        "see in supervised learning approaches since clustering algorithms don't try to\n",
        "match exact labels, but rather group similar items together.\n",
        "\n",
        "::::\n",
        "\n",
        ":::: {.fragment}\n",
        "2. **Internal cluster metrics (no ground truth external labels)**\n",
        "\n",
        "We'll look at Silhouette Coefficient.\n",
        "::::\n",
        "\n",
        "\n",
        "## Rand Index\n",
        "\n",
        "::: aside\n",
        "Named after William M. Rand.\n",
        ":::\n",
        "\n",
        "In some cases we'll have ground truth cluster labels, call them $T$.\n",
        "\n",
        "In that case, what we need is a way to compare a proposed clustering, $C$, with $T$. To make this comparison we use the __Rand Index__.\n",
        "\n",
        "The formula for the Rand Index is:\n",
        "\n",
        "$$\n",
        "\\text{RI}(T,C) = \\frac{a+b}{n \\choose 2},\n",
        "$$\n",
        "\n",
        "- where $a$ is the number of pairs of points that are in the same cluster in both $T$ and $C$, and\n",
        "- $b$ is the number of pairs of points that are in different clusters in both $T$ and $C$.\n",
        "\n",
        "We normalize the sum by the combinatorial number of pairs of points, $n \\choose 2$.\n",
        "\n",
        "The __Rand Index__ is a value that falls in the range $[0, 1]$.\n",
        "\n",
        "## Rand Index Example 1\n",
        "\n",
        "Let's proceed by way of example.\n",
        "\n",
        "We'll create another synthetic dataset of 3 clusters, so we have ground truth\n",
        "labels $T$."
      ]
    },
    {
      "cell_type": "code",
      "metadata": {},
      "source": [
        "X_rand, y_rand = sk_data.make_blobs(n_samples=[100, 250, 150], \n",
        "                                    centers = [[1, 2],[1.5, 3], [2, 4]], \n",
        "                                    n_features = 2,\n",
        "                                    center_box = (-10.0, 10.0), \n",
        "                                    cluster_std = [.2, .3, .2], \n",
        "                                    random_state = 0)\n",
        "df_rand_gt = pd.DataFrame(np.column_stack([X_rand[:, 0], X_rand[:, 1], y_rand]), columns = ['X', 'Y', 'label'])\n",
        "df_rand_clust = df_rand_gt.copy()\n",
        "kmeans = KMeans(init = 'k-means++', n_clusters = 3, n_init = 100, random_state=0)\n",
        "df_rand_clust['label'] = kmeans.fit_predict(df_rand_gt[['X', 'Y']])\n",
        "df_rand_clust['label'] = df_rand_clust['label'].replace({0: 1, 1: 2, 2: 0})"
      ],
      "execution_count": null,
      "outputs": []
    },
    {
      "cell_type": "markdown",
      "metadata": {},
      "source": [
        "We then run $k$-means with 3 clusters to on the datasets to get labels $C$ and plot the results:"
      ]
    },
    {
      "cell_type": "code",
      "metadata": {},
      "source": [
        "#| fig-align: center\n",
        "figs, axs = plt.subplots(1, 2, figsize = (12, 5))\n",
        "df_rand_gt.plot('X', 'Y', \n",
        "                kind = 'scatter', \n",
        "                c = 'label', \n",
        "                colormap='viridis', \n",
        "                ax = axs[0],\n",
        "                colorbar = False)\n",
        "axs[0].set_title('Ground Truth (T)')\n",
        "axs[0].set_axis_off()\n",
        "\n",
        "df_rand_clust.plot('X', 'Y', \n",
        "                    kind = 'scatter', \n",
        "                    c = 'label', \n",
        "                    colormap='viridis', \n",
        "                    ax = axs[1],\n",
        "                    colorbar = False)\n",
        "axs[1].set_title('Clustering (C)')\n",
        "axs[1].set_axis_off()\n",
        "plt.show()"
      ],
      "execution_count": null,
      "outputs": []
    },
    {
      "cell_type": "code",
      "metadata": {},
      "source": [
        "print(\"The Rand index is: \", metrics.rand_score(df_rand_gt[\"label\"], df_rand_clust[\"label\"]))"
      ],
      "execution_count": null,
      "outputs": []
    },
    {
      "cell_type": "markdown",
      "metadata": {},
      "source": [
        ":::: {.fragment}\n",
        "How do we know whether a particular Rand Index (RI) score is significant?\n",
        "\n",
        "We might compare it to the RI for a __random__ assignment of points to labels.\n",
        "\n",
        "This leads to the __Adjusted Rand Index.__\n",
        "::::\n",
        "\n",
        "## The Adjusted Rand Index\n",
        "\n",
        "To *calibrate* the Rand Index this way, we use the expected Rand Index of random labels, denoted $E[\\text{RI}]$.   \n",
        "\n",
        "The Expected Rand Index considers $C$ to be a clustering that has the same cluster sizes as $T$, but the labels are assigned at random.\n",
        "\n",
        ":::: {.fragment}\n",
        "Using that, we define the adjusted Rand index as a simple __rescaling__ of RI:\n",
        "\n",
        "$$\n",
        "\\text{ARI} = \\frac{\\text{RI} - E[\\text{RI}]}{\\max(\\text{RI}) - E[\\text{RI}]}\n",
        "$$\n",
        "\n",
        "The values of $E[\\text{RI}]$ and $\\max(\\text{RI})$ can be computed using combinatorics (we'll omit the derivation).\n",
        "\n",
        "The below code block computes and prints the adjusted Rand index for the example on the previous slide."
      ]
    },
    {
      "cell_type": "code",
      "metadata": {},
      "source": [
        "print(\"The adjusted Rand index is: \", metrics.adjusted_rand_score(df_rand_gt[\"label\"], df_rand_clust[\"label\"]))"
      ],
      "execution_count": null,
      "outputs": []
    },
    {
      "cell_type": "markdown",
      "metadata": {},
      "source": [
        "::::\n",
        "\n",
        "## Rand Index Example 2\n",
        "\n",
        ":::: {.columns}\n",
        "::: {.column width=\"40%\"}"
      ]
    },
    {
      "cell_type": "code",
      "metadata": {},
      "source": [
        "#| fig-align: center\n",
        "import matplotlib.pyplot as plt\n",
        "\n",
        "plt.figure(figsize=(4, 3))  # Adjust the width and height as needed\n",
        "sns.heatmap(X, xticklabels = False, yticklabels = False, linewidths = 0)\n",
        "plt.show()"
      ],
      "execution_count": null,
      "outputs": []
    },
    {
      "cell_type": "markdown",
      "metadata": {},
      "source": [
        ":::\n",
        "::: {.column width=\"60%\"}\n",
        "Let's consider again our 3-cluster dataset with known labels `y`.\n",
        ":::\n",
        "::::\n",
        "\n",
        "\n",
        "Here is the Rand Index and adjusted Rand Index, when using $k$-means to cluster this dataset for 1 to 10 clusters:"
      ]
    },
    {
      "cell_type": "code",
      "metadata": {},
      "source": [
        "#| fig-align: center\n",
        "def ri_evaluate_clusters(X, max_clusters, ground_truth):\n",
        "    ri = np.zeros(max_clusters+1)\n",
        "    ri[0] = 0\n",
        "    ari = np.zeros(max_clusters+1)\n",
        "    ari[0] = 0\n",
        "    for k in range(1,max_clusters+1):\n",
        "        kmeans = KMeans(init='k-means++', n_clusters=k, n_init=10)\n",
        "        kmeans.fit_predict(X)\n",
        "\n",
        "        ri[k] = metrics.rand_score(kmeans.labels_, ground_truth)\n",
        "        ari[k] = metrics.adjusted_rand_score(kmeans.labels_, ground_truth)\n",
        "    return ri, ari\n",
        "    \n",
        "ri, ari = ri_evaluate_clusters(X, 10, y)\n",
        "plt.plot(range(1, len(ri)), ri[1:], 'ro-', range(1, len(ari)), ari[1:], 'b*-')\n",
        "plt.xlabel('Number of clusters')\n",
        "plt.title('$k$-means Clustering Compared to Known Labels')\n",
        "plt.ylabel('Index value')\n",
        "plt.legend(['RI', 'ARI'])\n",
        "plt.show()"
      ],
      "execution_count": null,
      "outputs": []
    },
    {
      "cell_type": "markdown",
      "metadata": {},
      "source": [
        "## RI vs ARI\n",
        "\n",
        "The ARI provides a more nuanced evaluation of clustering similarity compared to the RI by accounting for the chance grouping of elements. Here are the key differences:\n",
        "\n",
        ":::: {.columns}\n",
        "::: {.column width=\"50%\"}\n",
        "__Rand Index (RI)__\n",
        "\n",
        "- Measures Agreement: The RI measures the agreement between two clusterings by considering all pairs of elements and counting pairs that are either in the same or different clusters in both clusterings.\n",
        "- Range: The RI ranges from 0 to 1, where 1 indicates perfect agreement and 0 indicates no agreement.\n",
        ":::\n",
        "::: {.column width=\"50%\"}\n",
        "__Adjusted Rand Index (ARI)__\n",
        "\n",
        "- Adjusts for Chance: The ARI adjusts the RI by considering the expected similarity that might occur by random chance. This adjustment makes the ARI a more reliable measure, especially when dealing with random or unbalanced clusterings.\n",
        "- Range: The ARI can take values from -1 to 1. A value of 0 indicates that the clustering is no better than random, while a value of 1 indicates perfect agreement. Negative values indicate that the clustering is worse than random.\n",
        ":::\n",
        "::::\n",
        "\n",
        "## Information Provided by ARI\n",
        "\n",
        "The ARI corrects for the fact that some level of agreement between clusterings can occur purely by chance. This makes it a more accurate measure of the true similarity between clusterings.\n",
        "\n",
        "The ARI’s range allows for a clearer interpretation of clustering performance. An ARI of 0 means the clustering is no better than random, which is more informative than an RI of 0.5, which might still be influenced by chance.\n",
        "\n",
        "The ARI allows for better comparison between different clustering results, as it normalizes the index to account for the chance agreement.\n",
        "\n",
        "## Deciding on the Number of Clusters\n",
        "\n",
        "The second question we face in evaluating a clustering is how many clusters are present.\n",
        "\n",
        "In practice, to use $k$-means or most other clustering methods, one must choose $k$, the number of clusters, via some process.\n",
        "\n",
        "## Inspecting Clustering Error\n",
        "\n",
        "The first thing you might do is to look at the $k$-means objective function  and see if it levels off after a certain point.\n",
        "\n",
        "Recall that the $k$-means objective can be considered the clustering \"error\".\n",
        "\n",
        "If the error stops going down, that would suggest that the clustering is not improving as the number of clusters is increased.\n",
        "\n",
        "Let's calculate the error for 1-11 clusters."
      ]
    },
    {
      "cell_type": "code",
      "metadata": {},
      "source": [
        "#| code-fold: false\n",
        "error = np.zeros(11)\n",
        "for k in range(1,11):\n",
        "    kmeans = KMeans(init='k-means++', n_clusters = k, n_init = 10)\n",
        "    kmeans.fit_predict(X)\n",
        "    error[k] = kmeans.inertia_"
      ],
      "execution_count": null,
      "outputs": []
    },
    {
      "cell_type": "markdown",
      "metadata": {},
      "source": [
        "::: {.content-visible when-profile=\"slides\"}\n",
        "## Inspecting Clustering Error\n",
        ":::\n",
        "\n",
        "For our synthetic data, here is the $k$-means objective, as a function of $k$:"
      ]
    },
    {
      "cell_type": "code",
      "metadata": {},
      "source": [
        "plt.plot(range(1, len(error)), error[1:], 'o-')\n",
        "plt.xlabel('Number of clusters')\n",
        "plt.title(r'$k$-means clustering performance of synthetic data')\n",
        "plt.ylabel('Error')\n",
        "plt.show()"
      ],
      "execution_count": null,
      "outputs": []
    },
    {
      "cell_type": "markdown",
      "metadata": {},
      "source": [
        "::: {.callout-warning}\n",
        "This synthetic data is not at all typical. You will almost never see such a sharp change in the error function as we see here.\n",
        ":::\n",
        "\n",
        "---\n",
        "\n",
        "Let's create a function to evaluate clusters for later use."
      ]
    },
    {
      "cell_type": "code",
      "metadata": {},
      "source": [
        "#| code-fold: false\n",
        "def evaluate_clusters(X,max_clusters):\n",
        "    error = np.zeros(max_clusters+1)\n",
        "    error[0] = 0\n",
        "    for k in range(1,max_clusters+1):\n",
        "        kmeans = KMeans(init='k-means++', n_clusters=k, n_init=10)\n",
        "        kmeans.fit_predict(X)\n",
        "        error[k] = kmeans.inertia_\n",
        "    return error"
      ],
      "execution_count": null,
      "outputs": []
    },
    {
      "cell_type": "markdown",
      "metadata": {},
      "source": [
        "## Silhouette Coefficient\n",
        "\n",
        "Usually, the ground truth labels are not known.\n",
        "\n",
        ":::: {.fragment}\n",
        "In that case, evaluation must be performed using the model itself.\n",
        "::::\n",
        "\n",
        ":::: {.fragment}\n",
        "Recall our definition of clustering: \n",
        "::::\n",
        "\n",
        ":::: {.fragment}\n",
        "> a grouping of data objects, such that the objects within a group are similar (or near) to one another and dissimilar\n",
        "> (or far) from the objects in other groups.\n",
        "::::\n",
        "\n",
        ":::: {.fragment}\n",
        "This suggests a metric that could evaluate a clustering: comparing the distances between points within a cluster, to the\n",
        "distances between points in different clusters.\n",
        "::::\n",
        "\n",
        "::: {.content-visible when-profile=\"slides\"}\n",
        "## Silhouette Coefficient\n",
        ":::\n",
        "\n",
        "The Silhouette Coefficient is an example of such an evaluation, where a higher Silhouette Coefficient score relates to a\n",
        "model with \"better defined\" clusters. \n",
        "\n",
        "We'll use [`sklearn.metrics.silhouette_score`](https://scikit-learn.org/stable/modules/clustering.html#silhouette-coefficient)\n",
        "\n",
        "::: {.incremental}\n",
        "- Let $a$ be the mean distance between a data point and all other points in the same cluster.\n",
        "- Let $b$ be the mean distance between a data point and all other points in the next nearest cluster. \n",
        ":::\n",
        "\n",
        "\n",
        ":::: {.fragment}\n",
        "Then the **Silhouette Coefficient** for a point is\n",
        "\n",
        "$$ \n",
        "s = \\frac{b-a}{\\max(a, b)}.\n",
        "$$\n",
        "::::\n",
        "\n",
        ":::: {.fragment}\n",
        "The overall silhouette coefficient for a clustering is the average of the silhouette coefficients for each data point.\n",
        "::::\n",
        "\n",
        "::: {.content-visible when-profile=\"slides\"}\n",
        "## Silhouette Coefficient\n",
        ":::\n",
        "\n",
        "We can calculate the Silhouette Score for our synthetic data:"
      ]
    },
    {
      "cell_type": "code",
      "metadata": {},
      "source": [
        "sc = metrics.silhouette_score(X, labels, metric='euclidean')\n",
        "print('Silhouette Score:', sc)"
      ],
      "execution_count": null,
      "outputs": []
    },
    {
      "cell_type": "markdown",
      "metadata": {},
      "source": [
        "::: {.content-visible when-profile=\"slides\"}\n",
        "## Silhouette Coefficient\n",
        ":::\n",
        "\n",
        "We can also evaluate it for 2-10 clusters and plot the results:"
      ]
    },
    {
      "cell_type": "code",
      "metadata": {},
      "source": [
        "def sc_evaluate_clusters(X, max_clusters, n_init, seed):\n",
        "    s = np.zeros(max_clusters+1)\n",
        "    s[0] = 0\n",
        "    s[1] = 0\n",
        "    for k in range(2, max_clusters+1):\n",
        "        kmeans = KMeans(init='k-means++', n_clusters = k, n_init = n_init, random_state = seed)\n",
        "        kmeans.fit_predict(X)\n",
        "        s[k] = metrics.silhouette_score(X, kmeans.labels_, metric = 'euclidean')\n",
        "    return s\n",
        "\n",
        "s = sc_evaluate_clusters(X, 10, 10, 1)\n",
        "plt.plot(range(2, len(s)), s[2:], 'o-')\n",
        "plt.xlabel('Number of Clusters')\n",
        "plt.title('$k$-means clustering performance on synthetic data')\n",
        "plt.ylabel('Silhouette Score')\n",
        "plt.show()"
      ],
      "execution_count": null,
      "outputs": []
    },
    {
      "cell_type": "markdown",
      "metadata": {},
      "source": [
        ":::: {.fragment}\n",
        "Again, these results are more perfect than typical. \n",
        "\n",
        "But the general idea is to look for a local maximum in the Silhouette Coefficient as the potential number of clusters.\n",
        "::::\n",
        "\n",
        "## k-means++ initialization\n",
        "Proposed in 2007 by David Arthur and Sergei Vassilvitskii.\n",
        "\n",
        "K-means++ improves the initialization of cluster centers to enhance the quality of the final clustering results. Here’s how it works.\n",
        "\n",
        "- Choose an initial centroid $c_1$ randomly.\n",
        "- Choose the next centroid $c_i$ with probability proportional to the squared distances to each data point.\n",
        "    - This ensures that new centroids are spread out across the data space.\n",
        "- Repeat this process until $k$ centroids have been selected.\n",
        "\n",
        "Once the initial centroids are chosen, the standard k-means algorithm is applied.\n",
        "\n",
        "The main advantage of k-means++ over randomly assigning points is that it reduces the likelihood of poor clustering results due to suboptimal initial centroids. This often leads to faster convergence and better overall clustering quality.\n",
        "\n",
        "# Real Data Clustering Example\n",
        "\n",
        "## Taking the Training Wheels Off: Real Data\n",
        "\n",
        "As a classic \"real world\" example, we'll use the \n",
        "[\"20 Newsgroup\" data](https://scikit-learn.org/stable/datasets/real_world.html#the-20-newsgroups-text-dataset)\n",
        "provided as example data in scikit-learn.\n",
        "\n",
        "We borrow code from this sklearn\n",
        "[example](https://scikit-learn.org/stable/auto_examples/text/plot_document_clustering.html).\n",
        "\n",
        "Let's load the data and count the number of documents and categories."
      ]
    },
    {
      "cell_type": "code",
      "metadata": {},
      "source": [
        "from sklearn.datasets import fetch_20newsgroups\n",
        "\n",
        "# just use the following categories\n",
        "categories = ['comp.os.ms-windows.misc', 'sci.space', 'rec.sport.baseball']\n",
        "\n",
        "news_data = fetch_20newsgroups(\n",
        "    remove = ('headers', 'footers', 'quotes'),\n",
        "    subset = 'train', \n",
        "    categories = categories,\n",
        "    shuffle = True,\n",
        "    random_state = 42)\n",
        "\n",
        "labels = news_data.target\n",
        "unique_labels, category_sizes = np.unique(labels, return_counts=True)\n",
        "true_k = unique_labels.shape[0]\n",
        "\n",
        "print(f\"{len(news_data.data)} documents - {true_k} categories\")"
      ],
      "execution_count": null,
      "outputs": []
    },
    {
      "cell_type": "markdown",
      "metadata": {},
      "source": [
        "---\n",
        "\n",
        "Here is an example of one of the documents:"
      ]
    },
    {
      "cell_type": "code",
      "metadata": {},
      "source": [
        "print(news_data.data[0])"
      ],
      "execution_count": null,
      "outputs": []
    },
    {
      "cell_type": "markdown",
      "metadata": {},
      "source": [
        "## Feature Extraction\n",
        "\n",
        "We've discussed a bit the challenges of feature engineering.   \n",
        "\n",
        "One of the most basic issues concerns how to encode categorical or text data in a form usable by algorithms that expect\n",
        "numeric input.\n",
        "\n",
        "The starting point is to note that one can encode a set using a binary vector with one component for each potential set\n",
        "member.  \n",
        "\n",
        "---\n",
        "\n",
        "The so-called _bag of words_ encoding for a document is to treat the document as a multiset of words.\n",
        "\n",
        "::: aside\n",
        "A _multiset_ is like a set but allows for multiple instances of each element.\n",
        ":::\n",
        "\n",
        "That is, we simply count how many times each word occurs. It is a \"bag\" because all the order of the words in the\n",
        "document is lost.\n",
        "\n",
        "Surprisingly, we can still tell a lot about the document even without knowing its word ordering.\n",
        "\n",
        "---\n",
        "\n",
        "Counting the number of times each word occurs in a document yields a vector of __term frequencies.__\n",
        "\n",
        "However, simply using the \"bag of words\" directly has a number of drawbacks. First of all, large documents will have\n",
        "more words than small documents.   \n",
        "\n",
        "Hence it often makes sense to normalize the frequency vectors.\n",
        "\n",
        "$\\ell_1$ or $\\ell_2$ normalization are common.\n",
        "\n",
        "---\n",
        "\n",
        "Next, as noted in __scikit-learn__:\n",
        "\n",
        "> In a large text corpus, some words will be very [frequent] (e.g. “the”, “a”, “is” in English) hence carrying very\n",
        "> little meaningful information about the actual contents of the document. \n",
        ">\n",
        "> If we were to feed the direct count data directly to a classifier those very frequent terms would overshadow the\n",
        "> frequencies of rarer yet more interesting terms.\n",
        ">\n",
        "> In order to re-weight the count features into floating point values suitable for usage by a classifier it is very\n",
        "> common to use the **tf–idf transform.**\n",
        ">\n",
        ">__Tf__ means __term-frequency__ while __tf–idf__ means __term-frequency times inverse document-frequency.__\n",
        ">\n",
        ">This is originally a term weighting scheme developed for information retrieval (as a ranking function for search\n",
        "> engines results), that has also found good use in document classification and clustering.\n",
        "\n",
        "The idea is that rare words are more informative than common words.  \n",
        "\n",
        "(This has connections to information theory).\n",
        "\n",
        "---\n",
        "\n",
        "Hence, the definition of tf-idf is as follows.\n",
        "\n",
        "First:\n",
        "\n",
        "$$\n",
        "\\text{tf}(t,d) = \\text{Number of times term }t \\text{ occurs in document } d~.\n",
        "$$\n",
        "\n",
        "Next, if $N$ is the total number of documents in the corpus $D$ then:\n",
        "\n",
        "$$\n",
        "\\text{idf}(t,D)=\\log{\\frac{N}{|\\{d\\in D : t\\in d \\}|}},\n",
        "$$\n",
        "\n",
        "where the denominator is the number of documents in which the term $t$ appears.\n",
        "\n",
        "And finally:\n",
        "\n",
        "$$\n",
        "\\text{tf-idf}(t,d)=\\text{tf}(t,d)\\times \\text{idf}(t,D).\n",
        "$$"
      ]
    },
    {
      "cell_type": "code",
      "metadata": {},
      "source": [
        "from sklearn.feature_extraction.text import TfidfVectorizer\n",
        "vectorizer = TfidfVectorizer(stop_words = 'english', min_df = 4, max_df = 0.8)\n",
        "data = vectorizer.fit_transform(news_data.data)"
      ],
      "execution_count": null,
      "outputs": []
    },
    {
      "cell_type": "markdown",
      "metadata": {},
      "source": [
        "## Getting to know the Data"
      ]
    },
    {
      "cell_type": "code",
      "metadata": {},
      "source": [
        "print(f'The datas type is {type(data)} and the shape is {data.shape}')"
      ],
      "execution_count": null,
      "outputs": []
    },
    {
      "cell_type": "markdown",
      "metadata": {},
      "source": [
        "For what it's worth we can look at the data feature matrix:"
      ]
    },
    {
      "cell_type": "code",
      "metadata": {},
      "source": [
        "fig, ax1 = plt.subplots(1,1,figsize=(8,4))\n",
        "dum = sns.heatmap(data[1:100,1:200].todense(), xticklabels=False, yticklabels=False, \n",
        "            linewidths=0, cbar=True, ax=ax1)"
      ],
      "execution_count": null,
      "outputs": []
    },
    {
      "cell_type": "code",
      "metadata": {},
      "source": [
        "print(news_data.target)\n",
        "print(news_data.target_names)"
      ],
      "execution_count": null,
      "outputs": []
    },
    {
      "cell_type": "markdown",
      "metadata": {},
      "source": [
        "## Selecting the Number of Clusters\n",
        "\n",
        "Now let's look at the different cluster measures versus number of clusters."
      ]
    },
    {
      "cell_type": "code",
      "metadata": {},
      "source": [
        "#| fig-align: center\n",
        "error = evaluate_clusters(data, 10)\n",
        "plt.plot(range(1, len(error)), error[1:])\n",
        "plt.title('$k$-means Clustering Performance on Newsgroup Articles')\n",
        "plt.xlabel('Number of clusters')\n",
        "plt.ylabel('Error')\n",
        "plt.show()"
      ],
      "execution_count": null,
      "outputs": []
    },
    {
      "cell_type": "markdown",
      "metadata": {},
      "source": [
        "---"
      ]
    },
    {
      "cell_type": "code",
      "metadata": {},
      "source": [
        "#| fig-align: center\n",
        "ri, ari = ri_evaluate_clusters(data, 10, news_data.target)\n",
        "plt.plot(range(1, len(ari)), ari[1:], 'o-')\n",
        "plt.xlabel('Number of clusters')\n",
        "plt.title('$k$-means Clustering Compared to Known Labels\\nNewsgroup Articles')\n",
        "plt.ylabel('Adjusted Rand Index')\n",
        "plt.show()"
      ],
      "execution_count": null,
      "outputs": []
    },
    {
      "cell_type": "markdown",
      "metadata": {},
      "source": [
        "---"
      ]
    },
    {
      "cell_type": "code",
      "metadata": {},
      "source": [
        "#| fig-align: center\n",
        "s = sc_evaluate_clusters(data, 10, 100, 3)\n",
        "plt.plot(range(2, len(s)), s[2:], 'o-')\n",
        "plt.xlabel('Number of Clusters')\n",
        "plt.title('$k$-means clustering performance on Newsgroup Articles')\n",
        "plt.ylabel('Silhouette Score')\n",
        "plt.show()"
      ],
      "execution_count": null,
      "outputs": []
    },
    {
      "cell_type": "markdown",
      "metadata": {},
      "source": [
        "## Looking into the clusters\n",
        "\n",
        "Run $k$-means with 4 clusters:"
      ]
    },
    {
      "cell_type": "code",
      "metadata": {},
      "source": [
        "k = 4\n",
        "kmeans = KMeans(n_clusters = k, init = 'k-means++', max_iter = 100, n_init = 25, random_state = 3)\n",
        "kmeans.fit_predict(data)"
      ],
      "execution_count": null,
      "outputs": []
    },
    {
      "cell_type": "markdown",
      "metadata": {},
      "source": [
        "Find the top 10 terms per cluster:"
      ]
    },
    {
      "cell_type": "code",
      "metadata": {},
      "source": [
        "asc_order_centroids = kmeans.cluster_centers_.argsort()#[:, ::-1]\n",
        "order_centroids = asc_order_centroids[:,::-1]\n",
        "terms = vectorizer.get_feature_names_out()\n",
        "for i in range(k):\n",
        "    print(f'Cluster {i}:')\n",
        "    for ind in order_centroids[i, :10]:\n",
        "        print(f' {terms[ind]}')\n",
        "    print('')"
      ],
      "execution_count": null,
      "outputs": []
    },
    {
      "cell_type": "markdown",
      "metadata": {},
      "source": [
        "## Pairwise Distances Matrix\n",
        "\n",
        "Let's calculate the pairwise distances matrix."
      ]
    },
    {
      "cell_type": "code",
      "metadata": {},
      "source": [
        "#| fig-align: center\n",
        "euclidean_dists = metrics.euclidean_distances(data)\n",
        "labels = kmeans.labels_\n",
        "idx = np.argsort(labels)\n",
        "clustered_dists = euclidean_dists[idx][:,idx]\n",
        "fig, ax1 = plt.subplots(1,1,figsize=(6,6))\n",
        "dum = sns.heatmap(clustered_dists, xticklabels=False, yticklabels=False, linewidths=0, square=True, cbar=True, ax=ax1)"
      ],
      "execution_count": null,
      "outputs": []
    },
    {
      "cell_type": "markdown",
      "metadata": {},
      "source": [
        "## MDS Embedding\n",
        "\n",
        "Let's visualize with MDS.   \n",
        "\n",
        "Note that MDS is a slow algorithm and we can't do all 1700+ data points quickly, so we will take a random sample."
      ]
    },
    {
      "cell_type": "code",
      "metadata": {},
      "source": [
        "import random\n",
        "n_items = euclidean_dists.shape[0]\n",
        "random.seed(42)\n",
        "subset = random.sample(range(n_items), 500)\n",
        "\n",
        "fit = mds.fit(euclidean_dists[subset][:, subset])\n",
        "pos = fit.embedding_"
      ],
      "execution_count": null,
      "outputs": []
    },
    {
      "cell_type": "markdown",
      "metadata": {},
      "source": [
        "We have the labels:"
      ]
    },
    {
      "cell_type": "code",
      "metadata": {},
      "source": [
        "labels"
      ],
      "execution_count": null,
      "outputs": []
    },
    {
      "cell_type": "markdown",
      "metadata": {},
      "source": [
        "## MDS Embedding"
      ]
    },
    {
      "cell_type": "code",
      "metadata": {},
      "source": [
        "#| fig-align: center\n",
        "colorblind_palette = ['#E69F00', '#56B4E9', '#009E73', '#F0E442', '#0072B2']\n",
        "cols = [colorblind_palette[l] for l in labels[subset]]\n",
        "plt.scatter(pos[:, 0], pos[:, 1], s = 12, c = cols)\n",
        "plt.title('MDS Embedding of Newsgroup Articles')\n",
        "\n",
        "unique_labels = np.unique(labels[subset])\n",
        "# Create legend handles and labels based on unique labels\n",
        "handles = [plt.Line2D([0], [0], marker='o', color='w', markerfacecolor=colorblind_palette[l], markersize=10) for l in unique_labels]\n",
        "legend_labels = [f'Cluster {l}' for l in unique_labels]\n",
        "# Add the legend to the plot\n",
        "plt.legend(handles, legend_labels, title='Clusters')\n",
        "plt.show()"
      ],
      "execution_count": null,
      "outputs": []
    },
    {
      "cell_type": "markdown",
      "metadata": {},
      "source": [
        "## Recap and Next\n",
        "\n",
        "We've covered:\n",
        "\n",
        "* How clustering is used in practice\n",
        "* Tools for evaluating the quality of a clustering\n",
        "* Tools for assigning meaning or labels to a cluster\n",
        "* Important visualizations\n",
        "* A little bit about feature extraction for text\n",
        "\n",
        "Next time, we'll look at: \n",
        "\n",
        "* Hierarchical clustering\n",
        "* Gaussian mixture models"
      ]
    }
  ],
  "metadata": {
    "kernelspec": {
      "name": "python3",
      "language": "python",
      "display_name": "Python 3 (ipykernel)",
      "path": "/opt/anaconda3/envs/ds701/share/jupyter/kernels/python3"
    }
  },
  "nbformat": 4,
  "nbformat_minor": 4
}