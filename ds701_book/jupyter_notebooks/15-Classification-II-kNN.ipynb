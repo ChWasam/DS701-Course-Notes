{
  "cells": [
    {
      "cell_type": "markdown",
      "metadata": {},
      "source": [
        "---\n",
        "title: $k$-Nearest Neighbors and Model Selection\n",
        "jupyter: python3\n",
        "---\n",
        "\n",
        "[![](https://colab.research.google.com/assets/colab-badge.svg)](https://colab.research.google.com/github/tools4ds/DS701-Course-Notes/blob/main/ds701_book/jupyter_notebooks/15-Classification-II-kNN.ipynb)"
      ]
    },
    {
      "cell_type": "code",
      "metadata": {
        "hide_input": true,
        "slideshow": {
          "slide_type": "skip"
        },
        "tags": [
          "hide-cell"
        ]
      },
      "source": [
        "import numpy as np\n",
        "import scipy as sp\n",
        "import matplotlib.pyplot as plt\n",
        "import pandas as pd\n",
        "import seaborn as sns\n",
        "import matplotlib as mp\n",
        "import sklearn\n",
        "from IPython.display import Image\n",
        "\n",
        "from sklearn.neighbors import KNeighborsClassifier \n",
        "import sklearn.datasets as datasets\n",
        "%matplotlib inline"
      ],
      "execution_count": null,
      "outputs": []
    },
    {
      "cell_type": "markdown",
      "metadata": {},
      "source": [
        "Today we'll expand our repetoire of classification techniques.\n",
        "\n",
        "In so doing we'll look at a first example of a new kind of model: nonparametric.\n",
        "\n",
        "## Parametric vs. Nonparametric Models\n",
        "\n",
        "There are many ways to define models (whether supervised or unsupervised).\n",
        "\n",
        "However a key distinction is this:  does the model have a fixed number of parameters, or does the number of parameters grow with the training data?\n",
        "\n",
        "If the model has a __fixed number__ of parameters, it is called __parametric.__\n",
        "\n",
        "If the number of parameters grows with the data, the model is called __nonparametric.__\n",
        "\n",
        "Parametric models have \n",
        "* the advantage of often being faster to use, \n",
        "* but the disadvantage of making strong assumptions about the nature of data distributions.\n",
        "\n",
        "Nonparametric models are\n",
        "* more flexible,\n",
        "* but can be computationally intractable for large datasets.\n",
        "\n",
        "The classic example of a nonparametric classifier is called __$k$-Nearest Neighbors.__"
      ]
    },
    {
      "cell_type": "code",
      "metadata": {
        "hide_input": true,
        "slideshow": {
          "slide_type": "skip"
        },
        "tags": [
          "hide-cell"
        ]
      },
      "source": [
        "from matplotlib.colors import ListedColormap\n",
        "cmap_light = ListedColormap(['#FFAAAA', '#AAFFAA', '#AAAAFF'])\n",
        "cmap_bold = ListedColormap(['#FF0000', '#00FF00', '#0000FF'])"
      ],
      "execution_count": null,
      "outputs": []
    },
    {
      "cell_type": "markdown",
      "metadata": {},
      "source": [
        "## $k$-Nearest Neighbors\n",
        "\n",
        "> When I see a bird that walks like a duck and swims like a duck and quacks like a duck, I call that bird a duck.\n",
        "\n",
        "--James Whitcomb Riley (1849 - 1916)\n",
        "\n",
        "<center>\n",
        "\n",
        "<img src=\"figs/L15-duck.jpg\" width=\"100px\">\n",
        "\n",
        "</center>\n",
        "\n",
        "Like any classifier, $k$-Nearest Neighbors is trained by providing it a set of labeled data.\n",
        "\n",
        "However, at training time, the classifier does very little.   It just stores away the training data."
      ]
    },
    {
      "cell_type": "code",
      "metadata": {
        "hide_input": true,
        "slideshow": {
          "slide_type": "fragment"
        },
        "tags": [
          "hide-input"
        ]
      },
      "source": [
        "demo_y = [1, 1, 1, 1, 1, 1, 0, 0, 0, 0, 0, 0, 0]\n",
        "demo_X = np.array([[-3,1], [-2, 4], [-2, 2], [-1.5, 1], [-1, 3], [0, 0], [1, 1.5], [2, 0.5], [2, 3], [2, 0], [3, 1], [4, 4], [0, 1]])\n",
        "test_X = [-0.3, 0.7]\n",
        "#\n",
        "plt.scatter(demo_X[:,0], demo_X[:,1], c=demo_y, cmap=cmap_bold)\n",
        "plt.axis('equal')\n",
        "plt.axis('off')\n",
        "plt.title('Training Points: 2 Classes');"
      ],
      "execution_count": null,
      "outputs": []
    },
    {
      "cell_type": "markdown",
      "metadata": {},
      "source": [
        "The idea of the $k$-Nearest Neighbors classifier is that, at test time, it simply \"looks at\" the $k$ points in the training set that are nearest to the test input $x$, and makes a decision based on the labels on those points.\n",
        "\n",
        "By \"nearest\" we usually mean in Euclidean distance."
      ]
    },
    {
      "cell_type": "code",
      "metadata": {
        "hide_input": true,
        "slideshow": {
          "slide_type": "slide"
        },
        "tags": [
          "hide-input"
        ]
      },
      "source": [
        "plt.scatter(demo_X[:,0], demo_X[:,1], c=demo_y, cmap=cmap_bold)\n",
        "plt.plot(test_X[0], test_X[1], 'ok')\n",
        "plt.annotate('Test Point', test_X, [75, 25], \n",
        "             textcoords = 'offset points', fontsize = 14, \n",
        "             arrowprops = {'arrowstyle': '->'})\n",
        "plt.axis('equal')\n",
        "plt.axis('off')\n",
        "plt.title('Training Points: 2 Classes');"
      ],
      "execution_count": null,
      "outputs": []
    },
    {
      "cell_type": "code",
      "metadata": {
        "hide_input": true,
        "slideshow": {
          "slide_type": "slide"
        },
        "tags": [
          "hide-input"
        ]
      },
      "source": [
        "plt.scatter(demo_X[:,0], demo_X[:,1], c=demo_y, cmap=cmap_bold)\n",
        "plt.plot(test_X[0], test_X[1], 'ok')\n",
        "ax=plt.gcf().gca()\n",
        "circle = mp.patches.Circle(test_X, 0.5, facecolor = 'red', alpha = 0.2)\n",
        "plt.axis('equal')\n",
        "plt.axis('off')\n",
        "ax.add_artist(circle)\n",
        "plt.title('1-Nearest-Neighbor: Classification: Red');"
      ],
      "execution_count": null,
      "outputs": []
    },
    {
      "cell_type": "code",
      "metadata": {
        "hide_input": true,
        "slideshow": {
          "slide_type": "slide"
        },
        "tags": [
          "hide-input"
        ]
      },
      "source": [
        "plt.scatter(demo_X[:,0], demo_X[:,1], c=demo_y, cmap=cmap_bold)\n",
        "test_X = [-0.3, 0.7]\n",
        "plt.plot(test_X[0], test_X[1], 'ok')\n",
        "ax=plt.gcf().gca()\n",
        "    #ellipse = mp.patches.Ellipse(gmm.means_[clus], 3 * e[0], 3 * e[1], angle, color = 'r')\n",
        "circle = mp.patches.Circle(test_X, 0.9, facecolor = 'gray', alpha = 0.3)\n",
        "plt.axis('equal')\n",
        "plt.axis('off')\n",
        "ax.add_artist(circle)\n",
        "plt.title('2-Nearest-Neighbor');"
      ],
      "execution_count": null,
      "outputs": []
    },
    {
      "cell_type": "code",
      "metadata": {
        "hide_input": true,
        "slideshow": {
          "slide_type": "slide"
        },
        "tags": [
          "hide-input"
        ]
      },
      "source": [
        "plt.figure()\n",
        "ax=plt.gcf().gca()\n",
        "    #ellipse = mp.patches.Ellipse(gmm.means_[clus], 3 * e[0], 3 * e[1], angle, color = 'r')\n",
        "circle = mp.patches.Circle(test_X, 1.4, facecolor = 'blue', alpha = 0.2)\n",
        "ax.add_artist(circle)\n",
        "plt.scatter(demo_X[:,0], demo_X[:,1], c=demo_y, cmap=cmap_bold)\n",
        "test_X = [-0.3, 0.7]\n",
        "plt.plot(test_X[0], test_X[1], 'ok')\n",
        "plt.axis('equal')\n",
        "plt.axis('off')\n",
        "plt.title('3-Nearest-Neighbor: Classification: Blue');"
      ],
      "execution_count": null,
      "outputs": []
    },
    {
      "cell_type": "markdown",
      "metadata": {},
      "source": [
        "Note that $k$-Nearest Neighbors can do either __hard__ or __soft__ classification.\n",
        "\n",
        "As a hard classifier, it returns the majority vote of the labels on the $k$ Nearest Neighbors.\n",
        "\n",
        "Which may be indeterminate, as above.\n",
        "\n",
        "It is also reasonable to weight the votes of neighborhood points according to their distance from $x$.\n",
        "\n",
        "As a soft classifier it returns:\n",
        "    \n",
        "$$ p(x = c\\,|\\,\\mathbf{x}, k) = \\frac{\\text{number of points in neighborhood with label } c}{k} $$\n",
        "\n",
        "## Model Selection for $k$-NN\n",
        "\n",
        "Each value of $k$ results in a different model.\n",
        "\n",
        "The complexity of the resulting model is therefore controlled by the hyperparameter $k$.\n",
        "\n",
        "Hence we will want to select $k$ using held-out data to avoid overfitting.\n",
        "\n",
        "Consider this dataset where items fall into three classes:"
      ]
    },
    {
      "cell_type": "code",
      "metadata": {
        "hide_input": true,
        "slideshow": {
          "slide_type": "fragment"
        },
        "tags": [
          "hide-input"
        ]
      },
      "source": [
        "import sklearn.datasets as sk_data\n",
        "X, y = sk_data.make_blobs(n_samples=150, \n",
        "                          centers=[[-2, 0],[1, 5], [2.5, 1.5]],\n",
        "                          cluster_std = [2, 2, 3],\n",
        "                          n_features=2,\n",
        "                          center_box=(-10.0, 10.0),random_state=0)\n",
        "plt.figure(figsize = (5,5))\n",
        "plt.axis('equal')\n",
        "plt.axis('off')\n",
        "plt.scatter(X[:,0], X[:,1], c = y, cmap = cmap_bold, s = 80);"
      ],
      "execution_count": null,
      "outputs": []
    },
    {
      "cell_type": "markdown",
      "metadata": {},
      "source": [
        "Let's observe how the complexity of the resulting model changes as we vary $k$.\n",
        "\n",
        "We'll do this by plotting the __decision regions__.   These show how the method would classify each potential test point in the space."
      ]
    },
    {
      "cell_type": "code",
      "metadata": {
        "hide_input": true,
        "tags": [
          "hide-input"
        ]
      },
      "source": [
        "# Plot the decision boundary. For that, we will assign a color to each\n",
        "# point in the mesh [x_min, x_max]x[y_min, y_max].\n",
        "h = .1  # step size in the mesh\n",
        "x_min, x_max = X[:, 0].min() - 1, X[:, 0].max() + 1\n",
        "y_min, y_max = X[:, 1].min() - 1, X[:, 1].max() + 1\n",
        "xx, yy = np.meshgrid(np.arange(x_min, x_max, h),\n",
        "                      np.arange(y_min, y_max, h))"
      ],
      "execution_count": null,
      "outputs": []
    },
    {
      "cell_type": "code",
      "metadata": {
        "hide_input": true,
        "scrolled": true,
        "slideshow": {
          "slide_type": "fragment"
        },
        "tags": [
          "hide-input"
        ]
      },
      "source": [
        "f, axs = plt.subplots(1, 3, figsize=(15, 5))\n",
        "for i, k in enumerate([1, 5, 25]):\n",
        "    knn = KNeighborsClassifier(n_neighbors = k)\n",
        "    knn.fit(X, y)\n",
        "    Z = knn.predict(np.c_[xx.ravel(), yy.ravel()])\n",
        "    Z = Z.reshape(xx.shape)\n",
        "    axs[i].pcolormesh(xx, yy, Z, cmap = cmap_light, shading = 'auto')\n",
        "    axs[i].axis('equal')\n",
        "    axs[i].axis('off')\n",
        "    axs[i].set_title(f'Decision Regions for $k$ = {k}');"
      ],
      "execution_count": null,
      "outputs": []
    },
    {
      "cell_type": "markdown",
      "metadata": {},
      "source": [
        "Notice how increasing $k$ results in smoother decision boundaries.\n",
        "\n",
        "These are more likely to show good generalization ability.\n",
        "\n",
        "## Challenges for $k$-NN\n",
        "\n",
        "Working with a $k$-NN classifier can involve some challenges.\n",
        "\n",
        "1. First and foremost, the computational cost of classification grows with the size of the training data. (Why?) While certain data structures may help, essentially the classification time grows linearly with the data set size.\n",
        "\n",
        "Note the tradeoff here: the training step is trivial, but the classification step can be prohibitively expensive.\n",
        "\n",
        "2. Second, since Euclidean distance is the most common distance function used, data scaling is important.   \n",
        "\n",
        "As previously discussed, features should be scaled to prevent distance measures from being dominated by a small subset of features.\n",
        "\n",
        "````{margin}\n",
        "```{note}\n",
        "The phrase `curse of dimensionality' was coined by the mathematician Richard Bellman in 1957 in his book _Dynamic Programming._\n",
        "```\n",
        "````\n",
        "\n",
        "<div style = \"float: left; width: 55%;\">\n",
        "    \n",
        "3. Third concerns the __curse of dimensionality.__\n",
        "\n",
        "If training data lives in a high dimensional space, Euclidean distance measures become less effective.\n",
        "\n",
        "This is subtle but important, so we will now look at the curse of dimensionality more closely.\n",
        "    \n",
        "</div>\n",
        "    \n",
        "<img src=\"figs/L15-curse-frankenstein-edited.jpeg\" alt=\"Figure\" width=\"20%\" float = \"right\">\n",
        "\n",
        "### The Curse of Dimensionality\n",
        "\n",
        "The Curse of Dimensionality is a somewhat tongue in cheek term for serious problems that arise when we use geometric algorithms in high dimensions.\n",
        "\n",
        "There are various aspects of the Curse that affect $k$-NN.\n",
        "\n",
        "__1. Points are far apart in high dimension.__\n",
        "\n",
        "$k$-NN relies on there being one or more \"close\" points to the test point $x$.   \n",
        "\n",
        "In other words, we need the training data to be relatively dense, so there are \"close\" points everywhere.\n",
        "\n",
        "Unfortunately, the amount of space we work in grows exponentially with the dimension $d$.\n",
        "\n",
        "So the amount of data we need to maintain a given density also grows exponentially with dimension $d$.\n",
        "\n",
        "Hence, points in high-dimensional spaces tend not to be close to one another at all.\n",
        "\n",
        "One very intuitive way to think about it is this:\n",
        "\n",
        "In order for two points to be close in $\\mathbb{R}^d$, they must be close in __each__ of the $d$ dimensions.\n",
        "\n",
        "As the number of dimensions grows, it becomes harder and harder for a pair of points to be close in __each__ dimension.\n",
        "\n",
        "````{margin}\n",
        "```{note}\n",
        "For a fascinating exploration of the properties of unit spheres in high dimension, see [An Adventure in the Nth Dimension](https://www.americanscientist.org/article/an-adventure-in-the-nth-dimension) by Brian Hayes in _American Scientist._\n",
        "```\n",
        "````\n",
        "\n",
        "__2. Points tend to all be at similar distances in high dimension.__\n",
        "\n",
        "This one is a little harder to visualize.  We'll use formulas instead to guide us.\n",
        "\n",
        "Let's say points are uniformly distributed in space, so that number of points in a region is proportional to the region's volume.  \n",
        "\n",
        "How does volume relate to distance as dimension $d$ grows?\n",
        "\n",
        "Consider you are at some point in space (say, the test point $x$), and you want to know how many points are within a unit distance from you.\n",
        "\n",
        "This is proportional to the volume of a hypersphere with radius 1.\n",
        "\n",
        "Now, the volume of a hypersphere is $k_d \\,r^d$.  \n",
        "\n",
        "For each $d$ there is a different $k_d$.  \n",
        "* For $d = 2$, $k_d$ is $4\\pi$, and \n",
        "* for $d = 3$, $k_d$ is 4/3 $\\pi$, \n",
        "* etc."
      ]
    },
    {
      "cell_type": "code",
      "metadata": {
        "hide_input": true,
        "slideshow": {
          "slide_type": "fragment"
        },
        "tags": [
          "hide-input"
        ]
      },
      "source": [
        "ax = plt.figure(figsize = (7,7)).add_subplot(projection = '3d')\n",
        "# coordinates of sphere surface\n",
        "u, v = np.mgrid[0:2*np.pi:50j, 0:np.pi:50j]\n",
        "x = np.cos(u)*np.sin(v)\n",
        "y = np.sin(u)*np.sin(v)\n",
        "z = np.cos(v)\n",
        "#\n",
        "ax.plot_surface(x, y, z, color='r', alpha = 0.3)\n",
        "s3 = 1/np.sqrt(3)\n",
        "ax.quiver(0, 0, 0, s3, s3, s3, color = 'b')\n",
        "ax.text(s3/2, s3/2, s3/2-0.2, 'r', size = 14)\n",
        "ax.set_axis_off()\n",
        "plt.title('Hypersphere in $d$ dimensions\\nVolume is $k_d \\,r^d$');"
      ],
      "execution_count": null,
      "outputs": []
    },
    {
      "cell_type": "markdown",
      "metadata": {},
      "source": [
        "Let's also ask how many points are within a slightly smaller distance, let's say 0.99.  \n",
        "\n",
        "The new distance can be thought of as $1 - \\epsilon$ for some small $\\epsilon$.\n",
        "\n",
        "The number of points then of course is proprtional to $k_d (1-\\epsilon)^d$\n",
        "\n",
        "Now, what is the fraction $f_d$ of all the points that are within a unit distance, but __not__ within a distance of 0.99?\n",
        "\n",
        "(That is, not within the the hypersphere with radius $1-\\epsilon$)?\n",
        "\n",
        "This is \n",
        "\n",
        "$$ f_d = \\frac{k_d 1^d - k_d (1-\\epsilon)^d}{k^d 1^d} $$"
      ]
    },
    {
      "cell_type": "code",
      "metadata": {
        "hide_input": true,
        "slideshow": {
          "slide_type": "fragment"
        },
        "tags": [
          "hide-input"
        ]
      },
      "source": [
        "ax = plt.figure(figsize = (7,7)).add_subplot(projection = '3d')\n",
        "# coordinates of sphere surface\n",
        "u, v = np.mgrid[0:2*np.pi:50j, 0:np.pi:50j]\n",
        "x = np.cos(u)*np.sin(v)\n",
        "y = np.sin(u)*np.sin(v)\n",
        "z = np.cos(v)\n",
        "#\n",
        "ax.plot_surface(x, y, z, color='r', alpha = 0.2)\n",
        "s3 = 1/np.sqrt(3)\n",
        "ax.quiver(0, 0, 0, s3, s3, s3, color = 'b')\n",
        "ax.text(s3/2, s3/2, s3/2-0.2, '1', size = 14)\n",
        "#\n",
        "eps = 0.9\n",
        "#\n",
        "ax.plot_surface(eps * x, eps * y, eps * z, color='b', alpha = 0.2)\n",
        "ax.quiver(0, 0, 0, eps, 0, 0, color = 'k')\n",
        "ax.text(1/2-0.2, 0, -0.4, r'$1-\\epsilon$', size = 14)\n",
        "ax.set_axis_off()\n",
        "plt.title('Inner and Outer Hyperspheres');"
      ],
      "execution_count": null,
      "outputs": []
    },
    {
      "cell_type": "markdown",
      "metadata": {},
      "source": [
        "Now, $(1-\\epsilon)^d$ goes to 0 as $d \\rightarrow \\infty$.\n",
        "\n",
        "So, $f_d$ goes to 1 as $d \\rightarrow \\infty$.\n",
        "\n",
        "Which means: in the limit of high $d$, all of the points that are __within__ 1 unit of our location, are almost __exactly__ 1 unit from our location!"
      ]
    },
    {
      "cell_type": "code",
      "metadata": {
        "hide_input": true,
        "slideshow": {
          "slide_type": "fragment"
        },
        "tags": [
          "hide-input"
        ]
      },
      "source": [
        "ax = plt.figure(figsize = (7,7)).add_subplot(projection = '3d')\n",
        "# coordinates of sphere surface\n",
        "u, v = np.mgrid[0:2*np.pi:50j, 0:np.pi:50j]\n",
        "x = np.cos(u)*np.sin(v)\n",
        "y = np.sin(u)*np.sin(v)\n",
        "z = np.cos(v)\n",
        "#\n",
        "ax.plot_surface(x, y, z, color='r', alpha = 0.2)\n",
        "s3 = 1/np.sqrt(3)\n",
        "ax.quiver(0, 0, 0, s3, s3, s3, color = 'b')\n",
        "ax.text(s3/2, s3/2, s3/2-0.2, '1', size = 14)\n",
        "#\n",
        "eps = 0.9\n",
        "#\n",
        "ax.plot_surface(eps * x, eps * y, eps * z, color='b', alpha = 0.2)\n",
        "ax.quiver(0, 0, 0, eps, 0, 0, color = 'k')\n",
        "ax.text(1/2-0.2, 0, -0.4, r'$1-\\epsilon$', size = 14)\n",
        "ax.set_axis_off()\n",
        "plt.title('In high-$d$, All Points Lie in Outer Shell');"
      ],
      "execution_count": null,
      "outputs": []
    },
    {
      "cell_type": "markdown",
      "metadata": {},
      "source": [
        "````{margin}\n",
        "```{note}\n",
        "The following example is based on _Data Science from Scratch,_ Joel Grus, Second Edition, Chapter 12.  \n",
        "```\n",
        "````\n",
        "\n",
        "Let's demonstrate this effect in practice.\n",
        "\n",
        "What we will do is create 100 points, scattered at random within a $d$-dimensional space.\n",
        "\n",
        "We will look at two quantities:\n",
        "* The __minimum__ distance between any two points, and\n",
        "* The __average__ distance between any two points.\n",
        "\n",
        "as we vary $d$."
      ]
    },
    {
      "cell_type": "code",
      "metadata": {
        "hide_input": true,
        "slideshow": {
          "slide_type": "skip"
        },
        "tags": [
          "hide-input"
        ]
      },
      "source": [
        "import sklearn.metrics as metrics\n",
        "\n",
        "nsamples = 1000\n",
        "unif_X = np.random.default_rng().uniform(0, 1, nsamples).reshape(-1, 1)\n",
        "euclidean_dists = metrics.euclidean_distances(unif_X)\n",
        "# extract the values above the diagonal\n",
        "dists = euclidean_dists[np.triu_indices(nsamples, 1)]\n",
        "mean_dists = [np.mean(dists)]\n",
        "min_dists = [np.min(dists)]\n",
        "for d in range(2, 101):\n",
        "    unif_X = np.column_stack([unif_X, np.random.default_rng().uniform(0, 1, nsamples)])\n",
        "    euclidean_dists = metrics.euclidean_distances(unif_X)\n",
        "    dists = euclidean_dists[np.triu_indices(nsamples, 1)]\n",
        "    mean_dists.append(np.mean(dists))\n",
        "    min_dists.append(np.min(dists))"
      ],
      "execution_count": null,
      "outputs": []
    },
    {
      "cell_type": "code",
      "metadata": {
        "hide_input": true,
        "slideshow": {
          "slide_type": "fragment"
        },
        "tags": [
          "hide-input"
        ]
      },
      "source": [
        "plt.plot(min_dists, label = \"Minimum Distance\")\n",
        "plt.plot(mean_dists, label = \"Average Distance\")\n",
        "plt.xlabel(r'Number of dimensions ($d$)')\n",
        "plt.ylabel('Distance')\n",
        "plt.legend(loc = 'best')\n",
        "plt.title(f'Comparison of Minimum Versus Average Distance Between {nsamples} Points\\nAs Dimension Grows');"
      ],
      "execution_count": null,
      "outputs": []
    },
    {
      "cell_type": "markdown",
      "metadata": {},
      "source": [
        "The average distance between points grows, but it seems that the minimum distance between points grows about as fast.\n",
        "\n",
        "So the ratio of the minimum distance to the average distance grows as well!\n",
        "\n",
        "Let's look at that ratio:"
      ]
    },
    {
      "cell_type": "code",
      "metadata": {
        "hide_input": true,
        "tags": [
          "hide-input"
        ]
      },
      "source": [
        "plt.plot([a/b for a, b in zip(min_dists, mean_dists)])\n",
        "plt.xlabel(r'Number of dimensions ($d$)')\n",
        "plt.ylabel('Ratio')\n",
        "plt.title(f'Ratio of Minimum to Average Distance Between {nsamples} Points\\nAs Dimension Grows');"
      ],
      "execution_count": null,
      "outputs": []
    },
    {
      "cell_type": "markdown",
      "metadata": {},
      "source": [
        "This shows that, for any test point $x$, the distance to the __closest__ point to $x$, relatively speaking, gets closer and closer to the __average__ distance between points.\n",
        "\n",
        "Of course, if we used a point at the average distance for classifying $x$, we'd get a very poor classifier.\n",
        "\n",
        "__Implications of the Curse.__\n",
        "\n",
        "For $k$-NN, the Curse of Dimensionality means that in high dimension, most points are nearly the same distance from the test point.\n",
        "\n",
        "This makes $k$-NN ineffective:  it cannot reliably tell which are the $k$ nearest neighbors, and its performance degrades.\n",
        "\n",
        "__What Can be Done?__\n",
        "\n",
        "The problem is that you simply cannot have enough data to do a good job using $k$-NN in high dimensions.\n",
        "\n",
        "One approach can be to use a different dissimilarity metric, since Euclidean distance is not useful.   \n",
        "\n",
        "For example, you may use cosine distance as your metric instead; this does not suffer from the same problems as Euclidean distance, but you will have to decide if it is a good metric for your problem.\n",
        "\n",
        "If you must use $k$-NN with Euclidean distance for your task, another option may be to __reduce__ the dimension of your data.\n",
        "\n",
        "Surprisingly, this can often be done at little cost in accuracy.\n",
        "\n",
        "We will discuss dimensionality reduction techniques at length later in the course.\n",
        "\n",
        "## In Practice: Model Selection\n",
        "\n",
        "Next we'll look at two classification methods in practice: \n",
        "\n",
        "* Decision Trees, and \n",
        "* k-Nearest Neighbors.\n",
        "\n",
        "To compare them, we will need to understand methods for __model selection.__\n",
        "\n",
        "To compare these methods, the question arises:\n",
        "    \n",
        "### How do we evaluate a classifier?\n",
        "\n",
        "In the simple case of a binary classifier, we can call one class the 'Positive' class and one the 'Negative' class.\n",
        "\n",
        "The most basic measure of success for a classifer is __accuracy__: what fraction of test points are correctly classified?\n",
        "\n",
        "Of course, accuracy is important, but it can be too simplistic at times.\n",
        "\n",
        "For example, let's say we have a dataset showing __class imbalance__: for example 90% of the data are the Positive class and 10% are the Negative class.\n",
        "\n",
        "For this dataset, consider a classifier that always predicts 'Positive'.   Its accuracy is 90%, but it is a very 'stupid' classifier!  (ie, it could be one line of code: `print(Positive)`!)\n",
        "\n",
        "A better way to measure the classifier's performance is using a Confusion Matrix:\n",
        "\n",
        "<img src=\"figs/L15-confusion-matrix.png\" alt=\"Figure\" width=\"30%\" float = \"right\">\n",
        "\n",
        "Diagonal elements represent successes, and off diagonals represent errors.\n",
        "\n",
        "Using the confusion matrix we can define some more useful measures:\n",
        "   * __Recall__ - defined as the fraction of actual positives correctly classified:  \n",
        "       * TP/(TP + FN)\n",
        "   * __Precision__ - defined as the fraction of classified positives correctly classified: \n",
        "       * TP/(TP + FP)\n",
        "\n",
        "### Evaluating $k$- Nearest Neighbors and Decision Trees\n",
        "\n",
        "First we'll generate some synthetic data to work with."
      ]
    },
    {
      "cell_type": "code",
      "metadata": {
        "slideshow": {
          "slide_type": "fragment"
        }
      },
      "source": [
        "X, y = datasets.make_circles(noise=.1, factor=.5, random_state=1)\n",
        "print('Shape of data: {}'.format(X.shape))\n",
        "print('Unique labels: {}'.format(np.unique(y)))"
      ],
      "execution_count": null,
      "outputs": []
    },
    {
      "cell_type": "markdown",
      "metadata": {},
      "source": [
        "Here is what the data looks like:"
      ]
    },
    {
      "cell_type": "code",
      "metadata": {
        "hide_input": true,
        "slideshow": {
          "slide_type": "-"
        },
        "tags": [
          "hide-input"
        ]
      },
      "source": [
        "plt.figure(figsize = (6,6))\n",
        "plt.prism()  # this sets a nice color map\n",
        "plt.scatter(X[:, 0], X[:, 1], c=y, s = 80)\n",
        "plt.axis('off')\n",
        "plt.axis('equal');"
      ],
      "execution_count": null,
      "outputs": []
    },
    {
      "cell_type": "markdown",
      "metadata": {},
      "source": [
        "Recall that we always want to test on data separate from our training data.\n",
        "\n",
        "For now, we will something very simple: take the first 50 examples for training and the rest for testing.   (Later we will do this a better way.)"
      ]
    },
    {
      "cell_type": "code",
      "metadata": {
        "slideshow": {
          "slide_type": "fragment"
        }
      },
      "source": [
        "X_train = X[:50]\n",
        "y_train = y[:50]\n",
        "X_test = X[50:]\n",
        "y_test = y[50:]"
      ],
      "execution_count": null,
      "outputs": []
    },
    {
      "cell_type": "code",
      "metadata": {
        "hide_input": true,
        "slideshow": {
          "slide_type": "skip"
        },
        "tags": [
          "hide-input"
        ]
      },
      "source": [
        "fig_size = (12, 5)"
      ],
      "execution_count": null,
      "outputs": []
    },
    {
      "cell_type": "code",
      "metadata": {
        "hide_input": true,
        "slideshow": {
          "slide_type": "fragment"
        },
        "tags": [
          "hide-input"
        ]
      },
      "source": [
        "plt.figure(figsize = fig_size)\n",
        "plt.subplot(1, 2, 1)\n",
        "plt.scatter(X_train[:, 0], X_train[:, 1], c = y_train, s = 80)\n",
        "plt.axis('equal')\n",
        "plt.axis('off')\n",
        "plt.title('Training Data')\n",
        "\n",
        "plt.subplot(1, 2, 2)\n",
        "plt.scatter(X_test[:, 0], X_test[:, 1], c = y_test, s = 80)\n",
        "plt.title('Test Data')\n",
        "plt.axis('equal')\n",
        "plt.axis('off');"
      ],
      "execution_count": null,
      "outputs": []
    },
    {
      "cell_type": "markdown",
      "metadata": {},
      "source": [
        "For our first example, we will classify the points (in the two classes) using a k-nn classifier.\n",
        "\n",
        "We will specify that $k=5$, i.e., we will classify based on the majority vote of the 5 nearest neighbors."
      ]
    },
    {
      "cell_type": "code",
      "metadata": {
        "slideshow": {
          "slide_type": "fragment"
        }
      },
      "source": [
        "k = 5\n",
        "knn5 = KNeighborsClassifier(n_neighbors = k)    "
      ],
      "execution_count": null,
      "outputs": []
    },
    {
      "cell_type": "markdown",
      "metadata": {},
      "source": [
        "In the context of supervised learning, the `scikit-learn` `fit()` function corresponds to __training__ and the `predict()` function corresponds to __testing.__"
      ]
    },
    {
      "cell_type": "code",
      "metadata": {
        "slideshow": {
          "slide_type": "fragment"
        }
      },
      "source": [
        "knn5.fit(X_train,y_train)\n",
        "print(f'Accuracy on test data: {knn5.score(X_test, y_test)}')"
      ],
      "execution_count": null,
      "outputs": []
    },
    {
      "cell_type": "markdown",
      "metadata": {},
      "source": [
        "Accuracy of 72% sounds good -- but let's dig deeper. \n",
        "\n",
        "We'll call the red points the Positive class and the green points the Negative class.\n",
        "\n",
        "Here is the confusion matrix:"
      ]
    },
    {
      "cell_type": "code",
      "metadata": {
        "slideshow": {
          "slide_type": "fragment"
        },
        "tags": [
          "hide-input"
        ]
      },
      "source": [
        "y_pred_test = knn5.predict(X_test)\n",
        "pd.DataFrame(metrics.confusion_matrix(y_test, y_pred_test), \n",
        "             columns = ['Predicted +', 'Predicted -'], \n",
        "             index = ['Actual +', 'Actual -'])"
      ],
      "execution_count": null,
      "outputs": []
    },
    {
      "cell_type": "markdown",
      "metadata": {},
      "source": [
        "Looks like the classifier is getting all of the Negative class correct, but only achieving accuracy of 50% on the Positive class.\n",
        "\n",
        "That is, its __precision__ is 100%, but its __recall__ is only 50%.\n",
        "\n",
        "Let's visualize the results."
      ]
    },
    {
      "cell_type": "code",
      "metadata": {
        "hide_input": true,
        "scrolled": false,
        "slideshow": {
          "slide_type": "-"
        },
        "tags": [
          "hide-input"
        ]
      },
      "source": [
        "k = 5\n",
        "\n",
        "plt.figure(figsize = fig_size)\n",
        "plt.subplot(1, 2, 1)\n",
        "\n",
        "plt.scatter(X_train[:, 0], X_train[:, 1], c = y_train, s = 80)\n",
        "plt.axis('equal')\n",
        "plt.title('Training')\n",
        "plt.axis('off')\n",
        "\n",
        "plt.subplot(1, 2, 2)\n",
        "plt.scatter(X_test[:, 0], X_test[:, 1], c = y_pred_test, s = 80)\n",
        "plt.title(f'Testing $k$={k}\\nAccuracy: {knn5.score(X_test, y_test)}')\n",
        "plt.axis('off')\n",
        "plt.axis('equal');"
      ],
      "execution_count": null,
      "outputs": []
    },
    {
      "cell_type": "markdown",
      "metadata": {},
      "source": [
        "Indeed, the Positive (red) points in the upper half of the test data are all classified incorrectly. \n",
        "\n",
        "Let's look at one of the points that the classifier got wrong:"
      ]
    },
    {
      "cell_type": "code",
      "metadata": {
        "hide_input": true,
        "slideshow": {
          "slide_type": "-"
        },
        "tags": [
          "hide-input"
        ]
      },
      "source": [
        "k=5 \n",
        "test_point = np.argmax(X_test[:,1])\n",
        "neighbors = knn5.kneighbors([X_test[test_point]])[1]\n",
        "\n",
        "plt.figure(figsize = fig_size)\n",
        "plt.subplot(1, 2, 1)\n",
        "plt.scatter(X_train[:, 0], X_train[:, 1], c = y_train, s = 80)\n",
        "plt.scatter(X_train[neighbors,0], X_train[neighbors,1],\n",
        "            c = y_train[neighbors], marker='o', \n",
        "            facecolors='none', edgecolors='b', s = 80)\n",
        "radius = np.max(metrics.euclidean_distances(X_test[test_point].reshape(1, -1), X_train[neighbors][0]))\n",
        "ax = plt.gcf().gca()\n",
        "circle = mp.patches.Circle(X_test[test_point], radius, facecolor = 'blue', alpha = 0.2)\n",
        "ax.add_artist(circle)\n",
        "plt.axis('equal')\n",
        "plt.axis('off')\n",
        "plt.title(r'Training')\n",
        "\n",
        "plt.subplot(1, 2, 2)\n",
        "plt.scatter(X_test[:, 0], X_test[:, 1], c = y_pred_test, s = 80)\n",
        "plt.scatter(X_test[test_point,0], X_test[test_point,1], marker='o', \n",
        "            facecolors='none', edgecolors='b', s = 80)\n",
        "plt.title('Testing $k$={}\\nAccuracy: {}'.format(k,knn5.score(X_test, y_test)))\n",
        "plt.axis('equal')\n",
        "plt.axis('off');"
      ],
      "execution_count": null,
      "outputs": []
    },
    {
      "cell_type": "markdown",
      "metadata": {},
      "source": [
        "For comparison purposes, let's try $k$ = 3."
      ]
    },
    {
      "cell_type": "code",
      "metadata": {
        "hide_input": true,
        "slideshow": {
          "slide_type": "-"
        },
        "tags": [
          "hide-input"
        ]
      },
      "source": [
        "k = 3\n",
        "knn3 = KNeighborsClassifier(n_neighbors=k)    \n",
        "knn3.fit(X_train,y_train)\n",
        "y_pred_test = knn3.predict(X_test)\n",
        "\n",
        "plt.figure(figsize = fig_size)\n",
        "plt.subplot(1, 2, 1)\n",
        "plt.scatter(X_train[:, 0], X_train[:, 1], c=y_train, s = 80)\n",
        "plt.axis('equal')\n",
        "plt.axis('off')\n",
        "plt.title(r'Training')\n",
        "\n",
        "plt.subplot(1, 2, 2)\n",
        "plt.scatter(X_test[:, 0], X_test[:, 1], c=y_pred_test, s = 80)\n",
        "plt.title(f'Testing $k$={k}\\nAccuracy: {knn3.score(X_test, y_test)}')\n",
        "plt.axis('off')\n",
        "plt.axis('equal');"
      ],
      "execution_count": null,
      "outputs": []
    },
    {
      "cell_type": "markdown",
      "metadata": {},
      "source": [
        "And let's look at the same individual point as before:"
      ]
    },
    {
      "cell_type": "code",
      "metadata": {
        "hide_input": true,
        "slideshow": {
          "slide_type": "-"
        },
        "tags": [
          "hide-input"
        ]
      },
      "source": [
        "k = 3\n",
        "test_point = np.argmax(X_test[:,1])\n",
        "X_test[test_point]\n",
        "neighbors = knn3.kneighbors([X_test[test_point]])[1]\n",
        "\n",
        "plt.figure(figsize = fig_size)\n",
        "plt.subplot(1, 2, 1)\n",
        "plt.scatter(X_train[:, 0], X_train[:, 1], c=y_train, s = 80)\n",
        "plt.scatter(X_train[neighbors, 0], X_train[neighbors, 1], marker = 'o', \n",
        "            facecolors = 'none', edgecolors = 'b', s = 80)\n",
        "radius = np.max(metrics.euclidean_distances(X_test[test_point].reshape(1, -1), \n",
        "                                            X_train[neighbors][0]))\n",
        "ax = plt.gcf().gca()\n",
        "circle = mp.patches.Circle(X_test[test_point], radius, facecolor = 'blue', alpha = 0.2)\n",
        "ax.add_artist(circle)\n",
        "plt.axis('equal')\n",
        "plt.axis('off')\n",
        "plt.title(r'Training')\n",
        "plt.subplot(1, 2, 2)\n",
        "plt.scatter(X_test[:, 0], X_test[:, 1], c = y_pred_test, s = 80)\n",
        "plt.scatter(X_test[test_point,0], X_test[test_point,1], marker = 'o', \n",
        "            facecolors = 'none', edgecolors = 'b', s = 80)\n",
        "plt.title(f'Testing $k$={k}\\nAccuracy: {knn3.score(X_test, y_test)}')\n",
        "plt.axis('off')\n",
        "plt.axis('equal');"
      ],
      "execution_count": null,
      "outputs": []
    },
    {
      "cell_type": "markdown",
      "metadata": {},
      "source": [
        "So how confident can we be that the test accuracy is 92% in general?\n",
        "\n",
        "What we really need to do is consider __many__ different train/test splits.\n",
        "\n",
        "Thus, the proper way to evaluate generalization ability (accuracy on the test data) is:\n",
        "    \n",
        "1. Form a random train/test split\n",
        "2. Train the classifier on the training split\n",
        "3. Test the classifier on the testing split\n",
        "4. Accumulate statistics\n",
        "5. Repeat from 1. until enough statistics have been collected."
      ]
    },
    {
      "cell_type": "code",
      "metadata": {
        "slideshow": {
          "slide_type": "fragment"
        }
      },
      "source": [
        "import sklearn.model_selection as model_selection\n",
        "\n",
        "nreps = 50\n",
        "kvals = range(1, 10)\n",
        "acc = []\n",
        "np.random.seed(4)\n",
        "for k in kvals:\n",
        "    test_rep = []\n",
        "    train_rep = []\n",
        "    for i in range(nreps):\n",
        "        X_train, X_test, y_train, y_test = model_selection.train_test_split(X, \n",
        "                                                                            y, \n",
        "                                                                            test_size = 0.5)\n",
        "        knn = KNeighborsClassifier(n_neighbors = k)    \n",
        "        knn.fit(X_train, y_train)\n",
        "        train_rep.append(knn.score(X_train, y_train))\n",
        "        test_rep.append(knn.score(X_test, y_test))\n",
        "    acc.append([np.mean(np.array(test_rep)), np.mean(np.array(train_rep))])\n",
        "accy = np.array(acc)"
      ],
      "execution_count": null,
      "outputs": []
    },
    {
      "cell_type": "code",
      "metadata": {
        "hide_input": true,
        "slideshow": {
          "slide_type": "fragment"
        },
        "tags": [
          "hide-input"
        ]
      },
      "source": [
        "plt.plot(kvals, accy[:, 0], '.-', label = 'Accuracy on Test Data')\n",
        "plt.plot(kvals, accy[:, 1], '.-', label = 'Accuracy on Training Data')\n",
        "plt.xlabel(r'$k$')\n",
        "plt.ylabel('Accuracy')\n",
        "plt.title('Train/Test Comparision of $k$-NN')\n",
        "plt.legend(loc = 'best');"
      ],
      "execution_count": null,
      "outputs": []
    },
    {
      "cell_type": "markdown",
      "metadata": {},
      "source": [
        "Based on the generalization error (ie, accuracy on test (held-out) data), it looks like $k = 2$ is the best choice. \n",
        "\n",
        "Here is the __decision boundary__ for $k$-NN with $k = 2$."
      ]
    },
    {
      "cell_type": "code",
      "metadata": {
        "hide_input": true,
        "slideshow": {
          "slide_type": "skip"
        },
        "tags": [
          "hide-cell"
        ]
      },
      "source": [
        "x_min, x_max = X[:, 0].min() - .1, X[:, 0].max() + .1\n",
        "y_min, y_max = X[:, 1].min() - .1, X[:, 1].max() + .1\n",
        "plot_step = 0.02\n",
        "xx, yy = np.meshgrid(np.arange(x_min, x_max, plot_step),\n",
        "                     np.arange(y_min, y_max, plot_step))"
      ],
      "execution_count": null,
      "outputs": []
    },
    {
      "cell_type": "code",
      "metadata": {
        "hide_input": true,
        "tags": [
          "hide-input"
        ]
      },
      "source": [
        "np.random.seed(1)\n",
        "X_train, X_test, y_train, y_test = model_selection.train_test_split(X, y, test_size = 0.5)\n",
        "\n",
        "k = 2\n",
        "knn = KNeighborsClassifier(n_neighbors = k)  \n",
        "knn.fit(X_train, y_train)\n",
        "y_pred_train = knn.predict(X_train)\n",
        "y_pred_test = knn.predict(X_test)\n",
        "\n",
        "Z = knn.predict(np.c_[xx.ravel(), yy.ravel()])\n",
        "Z = Z.reshape(xx.shape)\n",
        "\n",
        "plt.figure(figsize = fig_size)\n",
        "plt.subplot(1, 2, 1)\n",
        "cs = plt.contourf(xx, yy, Z, cmap=plt.cm.Paired, alpha=0.3)\n",
        "plt.scatter(X_train[:, 0], X_train[:, 1], c=y_train, s=30)\n",
        "plt.axis('equal')\n",
        "plt.axis('off')\n",
        "plt.xlim((x_min, x_max))\n",
        "plt.ylim((y_min, y_max))\n",
        "plt.title(f'{k}-NN - Training Data\\nAccuracy: {knn.score(X_train, y_train)}');\n",
        "\n",
        "plt.subplot(1, 2, 2)\n",
        "cs = plt.contourf(xx, yy, Z, cmap=plt.cm.Paired, alpha=0.3)\n",
        "plt.scatter(X_test[:, 0], X_test[:, 1], c=y_test, s=30)\n",
        "plt.axis('equal')\n",
        "plt.axis('off')\n",
        "plt.xlim((x_min, x_max))\n",
        "plt.ylim((y_min, y_max))\n",
        "plt.title(f'{k}-NN - Test Data\\nAccuracy: {knn.score(X_test, y_test)}');"
      ],
      "execution_count": null,
      "outputs": []
    },
    {
      "cell_type": "markdown",
      "metadata": {},
      "source": [
        "## Decision Tree\n",
        "\n",
        "Next, we'll use a decision tree on the same data set."
      ]
    },
    {
      "cell_type": "code",
      "metadata": {
        "slideshow": {
          "slide_type": "fragment"
        }
      },
      "source": [
        "import sklearn.tree as tree\n",
        "dtc = tree.DecisionTreeClassifier(max_leaf_nodes = 5)\n",
        "\n",
        "dtc.fit(X_train,y_train)\n",
        "y_pred_test = dtc.predict(X_test)\n",
        "print('DT accuracy on test data: ', dtc.score(X_test, y_test))\n",
        "y_pred_train = dtc.predict(X_train)\n",
        "print('DT accuracy on training data: ', dtc.score(X_train, y_train))"
      ],
      "execution_count": null,
      "outputs": []
    },
    {
      "cell_type": "code",
      "metadata": {
        "hide_input": true,
        "slideshow": {
          "slide_type": "fragment"
        },
        "tags": [
          "hide-input"
        ]
      },
      "source": [
        "plt.figure(figsize = (6, 6))\n",
        "plt.scatter(X_test[:, 0], X_test[:, 1], c=y_pred_test, marker='^', s=80)\n",
        "plt.scatter(X_train[:, 0], X_train[:, 1], c=y_train, s=80)\n",
        "plt.axis('equal')\n",
        "plt.axis('off')\n",
        "plt.title(F'Decision Tree\\n Triangles: Test Data, Circles: Training Data\\nAccuracy: {dtc.score(X_test, y_test)}');"
      ],
      "execution_count": null,
      "outputs": []
    },
    {
      "cell_type": "markdown",
      "metadata": {},
      "source": [
        "Let's visualize the __decision boundary__ of the Decision Tree."
      ]
    },
    {
      "cell_type": "code",
      "metadata": {
        "hide_input": true,
        "slideshow": {
          "slide_type": "-"
        },
        "tags": [
          "hide-input"
        ]
      },
      "source": [
        "Z = dtc.predict(np.c_[xx.ravel(), yy.ravel()])\n",
        "Z = Z.reshape(xx.shape)\n",
        "\n",
        "plt.figure(figsize = (12, 6))\n",
        "plt.subplot(1, 2, 1)\n",
        "cs = plt.contourf(xx, yy, Z, cmap=plt.cm.Paired, alpha=0.3)\n",
        "plt.scatter(X_train[:, 0], X_train[:, 1], c = y_train, s = 80)\n",
        "plt.axis('equal')\n",
        "plt.axis('off')\n",
        "plt.xlim((x_min, x_max))\n",
        "plt.ylim((y_min, y_max))\n",
        "plt.title(f'Decision Tree - Training Data\\nAccuracy: {dtc.score(X_train, y_train)}');\n",
        "\n",
        "plt.subplot(1, 2, 2)\n",
        "cs = plt.contourf(xx, yy, Z, cmap=plt.cm.Paired, alpha=0.3)\n",
        "plt.scatter(X_test[:, 0], X_test[:, 1], c = y_pred_test, marker = '^', s = 80)\n",
        "plt.axis('equal')\n",
        "plt.axis('off')\n",
        "plt.xlim((x_min, x_max))\n",
        "plt.ylim((y_min, y_max))\n",
        "plt.title(f'Decision Tree - Test Data\\nAccuracy: {dtc.score(X_test, y_test)}');"
      ],
      "execution_count": null,
      "outputs": []
    },
    {
      "cell_type": "markdown",
      "metadata": {},
      "source": [
        "## Comparing $k$-NN and Decision Tree\n",
        "\n",
        "It appears that $k$-NN and a Decision Tree have approximately comparable performance on this dataset.\n",
        "\n",
        "However - there is a difference in __interpretability.__\n",
        "\n",
        "Interpretability is a big deal!  It means the ability to __explain__ why the classifier made the decision it did.\n",
        "\n",
        "It can be relatively difficult to __understand__ why $k$-NN is making a specific prediction.  It depends on the data in the neighborhood of the test point.\n",
        "\n",
        "On the other hand, the Decision Tree can be easily understood.\n",
        "\n",
        "We sometimes use the terms \"black box\" for an uninterpretable classifier like $k$-NN, and \"white box\" for an interpretable classifier like DT.\n",
        "\n",
        "Let's see an example of the interpretability of the Decision Tree:"
      ]
    },
    {
      "cell_type": "code",
      "metadata": {
        "hide_input": true,
        "slideshow": {
          "slide_type": "-"
        },
        "tags": [
          "hide-input"
        ]
      },
      "source": [
        "dot_data = tree.export_graphviz(dtc, out_file=None,\n",
        "                         feature_names=['X','Y'],\n",
        "                         class_names=['Red','Green'],\n",
        "                         filled=True, rounded=True,  \n",
        "                         special_characters=True) \n",
        "import pydotplus\n",
        "graph = pydotplus.graph_from_dot_data(dot_data) \n",
        "# graph.write_pdf(\"dt.pdf\") \n",
        "Image(graph.create_png())"
      ],
      "execution_count": null,
      "outputs": []
    },
    {
      "cell_type": "markdown",
      "metadata": {},
      "source": [
        "## Real Data\n",
        "\n",
        "To explore a few more issues, we'll now turn to some famous datasets that have been extensively studied in the past.\n",
        "\n",
        "### The Iris Dataset\n",
        "\n",
        "The Iris dataset is a famous dataset used by Ronald Fisher in a classic 1936 paper on classification.\n",
        "\n",
        "<center>\n",
        "\n",
        "<img src=\"figs/R._A._Fisher.png\" alt=\"Figure\" width=\"35%\">\n",
        "    \n",
        "R. A. Fisher\n",
        "\n",
        "</center>\n",
        "\n",
        "By http://www.swlearning.com/quant/kohler/stat/biographical_sketches/Fisher_3.jpeg, Public Domain, https://commons.wikimedia.org/w/index.php?curid=4233489\n",
        "\n",
        "Quoting from Wikipedia:\n",
        "\n",
        ">The data set consists of 50 samples from each of three species of Iris (Iris setosa, Iris virginica and Iris versicolor). Four features were measured from each sample: the length and the width of the sepals and petals, in centimetres. Based on the combination of these four features, Fisher developed a linear discriminant model to distinguish the species from each other.\n",
        "\n",
        "<center>\n",
        "    \n",
        "<img src=\"figs/Iris_setosa.png\" alt=\"I. setosa\" width=\"200px\" float = \"left\">\n",
        "    \n",
        "I. setosa\n",
        "    \n",
        "<img src=\"figs/Iris_versicolor.png\" alt=\"I. versicolor\" width=\"200px\" float = \"left\">\n",
        "    \n",
        "I. versicolor\n",
        "    \n",
        "<img src=\"figs/Iris_virginica.png\" alt=\"I. virginica\" width=\"200px\" float = \"left\">\n",
        "    \n",
        "I. virginica\n",
        "    \n",
        "</center>"
      ]
    },
    {
      "cell_type": "code",
      "metadata": {
        "slideshow": {
          "slide_type": "fragment"
        }
      },
      "source": [
        "iris = datasets.load_iris()"
      ],
      "execution_count": null,
      "outputs": []
    },
    {
      "cell_type": "code",
      "metadata": {
        "slideshow": {
          "slide_type": "fragment"
        }
      },
      "source": [
        "X = iris.data\n",
        "y = iris.target\n",
        "ynames = iris.target_names\n",
        "print(X.shape, y.shape)\n",
        "print(X[1,:])\n",
        "print(iris.target_names)\n",
        "print(y)"
      ],
      "execution_count": null,
      "outputs": []
    },
    {
      "cell_type": "markdown",
      "metadata": {},
      "source": [
        "First, we'll explore setting hyperparameters.\n",
        "\n",
        "We start with $k$-NN.\n",
        "\n",
        "To set the hyperparameter $k$, we evaluate error on the test set for many train/test splits:"
      ]
    },
    {
      "cell_type": "code",
      "metadata": {
        "slideshow": {
          "slide_type": "fragment"
        }
      },
      "source": [
        "kvals = range(2, 20)\n",
        "nreps = 50\n",
        "\n",
        "acc = []\n",
        "std = []\n",
        "np.random.seed(0)\n",
        "for k in kvals:\n",
        "    test_rep = []\n",
        "    train_rep = []\n",
        "    for i in range(nreps):\n",
        "        X_train, X_test, y_train, y_test = model_selection.train_test_split(\n",
        "            X, y, test_size = 0.33)\n",
        "        knn = KNeighborsClassifier(n_neighbors = k)    \n",
        "        knn.fit(X_train, y_train)\n",
        "        train_rep.append(knn.score(X_train, y_train))\n",
        "        test_rep.append(knn.score(X_test, y_test))\n",
        "    acc.append([np.mean(np.array(test_rep)), np.mean(np.array(train_rep))])\n",
        "    std.append([np.std(np.array(test_rep)), np.std(np.array(train_rep))])"
      ],
      "execution_count": null,
      "outputs": []
    },
    {
      "cell_type": "code",
      "metadata": {
        "hide_input": true,
        "slideshow": {
          "slide_type": "fragment"
        },
        "tags": [
          "hide-input"
        ]
      },
      "source": [
        "accy = np.array(acc)\n",
        "stds = np.array(std)/np.sqrt(nreps)\n",
        "plt.plot(kvals, accy[:, 0], '.-', label = 'Accuracy on Test Data')\n",
        "plt.plot(kvals, accy[:, 1], '.-', label = 'Accuracy on Training Data')\n",
        "plt.xlabel('k')\n",
        "plt.ylabel('Accuracy')\n",
        "plt.xticks(kvals)\n",
        "plt.legend(loc = 'best');\n",
        "print(f'Max Test Accuracy at k = {kvals[np.argmax(accy[:, 0])]} with accuracy {np.max(accy[:, 0]):.03f}')"
      ],
      "execution_count": null,
      "outputs": []
    },
    {
      "cell_type": "markdown",
      "metadata": {},
      "source": [
        "Now, it looks llike $k$ = 13 is the best-performing value of the hyperparameter.\n",
        "\n",
        "Can we be sure?\n",
        "\n",
        "Be careful!  Each point in the above plot is the mean of 50 random train/test splits!\n",
        "\n",
        "If we are going to be __sure__ that $k$ = 13 is best, then it should be be statistically distinguishable from the other values.\n",
        "\n",
        "To make this call, let's plot $\\pm 1 \\sigma$ confidence intervals on the mean values.\n",
        "\n",
        "(See the Probability Refresher for details on the proper formula.)"
      ]
    },
    {
      "cell_type": "code",
      "metadata": {
        "hide_input": true,
        "slideshow": {
          "slide_type": "fragment"
        },
        "tags": [
          "hide-input"
        ]
      },
      "source": [
        "plt.errorbar(kvals, accy[:, 0], stds[:, 0], label = 'Accuracy on Test Data')\n",
        "plt.xlabel('k')\n",
        "plt.ylabel('Accuracy')\n",
        "plt.legend(loc = 'lower center')\n",
        "plt.xticks(kvals)\n",
        "plt.title(r'Test Accuracy with $\\pm 1\\sigma$ Errorbars');"
      ],
      "execution_count": null,
      "outputs": []
    },
    {
      "cell_type": "markdown",
      "metadata": {},
      "source": [
        "It looks like $k$ = 13 is a reasonable value,\n",
        "\n",
        "although a case can be made that 9 and 11 are not statistically distinguishable from 13.\n",
        "\n",
        "To gain insight onto the complexity of the model for $k$ = 13, let's look at the decision boundary.\n",
        "\n",
        "Note that we will re-run the classifier using only two (of four) features, so we can visualize."
      ]
    },
    {
      "cell_type": "code",
      "metadata": {
        "hide_input": true,
        "slideshow": {
          "slide_type": "fragment"
        },
        "tags": [
          "hide-input"
        ]
      },
      "source": [
        "# Create color maps\n",
        "from matplotlib.colors import ListedColormap\n",
        "cmap_light = ListedColormap(['#FFAAAA', '#AAFFAA', '#AAAAFF'])\n",
        "cmap_bold = ListedColormap(['#FF0000', '#00FF00', '#0000FF'])\n",
        "\n",
        "# we will use only the first two (of four) features, so we can visualize\n",
        "X = X_train[:, :2] \n",
        "h = .02  # step size in the mesh\n",
        "k = 13\n",
        "knn = KNeighborsClassifier(n_neighbors=k)\n",
        "knn.fit(X, y_train)\n",
        "# Plot the decision boundary. For that, we will assign a color to each\n",
        "# point in the mesh [x_min, x_max]x[y_min, y_max].\n",
        "x_min, x_max = X[:, 0].min() - 1, X[:, 0].max() + 1\n",
        "y_min, y_max = X[:, 1].min() - 1, X[:, 1].max() + 1\n",
        "xx, yy = np.meshgrid(np.arange(x_min, x_max, h),\n",
        "                      np.arange(y_min, y_max, h))\n",
        "Z = knn.predict(np.c_[xx.ravel(), yy.ravel()])\n",
        "\n",
        "# Put the result into a color plot\n",
        "Z = Z.reshape(xx.shape)\n",
        "plt.figure()\n",
        "plt.pcolormesh(xx, yy, Z, cmap=cmap_light, shading='auto')\n",
        "\n",
        "# Plot also the training points\n",
        "plt.scatter(X[:, 0], X[:, 1], c=y_train, cmap=cmap_bold)\n",
        "plt.xlim(xx.min(), xx.max())\n",
        "plt.ylim(yy.min(), yy.max())\n",
        "plt.title(f\"3-Class $k$-NN classification ($k$ = {k})\");"
      ],
      "execution_count": null,
      "outputs": []
    },
    {
      "cell_type": "markdown",
      "metadata": {},
      "source": [
        "There are a few artifacts, but overall this looks like a reasonably smooth set of decision boundaries.\n",
        "\n",
        "Now we'll compare to a decision tree.\n",
        "\n",
        "How do we control the complexity of a Decision Tree?\n",
        "\n",
        "There are a variety of ways (see the `sklearn` documentation) but the simplest one is to control the number of leaf nodes in the tree.  \n",
        "\n",
        "A small number of leaf nodes is a low-complexity model, and a large number of nodes is a high-complexity model."
      ]
    },
    {
      "cell_type": "code",
      "metadata": {
        "hide_input": true,
        "slideshow": {
          "slide_type": "skip"
        },
        "tags": [
          "hide-input"
        ]
      },
      "source": [
        "X = iris.data\n",
        "y = iris.target"
      ],
      "execution_count": null,
      "outputs": []
    },
    {
      "cell_type": "code",
      "metadata": {
        "hide_input": false,
        "slideshow": {
          "slide_type": "skip"
        },
        "tags": [
          "hide-input"
        ]
      },
      "source": [
        "leaf_vals = range(3, 20)\n",
        "nreps = 50\n",
        "\n",
        "acc = []\n",
        "std = []\n",
        "np.random.seed(0)\n",
        "for leaf_count in leaf_vals:\n",
        "    test_rep = []\n",
        "    train_rep = []\n",
        "    for i in range(nreps):\n",
        "        X_train, X_test, y_train, y_test = model_selection.train_test_split(X, y, test_size = 0.10)\n",
        "        dtc = tree.DecisionTreeClassifier(max_leaf_nodes = leaf_count)   \n",
        "        dtc.fit(X_train, y_train)\n",
        "        train_rep.append(dtc.score(X_train, y_train))\n",
        "        test_rep.append(dtc.score(X_test, y_test))\n",
        "    acc.append([np.mean(np.array(test_rep)), np.mean(np.array(train_rep))])\n",
        "    std.append([np.std(np.array(test_rep)), np.std(np.array(train_rep))])\n",
        "accy = np.array(acc)\n",
        "stds = np.array(std)/np.sqrt(nreps)"
      ],
      "execution_count": null,
      "outputs": []
    },
    {
      "cell_type": "code",
      "metadata": {
        "hide_input": true,
        "slideshow": {
          "slide_type": "fragment"
        },
        "tags": [
          "hide-input"
        ]
      },
      "source": [
        "plt.plot(leaf_vals, accy[:, 0], '.-', label = 'Accuracy on Test Data')\n",
        "plt.plot(leaf_vals, accy[:, 1], '.-', label = 'Accuracy on Training Data')\n",
        "plt.xlabel('Max Leaf Nodes')\n",
        "plt.ylabel('Accuracy')\n",
        "plt.legend(loc = 'best')\n",
        "plt.xticks(leaf_vals)\n",
        "best_leaf = leaf_vals[np.argmax(accy[:, 0])]\n",
        "plt.title(f'Test/Train Error for Decision Tree\\nMax Test Accuracy at {best_leaf} leaf nodes with accuracy {np.max(accy[:, 0]):.03f}');"
      ],
      "execution_count": null,
      "outputs": []
    },
    {
      "cell_type": "code",
      "metadata": {
        "hide_input": true,
        "slideshow": {
          "slide_type": "fragment"
        },
        "tags": [
          "hide-input"
        ]
      },
      "source": [
        "plt.errorbar(leaf_vals, accy[:, 0], stds[:, 0], label = 'Accuracy on Test Data')\n",
        "plt.xlabel('Max Leaf Nodes')\n",
        "plt.ylabel('Accuracy')\n",
        "plt.legend(loc = 'lower center')\n",
        "plt.xticks(leaf_vals)\n",
        "plt.title(r'Test Accuracy with $\\pm 1\\sigma$ Errorbars');"
      ],
      "execution_count": null,
      "outputs": []
    },
    {
      "cell_type": "markdown",
      "metadata": {},
      "source": [
        "It looks like 9 leaf nodes is appropriate, but we would be justified to choose 4 or 13 as well.\n",
        "\n",
        "And now let's visualize the decision boundary for the DT:"
      ]
    },
    {
      "cell_type": "code",
      "metadata": {
        "hide_input": true,
        "slideshow": {
          "slide_type": "-"
        },
        "tags": [
          "hide-input"
        ]
      },
      "source": [
        "# we will use only the first two (of four) features, so we can visualize\n",
        "X = X_train[:, :2] \n",
        "h = .02  # step size in the mesh\n",
        "dtc = tree.DecisionTreeClassifier(max_leaf_nodes = best_leaf) \n",
        "dtc.fit(X, y_train)\n",
        "# Plot the decision boundary. For that, we will assign a color to each\n",
        "# point in the mesh [x_min, x_max]x[y_min, y_max].\n",
        "x_min, x_max = X[:, 0].min() - 1, X[:, 0].max() + 1\n",
        "y_min, y_max = X[:, 1].min() - 1, X[:, 1].max() + 1\n",
        "xx, yy = np.meshgrid(np.arange(x_min, x_max, h),\n",
        "                      np.arange(y_min, y_max, h))\n",
        "Z = dtc.predict(np.c_[xx.ravel(), yy.ravel()])\n",
        "\n",
        "# Put the result into a color plot\n",
        "Z = Z.reshape(xx.shape)\n",
        "plt.figure()\n",
        "plt.pcolormesh(xx, yy, Z, cmap=cmap_light, shading='auto')\n",
        "\n",
        "# Plot also the training points\n",
        "plt.scatter(X[:, 0], X[:, 1], c=y_train, cmap=cmap_bold)\n",
        "plt.xlim(xx.min(), xx.max())\n",
        "plt.ylim(yy.min(), yy.max())\n",
        "plt.title(f\"3-Class DT Classification\\n{best_leaf} leaf nodes\");"
      ],
      "execution_count": null,
      "outputs": []
    },
    {
      "cell_type": "markdown",
      "metadata": {},
      "source": [
        "### MNIST dataset\n",
        "\n",
        "NIST used to be called the \"National Bureau of Standards.\"  These are the folks who bring you the reference meter, reference kilogram, etc.\n",
        "\n",
        "NIST constructed datasets for machine learning of handwritten digits. These were collected from Census Bureau employees and also from high-school students.\n",
        "\n",
        "These data have been used repeatedly for many years to evaluate classifiers.  For a peek at some of the work done with this dataset you can visit http://yann.lecun.com/exdb/mnist/. "
      ]
    },
    {
      "cell_type": "code",
      "metadata": {
        "slideshow": {
          "slide_type": "fragment"
        }
      },
      "source": [
        "import sklearn.utils as utils\n",
        "\n",
        "digits = datasets.load_digits()\n",
        "X, y = utils.shuffle(digits.data, digits.target, random_state = 1)\n",
        "\n",
        "print ('Data shape: {}'.format(X.shape))\n",
        "print ('Data labels: {}'.format(y))\n",
        "print ('Unique labels: {}'.format(digits.target_names))"
      ],
      "execution_count": null,
      "outputs": []
    },
    {
      "cell_type": "markdown",
      "metadata": {},
      "source": [
        "An individual item is an $8 \\times 8$ image, encoded as a matrix:"
      ]
    },
    {
      "cell_type": "code",
      "metadata": {
        "slideshow": {
          "slide_type": "-"
        }
      },
      "source": [
        "digits.images[3]"
      ],
      "execution_count": null,
      "outputs": []
    },
    {
      "cell_type": "markdown",
      "metadata": {},
      "source": [
        "Let's show the matrix as an image:"
      ]
    },
    {
      "cell_type": "code",
      "metadata": {
        "hide_input": true,
        "slideshow": {
          "slide_type": "-"
        },
        "tags": [
          "hide-input"
        ]
      },
      "source": [
        "plt.gray() \n",
        "# plt.rc('axes', grid = False);\n",
        "plt.matshow(digits.images[3], cmap = plt.cm.gray_r);"
      ],
      "execution_count": null,
      "outputs": []
    },
    {
      "cell_type": "markdown",
      "metadata": {},
      "source": [
        "It is easier to visualize if we blur the pixels a little bit."
      ]
    },
    {
      "cell_type": "code",
      "metadata": {
        "hide_input": true,
        "scrolled": true,
        "slideshow": {
          "slide_type": "fragment"
        },
        "tags": [
          "hide-input"
        ]
      },
      "source": [
        "plt.rc('image', cmap = 'binary', interpolation = 'bilinear')\n",
        "plt.figure(figsize = (4, 4))\n",
        "plt.axis('off')\n",
        "plt.imshow(digits.images[3]);"
      ],
      "execution_count": null,
      "outputs": []
    },
    {
      "cell_type": "markdown",
      "metadata": {},
      "source": [
        "Here are some more samples from the dataset:"
      ]
    },
    {
      "cell_type": "code",
      "metadata": {
        "hide_input": true,
        "slideshow": {
          "slide_type": "-"
        },
        "tags": [
          "hide-input"
        ]
      },
      "source": [
        "for t in range(4):\n",
        "    plt.figure(figsize = (8, 2))\n",
        "    for j in range(4):\n",
        "        plt.subplot(1, 4, 1 + j)\n",
        "        plt.imshow(X[4*t + j].reshape(8, 8))\n",
        "        plt.axis('off');"
      ],
      "execution_count": null,
      "outputs": []
    },
    {
      "cell_type": "markdown",
      "metadata": {},
      "source": [
        "Although this is an 8 $\\times$ 8 image, we can just treat it as a vector of length 64.\n",
        "\n",
        "To do model selection, we will again average over many train/test splits.\n",
        "\n",
        "However, recall one issue of $k$-NN: it can be slow on a large training set (why?). \n",
        "\n",
        "We may thus decide to limit the size of our testing set to speed up testing.\n",
        "\n",
        "How does the train/test split affect results?\n",
        "\n",
        "Let's consider two cases:  \n",
        "1. Train: 90% of data, Test: 10% of data\n",
        "2. Train: 67% of data, Test: 33% of data"
      ]
    },
    {
      "cell_type": "code",
      "metadata": {
        "slideshow": {
          "slide_type": "skip"
        }
      },
      "source": [
        "def test_knn(kvals, test_fraction, nreps):\n",
        "    acc = []\n",
        "    std = []\n",
        "    np.random.seed(0)\n",
        "    #\n",
        "    for k in kvals:\n",
        "        test_rep = []\n",
        "        train_rep = []\n",
        "        for i in range(nreps):\n",
        "            X_train, X_test, y_train, y_test = model_selection.train_test_split(\n",
        "                X, y, test_size = test_fraction)\n",
        "            knn = KNeighborsClassifier(n_neighbors = k)    \n",
        "            knn.fit(X_train, y_train)\n",
        "            test_rep.append(knn.score(X_test, y_test))\n",
        "        acc.append(np.mean(np.array(test_rep)))\n",
        "        std.append(np.std(np.array(test_rep)))\n",
        "    return(np.array(acc), np.array(std)/np.sqrt(nreps))\n",
        "\n",
        "test_fraction1 = 0.33\n",
        "accy1, stds1 = test_knn(range(2, 20), test_fraction1, 50)\n",
        "test_fraction2 = 0.10\n",
        "accy2, stds2 = test_knn(range(2, 20), test_fraction2, 50)"
      ],
      "execution_count": null,
      "outputs": []
    },
    {
      "cell_type": "code",
      "metadata": {
        "hide_input": true,
        "slideshow": {
          "slide_type": "fragment"
        },
        "tags": [
          "hide-input"
        ]
      },
      "source": [
        "plt.figure(figsize = (7, 5))\n",
        "plt.errorbar(kvals, accy1, stds1, \n",
        "             label = f'{test_fraction1:.0%} Used for Testing; accuracy {np.max(accy1):.03f}')\n",
        "plt.errorbar(kvals, accy2, stds2, \n",
        "             label = f'{test_fraction2:.0%} Used for Testing; accuracy {np.max(accy2):.03f}')\n",
        "plt.xlabel('k')\n",
        "plt.ylabel('Accuracy')\n",
        "plt.legend(loc = 'best')\n",
        "plt.xticks(kvals)\n",
        "best_k = kvals[np.argmax(accy1)]\n",
        "plt.title(f'Test Accuracy with $\\pm 1\\sigma$ Error Bars');"
      ],
      "execution_count": null,
      "outputs": []
    },
    {
      "cell_type": "markdown",
      "metadata": {},
      "source": [
        "These plots illustrate important principles:\n",
        "    \n",
        "* The more data used for training, the better the classifier will tend to perform\n",
        "* The less data used for testing, the more variable will be the testing results \n",
        "    (but the faster testing will go)\n",
        "    \n",
        "    \n",
        "Note that the key decision here is what value to choose for $k$.   So it makes sense to use the 33% test split, because the smaller error bars give us better confidence in our decision.\n",
        "   \n",
        "\n",
        "We can get a sense of why $k$-NN can succeed at this task by looking at the nearest neighbors of some points:"
      ]
    },
    {
      "cell_type": "code",
      "metadata": {
        "hide_input": true,
        "scrolled": true,
        "slideshow": {
          "slide_type": "skip"
        },
        "tags": [
          "hide-input"
        ]
      },
      "source": [
        "knn = KNeighborsClassifier(n_neighbors = 3)    \n",
        "knn.fit(X, y)\n",
        "neighbors = knn.kneighbors(X[:3,:], n_neighbors=3, return_distance=False)"
      ],
      "execution_count": null,
      "outputs": []
    },
    {
      "cell_type": "code",
      "metadata": {
        "hide_input": true,
        "slideshow": {
          "slide_type": "fragment"
        },
        "tags": [
          "hide-input"
        ]
      },
      "source": [
        "plt.rc(\"image\", cmap=\"binary\")  # this sets a black on white colormap\n",
        "# plot X_digits_valid[0]\n",
        "for t in range(3):\n",
        "    plt.figure(figsize=(8,2))\n",
        "    plt.subplot(1, 4, 1)\n",
        "    plt.imshow(X[t].reshape(8, 8))\n",
        "    plt.axis('off')\n",
        "    plt.title(\"Query\")\n",
        "    # plot three nearest neighbors from the training set\n",
        "    for i in [0, 1, 2]:\n",
        "        plt.subplot(1, 4, 2 + i)\n",
        "        plt.title(\"neighbor {}\".format(i))\n",
        "        plt.imshow(X[neighbors[t, i]].reshape(8, 8))\n",
        "        plt.axis('off')"
      ],
      "execution_count": null,
      "outputs": []
    }
  ],
  "metadata": {
    "kernelspec": {
      "name": "python3",
      "language": "python",
      "display_name": "Python 3 (ipykernel)",
      "path": "/Users/tomg/Source/courses/tools4ds/DS701-Course-Notes/.venv/share/jupyter/kernels/python3"
    }
  },
  "nbformat": 4,
  "nbformat_minor": 4
}