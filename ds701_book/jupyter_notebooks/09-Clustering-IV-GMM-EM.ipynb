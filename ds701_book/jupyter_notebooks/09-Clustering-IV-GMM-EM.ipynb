{
  "cells": [
    {
      "cell_type": "markdown",
      "metadata": {},
      "source": [
        "---\n",
        "title: Gaussian Mixture Models\n",
        "jupyter: python3\n",
        "---\n",
        "\n",
        "[![](https://colab.research.google.com/assets/colab-badge.svg)](https://colab.research.google.com/github/tools4ds/DS701-Course-Notes/blob/main/ds701_book/jupyter_notebooks/09-Clustering-IV-GMM-EM.ipynb)"
      ]
    },
    {
      "cell_type": "code",
      "metadata": {
        "hide_input": true,
        "slideshow": {
          "slide_type": "skip"
        },
        "tags": [
          "hide-input"
        ]
      },
      "source": [
        "import numpy as np\n",
        "import scipy as sp\n",
        "import matplotlib.pyplot as plt\n",
        "import pandas as pd\n",
        "import seaborn as sns\n",
        "%matplotlib inline"
      ],
      "execution_count": null,
      "outputs": []
    },
    {
      "cell_type": "markdown",
      "metadata": {},
      "source": [
        "<center>\n",
        "\n",
        "<img src=\"figs/L09-MultivariateNormal.png\" width=\"70%\">\n",
        "\n",
        "</center>\n",
        "\n",
        "## From Hard to Soft Clustering\n",
        "\n",
        "__So far,__ we have seen how to cluster objects using $k$-means: \n",
        "\n",
        "1. start with an initial set of cluster centers,\n",
        "2. assign each object to its closest cluster center, and \n",
        "3. recompute the centers of the new clusters. \n",
        "4. Repeat 2 $\\rightarrow$ 3 until convergence.\n",
        "\n",
        "__Note__ that in $k$-means, every object is assigned to a **single** cluster. \n",
        "\n",
        "This is called __hard__ assignment.\n",
        "\n",
        "However, there may be cases were we either __cannot__ use hard assignments or we do not __want__ to do it! \n",
        "\n",
        "In particular, we may believe that the best description of the data is a set of __overlapping__ clusters.\n",
        "\n",
        "For example: \n",
        "\n",
        "Imagine that we believe society consists of just __two__ kinds of individuals: poor, or rich.\n",
        "\n",
        "Let's think about how we might model society as a mixture of poor and rich, when viewed in terms of age.\n",
        "\n",
        "Say we sample 20,000 rich individuals, and 20,000 poor individuals, and get the following histograms:"
      ]
    },
    {
      "cell_type": "code",
      "metadata": {
        "hide_input": true,
        "tags": [
          "hide-input"
        ]
      },
      "source": [
        "# original inspiration for this example from\n",
        "# https://www.cs.cmu.edu/~./awm/tutorials/gmm14.pdf\n",
        "from scipy.stats import multivariate_normal\n",
        "np.random.seed(4)\n",
        "df = pd.DataFrame(multivariate_normal.rvs(mean = np.array([37, 45]), cov = np.diag([196, 121]), size = 20000),\n",
        "                   columns = ['poor', 'rich'])\n",
        "df.hist(bins = range(80), sharex = True);"
      ],
      "execution_count": null,
      "outputs": []
    },
    {
      "cell_type": "markdown",
      "metadata": {},
      "source": [
        "We find that ages of the poor set have mean 37 with standard deviation 14,\n",
        "\n",
        "while the ages of the rich set have mean 45 with standard deviation 11."
      ]
    },
    {
      "cell_type": "code",
      "metadata": {
        "hide_input": true,
        "tags": [
          "hide-input"
        ]
      },
      "source": [
        "from scipy.stats import norm\n",
        "plt.figure()\n",
        "x = np.linspace(norm.ppf(0.001, loc = 37, scale = 14), norm.ppf(0.999, loc = 37, scale = 14), 100)\n",
        "plt.plot(x, norm.pdf(x, loc = 37, scale = 14),'b-', lw = 5, alpha = 0.6, label = 'poor')\n",
        "x = np.linspace(norm.ppf(0.001, loc = 45, scale = 11), norm.ppf(0.999, loc = 45, scale = 11), 100)\n",
        "plt.plot(x, norm.pdf(x, loc = 45, scale = 11),'g-', lw = 5, alpha = 0.6, label = 'rich')\n",
        "plt.xlim([15, 70])\n",
        "plt.xlabel('Age', size=14)\n",
        "plt.legend(loc = 'best')\n",
        "plt.title('Age Distributions')\n",
        "plt.ylabel(r'$p(x)$', size=14);"
      ],
      "execution_count": null,
      "outputs": []
    },
    {
      "cell_type": "markdown",
      "metadata": {},
      "source": [
        "Clearly, viewed along the age dimension, there are two clusters that overlap.\n",
        "\n",
        "Furthermore, given some particular individual at a given age, say 25, we cannot say for sure which cluster they belong to.  \n",
        "\n",
        "Rather, we will use _probability_ to quantify our uncertainty about the cluster that any single individual belongs to.\n",
        "\n",
        "Thus, we could say that a given individual (\"John Smith\", age 25) belongs to the _rich_ cluster with some probability, and the _poor_ cluster with some different probability.\n",
        "\n",
        "Naturally we expect the probabilities for John Smith to sum up to 1.\n",
        "\n",
        "This is called __soft assignment,__ and a clustering using this principle is called __soft clustering.__\n",
        "\n",
        "More formally, we say that an object can belong to each particular cluster with some probability, such that the sum of the probabilities adds up to 1 for each object. \n",
        "\n",
        "For example, assuming that we have two clusters $C_1$ and $C_2$, we can have that an object $x_1$ belongs to $C_1$ with probability $0.3$ and to $C_2$ with probability $0.7$.\n",
        "\n",
        "Note that the distribution over $C_1$ and $C_2$ only refers to object $x_1$.\n",
        "\n",
        "Thus, it is a __conditional__ probability:\n",
        "\n",
        "$$P(C_1 \\,|\\, x_1) = 0.3$$\n",
        "$$P(C_2 \\,|\\, x_1) = 0.7$$\n",
        "\n",
        "And to return to our previous example:\n",
        "\n",
        "$$P(\\text{rich}\\,|\\,\\text{age 25}) + P(\\text{poor}\\,|\\,\\text{age 25}) = 1 $$\n",
        "\n",
        "## Mixtures of Gaussians\n",
        "\n",
        "We're going to consider a particular model for each cluster: the Gaussian (or Normal) distribution.\n",
        "\n",
        "$${\\displaystyle f(x\\;|\\;\\mu ,\\sigma ^{2})={\\frac {1}{\\sqrt {2\\sigma ^{2}\\pi }}}\\;exp({-{\\frac {(x-\\mu )^{2}}{2\\sigma ^{2}}}}})$$\n",
        "\n",
        "<center>\n",
        "\n",
        "<img src=\"figs/L09-Normal_Distribution_PDF.png\" width=\"60%\">\n",
        "\n",
        "</center>\n",
        "\n",
        "By <a href=\"//commons.wikimedia.org/wiki/User:Inductiveload\" title=\"User:Inductiveload\">Inductiveload</a> - self-made, Mathematica, Inkscape, Public Domain, <a href=\"https://commons.wikimedia.org/w/index.php?curid=3817954\">https://commons.wikimedia.org/w/index.php?curid=3817954</a>\n",
        "\n",
        "You can see that, for example, this is a reasonable model for the distribution of ages in each of the two population groups (rich and poor).\n",
        "\n",
        "In the case of the population example, we have a single feature: age.   \n",
        "\n",
        "How do we use a Gaussian when we have multiple features?\n",
        "\n",
        "The answer is that we use a __multivariate Gaussian.__\n",
        "\n",
        "<center>\n",
        "\n",
        "<img src=\"figs/L09-MultivariateNormal.png\" width=\"70%\">\n",
        "\n",
        "</center>\n",
        "\n",
        "By <a href=\"//commons.wikimedia.org/wiki/User:Bscan\" title=\"User:Bscan\">Bscan</a> - <span class=\"int-own-work\" lang=\"en\">Own work</span>, <a href=\"http://creativecommons.org/publicdomain/zero/1.0/deed.en\" title=\"Creative Commons Zero, Public Domain Dedication\">CC0</a>, <a href=\"https://commons.wikimedia.org/w/index.php?curid=25235145\">https://commons.wikimedia.org/w/index.php?curid=25235145</a>\n",
        "\n",
        "Now each point is a vector in $n$ dimensions: $\\mathbf{x} = (x_1, \\dots, x_n)^T$.  \n",
        "\n",
        "As a reminder, the multivariate Gaussian has a pdf (density) function of:\n",
        "\n",
        "$$\n",
        "f(x_{1},\\ldots ,x_{n})={\\frac  {1}{{\\sqrt  {(2\\pi )^{{n}}\n",
        "\\Vert{\\boldsymbol  \\Sigma }\\Vert}}}}\\exp \\left(-{\\frac  {1}{2}}({{\\mathbf  x}}-{{\\boldsymbol  \\mu }})^{{\\mathrm  {T}}}{{\\boldsymbol  \\Sigma }}^{{-1}}({{\\mathbf  x}}-{{\\boldsymbol  \\mu }})\\right)\n",
        "$$\n",
        "\n",
        "Recall also that the shape of a multivariate Gaussian -- the direction of its axes and the width along each axis -- is determined by the __covariance matrix $\\Sigma$__.\n",
        "\n",
        "The covariance matrix is the multidimensional analog of the variance.   It determines the extent to which vector components are correlated.\n",
        "\n",
        "For example, let's say we are looking to classify cars based on their model year and miles per gallon (mpg).  \n",
        "\n",
        "To illustrate a particular model, let us consider the properties of cars produced in the US, Europe, and Asia.\n",
        "\n",
        "<!-- image credit: https://www.cs.cmu.edu/~./awm/tutorials/gmm14.pdf -->\n",
        "<center>\n",
        "\n",
        "<img src=\"figs/L09-multivariate-example.png\" width=\"90%\">\n",
        "\n",
        "</center>\n",
        "\n",
        "It seems that the data can be described (roughly) as a mixture of __three__ __multivariate__ Gaussian distributions.\n",
        "\n",
        "The general situation is that we assume the data was generated according to a collection of arbitrary Gaussian distributions.\n",
        "\n",
        "This is called a __Gaussian Mixture Model.__\n",
        "\n",
        "Aka a \"GMM\".\n",
        "\n",
        "<!-- image credit: http://autonlab.org/_media/tutorials/gmm14.pdf  and\n",
        "https://web.iitd.ac.in/~sumeet/GMM_said_crv10_tutorial.pdf -->\n",
        "\n",
        "\n",
        "<div style = \"float: left; width: 45%; text-align: center;\">\n",
        "    \n",
        "<img src=\"figs/L09-general-GMM.png\" width=\"45%\">\n",
        "Ellipsoid Representation\n",
        "</div>\n",
        "\n",
        "<div style = \"float: left; width: 55%; text-align: center;\">\n",
        "    \n",
        "<img src=\"figs/L09-GMM-density.png\"  style=\"width:55%\">\n",
        "Density\n",
        "</div>\n",
        "\n",
        "A Gaussian Mixture Model is defined by:\n",
        "    \n",
        "$$ w_i, \\mu_i, \\Sigma_i,\\;\\; i = 1,\\dots,k$$\n",
        "\n",
        "Where $w_i$ is the prior probability (weight) of the $i$th Gaussian, such that \n",
        "\n",
        "$$\\sum_i w_i = 1,\\;\\;\\; 0\\leq w_i\\leq 1.$$\n",
        "\n",
        "Intuitively, $w_i$ tells us \"what fraction of the data comes from Gaussian $i$.\"\n",
        "\n",
        "Then the probability density at any point $x$ is given by:\n",
        "    \n",
        "$$ p(x) = \\sum_i w_i \\cdot \\mathcal{N}(x\\,|\\, \\mu_i, \\Sigma_i) $$\n",
        "\n",
        "## Learning the Parameters of a GMM\n",
        "\n",
        "This model is all very well, but how do we learn the parameters of such a model, given some data?\n",
        "\n",
        "That is, assume we are told there are $k$ clusters.   \n",
        "\n",
        "For each $i$ in $1, \\dots, k$, how do we estimate the \n",
        "* cluster probability $w_i$,\n",
        "* cluster mean $\\mu_i$, and \n",
        "* cluster covariance  $\\Sigma_i$?\n",
        "\n",
        "There are a variety of ways of finding the best $(w_i, \\mu_i, \\Sigma_i)\\;\\;\\;i = 1,\\dots,k$.\n",
        "\n",
        "We will consider the most popular method:  __Expectation Maximization (EM).__\n",
        "\n",
        "This is another famous algorithm, in the same \"super-algorithm\" league as $k$-means.\n",
        "\n",
        "EM is formulated using a probabilistic model for data.   It can solve a problem like:\n",
        "\n",
        "> Given a set of data points and a parameter $k$, find the $(w_i, \\mu_i, \\Sigma_i)\\;\\;i = 1,\\dots,k$ that __maximizes the likelihood of the data__ assuming a GMM with those parameters.\n",
        "\n",
        "(It can also solve lots of other problems involving maximizing likelihood of data under a model.)\n",
        "\n",
        "However, note that problems of this type are often NP-hard.  \n",
        "\n",
        "EM only guarantees that it will find a __local__ optimum of the objective function.\n",
        "\n",
        "## Probabilities We Will Use\n",
        "\n",
        "At a high level, EM for the GMM problem has strong similarities to $k$-means.\n",
        "\n",
        "However, there are two main differences:\n",
        "\n",
        "1. The $k$-means problem posits a **hard** assignment of objects to clusters, while GMM uses __soft__ assignment.\n",
        "2. The parameters of the soft assignment are chosed based on a __probability model__ for the data.\n",
        "\n",
        "Let's start by reviewing the situation probabilistically.\n",
        "\n",
        "Assume a set data points  $x_1, x_2,\\ldots,x_n$ in  a $d$ dimensional space. \n",
        "\n",
        "Also assume a set of $k$ clusters $C_1, C_2, \\ldots, C_k$.   Each cluster is assumed to follow a Gaussian distribution:\n",
        "\n",
        "$$ C_i \\sim {\\mathcal N}({\\mathbf \\mu_i},{\\mathbf \\Sigma_i}) $$\n",
        "\n",
        "We will be working with conditional probabilities.\n",
        "\n",
        "First, \n",
        "\n",
        "$P(x_i\\,|\\,C_j)$ is the probability of seeing data point $x_i$ when sampling from cluster $C_j$.  \n",
        "\n",
        "That is, it is the value of a Gaussian pdf at the point $x_i$, for a Gaussian with parameters $({\\mathbf \\mu_j},{\\mathbf \\Sigma_j})$.\n",
        "\n",
        "Clearly, if I give you the cluster parameters, it is a straightforward thing to compute this conditional probability.\n",
        "\n",
        "In our example: $P(\\text{age 25}\\,|\\,\\text{rich})$"
      ]
    },
    {
      "cell_type": "code",
      "metadata": {
        "hide_input": true,
        "tags": [
          "hide-input"
        ]
      },
      "source": [
        "plt.figure()\n",
        "x = np.linspace(norm.ppf(0.001, loc = 37, scale = 14), norm.ppf(0.999, loc = 37, scale = 14), 100)\n",
        "plt.plot(x, norm.pdf(x, loc = 37, scale = 14),'b-', lw = 5, alpha = 0.6, label = 'poor')\n",
        "x = np.linspace(norm.ppf(0.001, loc = 45, scale = 11), norm.ppf(0.999, loc = 45, scale = 11), 100)\n",
        "plt.plot(x, norm.pdf(x, loc = 45, scale = 11),'g-', lw = 5, alpha = 0.6, label = 'rich')\n",
        "plt.plot(25, norm.pdf(25, loc = 45, scale = 11), 'ro')\n",
        "plt.xlim([15, 70])\n",
        "plt.xlabel('Age', size=14)\n",
        "plt.legend(loc = 'best')\n",
        "plt.title('Age Distributions')\n",
        "plt.ylabel(r'$p(x)$', size=14);"
      ],
      "execution_count": null,
      "outputs": []
    },
    {
      "cell_type": "markdown",
      "metadata": {},
      "source": [
        "We will also work with $P(C_j\\,|\\,x_i)$.\n",
        "\n",
        "This is the probability that a data point at $x_i$ was drawn from cluster $C_j$.   \n",
        "\n",
        "That is, the data point could have been drawn from any of the $k$ clusters -- what is the probability it was drawn from $C_j$ in particular?\n",
        "\n",
        "In our example: $P(\\text{rich}\\,|\\,\\text{age 25})$\n",
        "\n",
        "How can we compute $P(C_j\\,|\\,x_i)$?\n",
        "\n",
        "Note that the reverse conditional probability is easy to compute -- so this is a job for __Bayes' Rule!__\n",
        "\n",
        "$$ P(C_j\\,|\\,x_i)=\\frac{P(x_i\\,|\\,C_j)}{P(x_i)}P(C_j)$$"
      ]
    },
    {
      "cell_type": "code",
      "metadata": {
        "hide_input": true,
        "tags": [
          "hide-input"
        ]
      },
      "source": [
        "plt.figure()\n",
        "x = np.linspace(norm.ppf(0.001, loc = 37, scale = 14), norm.ppf(0.999, loc = 37, scale = 14), 100)\n",
        "plt.plot(x, norm.pdf(x, loc = 37, scale = 14),'b-', lw = 5, alpha = 0.6, label = 'poor')\n",
        "plt.plot(25, norm.pdf(25, loc = 37, scale = 14), 'ko', markersize = 8)\n",
        "x = np.linspace(norm.ppf(0.001, loc = 45, scale = 11), norm.ppf(0.999, loc = 45, scale = 11), 100)\n",
        "plt.plot(x, norm.pdf(x, loc = 45, scale = 11),'g-', lw = 5, alpha = 0.6, label = 'rich')\n",
        "plt.plot(25, norm.pdf(25, loc = 45, scale = 11), 'ro', markersize = 8)\n",
        "plt.xlim([15, 70])\n",
        "plt.xlabel('Age', size=14)\n",
        "plt.legend(loc = 'best')\n",
        "plt.title('Age Distributions')\n",
        "plt.ylabel(r'$p(x)$', size=14);"
      ],
      "execution_count": null,
      "outputs": []
    },
    {
      "cell_type": "markdown",
      "metadata": {},
      "source": [
        "$$ P(\\text{rich}\\,|\\,\\text{age 25}) = \\frac{\\text{red}}{\\text{red} \\cdot P(\\text{rich}) + \\text{black} \\cdot P(\\text{poor})} \\cdot P(\\text{rich}) $$\n",
        "\n",
        "Finally, we will also need to estimate the parameters of each Gaussian, given some data.\n",
        "\n",
        "This is also an easy problem.   \n",
        "\n",
        "For example, the best estimate for the mean of a Gaussian, given some data, is the __average__ of the data points.\n",
        "\n",
        "Likewise, there is a simple formula for the covariance.\n",
        "\n",
        "These are called __Maximum Likelihood Estimates__ (MLE) of the parameters.\n",
        "\n",
        "Often we use $\\mathbf \\theta$ to denote \"all the parameters of the model.\"   \n",
        "\n",
        "In this case $\\mathbf \\theta_i = (w_i, {\\mathbf \\mu_i},{\\mathbf \\Sigma_i})$.\n",
        "\n",
        "## Expectation Maximization for GMM -- The Algorithm\n",
        "\n",
        "OK, now we have all the necessary pieces.   Here is the algorithm.\n",
        "\n",
        "__Initialization__: \n",
        "\n",
        "Start with an initial set of clusters  $C_1^1, C_2^1, \\ldots, C_k^1$ and the initial probabilities that a random point belongs to each cluster $P(C_1), P(C_2), \\ldots, P(C_k)$.\n",
        "\n",
        "The result will be sensitive to this choice, so a good (and fast) initialization procedure is $k$-means.\n",
        "\n",
        "<!-- Source http://bengio.abracadoudou.com/lectures/gmm.pdf -->\n",
        "\n",
        "<center>\n",
        "\n",
        "<img src=\"figs/L09-EM-E-step.png\" width=\"60%\">\n",
        "\n",
        "</center>\n",
        "\n",
        "*Step 1* (__Expectation__): For each point $x_i$, compute the probability that it belongs to each cluster $C_j$:\n",
        "\n",
        "$$ P(C_j\\,|\\,x_i)=\\frac{P(x_i\\,|\\,C_j)}{P(x_i)}\\,P(C_j)$$\n",
        "    \n",
        "(Thank you, Rev. Bayes!)\n",
        "\n",
        "This is called the _posterior_ probability of $C_j$ given $x_i$.\n",
        "\n",
        "We know how to compute everything on the right.\n",
        "\n",
        "Note that: $P(x_i) = \\sum_{j=1}^k P(x_i\\,|\\,C_j)\\,P(C_j)$\n",
        "\n",
        "<!-- Source http://bengio.abracadoudou.com/lectures/gmm.pdf -->\n",
        "\n",
        "<center>\n",
        "\n",
        "<img src=\"figs/L09-EM-M-step.png\" width=\"60%\">\n",
        "\n",
        "</center>\n",
        "\n",
        "*Step 2* __(Maximization)__: Using the cluster membership probabilities computed in the previous step, compute new clusters (parameters) and cluster probabilities.\n",
        "\n",
        "This is easy, using maximum likelihood estimates of the parameters $\\theta$.\n",
        "\n",
        "$$w_j = P(C_j) = \\frac{1}{n}\\sum_{i=1}^n P(C_j\\,|\\,x_i)$$\n",
        "\n",
        "Likewise, compute new parameters for the clusters $C_1, C_2, \\ldots, C_n$ using MLE.\n",
        "\n",
        "__Repeat__ Steps 1 and 2 until stabilization.\n",
        "\n",
        "Let's pause for a minute and compare GMM/EM with $k$-means.\n",
        "\n",
        "GMM/EM:\n",
        "\n",
        "1. Initialize randomly or using some rule\n",
        "2. Compute the probability that each point belongs in each cluster\n",
        "3. Update the clusters (weights, means and variances).\n",
        "4. Repeat 2-3 until convergence.\n",
        "\n",
        "$k$-means:\n",
        "\n",
        "1. Initialize randomly or using some rule\n",
        "2. Assign each point to a single cluster\n",
        "3. Update the clusters (means).\n",
        "4. Repeat 2-3 until convergence.\n",
        "\n",
        "From a practical standpoint, the main difference is that in GMM, data points do not belong to a __single__ cluster, but have some probability of belonging to __each__ cluster.\n",
        "\n",
        "In other words, GMM uses soft assignment.\n",
        "\n",
        "For that reason, GMM is also sometimes called __soft $k$-means.__\n",
        "\n",
        "However, there is also an important conceptual difference. \n",
        "\n",
        "The GMM starts by making an __explicit assumption__ about how the data were generated.  \n",
        "\n",
        "It says: \"the data came from a collection of multivariate Gaussians.\"\n",
        "\n",
        "Note that we made no such assumption when we came up with the $k$-means problem.   In that case, we simply defined an objective function and declared that it was a good one.\n",
        "\n",
        "Nonetheless, it appears that we were making a sort of Gaussian assumption when we formulated the $k$-means objective function.   However, __we didn't explicitly state it.__\n",
        "\n",
        "The point is that because the GMM makes its assumptions explicit, we can\n",
        "\n",
        "* examine them and think about whether they are valid\n",
        "* replace them with different assumptions if we wish\n",
        "\n",
        "For example, it is perfectly possible to replace the Gaussian assumption with some other probility distribution.   As long as we can estimate the parameters of such distributions from data (eg, have MLEs), we can use EM in that case as well.\n",
        "\n",
        "## Instantiating EM with the Gaussian Model\n",
        "\n",
        "If we model each cluster as a multi-dimensional Gaussian, then we can instatiate every part of\n",
        "the algorithm. \n",
        "\n",
        "This is the GMM (Gaussian Mixture Model) algorithm implemented in *sklearn.mixture* module.\n",
        "\n",
        "In that case $C_i$ is represented by $(\\mu_i, \\Sigma_i)$ and in EM Step 1 we compute:\n",
        "\n",
        "$$ P(x_i|C_j) = \\frac{1}{\\sqrt{(2\\pi)^d |\\Sigma_j|}} exp (-\\frac{1}{2}(x_i-\\mu_j)^T\\Sigma_j^{-1}(x_i-\\mu_j))$$\n",
        "\n",
        "In EM Step 2, we estimate the parameters of the Gaussian using the appropriate MLEs:\n",
        "\n",
        "$$\\mu_j'=\\frac{\\sum_{i=1}^n P(C_j|x_i) x_i}{\\sum_{i=1}^n P(C_j|x_i)}$$\n",
        "\n",
        "and\n",
        "\n",
        "$$\\Sigma_j = \\frac{\\sum_{i=1}^n P(C_j|x_i) (x_i-\\mu_j')(x_i-\\mu_j')^T}{\\sum_{i=1}^n P(C_j|x_i)}$$\n",
        "\n",
        "A final statement about EM generally.   EM is a versatile algorithm that can be used in many other settings.  What is the main idea behind it?\n",
        "\n",
        "Notice that the problem definition only required that we find the clusters, $C_i$, meaning that we were to find the $(\\mu_i, \\Sigma_i)$.\n",
        "\n",
        "However, the EM algorithm posited that we should find as well the $P(C_j|x_i)$, that is, the probability that each point is a member of each cluster.\n",
        "\n",
        "This is the true heart of what EM does.   \n",
        "\n",
        "The idea is called \"data augmentation.\"\n",
        "\n",
        "By __adding parameters__ to the problem, it actually finds a way to make the problem solvable!\n",
        "\n",
        "These parameters don't show up in the solution.  They are sometimes called \"hidden parameters.\"\n",
        "\n",
        "So the basic strategy for using EM is: think up some __additional__ information which, if you had it, would make the problem solvable.\n",
        "\n",
        "Figure out how to estimate the additional information from a solved problem, and put the two steps into a loop.\n",
        "\n",
        "Here is an example using **GMM**.\n",
        "\n",
        "We're going to create two clusters, one spherical, and one highly skewed."
      ]
    },
    {
      "cell_type": "code",
      "metadata": {
        "slideshow": {
          "slide_type": "fragment"
        }
      },
      "source": [
        "# Number of samples of larger component\n",
        "n_samples = 1000\n",
        "\n",
        "# C is a transfomation that will make a heavily skewed 2-D Gaussian\n",
        "C = np.array([[0.1, -0.1], [1.7, .4]])\n",
        "\n",
        "print(f'The covariance matrix of our skewed cluster will be:\\n {C.T@C}')"
      ],
      "execution_count": null,
      "outputs": []
    },
    {
      "cell_type": "code",
      "metadata": {
        "slideshow": {
          "slide_type": "fragment"
        }
      },
      "source": [
        "# make the sample deterministic\n",
        "np.random.seed(0)\n",
        "\n",
        "# now we construct a data matrix that has n_samples from the skewed distribution,\n",
        "# and n_samples/2 from a symmetric distribution offset to position (-4, 2)\n",
        "X = np.r_[(np.random.randn(n_samples, 2) @ C),\n",
        "          .7 * np.random.randn(n_samples//2, 2) + np.array([-4, 2])]"
      ],
      "execution_count": null,
      "outputs": []
    },
    {
      "cell_type": "code",
      "metadata": {
        "hide_input": true,
        "tags": [
          "hide-input"
        ]
      },
      "source": [
        "plt.scatter(X[:, 0], X[:, 1], s = 10, alpha = 0.8)\n",
        "plt.axis('equal')\n",
        "plt.axis('off');"
      ],
      "execution_count": null,
      "outputs": []
    },
    {
      "cell_type": "code",
      "metadata": {
        "slideshow": {
          "slide_type": "fragment"
        }
      },
      "source": [
        "# Fit a mixture of Gaussians with EM using two components\n",
        "import sklearn.mixture\n",
        "gmm = sklearn.mixture.GaussianMixture(n_components=2, \n",
        "                                      covariance_type='full', \n",
        "                                      init_params = 'kmeans')\n",
        "y_pred = gmm.fit_predict(X)"
      ],
      "execution_count": null,
      "outputs": []
    },
    {
      "cell_type": "code",
      "metadata": {
        "cell_style": "split",
        "hide_input": true,
        "slideshow": {
          "slide_type": "fragment"
        },
        "tags": [
          "hide-input"
        ]
      },
      "source": [
        "colors = ['bg'[p] for p in y_pred]\n",
        "plt.title('Clustering via GMM')\n",
        "plt.axis('off')\n",
        "plt.axis('equal')\n",
        "plt.scatter(X[:, 0], X[:, 1], color = colors, s = 10, alpha = 0.8);"
      ],
      "execution_count": null,
      "outputs": []
    },
    {
      "cell_type": "code",
      "metadata": {
        "cell_style": "split",
        "hide_input": true,
        "scrolled": true,
        "tags": [
          "hide-input"
        ]
      },
      "source": [
        "for clus in range(2):\n",
        "    print(f'Cluster {clus}:')\n",
        "    print(f' weight: {gmm.weights_[clus]:0.3f}')\n",
        "    print(f' mean: {gmm.means_[clus]}')\n",
        "    print(f' cov: \\n{gmm.covariances_[clus]}\\n')"
      ],
      "execution_count": null,
      "outputs": []
    },
    {
      "cell_type": "code",
      "metadata": {
        "cell_style": "split",
        "hide_input": true,
        "slideshow": {
          "slide_type": "fragment"
        },
        "tags": [
          "hide-input"
        ]
      },
      "source": [
        "import sklearn.cluster\n",
        "kmeans = sklearn.cluster.KMeans(init = 'k-means++', n_clusters = 2, n_init = 100)\n",
        "y_pred_kmeans = kmeans.fit_predict(X)\n",
        "colors = ['bg'[p] for p in y_pred_kmeans]\n",
        "plt.title('Clustering via $k$-means\\n$k$-means centers: red, GMM centers: black')\n",
        "plt.axis('off')\n",
        "plt.axis('equal')\n",
        "plt.scatter(X[:, 0], X[:, 1], color = colors, s = 10, alpha = 0.8)\n",
        "plt.plot(kmeans.cluster_centers_[:,0], kmeans.cluster_centers_[:,1], 'ro')\n",
        "plt.plot(gmm.means_[:,0], gmm.means_[:,1], 'ko');"
      ],
      "execution_count": null,
      "outputs": []
    },
    {
      "cell_type": "code",
      "metadata": {
        "cell_style": "split",
        "hide_input": true,
        "tags": [
          "hide-input"
        ]
      },
      "source": [
        "for clus in range(2):\n",
        "    print(f'Cluster {clus}:')\n",
        "    print(f' center: {kmeans.cluster_centers_[clus]}\\n')"
      ],
      "execution_count": null,
      "outputs": []
    },
    {
      "cell_type": "markdown",
      "metadata": {},
      "source": [
        "Now, let's construct __overlapping__ clusters.  What will happen?"
      ]
    },
    {
      "cell_type": "code",
      "metadata": {
        "slideshow": {
          "slide_type": "fragment"
        }
      },
      "source": [
        "X = np.r_[np.random.randn(n_samples, 2) @ C,\n",
        "          0.7 * np.random.randn(n_samples, 2) ]\n",
        "gmm = sklearn.mixture.GaussianMixture(n_components=2, covariance_type='full')\n",
        "y_pred_over = gmm.fit_predict(X)"
      ],
      "execution_count": null,
      "outputs": []
    },
    {
      "cell_type": "code",
      "metadata": {
        "cell_style": "split",
        "hide_input": true,
        "slideshow": {
          "slide_type": "fragment"
        },
        "tags": [
          "hide-input"
        ]
      },
      "source": [
        "colors = ['bgrky'[p] for p in y_pred_over]\n",
        "plt.title('GMM for overlapping clusters\\nNote they have nearly the same center')\n",
        "plt.scatter(X[:, 0], X[:, 1], color = colors, s = 10, alpha = 0.8)\n",
        "plt.axis('equal')\n",
        "plt.axis('off')\n",
        "plt.plot(gmm.means_[:,0], gmm.means_[:,1], 'ro');"
      ],
      "execution_count": null,
      "outputs": []
    },
    {
      "cell_type": "code",
      "metadata": {
        "cell_style": "split",
        "hide_input": true,
        "slideshow": {
          "slide_type": "fragment"
        },
        "tags": [
          "hide-input"
        ]
      },
      "source": [
        "for clus in range(2):\n",
        "    print(f'Cluster {clus}:')\n",
        "    print(f' weight: {gmm.weights_[clus]:0.3f}')\n",
        "    print(f' mean: {gmm.means_[clus]}\\n')\n",
        "    # print(f' cov: \\n{gmm.covariances_[clus]}\\n')"
      ],
      "execution_count": null,
      "outputs": []
    },
    {
      "cell_type": "markdown",
      "metadata": {},
      "source": [
        "## How many parameters are estimated?\n",
        "\n",
        "Most of the parameters in the model are contained in the covariance matrices.\n",
        "\n",
        "In the most general case, for $k$ clusters of points in $n$ dimensions, there are $k$ covariance matrices each of size $n \\times n$.   \n",
        "\n",
        "So we need $kn^2$ parameters to specify this model.\n",
        "\n",
        "It can happen that you may not have enough data to estimate so many parameters.\n",
        "\n",
        "Also, it can happen that you believe that clusters should have some constraints on their shapes.\n",
        "\n",
        "Here is where the GMM assumptions become __really__ useful.\n",
        "\n",
        "Let's say you believe all the clusters should have the same shape, but the shape can be arbitrary. \n",
        "\n",
        "Then you only need to estimate __one__ covariance matrix - just $n^2$ parameters.\n",
        "\n",
        "This is specified by the GMM parameter `covariance_type='tied'`."
      ]
    },
    {
      "cell_type": "code",
      "metadata": {
        "slideshow": {
          "slide_type": "fragment"
        }
      },
      "source": [
        "X = np.r_[np.dot(np.random.randn(n_samples, 2), C),\n",
        "          0.7 * np.random.randn(n_samples, 2) ]\n",
        "gmm = sklearn.mixture.GaussianMixture(n_components=2, covariance_type='tied')\n",
        "y_pred = gmm.fit_predict(X)"
      ],
      "execution_count": null,
      "outputs": []
    },
    {
      "cell_type": "code",
      "metadata": {
        "hide_input": true,
        "slideshow": {
          "slide_type": "fragment"
        },
        "tags": [
          "hide-input"
        ]
      },
      "source": [
        "colors = ['bgrky'[p] for p in y_pred]\n",
        "plt.scatter(X[:, 0], X[:, 1], color=colors, s=10, alpha=0.8)\n",
        "plt.title('Covariance type = tied')\n",
        "plt.axis('equal')\n",
        "plt.axis('off')\n",
        "plt.plot(gmm.means_[:,0],gmm.means_[:,1], 'ok');"
      ],
      "execution_count": null,
      "outputs": []
    },
    {
      "cell_type": "markdown",
      "metadata": {},
      "source": [
        "Perhaps you believe in even more restricted shapes: all clusters should have their axes aligned with the coordinate axes.\n",
        "\n",
        "That is, clusters are not skewed.\n",
        "\n",
        "\n",
        "Then you only need to estimate the diagonals of the covariance matrices - just $kn$ parameters.\n",
        "\n",
        "This is specified by the GMM parameter `covariance_type='diag'`."
      ]
    },
    {
      "cell_type": "code",
      "metadata": {
        "slideshow": {
          "slide_type": "fragment"
        }
      },
      "source": [
        "X = np.r_[np.dot(np.random.randn(n_samples, 2), C),\n",
        "          0.7 * np.random.randn(n_samples, 2)]\n",
        "gmm = sklearn.mixture.GaussianMixture(n_components=4, covariance_type='diag')\n",
        "y_pred = gmm.fit_predict(X)"
      ],
      "execution_count": null,
      "outputs": []
    },
    {
      "cell_type": "code",
      "metadata": {
        "hide_input": true,
        "slideshow": {
          "slide_type": "fragment"
        },
        "tags": [
          "hide-input"
        ]
      },
      "source": [
        "colors = ['bgrky'[p] for p in y_pred]\n",
        "plt.scatter(X[:, 0], X[:, 1], color = colors, s = 10, alpha = 0.8)\n",
        "plt.axis('equal')\n",
        "plt.axis('off')\n",
        "plt.plot(gmm.means_[:,0], gmm.means_[:,1], 'oc');"
      ],
      "execution_count": null,
      "outputs": []
    },
    {
      "cell_type": "markdown",
      "metadata": {},
      "source": [
        "Finally, if you believe that all clusters should be round, then you only need to estimate the $k$ variances.  \n",
        "\n",
        "This is specified by the GMM parameter `covariance_type='spherical'`."
      ]
    },
    {
      "cell_type": "code",
      "metadata": {},
      "source": [
        "X = np.r_[np.dot(np.random.randn(n_samples, 2), C),\n",
        "          0.7 * np.random.randn(n_samples, 2)]\n",
        "gmm = sklearn.mixture.GaussianMixture(n_components=2, covariance_type='spherical')\n",
        "y_pred = gmm.fit_predict(X)"
      ],
      "execution_count": null,
      "outputs": []
    },
    {
      "cell_type": "code",
      "metadata": {
        "hide_input": true,
        "tags": [
          "hide-input"
        ]
      },
      "source": [
        "colors = ['bgrky'[p] for p in y_pred]\n",
        "plt.scatter(X[:, 0], X[:, 1], color = colors, s = 10, alpha = 0.8)\n",
        "plt.axis('equal')\n",
        "plt.axis('off')\n",
        "plt.plot(gmm.means_[:,0], gmm.means_[:,1], 'oc');"
      ],
      "execution_count": null,
      "outputs": []
    }
  ],
  "metadata": {
    "kernelspec": {
      "name": "python3",
      "language": "python",
      "display_name": "Python 3 (ipykernel)",
      "path": "/Users/tomg/Source/courses/tools4ds/DS701-Course-Notes/.venv/share/jupyter/kernels/python3"
    }
  },
  "nbformat": 4,
  "nbformat_minor": 4
}