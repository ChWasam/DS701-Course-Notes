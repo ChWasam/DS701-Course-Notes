{
  "cells": [
    {
      "cell_type": "markdown",
      "metadata": {},
      "source": [
        "---\n",
        "title: Naive Bayes and Support Vector Machines\n",
        "jupyter: python3\n",
        "---\n",
        "\n",
        "[![](https://colab.research.google.com/assets/colab-badge.svg)](https://colab.research.google.com/github/tools4ds/DS701-Course-Notes/blob/main/ds701_book/jupyter_notebooks/16-Classification-III-NB-SVM.ipynb)"
      ]
    },
    {
      "cell_type": "code",
      "metadata": {
        "hide_input": true,
        "tags": [
          "hide-cell"
        ]
      },
      "source": [
        "import numpy as np\n",
        "import scipy as sp\n",
        "import matplotlib.pyplot as plt\n",
        "import pandas as pd\n",
        "import seaborn as sns\n",
        "import matplotlib as mp\n",
        "import sklearn\n",
        "from IPython.display import Image\n",
        "\n",
        "%matplotlib inline"
      ],
      "execution_count": null,
      "outputs": []
    },
    {
      "cell_type": "markdown",
      "metadata": {},
      "source": [
        "<P><P><P><P>\n",
        "<center>\n",
        "\n",
        "<img src=\"figs/Thomas_Bayes.gif\" alt=\"Figure\" width=\"38%\" align = \"left\">\n",
        "<img src=\"figs/L16-SVM-6.png\" alt=\"Figure\" width=\"40%\" align = \"right\">\n",
        "    \n",
        "</center>\n",
        "\n",
        "<!--- By Unknown author - [2][3], Public Domain, https://commons.wikimedia.org/w/index.php?curid=14532025 --->\n",
        "\n",
        "\n",
        "Today we'll look at two more very commonly-used, widely-applicable classification methods.\n",
        "\n",
        "* the _Naive Bayes Classifier_\n",
        "* the _Support Vector Machine_\n",
        "\n",
        "## Naive Bayes\n",
        "\n",
        "The classification problem most generally seeks to associate a label $y$ with a set of features $\\mathbf{x}$.  \n",
        "\n",
        "Perhaps the most fundamental way to attack this problem is via probability.\n",
        "\n",
        "We'll now consider how to use probability to directly address the classification problem.\n",
        "\n",
        "A key tool will be __Bayes Rule,__ so let's review that.\n",
        "\n",
        "### Bayes Rule\n",
        "\n",
        "We'll start from the definition of conditional probability:\n",
        "\n",
        "$$ P[A\\,|\\,C] = \\frac{P[A \\text{ and } C]}{P[C]} $$\n",
        "\n",
        "So:\n",
        "\n",
        "$$ P[A \\text{ and } C] = P[A\\,|\\,C] \\cdot P[C]. $$"
      ]
    },
    {
      "cell_type": "code",
      "metadata": {
        "hide_input": true,
        "tags": [
          "hide-input"
        ]
      },
      "source": [
        "plt.figure(figsize = (6,6))\n",
        "ax=plt.gcf().gca()\n",
        "circle = mp.patches.Circle([1, 1], 0.7, facecolor = 'blue', alpha = 0.2)\n",
        "ax.add_artist(circle)\n",
        "circle = mp.patches.Circle([1.7, 1], 0.4, facecolor = 'red', alpha = 0.2)\n",
        "ax.add_artist(circle)\n",
        "ax.axis('square')\n",
        "ax.axis('off')\n",
        "plt.xlim([0, 2.5])\n",
        "plt.ylim([0, 2])\n",
        "plt.text(1, .95, 'A', fontsize = 16)\n",
        "plt.text(1.85, .95, 'C', fontsize = 16)\n",
        "plt.text(1.35, .95, 'A & C', fontsize = 16);\n",
        "# plt.title(r'$P[C\\,|\\,A]\\,P[A] = P[A\\,|\\,C]\\,P[C]$'); "
      ],
      "execution_count": null,
      "outputs": []
    },
    {
      "cell_type": "markdown",
      "metadata": {},
      "source": [
        "Switching the roles of $A$ and $C$, we can equally say:\n",
        "\n",
        "$$ P[C \\text{ and } A] = P[C\\,|\\,A] \\cdot P[A]. $$\n",
        "\n",
        "Now $P[C \\text{ and } A] = P[A \\text{ and } C]$, so:\n",
        "    \n",
        "$$ P[A\\,|\\,C] \\cdot P[C] = P[C\\,|\\,A] \\cdot P[A] $$\n",
        "\n",
        "Rearranging, we get __Bayes' Rule__:\n",
        "    \n",
        "$$ P[A\\,|\\,C] = \\frac{P[C\\,|\\,A] \\cdot P[A]}{P[C]}. $$\n",
        "\n",
        "So there is nothing \"magic\" about Bayes' Rule: it simply follows from the basic laws of probability.\n",
        "\n",
        "However, it is __very__ useful!\n",
        "\n",
        "The reason is that often, $P[A\\,|\\,C]$ is __not__ known, but the expressions on the right __are__ known.\n",
        "\n",
        "(We've already seen how this is used in the EM algorithm for Gaussian Mixture Modeling.)\n",
        "\n",
        "### Using Bayes Rule in a Classifier\n",
        "\n",
        "Let's start with a simple example:\n",
        "   * A doctor knows that meningitis causes a stiff neck 75% of the time.\n",
        "   * This is $P[S\\,|\\,M]$. \n",
        "   \n",
        "A patient presents with a stiff neck.  What is the probability she has meningitis?\n",
        "\n",
        "Well, we can't say.  \n",
        "\n",
        "What we know is $P[S\\,|\\,M]$, but what we want to know is $P[M\\,|\\,S]$!\n",
        "\n",
        "Now perhaps the doctor _also_ knows that \n",
        "   * 1 in 20 people in the population have a stiff neck at any given time\n",
        "       * $P[S] = 1/20$\n",
        "   * 1 in 10,000 people in the population have meningitis at any given time\n",
        "       * $P[M] = 1/10000$\n",
        "\n",
        "   \n",
        "Now, we can calculate the answer needed:\n",
        "\n",
        "$$ P[M\\,|\\,S] = \\frac{P[S\\,|\\,M]}{P[S]}\\cdot P[M] = \\frac{3/4}{1/20} \\cdot 1/10000 = \\fbox{$15 \\cdot 1/10000$} = 0.0015. $$\n",
        "\n",
        "I wrote the expressions above that way to point out the essence of Bayesian reasoning:\n",
        "\n",
        "* A random person has probability 1/10000 of having meningitis\n",
        "* When __we learn__ that the person has a stiff neck, it __increases their probability__ by a factor of 15.\n",
        "\n",
        "We give these probabilities names according to their roles:\n",
        "\n",
        "* The random person's probability (1/10000) is called the __prior__ probability\n",
        "* The specific patient's probability (15 $\\cdot$ 1/10000) is called the __posterior__ probability.\n",
        "\n",
        "We are going to use this same principle to construct a classifier.\n",
        "\n",
        "Given a set of items with features and class labels:\n",
        "\n",
        "The __class label__ will play the role of \"meningitis\" and the various __attributes__ of the item will play the role of \"stiff neck.\"\n",
        "\n",
        "We will then ask \"how does the value of each feature change the probability of the class label?\"\n",
        "\n",
        "More formally:\n",
        "    \n",
        "Consider an item $\\mathbf{x}$ having attributes $x_1, x_2, \\dots, x_n$.\n",
        "\n",
        "There are various classes (labels) for items: $C_1, \\dots, C_k$.\n",
        "\n",
        "Our goal is to predict the class of $\\mathbf{x}$.\n",
        "\n",
        "\n",
        "To do that, we will compute $P[C_1\\,|\\,\\mathbf{x}], P[C_2\\,|\\,\\mathbf{x}], \\dots, P[C_k\\,|\\,\\mathbf{x}]$.\n",
        "\n",
        "These form a __soft classification__ of $\\mathbf{x}$.\n",
        "\n",
        "From them, we can form a hard classification.  One way would simply be to choose the class with highest probability.\n",
        "\n",
        "This is the MAP (_Maximum A Posteriori_) Estimate: \n",
        "\n",
        "$$\\hat{C} = \\arg\\max_{\\{C_i\\}} P[C_i\\,|\\,\\mathbf{x}].$$\n",
        "\n",
        "Now $P[C_i\\,|\\,\\mathbf{x}] = P[C_i\\,|\\,x_1, x_2, \\dots, x_n]$\n",
        "\n",
        "How can we approach the problem of computing $P[C_i\\,|\\,\\mathbf{x}]$?\n",
        "\n",
        "The __key idea__ is that Bayes Rule makes clear that \n",
        "\n",
        "$$ P[C_i\\,|\\,\\mathbf{x}] = \\frac{P[\\mathbf{x}\\,|\\,C_i]}{P[\\mathbf{x}]} \\cdot P[C_i] $$\n",
        "\n",
        "Now, when we vary $C_i$ in the above expression, $P[\\mathbf{x}]$ is not changing.\n",
        "\n",
        "So ... \n",
        "\n",
        "The $\\hat{C}$ that maximizes \n",
        "\n",
        "$$P[C_i\\,|\\,x_1, x_2, \\dots, x_n]$$\n",
        "\n",
        "is the __same__ as the $\\hat{C}$ that maximizes \n",
        "\n",
        "$$P[x_1, x_2, \\dots, x_n\\,|\\,C_i]\\cdot P[C_i].$$\n",
        "\n",
        "This gives us an angle of attack on the problem.\n",
        "\n",
        "The difficult problem that remains is how to estimate\n",
        "\n",
        "$$ P[x_1, x_2, \\dots, x_n\\,|\\,C_i]. $$\n",
        "\n",
        "To see the challenge, imagine if we tried to compute $P[x_1, x_2, \\dots, x_n\\,|\\,C_i]$ directly from data. \n",
        "\n",
        "Attacking head-on, we could use a histogram to estimate the necessary distribution.  In other words, simply count up how many times we see each combination of feature values.\n",
        "\n",
        "Let's say there are 20 features ($n = 20$), and 10 possible values for each feature. \n",
        "\n",
        "Then for each class $C_i$ we need to construct a histogram with $10^{20}$ bins!   \n",
        "\n",
        "We would never have enough data to fill all those bins.\n",
        "\n",
        "The underlying problem we face is the high dimensionality of the feature space.\n",
        "\n",
        "The size of our histogram is __exponential__ in the number of features.\n",
        "\n",
        "So, we need to find a way to reduce the exponential size of the estimation problem.\n",
        "\n",
        "We will do that by __factoring__ the distribution $P[x_1, x_2, \\dots, x_n\\,|\\,C_i]$.\n",
        "\n",
        "Here is where the \"Naive\" part comes in.\n",
        "\n",
        "We will __assume__ that __attributes are independent__ in their assignment to items.\n",
        "\n",
        "That is, for two sets of attributes, the values of the attributes in one set do not affect the values in the other set.    So all correlations among attributes are zero.\n",
        "\n",
        "This is indeed a \"naive\" assumption ... but it can be surprisingly effective in practice.\n",
        "\n",
        "That implies that:\n",
        "    \n",
        "$$ P[x_1, x_2, \\dots, x_n\\,|\\,C_i] = P[x_1\\,|\\,C_i] \\cdot P[x_2\\,|\\,C_i] \\cdot \\dots P[x_n\\,|\\,C_i]  $$\n",
        "\n",
        "This is very helpful computationally, because the factors $P[x_j\\,|\\,C_i]$ are individually much lower-dimensional than the full distribution.\n",
        "\n",
        "In a naive Bayes model, the quantity we calculate for each class $C_i$ is\n",
        "\n",
        "$$ \\left(P[x_1\\,|\\,C_i] \\cdot P[x_2\\,|\\,C_i] \\cdot \\dots P[x_n\\,|\\,C_i]\\right) \\cdot P[C_i] $$\n",
        "\n",
        "You can see each conditional probability as a \"correction factor\" to $P[C_i]$.\n",
        "\n",
        "Each factor $P[x_j\\,|\\,C_i]$ tells us how we should update our confidence in $C_i$ based on the value of a particular feature $x_j$.\n",
        "\n",
        "So, what remains then is to estimate $P[x_j\\,|\\,C_i]$ for all $x_j$ and $C_i$.\n",
        "\n",
        "We will estimate these quantities from our training data.\n",
        "\n",
        "To summarize the steps of Naive Bayes:\n",
        "\n",
        "__Training__\n",
        "\n",
        "* Compute all the per-class attribute probabilities $P[x_j\\,|\\,C_i]$ from training data.\n",
        "* Compute all the class probabilities $P[C_i]$ from the training data.\n",
        "\n",
        "__Predicting__\n",
        "\n",
        "* For a given item $\\mathbf{x} = (x_1, x_2, \\dots, x_n)$, \n",
        "    * For each class $C_i,$ compute $P[x_1\\,|\\,C_i] \\cdot P[x_2\\,|\\,C_i] \\cdot \\dots P[x_n\\,|\\,C_i] \\cdot P[C_i]$\n",
        "    * For a hard classification, return the class that maximizes the above expression.\n",
        "        * That is, the MAP estimate.\n",
        "\n",
        "### Computing Attribute Probabilities from Data\n",
        "\n",
        "All that remains is to compute the conditional attribute probabilities from data.\n",
        "\n",
        "The strategy depends on the attribute type: __discrete__ or __continuous.__\n",
        "\n",
        "<center>\n",
        "    \n",
        "<img src=\"figs/L16-sample-data.png\" alt=\"Figure\" width=\"40%\">\n",
        "    \n",
        "</center>\n",
        "\n",
        "__Discrete Attributes__.\n",
        "\n",
        "Discrete attributes, such as categorical or ordinal attributes, can be handled via histograms.\n",
        "\n",
        "In the above table, to handle the <font color = \"blue\"> Marital Status </font> attribute for the <font color = \"blue\"> $\\text{Evade} = \\text{No}$ </font> class,  we need to compute\n",
        "\n",
        "$$ P[\\text{Single}\\,|\\,\\text{Evade }=\\text{ No}] = 2 / 7 = 0.29 $$\n",
        "\n",
        "and\n",
        "\n",
        "$$ P[\\text{Married}\\,|\\,\\text{Evade }=\\text{ No}] = 4 / 7 = 0.57 $$\n",
        "\n",
        "and\n",
        "\n",
        "$$ P[\\text{Divorced}\\,|\\,\\text{Evade }=\\text{ No}] = 1 / 7 = 0.14 $$\n",
        "\n",
        "One problem that can arise is when a histogram bin has zero entries.  Then the conditional probability for this attribute value is zero, which overrides all the other factors and yields a zero probability.\n",
        "\n",
        "There are various strategies for making small corrections to the counts that avoid this problem.\n",
        "\n",
        "<center>\n",
        "    \n",
        "<img src=\"figs/L16-sample-data.png\" alt=\"Figure\" width=\"40%\">\n",
        "    \n",
        "</center>\n",
        "\n",
        "__Continuous Attributes.__\n",
        "\n",
        "Continuous attributes can be handled via histograms as well, by binning up the values.   \n",
        "\n",
        "In the above example, we could create bins to hold ranges of values for <font color = \"blue\"> Taxable Income </font>.\n",
        "\n",
        "However, another commonly used approach is to assume that the data follow a parametric probability distribution.\n",
        "\n",
        "Most often the Gaussian is used (of course).\n",
        "\n",
        "So we might form conditional probabilities for <font color = \"blue\"> Taxable Income </font> as\n",
        "\n",
        "$$ P[\\text{Taxable Income} = x\\,|\\,\\text{Evade }=\\text{ No}] = \\mathcal{N}(x; \\mu_\\text{No}, \\sigma_\\text{No}) $$"
      ]
    },
    {
      "cell_type": "code",
      "metadata": {
        "hide_input": true,
        "tags": [
          "hide-input"
        ]
      },
      "source": [
        "from scipy.stats import norm\n",
        "eno = np.array([125000, 100000, 70000, 120000, 60000, 220000, 75000])\n",
        "eyes = np.array([95000, 85000, 75000])\n",
        "mu_no = np.mean(eno)\n",
        "sig_no = np.std(eno)\n",
        "mu_yes = np.mean(eyes)\n",
        "sig_yes = np.mean(eyes)\n",
        "plt.figure()\n",
        "x = np.linspace(norm.ppf(0.001, loc = mu_no, scale = sig_no), norm.ppf(0.999, loc = mu_no, scale = sig_no), 100)\n",
        "plt.plot(x, norm.pdf(x, loc = mu_no, scale = sig_no),'b-', lw = 5, alpha = 0.6, label = 'Evade = No')\n",
        "x = np.linspace(norm.ppf(0.001, loc = mu_yes, scale = sig_yes), norm.ppf(0.999, loc = mu_yes, scale = sig_yes), 100)\n",
        "plt.plot(x, norm.pdf(x, loc = mu_yes, scale = sig_yes),'g-', lw = 5, alpha = 0.6, label = 'Evade = Yes')\n",
        "plt.xlim([0, 200000])\n",
        "plt.xlabel('Taxable Income', size=14)\n",
        "plt.legend(loc = 'best')\n",
        "plt.title('Class-Conditional Distributions')\n",
        "plt.ylabel(r'$p(x)$', size=14);"
      ],
      "execution_count": null,
      "outputs": []
    },
    {
      "cell_type": "markdown",
      "metadata": {},
      "source": [
        "In summary:\n",
        "    \n",
        "* Naive Bayes attacks the classification problem through probability, \n",
        "    * which is perhaps the most natural formal tool for the problem.\n",
        "* Training is very simple, based on estimating class-conditional histograms or parametric densities of features.\n",
        "* Naive Bayes can work well in high-dimensional settings (many features) \n",
        "    * Many times the correct label is the MAP estimate, even if individual probabilities are less accurate.\n",
        "* Its principal drawback is its assumption of __independence__ among the features.\n",
        "\n",
        "## Support Vector Machines\n",
        "\n",
        "We now turn to the support vector machine (SVM).  \n",
        "\n",
        "The SVM is based on explicit __geometric__ considerations about how best to build a classifier.\n",
        "\n",
        "As an example, here is a set of training data, considered as points in $\\mathbb{R}^d$:\n",
        "\n",
        "<center>\n",
        "    \n",
        "<img src=\"figs/L16-SVM-1.png\" alt=\"Figure\" width=\"40%\">\n",
        "    \n",
        "</center>\n",
        "\n",
        "We will start with the idea of a __linear separator__.\n",
        "\n",
        "This is a hyperplane that forms a decision boundary.\n",
        "\n",
        "Here is one possible separator:\n",
        "\n",
        "<center>\n",
        "    \n",
        "<img src=\"figs/L16-SVM-2.png\" alt=\"Figure\" width=\"40%\">\n",
        "    \n",
        "</center>\n",
        "\n",
        "Here is another possible separator:\n",
        "\n",
        "<center>\n",
        "    \n",
        "<img src=\"figs/L16-SVM-3.png\" alt=\"Figure\" width=\"40%\">\n",
        "    \n",
        "</center>\n",
        "\n",
        "Which separator is __better__?\n",
        "\n",
        "Well, they both perfectly separate the two classes in the training data.\n",
        "\n",
        "<center>\n",
        "    \n",
        "<img src=\"figs/L16-SVM-4.png\" alt=\"Figure\" width=\"40%\">\n",
        "    \n",
        "</center>\n",
        "\n",
        "But what we really care about is accuracy on the test data -- __generalization__ ability.\n",
        "\n",
        "It seems that $B_1$ is a better choice, because it is __farther__ from __both__ classes.\n",
        "\n",
        "So, new data falling in the region between training classes is more likely to be correctly classified by $B_1$.\n",
        "\n",
        "This leads to a principle for choosing the best separator:\n",
        "    \n",
        "* We are concerned with the __margin__ between the separator and the data, and\n",
        "* We prefer the separator that __maximizes the margin__.\n",
        "\n",
        "In fact, there are theoretical results suggesting that this is an optimal strategy for choosing a separator that has good generalization ability.\n",
        "\n",
        "<center>\n",
        "    \n",
        "<img src=\"figs/L16-SVM-5.png\" alt=\"Figure\" width=\"40%\">\n",
        "    \n",
        "</center>\n",
        "\n",
        "### Linear SVM: Separable Case\n",
        "\n",
        "Let's see how we can train an SVM.\n",
        "\n",
        "As usual, our training data consists of tuples $(\\mathbf{x}_i, y_i)$, where $\\mathbf{x}_i \\in \\mathbb{R}^d$, and (by convention) $y_i \\in \\{-1, 1\\}$.\n",
        "\n",
        "We're going to assume (for now) that our data can be perfectly separated by a hyperplane.\n",
        "\n",
        "Any hyperplane (such as $B_1$ below) can be written as:\n",
        "\n",
        "$$ w_1 x_1 + w_2 x_2 + \\dots + w_d x_d + b = 0$$\n",
        "\n",
        "or more concisely:\n",
        "\n",
        "$$ \\mathbf{w}^T\\mathbf{x} + b = 0. $$\n",
        "\n",
        "So our decision boundary (ie, our classifier) has parameters $\\{w_i\\}$ and $b$.\n",
        "\n",
        "<center>\n",
        "    \n",
        "<img src=\"figs/L16-SVM-5.png\" alt=\"Figure\" width=\"40%\">\n",
        "    \n",
        "</center>\n",
        "\n",
        "For any $\\mathbf{x}_+$ from the positive class (circle) located __above__ the decision boundary, \n",
        "\n",
        "$$ \\mathbf{w}^T\\mathbf{x}_+ + b = k $$\n",
        "\n",
        "for some __positive__ $k$.\n",
        "\n",
        "<center>\n",
        "    \n",
        "<img src=\"figs/L16-SVM-6.png\" alt=\"Figure\" width=\"40%\">\n",
        "    \n",
        "</center>\n",
        "\n",
        "\n",
        "Likewise for any $\\mathbf{x}_-$ from the negative class (square) located __below__ the decision boundary, \n",
        "\n",
        "$$ \\mathbf{w}^T\\mathbf{x}_- + b = -k $$\n",
        "\n",
        "for the same $k$.\n",
        "\n",
        "We'll rescale the parameters $\\mathbf{w}$ and $b$ by dividing through by $k$, thus obtaining new equations for the __same__ hyperplanes:\n",
        "\n",
        "$$ b_{11}: \\mathbf{w}^T\\mathbf{x}_+ + b = 1 $$\n",
        "$$ b_{12}: \\mathbf{w}^T\\mathbf{x}_- + b = -1 $$\n",
        "\n",
        "How far apart are these hyperplanes?\n",
        "\n",
        "The vector $\\mathbf{w}$ is orthogonal to the hyperplanes $b_{11}$ and $b_{12}$.\n",
        "\n",
        "So the distance between the two hyperplanes is the component of $(\\mathbf{x}_+ - \\mathbf{x}_-)$ that is in the direction of $\\mathbf{w}$.\n",
        "\n",
        "In other words, the projection of $(\\mathbf{x}_+ - \\mathbf{x}_-)$ onto $\\mathbf{w}$.\n",
        "\n",
        "Which is given by $$d = \\frac{\\mathbf{w}^T}{\\Vert\\mathbf{w}\\Vert}(\\mathbf{x}_+ - \\mathbf{x}_-).$$\n",
        "\n",
        "But subtracting the equations for the hyperplanes, we get:\n",
        "\n",
        "$$ \\mathbf{w}^T(\\mathbf{x}_+ - \\mathbf{x}_-) = 2 $$\n",
        "\n",
        "So we conclude:\n",
        "\n",
        "$$ d = \\frac{2}{\\Vert\\mathbf{w}\\Vert}. $$\n",
        "\n",
        "Now, we have a measure for how good a separator is in terms of its parameters $\\mathbf{w}$.\n",
        "\n",
        "We want the separator to maximize $ d = \\frac{2}{\\Vert\\mathbf{w}\\Vert},$ or equivalently, minimize $ \\Vert\\mathbf{w}\\Vert$.\n",
        "\n",
        "What separators should we consider (ie, search through)?\n",
        "\n",
        "The answer is, we consider all separators that correctly classify each point.\n",
        "\n",
        "That is, for all training points ($\\mathbf{x}_i, y_i)$:\n",
        "    \n",
        "$$ \\mathbf{w}^T\\mathbf{x}_i + b \\ge 1 \\text{ if } y_i = 1 $$\n",
        "\n",
        "and \n",
        "\n",
        "$$ \\mathbf{w}^T\\mathbf{x}_i + b \\le -1 \\text{ if } y_i = -1 $$\n",
        "\n",
        "So now we can formally state the problem of defining the __maximum margin separator__:\n",
        "\n",
        "$$ \\mathbf{w}^* = \\arg\\min_\\mathbf{w} \\Vert\\mathbf{w}\\Vert$$\n",
        "\n",
        "Subject to:\n",
        "\n",
        "$$ \\mathbf{w}^T\\mathbf{x}_i + b \\ge 1 \\text{ if } y_i = 1 $$\n",
        "\n",
        "$$ \\mathbf{w}^T\\mathbf{x}_i + b \\le -1 \\text{ if } y_i = -1 $$\n",
        "\n",
        "This is a __constrained obtimization problem__ with a __quadratic objective function.__\n",
        "\n",
        "The quadratic form $\\Vert \\mathbf{w}\\Vert$ is positive definite, so it is strictly convex (it has a unique global minimum).\n",
        "\n",
        "Such problems are called <font color = \"blue\">quadratic programs.</font>   \n",
        "\n",
        "There are standard methods for solving them.   The methods are effective but can be slow.\n",
        "\n",
        "The complexity of the problem grows with the number of constraints (ie, the number of training points).\n",
        "\n",
        "Ultimately, only a subset of the training points (constraints) will determine the final solution.\n",
        "\n",
        "The points that determine the solution \"support\" it.  They are the __support vectors.__\n",
        "\n",
        "<center>\n",
        "    \n",
        "<img src=\"figs/L16-SVM-6.png\" alt=\"Figure\" width=\"40%\">\n",
        "    \n",
        "</center>\n",
        "\n",
        "### Linear SVM: Non-Separable Case\n",
        "\n",
        "It may well happen that there is no hyperplane that perfectly separates the classes.\n",
        "\n",
        "<center>\n",
        "    \n",
        "<img src=\"figs/L16-SVM-7.png\" alt=\"Figure\" width=\"40%\">\n",
        "    \n",
        "</center>\n",
        "\n",
        "In this case, we allow points to fall on the \"wrong\" side of their separator, but we add a penalty for this occurrence.\n",
        "\n",
        "To express this formally, we introduce __slack__ variables, one per data point: $\\xi_i$.   \n",
        "\n",
        "Each $\\xi_i$ measures how far the data point is on the \"wrong side\" of its separator.\n",
        "\n",
        "So the constraints are loosened:\n",
        "\n",
        "$$ \\mathbf{w}^T\\mathbf{x}_i + b \\ge 1-\\xi_i \\text{ if } y_i = 1 $$\n",
        "\n",
        "$$ \\mathbf{w}^T\\mathbf{x}_i + b \\le -1+\\xi_i \\text{ if } y_i = -1 $$\n",
        "\n",
        "$$ \\xi_i \\ge 0.$$\n",
        "\n",
        "And the new problem is:\n",
        "\n",
        "$$ \\mathbf{w}^* = \\arg\\min_\\mathbf{w} \\left(\\Vert\\mathbf{w}\\Vert + C (\\sum_{i=1}^N \\xi_i)^k\\right),$$\n",
        "\n",
        "subject to the above constraints.\n",
        "\n",
        "Notice we have introduced a hyperparameter: $C$.\n",
        "    \n",
        "$C$ essentially controls the complexity of the SVM.  \n",
        "\n",
        "Hence it needs to be set by cross-validation.\n",
        "\n",
        "A small value of $C$ will result in allowing many points to fall on the wrong side of their corresponding hyperplane (having a nonzero $\\xi_i$) resulting in a large number of support vectors.   So small $C$ results in a more stable decision boundary.\n",
        "\n",
        "Large $C$ values will penalize violations heavily, and will result in fewer nonzero $\\xi_i$s, leading to fewer support vectors.\n",
        "\n",
        "### Nonlinear SVM\n",
        "\n",
        "Finally, we consider the case in which the decision boundary is strongly nonlinear.\n",
        "\n",
        "<center>\n",
        "    \n",
        "<img src=\"figs/L16-SVM-8.png\" alt=\"Figure\" width=\"40%\">\n",
        "    \n",
        "</center>\n",
        "\n",
        "The basic idea here is that we take the data and transform it into another, higher-dimensional space.\n",
        "\n",
        "Here is the same dataset on transformed coordinates:\n",
        "\n",
        "$$ x_1 \\rightarrow x_1 $$\n",
        "\n",
        "$$ x_2 \\rightarrow (x_1 + x_2)^4 $$\n",
        "\n",
        "<center>\n",
        "    \n",
        "<img src=\"figs/L16-SVM-9.png\" alt=\"Figure\" width=\"40%\">\n",
        "    \n",
        "</center>\n",
        "\n",
        "(We are not showing more dimensions here, but the principle is the same.)\n",
        "\n",
        "In the higher dimensional space, the points may be (approximately) separable.\n",
        "\n",
        "To achieve this using the framework of the SVM, we use a __kernel__.\n",
        "\n",
        "A kernel is a similarity function $K(\\mathbf{x}, \\mathbf{y})$.\n",
        "\n",
        "There are many ways to define kernels. \n",
        "\n",
        "The most popular kernels are:\n",
        "    \n",
        "* Linear (aka Inner Product): $K(\\mathbf{x}, \\mathbf{y}) = \\mathbf{x}^T\\mathbf{y}$\n",
        "* Polynomial: $K(\\mathbf{x}, \\mathbf{y}) = (\\mathbf{x}^T\\mathbf{y})^d$\n",
        "* Gaussian: $K(\\mathbf{x}, \\mathbf{y}) = \\text{exp}(-\\gamma\\Vert\\mathbf{x}-\\mathbf{y}\\Vert^2)$\n",
        "\n",
        "The Gaussian kernel is also called a \"Radial Basis Function\".   \n",
        "\n",
        "There is an efficient way to train an SVM using a kernel for a similarity function.\n",
        "\n",
        "The basic idea is that the standard linear SVM is trained using Euclidean distance.\n",
        "\n",
        "However, the squared Euclidean distance between two vectors is:\n",
        "    \n",
        "$$ \\Vert\\mathbf{x} - \\mathbf{y}\\Vert^2 = (\\mathbf{x} - \\mathbf{y})^T(\\mathbf{x} - \\mathbf{y}) = \\mathbf{x}^T\\mathbf{x} + \\mathbf{y}^T\\mathbf{y} - 2\\mathbf{x}^T\\mathbf{y}$$\n",
        "\n",
        "So the Euclidean distance can be defined entirely in terms of the __inner product__ kernel!\n",
        "\n",
        "To train an SVM with a different kernel, we just replace all the inner products with calls to our new kernel function. \n",
        "\n",
        "The result is that we can obtain highly curved decision boundaries (we'll demonstrate next).\n",
        "\n",
        "In practice, RBF works well in many cases.\n",
        "\n",
        "### SVM: Summary\n",
        "\n",
        "* In practice, SVMs have shown good results on many problems.\n",
        "\n",
        "* In particular, it is effective at dealing with high-dimensional data and avoids the curse of dimensionality.\n",
        "\n",
        "* Since all data is represented as vectors, and we are relying on distance functions like Euclidean distance, it is important to pay attention to feature scaling when using SVMs.\n",
        "\n",
        "## SVM and Naive Bayes in Python\n",
        "\n",
        "We work with a dataset describing Italian wine samples (https://archive.ics.uci.edu/ml/datasets/Wine). \n",
        "\n",
        "We will take the alcohol content of the wine, and its Malic acid content, and use it to predict the grape type (cultivar)."
      ]
    },
    {
      "cell_type": "code",
      "metadata": {
        "slideshow": {
          "slide_type": "fragment"
        }
      },
      "source": [
        "import sklearn.utils as utils\n",
        "import sklearn.svm as svm\n",
        "import sklearn.model_selection as model_selection\n",
        "import sklearn.datasets as datasets"
      ],
      "execution_count": null,
      "outputs": []
    },
    {
      "cell_type": "code",
      "metadata": {
        "hide_input": true,
        "slideshow": {
          "slide_type": "fragment"
        },
        "tags": [
          "hide-input"
        ]
      },
      "source": [
        "wine = pd.read_table(\"data/wine.data\", sep=',')\n",
        "\n",
        "wine.columns = [\n",
        "            'region',\n",
        "            'Alcohol',\n",
        "            'Malic acid',\n",
        "            'Ash',\n",
        "            'Alcalinity of ash',\n",
        "            'Magnesium',\n",
        "            'Total phenols',\n",
        "            'Flavanoids',\n",
        "            'Nonflavanoid phenols',\n",
        "            'Proanthocyanins',\n",
        "            'Color intensity',\n",
        "            'Hue',\n",
        "            'OD280/OD315 of diluted wines',\n",
        "            'Proline']\n",
        "\n",
        "X = wine[['Alcohol', 'Malic acid']].values\n",
        "y = wine['region'].values"
      ],
      "execution_count": null,
      "outputs": []
    },
    {
      "cell_type": "markdown",
      "metadata": {},
      "source": [
        "We'll first fit a linear SVM to the data:"
      ]
    },
    {
      "cell_type": "code",
      "metadata": {},
      "source": [
        "np.random.seed(0)\n",
        "X_train, X_test, y_train, y_test = model_selection.train_test_split(X, \n",
        "                                                                    y, \n",
        "                                                                    test_size = 0.5)"
      ],
      "execution_count": null,
      "outputs": []
    },
    {
      "cell_type": "code",
      "metadata": {
        "slideshow": {
          "slide_type": "fragment"
        }
      },
      "source": [
        "svc = svm.SVC(kernel = 'linear')\n",
        "svc.fit(X_train, y_train)\n",
        "y_pred_test = svc.predict(X_test)\n",
        "print(f'Accuracy of SVM on test set: {svc.score(X_test, y_test):0.3f}')"
      ],
      "execution_count": null,
      "outputs": []
    },
    {
      "cell_type": "markdown",
      "metadata": {},
      "source": [
        "Let's visualize the decision boundaries:"
      ]
    },
    {
      "cell_type": "code",
      "metadata": {
        "hide_input": true,
        "slideshow": {
          "slide_type": "skip"
        },
        "tags": [
          "hide-input"
        ]
      },
      "source": [
        "from matplotlib.colors import ListedColormap\n",
        "# Create color maps for 3-class classification problem, as with iris\n",
        "cmap_light = ListedColormap(['#FFAAAA', '#AAFFAA', '#AAAAFF'])\n",
        "cmap_bold = ListedColormap(['#FF0000', '#00FF00', '#0000FF'])\n",
        "\n",
        "def plot_estimator(estimator, X, y):\n",
        "    \n",
        "    try:\n",
        "        X, y = X.values, y.values\n",
        "    except AttributeError:\n",
        "        pass\n",
        "    \n",
        "    estimator.fit(X, y)\n",
        "    x_min, x_max = X[:, 0].min() - .1, X[:, 0].max() + .1\n",
        "    y_min, y_max = X[:, 1].min() - .1, X[:, 1].max() + .1\n",
        "    xx, yy = np.meshgrid(np.linspace(x_min, x_max, 200),\n",
        "                         np.linspace(y_min, y_max, 200))\n",
        "    Z = estimator.predict(np.c_[xx.ravel(), yy.ravel()])\n",
        "\n",
        "    # Put the result into a color plot\n",
        "    Z = Z.reshape(xx.shape)\n",
        "    plt.figure()\n",
        "    plt.pcolormesh(xx, yy, Z, cmap=cmap_light, shading='auto')\n",
        "\n",
        "    # Plot also the training points\n",
        "    plt.scatter(X[:, 0], X[:, 1], c=y, cmap=cmap_bold)\n",
        "    plt.axis('tight')\n",
        "    # plt.axis('off')\n",
        "    plt.tight_layout()"
      ],
      "execution_count": null,
      "outputs": []
    },
    {
      "cell_type": "code",
      "metadata": {
        "hide_input": true,
        "slideshow": {
          "slide_type": "fragment"
        },
        "tags": [
          "hide-input"
        ]
      },
      "source": [
        "plot_estimator(svc, X, y)\n",
        "plt.xlabel('Alcohol')\n",
        "plt.ylabel('Malic Acid');"
      ],
      "execution_count": null,
      "outputs": []
    },
    {
      "cell_type": "markdown",
      "metadata": {},
      "source": [
        "Note that in practice we should pay attention to feature scaling when using SVMs.  We haven't done that here.\n",
        "\n",
        "As described already, the SVM gets its name from the samples in the dataset from each class that lie closest to the other class. \n",
        "\n",
        "These training samples are called \"support vectors\" because changing their position in the $d$-dimensional feature space would change the location of the decision boundary.\n",
        "\n",
        "In `scikit-learn`, the indices of the support vectors for each class can be found in the `support_vectors_` attribute of the SVC object. \n",
        "\n",
        "Here, we will use just two of the three classes for clarity. \n",
        "\n",
        "The support vectors are circled.   Can you visualize the two separator hyperplanes?"
      ]
    },
    {
      "cell_type": "code",
      "metadata": {
        "hide_input": true,
        "slideshow": {
          "slide_type": "-"
        },
        "tags": [
          "hide-input"
        ]
      },
      "source": [
        "# Extract classes 1 and 2\n",
        "X, y = X[np.in1d(y, [1, 2])], y[np.in1d(y, [1, 2])]\n",
        "\n",
        "plot_estimator(svc, X, y)\n",
        "plt.xlabel('Alcohol')\n",
        "plt.ylabel('Malic Acid')\n",
        "plt.scatter(svc.support_vectors_[:, 0], \n",
        "           svc.support_vectors_[:, 1], \n",
        "           s=120, \n",
        "           facecolors='none', \n",
        "           edgecolors = 'k',\n",
        "           linewidths=2,\n",
        "           zorder=10);\n",
        "plt.title(f'2-class accuracy on entire dataset: {svc.score(X, y):0.3f}');"
      ],
      "execution_count": null,
      "outputs": []
    },
    {
      "cell_type": "markdown",
      "metadata": {},
      "source": [
        "### Regularization\n",
        "\n",
        "Since the classes are not linearly separable, there are nonzero slack variables, each of which is associated with a support vector.\n",
        "\n",
        "Therefore we should consider how regularization is tuned via the $C$ parameter. \n",
        "\n",
        "In practice, a large $C$ value means that the number of support vectors is small (less regularization, more model complexity), while a small $C$ implies many support vectors (more regularization, less model complexity). \n",
        "\n",
        "`scikit-learn` sets a default value of $C=1$."
      ]
    },
    {
      "cell_type": "code",
      "metadata": {
        "hide_input": true,
        "slideshow": {
          "slide_type": "fragment"
        },
        "tags": [
          "hide-input"
        ]
      },
      "source": [
        "svc = svm.SVC(kernel='linear', C=1e4)\n",
        "plot_estimator(svc, X, y)\n",
        "plt.scatter(svc.support_vectors_[:, 0], svc.support_vectors_[:, 1], s=80, \n",
        "            facecolors='none', edgecolors = 'k', linewidths=2, zorder=10)\n",
        "plt.title(f'C = 10000: small number of support vectors (acc: {svc.score(X, y):0.3f})');\n",
        "\n",
        "svc = svm.SVC(kernel='linear', C=1e-2)\n",
        "plot_estimator(svc, X, y)\n",
        "plt.scatter(svc.support_vectors_[:, 0], svc.support_vectors_[:, 1], s=80, \n",
        "            facecolors='none', edgecolors = 'k', linewidths=2, zorder=10)\n",
        "plt.title(f'C = 0.01: high number of support vectors (acc: {svc.score(X, y):0.3f})');"
      ],
      "execution_count": null,
      "outputs": []
    },
    {
      "cell_type": "markdown",
      "metadata": {},
      "source": [
        "### Kernels\n",
        "\n",
        "We can also choose from a suite of available kernels:\n",
        "\n",
        "* linear, \n",
        "* poly, \n",
        "* rbf, \n",
        "* sigmoid, or \n",
        "* precomputed.\n",
        "\n",
        "Or, a custom kernel can be passed as a function. \n",
        "\n",
        "Note that the radial basis function (rbf) kernel is just a Gaussian kernel, but with parameter $\\gamma = \\frac{1}{\\sigma^2}$.\n",
        "\n",
        "__Linear Kernel__"
      ]
    },
    {
      "cell_type": "code",
      "metadata": {
        "hide_input": true,
        "slideshow": {
          "slide_type": "-"
        },
        "tags": [
          "hide-input"
        ]
      },
      "source": [
        "svc_lin = svm.SVC(kernel = 'linear')\n",
        "plot_estimator(svc_lin, X, y)\n",
        "plt.scatter(svc_lin.support_vectors_[:, 0], svc_lin.support_vectors_[:, 1], \n",
        "            s=80, facecolors='none', edgecolors = 'k', linewidths=2, zorder=10)\n",
        "plt.title('Linear kernel')\n",
        "y_pred_test = svc_lin.predict(X_test)\n",
        "plt.title(f'Accuracy on test set: {svc.score(X_test, y_pred_test):0.3f}');"
      ],
      "execution_count": null,
      "outputs": []
    },
    {
      "cell_type": "markdown",
      "metadata": {},
      "source": [
        "__Polynomial Kernel__"
      ]
    },
    {
      "cell_type": "code",
      "metadata": {
        "hide_input": true,
        "slideshow": {
          "slide_type": "-"
        },
        "tags": [
          "hide-input"
        ]
      },
      "source": [
        "svc_poly = svm.SVC(kernel='poly', degree=4)\n",
        "plot_estimator(svc_poly, X, y)\n",
        "plt.scatter(svc_poly.support_vectors_[:, 0], svc_poly.support_vectors_[:, 1], \n",
        "           s=80, facecolors='none', edgecolors = 'k', linewidths=2, zorder=10)\n",
        "plt.title('Polynomial kernel')\n",
        "y_pred_test = svc_poly.predict(X_test)\n",
        "plt.title(f'Accuracy on test set: {svc.score(X_test, y_pred_test):0.3f}');"
      ],
      "execution_count": null,
      "outputs": []
    },
    {
      "cell_type": "markdown",
      "metadata": {},
      "source": [
        "__RBF kernel__"
      ]
    },
    {
      "cell_type": "code",
      "metadata": {
        "hide_input": false,
        "slideshow": {
          "slide_type": "-"
        },
        "tags": [
          "hide-input"
        ]
      },
      "source": [
        "svc_rbf = svm.SVC(kernel='rbf', gamma=100, C = 1e2)\n",
        "plot_estimator(svc_rbf, X, y)\n",
        "plt.scatter(svc_rbf.support_vectors_[:, 0], svc_rbf.support_vectors_[:, 1], \n",
        "           s=80, facecolors='none', edgecolors = 'k', linewidths=2, zorder=10)\n",
        "plt.title('RBF kernel')\n",
        "y_pred_test = svc_rbf.predict(X_test)\n",
        "plt.title(f'Accuracy on test set: {svc.score(X_test, y_pred_test):0.3f}');"
      ],
      "execution_count": null,
      "outputs": []
    },
    {
      "cell_type": "markdown",
      "metadata": {},
      "source": [
        "### Cross-Validation\n",
        "\n",
        "Let's evaluate our choice of hyperparameter $C$.\n",
        "\n",
        "We have seen how to tune hyperparameters already using `model_selection.train_test_split()`.\n",
        "\n",
        "Now we'll use a utility `model_selection.cross_val_score()` which will do $k$-fold cross validation for us, for a single hyperparmeter setting, automatically:"
      ]
    },
    {
      "cell_type": "code",
      "metadata": {
        "slideshow": {
          "slide_type": "-"
        }
      },
      "source": [
        "f = svm.SVC(kernel = 'linear', C = 1)\n",
        "scores = model_selection.cross_val_score(f, \n",
        "                                         wine[['Alcohol', 'Malic acid']], \n",
        "                                         wine['region'], \n",
        "                                         cv = 5)\n",
        "\n",
        "print(f'Scores: {scores}')\n",
        "print(f'Accuracy: {scores.mean():0.2f} (+/- {scores.std()/np.sqrt(5):0.2f})')"
      ],
      "execution_count": null,
      "outputs": []
    },
    {
      "cell_type": "markdown",
      "metadata": {},
      "source": [
        "Let's use this to do a grid search to tune $C$:"
      ]
    },
    {
      "cell_type": "code",
      "metadata": {
        "hide_input": false,
        "slideshow": {
          "slide_type": "-"
        }
      },
      "source": [
        "means = []\n",
        "stds = []\n",
        "folds = 5\n",
        "C_vals = [0.0001, 0.001, 0.01, 0.1, 1, 10, 100, 1000]\n",
        "for C_val in C_vals:\n",
        "    f = svm.SVC(kernel='linear', C = C_val)\n",
        "    scores = model_selection.cross_val_score(f, wine[['Alcohol', 'Malic acid']], wine['region'], cv = folds)\n",
        "    means.append(np.mean(scores))\n",
        "    stds.append(np.std(scores) / np.sqrt(folds))\n",
        "acc = np.array(means)\n",
        "stderr = np.array(stds)\n",
        "C_s = np.array(C_vals)"
      ],
      "execution_count": null,
      "outputs": []
    },
    {
      "cell_type": "code",
      "metadata": {
        "hide_input": false,
        "slideshow": {
          "slide_type": "fragment"
        },
        "tags": [
          "hide-input"
        ]
      },
      "source": [
        "plt.errorbar(np.log10(C_vals), acc, stderr)\n",
        "plt.xlabel('log10(C)')\n",
        "plt.ylabel('Accuracy')\n",
        "plt.title(r'Generalization Accuracy of Linear SVM as Function of $C$');"
      ],
      "execution_count": null,
      "outputs": []
    },
    {
      "cell_type": "markdown",
      "metadata": {},
      "source": [
        "### SVM and NB: the Iris Data\n",
        "\n",
        "To compare SVM and Naive Bayes, we'll look at the Iris dataset again, and just using two features for visualization.\n",
        "\n",
        "We will not hold out data since we're just interested in the shapes of the decision boundaries."
      ]
    },
    {
      "cell_type": "code",
      "metadata": {
        "slideshow": {
          "slide_type": "skip"
        },
        "tags": [
          "hide-input"
        ]
      },
      "source": [
        "iris = datasets.load_iris()\n",
        "X = iris.data[:, :2]                     \n",
        "y = iris.target"
      ],
      "execution_count": null,
      "outputs": []
    },
    {
      "cell_type": "code",
      "metadata": {},
      "source": [
        "C = 1.0  \n",
        "\n",
        "svc = svm.SVC(kernel = 'linear', C = C).fit(X, y)\n",
        "rbf_svc = svm.SVC(kernel = 'rbf', gamma = 0.7, C = C).fit(X, y)\n",
        "poly_svc = svm.SVC(kernel = 'poly', degree = 3, C = C).fit(X, y)"
      ],
      "execution_count": null,
      "outputs": []
    },
    {
      "cell_type": "markdown",
      "metadata": {},
      "source": [
        "To use Naive Bayes \"out of the box\", one has to treat all the features as either:\n",
        "* Gaussian\n",
        "* Multinomial (Categorical)\n",
        "* Binary\n",
        "\n",
        "`scikit-learn` provides a Naive Bayes classifier for each of these cases.\n",
        "\n",
        "We'll use the Gaussian."
      ]
    },
    {
      "cell_type": "code",
      "metadata": {
        "slideshow": {
          "slide_type": "fragment"
        }
      },
      "source": [
        "from sklearn.naive_bayes import GaussianNB\n",
        "\n",
        "gnb = GaussianNB().fit(X, y)"
      ],
      "execution_count": null,
      "outputs": []
    },
    {
      "cell_type": "code",
      "metadata": {
        "hide_input": true,
        "slideshow": {
          "slide_type": "fragment"
        },
        "tags": [
          "hide-input"
        ]
      },
      "source": [
        "# create a mesh to plot in\n",
        "h = .02  # step size in the mesh\n",
        "x_min, x_max = X[:, 0].min() - 1, X[:, 0].max() + 1\n",
        "y_min, y_max = X[:, 1].min() - 1, X[:, 1].max() + 1\n",
        "xx, yy = np.meshgrid(np.arange(x_min, x_max, h),\n",
        "                     np.arange(y_min, y_max, h))\n",
        "\n",
        "# title for the plots\n",
        "titles = ['SVM with linear kernel',\n",
        "          'Naive Bayes',\n",
        "          'SVM with RBF kernel', 'SVM with poly kernel']\n",
        "\n",
        "fig = plt.figure(figsize=(12,12))\n",
        "\n",
        "for i, clf in enumerate((svc, gnb, rbf_svc, poly_svc)):\n",
        "    # Plot the decision boundary. For that, we will assign a color to each\n",
        "    # point in the mesh [x_min, m_max]x[y_min, y_max].\n",
        "    plt.subplot(2, 2, i + 1)\n",
        "    plt.subplots_adjust(wspace=0.4, hspace=0.4)\n",
        "\n",
        "    Z = clf.predict(np.c_[xx.ravel(), yy.ravel()])\n",
        "\n",
        "    # Put the result into a color plot\n",
        "    Z = Z.reshape(xx.shape)\n",
        "    plt.contourf(xx, yy, Z, cmap=plt.cm.Paired, alpha=0.8)\n",
        "\n",
        "    # Plot also the training points\n",
        "    plt.scatter(X[:, 0], X[:, 1], c=y, cmap=plt.cm.Paired)\n",
        "    plt.xlabel('Sepal length')\n",
        "    plt.ylabel('Sepal width')\n",
        "    plt.xlim(xx.min(), xx.max())\n",
        "    plt.ylim(yy.min(), yy.max())\n",
        "    plt.xticks(())\n",
        "    plt.yticks(())\n",
        "    plt.title(titles[i], size = 20)\n",
        "\n",
        "plt.tight_layout()"
      ],
      "execution_count": null,
      "outputs": []
    }
  ],
  "metadata": {
    "kernelspec": {
      "name": "python3",
      "language": "python",
      "display_name": "Python 3 (ipykernel)",
      "path": "/Users/tomg/Source/courses/tools4ds/DS701-Course-Notes/.venv/share/jupyter/kernels/python3"
    }
  },
  "nbformat": 4,
  "nbformat_minor": 4
}