{
  "cells": [
    {
      "cell_type": "markdown",
      "metadata": {},
      "source": [
        "---\n",
        "title: 'NN III -- Stochastic Gradient Descent, Batches and Convolutional Neural Networks'\n",
        "jupyter: python3\n",
        "---"
      ]
    },
    {
      "cell_type": "code",
      "metadata": {
        "hide_input": true,
        "slideshow": {
          "slide_type": "skip"
        },
        "tags": [
          "remove-cell"
        ]
      },
      "source": [
        "import numpy as np\n",
        "import matplotlib.pyplot as plt\n",
        "import matplotlib as mp\n",
        "import pandas as pd\n",
        "from IPython.display import Image, HTML\n",
        "\n",
        "%matplotlib inline"
      ],
      "execution_count": null,
      "outputs": []
    },
    {
      "cell_type": "markdown",
      "metadata": {},
      "source": [
        "## Recap\n",
        "\n",
        "[![](https://colab.research.google.com/assets/colab-badge.svg)](https://colab.research.google.com/github/tools4ds/DS701-Course-Notes/blob/main/ds701_book/jupyter_notebooks/25-NN-III-CNNs.ipynb)\n",
        "\n",
        "So far we covered\n",
        "* Gradients, gradient descent and back propagation\n",
        "* Fully connected neural networks (Multi-Layer Perceptron)\n",
        "* Training of MLPs using back propagation\n",
        "\n",
        "Today, we'll cover\n",
        "* _Stochastic_ gradient descent (SGD)\n",
        "* Convolutional Neural Networks (CNNs)\n",
        "* Training a CNN with SGD\n",
        "\n",
        "## Batches and Stochastic Gradient Descent\n",
        "\n",
        "\n",
        "* Compute the gradient (e.g. forward pass and backward pass) with only a _random subset_\n",
        "of the input data.\n",
        "\n",
        "> We call the subset a _batch_.\n",
        "\n",
        "* Work through the dataset by _randomly sampling without replacement_. This is the _stochastic_ part.\n",
        "\n",
        "* One pass through the data is called an _epoch_.\n",
        "\n",
        "For squared error loss with $N$ input samples, the loss for (full-batch) gradient descent was\n",
        "\n",
        "$$\n",
        "L = \\sum_{i=0}^{N-1} \\ell_i = \\sum_{i=0}^{N-1} \\left( y - \\hat{y}  \\right)^2\n",
        "$$\n",
        "\n",
        "For _Stochastic Gradient Descent_, we calculate the loss only on a _batch_ at as time.\n",
        "For every time $t$, let's denote the batch as $\\mathcal{B}_t$\n",
        "\n",
        "$$\n",
        "L_t = \\sum_{i \\in \\mathcal{B}_t} \\ell_i = \\sum_{i \\in \\mathcal{B}_t} \\left( y - \\hat{y}  \\right)^2\n",
        "$$\n",
        "\n",
        "Let's look at an example."
      ]
    },
    {
      "cell_type": "code",
      "metadata": {
        "hide_input": true,
        "tags": [
          "hide-input"
        ]
      },
      "source": [
        "import numpy as np\n",
        "import matplotlib.pyplot as plt\n",
        "\n",
        "# Generate 12 evenly spaced x values between 1 and 4\n",
        "x = np.linspace(1, 4, 12)\n",
        "\n",
        "# Add normally distributed noise to the x values\n",
        "x += np.random.normal(0, 1.0, 12)\n",
        "\n",
        "# Calculate the corresponding y values for the line y = 2x\n",
        "y = 2 * x\n",
        "\n",
        "# Add normally distributed noise to the y values\n",
        "y += np.random.normal(0, 1.0, 12)\n",
        "\n",
        "# Shuffle the points and split them into 3 groups of 4\n",
        "indices = np.random.permutation(12)\n",
        "colors = ['red', 'green', 'blue', 'purple']\n",
        "labels = ['batch 1', 'batch 2', 'batch 3', 'batch 4']\n",
        "\n",
        "# Plot each group of points with a different color and label\n",
        "for i in range(4):\n",
        "    plt.scatter(x[indices[i*3:(i+1)*3]], y[indices[i*3:(i+1)*3]], color=colors[i], label=labels[i])\n",
        "\n",
        "# Display the legend\n",
        "plt.legend()\n",
        "\n",
        "plt.show()"
      ],
      "execution_count": null,
      "outputs": []
    },
    {
      "cell_type": "markdown",
      "metadata": {},
      "source": [
        "Say we have a training data set of 12 points and we want to use a _batch size_ of 3.\n",
        "\n",
        "Divide the 12 points into batches of 3 by randomlly selecting points without replacement."
      ]
    },
    {
      "cell_type": "code",
      "metadata": {
        "hide_input": true,
        "slideshow": {
          "slide_type": "subslide"
        },
        "tags": [
          "hide-input"
        ]
      },
      "source": [
        "# Shuffle the points and split them into 3 groups of 4\n",
        "indices = np.random.permutation(12)\n",
        "colors = ['red', 'green', 'blue', 'purple']\n",
        "labels = ['batch 1', 'batch 2', 'batch 3', 'batch 4']\n",
        "\n",
        "# Plot each group of points with a different color and label\n",
        "for i in range(4):\n",
        "    plt.scatter(x[indices[i*3:(i+1)*3]], y[indices[i*3:(i+1)*3]], color=colors[i], label=labels[i])\n",
        "\n",
        "# Display the legend\n",
        "plt.legend()\n",
        "\n",
        "plt.show()"
      ],
      "execution_count": null,
      "outputs": []
    },
    {
      "cell_type": "markdown",
      "metadata": {},
      "source": [
        "We can resample again to create a different set of batches.\n",
        "\n",
        "Optionally, you can shuffle after every epoch."
      ]
    },
    {
      "cell_type": "code",
      "metadata": {
        "hide_input": true,
        "slideshow": {
          "slide_type": "subslide"
        },
        "tags": [
          "hide-input"
        ]
      },
      "source": [
        "colors = ['red', 'lightgray', 'lightgray', 'lightgray']\n",
        "labels = ['batch 1', 'batch 2', 'batch 3', 'batch 4']\n",
        "\n",
        "# Plot each group of points with a different color and label\n",
        "for i in range(4):\n",
        "    plt.scatter(x[indices[i*3:(i+1)*3]], y[indices[i*3:(i+1)*3]], color=colors[i], label=labels[i])\n",
        "\n",
        "# Display the legend\n",
        "plt.legend()\n",
        "\n",
        "plt.show()"
      ],
      "execution_count": null,
      "outputs": []
    },
    {
      "cell_type": "markdown",
      "metadata": {},
      "source": [
        "Then for every training iteration, you calculate the forward pass and backward pass loss with only the data from the batch.\n",
        "\n",
        "Above, we use data from the 1st batch."
      ]
    },
    {
      "cell_type": "code",
      "metadata": {
        "hide_input": true,
        "slideshow": {
          "slide_type": "subslide"
        },
        "tags": [
          "hide-input"
        ]
      },
      "source": [
        "colors = ['lightgray', 'green', 'lightgray', 'lightgray']\n",
        "labels = ['batch 1', 'batch 2', 'batch 3', 'batch 4']\n",
        "\n",
        "# Plot each group of points with a different color and label\n",
        "for i in range(4):\n",
        "    plt.scatter(x[indices[i*3:(i+1)*3]], y[indices[i*3:(i+1)*3]], color=colors[i], label=labels[i])\n",
        "\n",
        "# Display the legend\n",
        "plt.legend()\n",
        "\n",
        "plt.show()"
      ],
      "execution_count": null,
      "outputs": []
    },
    {
      "cell_type": "code",
      "metadata": {
        "hide_input": true,
        "slideshow": {
          "slide_type": "subslide"
        },
        "tags": [
          "hide-input"
        ]
      },
      "source": [
        "colors = ['lightgray', 'lightgray', 'blue', 'lightgray']\n",
        "labels = ['batch 1', 'batch 2', 'batch 3', 'batch 4']\n",
        "\n",
        "# Plot each group of points with a different color and label\n",
        "for i in range(4):\n",
        "    plt.scatter(x[indices[i*3:(i+1)*3]], y[indices[i*3:(i+1)*3]], color=colors[i], label=labels[i])\n",
        "\n",
        "# Display the legend\n",
        "plt.legend()\n",
        "\n",
        "plt.show()"
      ],
      "execution_count": null,
      "outputs": []
    },
    {
      "cell_type": "code",
      "metadata": {
        "hide_input": true,
        "slideshow": {
          "slide_type": "subslide"
        },
        "tags": [
          "hide-input"
        ]
      },
      "source": [
        "colors = ['lightgray', 'lightgray', 'lightgray', 'purple']\n",
        "labels = ['batch 1', 'batch 2', 'batch 3', 'batch 4']\n",
        "\n",
        "# Plot each group of points with a different color and label\n",
        "for i in range(4):\n",
        "    plt.scatter(x[indices[i*3:(i+1)*3]], y[indices[i*3:(i+1)*3]], color=colors[i], label=labels[i])\n",
        "\n",
        "# Display the legend\n",
        "plt.legend()\n",
        "\n",
        "plt.show()"
      ],
      "execution_count": null,
      "outputs": []
    },
    {
      "cell_type": "markdown",
      "metadata": {},
      "source": [
        "### Advantages of Stochastic Gradient Descent\n",
        "\n",
        "There are two main advantages to _Stochastic Gradient Descent_.\n",
        "\n",
        "1. You don't read and compute on every input data sample for every training iteration, \n",
        "    * Speeds up iteration while still making optimization progress\n",
        "    * This works better with limited GPU memory and CPU cache. Not slowing down by thrashing limited memory.\n",
        "\n",
        "2. Improves training convergence by adding _noise_ to the weight updates.\n",
        "    * Can avoid getting stuck in a local minima.\n",
        "\n",
        "An example\n",
        "\n",
        "<!-- Image Credit \"https://udlbook.github.io/udlbook/\"-->\n",
        "<center>    \n",
        "    \n",
        "<img src=\"figs/NN-figs/L25-GD-vs-SGD.png\" width=\"50%\"> \n",
        "    \n",
        "</center> \n",
        "\n",
        "\n",
        "This a contour plot showing a loss surface for a model with only 2 parameters.\n",
        "\n",
        "For full-batch gradient descent, starting points 1 and 3 still end up at the\n",
        "global minimum, but starting point 2 get stuck in a local minimum.\n",
        "\n",
        "For stochastic gradient descent, starting point 1 still ends up at the global \n",
        "minimum, but now starting point 2 also avoids the local minimum and ends up at\n",
        "the global minimum.\n",
        "\n",
        "## Load an Image Dataset in Batches in PyTorch"
      ]
    },
    {
      "cell_type": "code",
      "metadata": {
        "slideshow": {
          "slide_type": "skip"
        }
      },
      "source": [
        "%matplotlib inline"
      ],
      "execution_count": null,
      "outputs": []
    },
    {
      "cell_type": "code",
      "metadata": {
        "slideshow": {
          "slide_type": "skip"
        }
      },
      "source": [
        "import torch\n",
        "import torchvision\n",
        "import torchvision.transforms as transforms"
      ],
      "execution_count": null,
      "outputs": []
    },
    {
      "cell_type": "markdown",
      "metadata": {},
      "source": [
        "### 1. Load and Scale MNIST\n",
        "\n",
        "Load MNIST handwritten digit dataset with 60K training samples and 10K test samples."
      ]
    },
    {
      "cell_type": "code",
      "metadata": {},
      "source": [
        "# Define a transform to scale the pixel values from [0, 255] to [-1, 1]\n",
        "transform = transforms.Compose([transforms.ToTensor(),\n",
        "                                transforms.Normalize((0.5,), (0.5,))])\n",
        "\n",
        "batch_size = 64\n",
        "\n",
        "# Download and load the training data\n",
        "trainset = torchvision.datasets.MNIST('./data/MNIST_data/', download=True,\n",
        "                                    train=True, transform=transform)\n",
        "trainloader = torch.utils.data.DataLoader(trainset, batch_size=batch_size, \n",
        "                                          shuffle=True)\n",
        "\n",
        "# Download and load the test data\n",
        "testset = torchvision.datasets.MNIST('./data/MNIST_data/', download=True,\n",
        "                                    train=False, transform=transform)\n",
        "testloader = torch.utils.data.DataLoader(testset, batch_size=batch_size, \n",
        "                                         shuffle=True)"
      ],
      "execution_count": null,
      "outputs": []
    },
    {
      "cell_type": "markdown",
      "metadata": {},
      "source": [
        "`torchvision.dataset.MNIST` is a convenience class which inherits from\n",
        "`torch.utils.data.Dataset` (see [doc](https://pytorch.org/docs/stable/data.html#torch.utils.data.Dataset))\n",
        "that wraps a particular dataset and overwrites a `__getitem__()` method which retrieves a data sample given an \n",
        "index or a key.\n",
        "\n",
        "If we give the argument `train=True`, it returns the training set, while the \n",
        "argument `train=False` returns the test set.\n",
        "\n",
        "`torch.utils.data.DataLoader()` takes a dataset as in the previous line and\n",
        "returns a python _iterable_ which lets you loop through the data.\n",
        "\n",
        "We give `DataLoader` the _batch size_, and it will return a batch of data samples\n",
        "on each iteration.\n",
        "\n",
        "By passing `shuffle=True`, we are telling the data loader to shuffle the batches\n",
        "after every epoch."
      ]
    },
    {
      "cell_type": "code",
      "metadata": {
        "slideshow": {
          "slide_type": "subslide"
        }
      },
      "source": [
        "print(f\"No. of training images: {len(trainset)}\")\n",
        "print(f\"No. of test images: {len(testset)}\")\n",
        "print(\"The dataset classes are:\")\n",
        "print(trainset.classes)"
      ],
      "execution_count": null,
      "outputs": []
    },
    {
      "cell_type": "markdown",
      "metadata": {},
      "source": [
        "We can see the data loader, `trainloader` in action in the code below to\n",
        "get a batch and visualize it.\n",
        "\n",
        "Everytime we rerun the cell we will get a different batch."
      ]
    },
    {
      "cell_type": "code",
      "metadata": {},
      "source": [
        "import matplotlib.pyplot as plt\n",
        "import numpy as np\n",
        "\n",
        "def imshow(img):\n",
        "    img = img / 2 + 0.5     # unnormalize\n",
        "    npimg = img.numpy()\n",
        "    plt.imshow(np.transpose(npimg, (1, 2, 0)))\n",
        "    plt.show()\n",
        "\n",
        "# get some random training images\n",
        "dataiter = iter(trainloader)\n",
        "images, labels = next(dataiter)\n",
        "\n",
        "# show images\n",
        "imshow(torchvision.utils.make_grid(images))"
      ],
      "execution_count": null,
      "outputs": []
    },
    {
      "cell_type": "markdown",
      "metadata": {},
      "source": [
        "We can display the training labels for the image as well."
      ]
    },
    {
      "cell_type": "code",
      "metadata": {
        "hide_input": true,
        "tags": [
          "hide-input"
        ]
      },
      "source": [
        "from IPython.display import display, HTML\n",
        "\n",
        "# Assuming batch_size is 64 and images are displayed in an 8x8 grid\n",
        "labels_grid = [trainset.classes[labels[j]] for j in range(64)]\n",
        "labels_grid = np.array(labels_grid).reshape(8, 8)\n",
        "\n",
        "df = pd.DataFrame(labels_grid)\n",
        "\n",
        "# Generate HTML representation of DataFrame with border\n",
        "html = df.to_html(border=1)\n",
        "\n",
        "# Display the DataFrame\n",
        "display(HTML(html))"
      ],
      "execution_count": null,
      "outputs": []
    },
    {
      "cell_type": "markdown",
      "metadata": {},
      "source": [
        "## Convolutional Network Applications\n",
        "\n",
        "<!-- Image Credit \"https://udlbook.github.io/udlbook/\"-->\n",
        "<center>    \n",
        "    \n",
        "<img src=\"figs/NN-figs/L25-img-class.svg\">\n",
        "    \n",
        "</center> \n",
        "\n",
        "* Multi-class classification problem ( >2 possible classes)\n",
        "* Convolutional network with classification output\n",
        "\n",
        "<!-- Image Credit \"https://udlbook.github.io/udlbook/\"-->\n",
        "<center>    \n",
        "    \n",
        "<img src=\"figs/NN-figs/L25-obj-det.png\">\n",
        "    \n",
        "</center> \n",
        "\n",
        "* Localize and classify objects in an image\n",
        "* Convolutional network with classification _and_ regression output\n",
        "\n",
        "<!-- Image Credit \"https://udlbook.github.io/udlbook/\"-->\n",
        "<center>    \n",
        "    \n",
        "<img src=\"figs/NN-figs/L25-img-seg.png\">\n",
        "    \n",
        "</center> \n",
        "\n",
        "* Classify each pixel in an image to 2 or more classes\n",
        "* Convolutional encoder-decoder network with a classification values for each pixel.\n",
        "\n",
        "## Convolutional Neural Networks\n",
        "\n",
        "Problems with fully-connected networks\n",
        "\n",
        "* Size\n",
        "    * 224x224 RGB image = 150,528 dimensions\n",
        "    * Hidden layers generally larger than inputs\n",
        "    * One hidden layer = 150,520x150,528 weights -- 22 billion\n",
        "* Nearby pixels statistically related\n",
        "    * But fully connected network doesn't exploit spatial correlation\n",
        "* Should be stable under transformations\n",
        "    * Don’t want to re-learn appearance at different parts of image\n",
        "\n",
        "<!-- Image Credit \"https://udlbook.github.io/udlbook/\"-->\n",
        "\n",
        "#### Classification Invariant to Shift\n",
        "\n",
        "<center>    \n",
        "    \n",
        "<img src=\"figs/NN-figs/L25-shift-img-class.png\">\n",
        "    \n",
        "</center> \n",
        "\n",
        "<!-- Image Credit \"https://udlbook.github.io/udlbook/\"-->\n",
        "\n",
        "#### Image Segmentation Invariant to Shift\n",
        "\n",
        "<center>    \n",
        "    \n",
        "<img src=\"figs/NN-figs/L25-shift-seg.png\">\n",
        "    \n",
        "</center> \n",
        "\n",
        "Solution: Convolutional Neural Networks\n",
        "\n",
        "* Parameters only look at local data regions\n",
        "\n",
        "* Shares parameters across image or signal\n",
        "\n",
        "### Example with 1-D Input Data\n",
        "\n",
        "In _convolutional neural networks_, we define a set of weights that we move across\n",
        "the input data.\n",
        "\n",
        "<!-- Image Credit \"https://udlbook.github.io/udlbook/\"-->\n",
        "\n",
        "<center>\n",
        "    \n",
        "<img src=\"figs/NN-figs/L25-conv04.png\">\n",
        "    \n",
        "</center> \n",
        "\n",
        "Example with 3 weights and input of length 6.\n",
        "\n",
        "For figure (a), we calculate \n",
        "\n",
        "$$ z_2 = \\omega_1 x_1 + \\omega_2 x_2 + \\omega_3 x_3 $$\n",
        "\n",
        "<!-- Image Credit \"https://udlbook.github.io/udlbook/\"-->\n",
        "<center> \n",
        "    \n",
        "<img src=\"figs/NN-figs/L25-conv05.png\">\n",
        "    \n",
        "</center> \n",
        "\n",
        "To calculate $z_2$, we shift the weights over 1 place (figure (b)) and then\n",
        "weight and sum the inputs. We can generalize the equation slightly.\n",
        "\n",
        "$$ z_i = \\omega_1 x_{i - 1} + \\omega_2 x_i + \\omega_3 x_{i+1} $$\n",
        "\n",
        "But what do we do about $z_1$?\n",
        "\n",
        "<!-- Image Credit \"https://udlbook.github.io/udlbook/\"-->\n",
        "\n",
        "<center>\n",
        "    \n",
        "<img src=\"figs/NN-figs/L25-conv06.png\">\n",
        "    \n",
        "</center> \n",
        "\n",
        "We can calculate $z_1$ by _padding_ our input data. In figure (c), we\n",
        "simply add $0$, which means we can now calculate $z_1$.\n",
        "\n",
        "<!-- Image Credit \"https://udlbook.github.io/udlbook/\"-->\n",
        "\n",
        "<center>\n",
        "    \n",
        "<img src=\"figs/NN-figs/L25-conv07.png\">\n",
        "    \n",
        "</center> \n",
        "\n",
        "Alternatively, we can just reduce the size of the output, by only calculating where\n",
        "we have _valid_ input data, as in figure (d).\n",
        "\n",
        "For 1-D data, this reduces the output size by 1 at the beginning and end of the\n",
        "data, so by 2 overall for length-3 filter.\n",
        "\n",
        "<!-- Image Credit \"https://udlbook.github.io/udlbook/\"-->\n",
        "\n",
        "<center>    \n",
        "    \n",
        "<img src=\"figs/NN-figs/L25-conv-fig10-3.png\">\n",
        "    \n",
        "</center> \n",
        "\n",
        "There are a few design choices one can make with convolution layers, such as:\n",
        "\n",
        "1. _filter length_, e.g. size 3 in figures (a) and (b)\n",
        "2. _stride_, which is how much you shift to calculate the next output. Common values are\n",
        "    1. _stride 1_ as we saw in the previous examples and in figures (c) and (d)\n",
        "    2. _stride 2_, where you shift by 2 instead of 1, an effectively halve the size of the output as in figures (a) and (b)\n",
        "3. _dilation_, where you expand the filter as in figure (d)\n",
        "\n",
        "### 2D Convolution\n",
        "\n",
        "For images and video frames we use a two-dimensional convolution\n",
        "(called `conv2d` in PyTorch) which is an extension of the 1-D\n",
        "convolution as shown in the following illustration.\n",
        "\n",
        "<!-- Image Credit \"https://cs231n.github.io/convolutional-networks/\"-->\n",
        "<center>    \n",
        "    \n",
        "<img src=\"figs/NN-figs/L25-conv-2d.png\">\n",
        "    \n",
        "</center> \n",
        "\n",
        "[cs231n](https://cs231n.github.io/convolutional-networks/)\n",
        "\n",
        "To see this figure animated, clone the class repo and click on the file `./conv-demo/index.html`.\n",
        "\n",
        "## Define a Convolutional Neural Network in PyTorch\n",
        "\n",
        "We will do the following steps in order:\n",
        "\n",
        "1. We already loaded and scaled the MNIST training and test datasets using\n",
        "   ``torchvision``\n",
        "2. Define a Convolutional Neural Network\n",
        "3. Define a loss function\n",
        "4. Train the network on the training data\n",
        "5. Test the network on the test data"
      ]
    },
    {
      "cell_type": "code",
      "metadata": {
        "slideshow": {
          "slide_type": "subslide"
        }
      },
      "source": [
        "# network for MNIST\n",
        "import torch\n",
        "from torch import nn\n",
        "\n",
        "class Net(nn.Module):\n",
        "    def __init__(self):\n",
        "        super(Net, self).__init__()\n",
        "        self.conv1 = nn.Conv2d(1, 32, 3, 1)\n",
        "        self.conv2 = nn.Conv2d(32, 64, 3, 1)\n",
        "        self.fc1 = nn.Linear(9216, 128)\n",
        "        self.fc2 = nn.Linear(128, 10)\n",
        "\n",
        "    def forward(self, x):\n",
        "        x = self.conv1(x)\n",
        "        x = nn.functional.relu(x)\n",
        "        x = self.conv2(x)\n",
        "        x = nn.functional.relu(x)\n",
        "        x = nn.functional.max_pool2d(x, 2)\n",
        "        x = torch.flatten(x, 1)\n",
        "        x = self.fc1(x)\n",
        "        x = nn.functional.relu(x)\n",
        "        x = self.fc2(x)\n",
        "        output = nn.functional.log_softmax(x, dim=1)\n",
        "        return output\n",
        "\n",
        "net = Net()"
      ],
      "execution_count": null,
      "outputs": []
    },
    {
      "cell_type": "markdown",
      "metadata": {},
      "source": [
        "Where\n",
        "\n",
        "```python\n",
        "CLASS torch.nn.Conv2d(in_channels, out_channels, kernel_size, \n",
        "                      stride=1, padding_mode='valid', ...)\n",
        "```\n",
        "\n",
        "\n",
        "| Layer   | Kernel Size | Stride | Input Shape | Input Channels | Output Channels | Output Shape |\n",
        "| ------- | ----------- | ------ | ----------- | -------------- | --------------- | ------------ |\n",
        "| Conv2D/ReLU  | (3x3)       | 1      |  28x28      |    1           |    32           |  26x26       |\n",
        "| Conv2D/ReLU  | (3x3)       | 1      |  26x26      |    32          |    64           |  24x24       |\n",
        "| Max_pool2d | (2x2)    | 2      |  24x24      |    64          |    64           |  12x12       |\n",
        "| Flatten |             |        |  12x12      |    64          |    1            |  9216x1      |\n",
        "| FC/ReLU |             |        |  9216x1     |    1           |    1            |  128x1       |\n",
        "| FC Linear |           |        |  128x1      |    1           |    1            |  10x1        |\n",
        "| Soft Max |            |        |  10x1      |    1           |    1            |  10x1        |\n",
        "\n",
        "<!-- Image Credit \"https://alexlenail.me/NN-SVG/AlexNet.html\"-->\n",
        "<center>    \n",
        "    \n",
        "<img src=\"figs/NN-figs/L25-mnist-cnn2.svg\">\n",
        "    \n",
        "</center> \n",
        "\n",
        "[NN-SVG](https://alexlenail.me/NN-SVG/AlexNet.html)\n",
        "\n",
        "### 3. Define a Loss function and optimizer\n",
        "We'll use a Classification Cross-Entropy loss and SGD with momentum."
      ]
    },
    {
      "cell_type": "code",
      "metadata": {},
      "source": [
        "import torch.optim as optim\n",
        "\n",
        "criterion = nn.CrossEntropyLoss()\n",
        "optimizer = optim.SGD(net.parameters(), lr=0.001, momentum=0.9)"
      ],
      "execution_count": null,
      "outputs": []
    },
    {
      "cell_type": "markdown",
      "metadata": {},
      "source": [
        "#### Cross Entropy Loss\n",
        "\n",
        "* Popular loss function for multi-class classification that measures the _dissimilarity_ between the predicted class log probability $\\log(p_i)$ and the true class $y_i$.\n",
        "\n",
        "$$ - \\sum_i y_i \\log(p_i) $$\n",
        "\n",
        "See for example [here](https://machinelearningmastery.com/cross-entropy-for-machine-learning/) for more information.\n",
        "\n",
        "#### Momentum\n",
        "\n",
        "Momentum is a technique used in optimizing neural networks that helps accelerate gradients vectors in the right directions, leading to faster convergence. It is inspired by physical laws of motion where the optimizer uses 'momentum' to push over hilly terrain and valleys to find the global minimum.\n",
        "\n",
        "In gradient descent, the weight update rule with momentum is given by:\n",
        "\n",
        "\n",
        "$$ \n",
        "m_{t+1} = \\beta m_t + (1 - \\beta) \\nabla J(w)\n",
        "$$\n",
        "\n",
        "$$\n",
        "w_{t+1} = w_t - \\alpha m_{t+1}\n",
        "$$\n",
        "\n",
        "where:\n",
        "\n",
        "* $m_t$ is the momentum (which drives the update at iteration $t$), \n",
        "* $\\beta \\in [0, 1)$, typically 0.9, controls the degree to which the gradient is smoothed over time, and \n",
        "* $\\alpha$ is the learning rate.\n",
        "\n",
        "See _Understanding Deep Learning_, Section 6.3 to learn more.\n",
        "\n",
        "### 4. Train the network"
      ]
    },
    {
      "cell_type": "code",
      "metadata": {},
      "source": [
        "print(f\"[Epoch #, Iteration #] loss\")\n",
        "\n",
        "# loop over the dataset multiple times\n",
        "# change this value to 2\n",
        "for epoch in range(1):  \n",
        "    \n",
        "    running_loss = 0.0\n",
        "    for i, data in enumerate(trainloader, 0):\n",
        "        # get the inputs; data is a list of [inputs, labels]\n",
        "        inputs, labels = data\n",
        "\n",
        "        # zero the parameter gradients\n",
        "        optimizer.zero_grad()\n",
        "\n",
        "        # forward + backward + optimize\n",
        "        outputs = net(inputs)\n",
        "        loss = criterion(outputs, labels)\n",
        "        loss.backward()\n",
        "        optimizer.step()\n",
        "\n",
        "        # print statistics\n",
        "        running_loss += loss.item()\n",
        "        if i % 100 == 99:    # print every 2000 mini-batches\n",
        "            print(f'[{epoch + 1}, {i + 1:5d}] loss: {running_loss / 2000:.3f}')\n",
        "            running_loss = 0.0\n",
        "\n",
        "print('Finished Training')"
      ],
      "execution_count": null,
      "outputs": []
    },
    {
      "cell_type": "markdown",
      "metadata": {},
      "source": [
        "Display some of the images from the test set with the ground truth labels."
      ]
    },
    {
      "cell_type": "code",
      "metadata": {
        "scrolled": true
      },
      "source": [
        "dataiter = iter(testloader)\n",
        "images, labels = next(dataiter)\n",
        "\n",
        "# print images\n",
        "imshow(torchvision.utils.make_grid(images))\n",
        "#print('GroundTruth: ', ' '.join(f'{testset.classes[labels[j]]:5s}' for j in range(4)))"
      ],
      "execution_count": null,
      "outputs": []
    },
    {
      "cell_type": "code",
      "metadata": {
        "hide_input": true,
        "scrolled": true,
        "tags": [
          "hide-input"
        ]
      },
      "source": [
        "from IPython.display import display, HTML\n",
        "\n",
        "# Assuming batch_size is 64 and images are displayed in an 8x8 grid\n",
        "labels_grid = [testset.classes[labels[j]] for j in range(64)]\n",
        "labels_grid = np.array(labels_grid).reshape(8, 8)\n",
        "\n",
        "df = pd.DataFrame(labels_grid)\n",
        "\n",
        "# Generate HTML representation of DataFrame with border\n",
        "html = df.to_html(border=1)\n",
        "\n",
        "# Display the DataFrame\n",
        "display(HTML(html))"
      ],
      "execution_count": null,
      "outputs": []
    },
    {
      "cell_type": "markdown",
      "metadata": {},
      "source": [
        "Let's run inference (forward pass) on the model to get numeric outputs."
      ]
    },
    {
      "cell_type": "code",
      "metadata": {},
      "source": [
        "outputs = net(images)"
      ],
      "execution_count": null,
      "outputs": []
    },
    {
      "cell_type": "markdown",
      "metadata": {},
      "source": [
        "Get the index of the element with highest value and print the label \n",
        "associated with that index."
      ]
    },
    {
      "cell_type": "code",
      "metadata": {},
      "source": [
        "_, predicted = torch.max(outputs, 1)\n",
        "\n",
        "#print('Predicted: ', ' '.join(f'{testset.classes[predicted[j]]:5s}'\n",
        "#                              for j in range(4)))"
      ],
      "execution_count": null,
      "outputs": []
    },
    {
      "cell_type": "code",
      "metadata": {
        "hide_input": true,
        "tags": [
          "hide-input"
        ]
      },
      "source": [
        "# Assuming batch_size is 64 and images are displayed in an 8x8 grid\n",
        "labels_grid = [testset.classes[predicted[j]] for j in range(64)]\n",
        "labels_grid = np.array(labels_grid).reshape(8, 8)\n",
        "\n",
        "df = pd.DataFrame(labels_grid)\n",
        "\n",
        "# Generate HTML representation of DataFrame with border\n",
        "html = df.to_html(border=1)\n",
        "\n",
        "# Display the DataFrame\n",
        "display(HTML(html))"
      ],
      "execution_count": null,
      "outputs": []
    },
    {
      "cell_type": "markdown",
      "metadata": {},
      "source": [
        "Evaluate over the entire test set."
      ]
    },
    {
      "cell_type": "code",
      "metadata": {},
      "source": [
        "correct = 0\n",
        "total = 0\n",
        "# since we're not training, we don't need to calculate the gradients for our outputs\n",
        "with torch.no_grad():\n",
        "    for data in testloader:\n",
        "        images, labels = data\n",
        "        # calculate outputs by running images through the network\n",
        "        outputs = net(images)\n",
        "        # the class with the highest energy is what we choose as prediction\n",
        "        _, predicted = torch.max(outputs.data, 1)\n",
        "        total += labels.size(0)\n",
        "        correct += (predicted == labels).sum().item()\n",
        "\n",
        "print(f'Accuracy of the network on the 10000 test images: {100 * correct // total} %')"
      ],
      "execution_count": null,
      "outputs": []
    },
    {
      "cell_type": "markdown",
      "metadata": {},
      "source": [
        "Evaluate the performance per class."
      ]
    },
    {
      "cell_type": "code",
      "metadata": {},
      "source": [
        "# prepare to count predictions for each class\n",
        "correct_pred = {classname: 0 for classname in testset.classes}\n",
        "total_pred = {classname: 0 for classname in testset.classes}\n",
        "\n",
        "# again no gradients needed\n",
        "with torch.no_grad():\n",
        "    for data in testloader:\n",
        "        images, labels = data\n",
        "        outputs = net(images)\n",
        "        _, predictions = torch.max(outputs, 1)\n",
        "        # collect the correct predictions for each class\n",
        "        for label, prediction in zip(labels, predictions):\n",
        "            if label == prediction:\n",
        "                correct_pred[testset.classes[label]] += 1\n",
        "            total_pred[testset.classes[label]] += 1\n",
        "\n",
        "\n",
        "# print accuracy for each class\n",
        "for classname, correct_count in correct_pred.items():\n",
        "    accuracy = 100 * float(correct_count) / total_pred[classname]\n",
        "    print(f'Accuracy for class: {classname:5s} is {accuracy:.1f} %')"
      ],
      "execution_count": null,
      "outputs": []
    },
    {
      "cell_type": "markdown",
      "metadata": {},
      "source": [
        "### To Dig Deeper\n",
        "\n",
        "Look at common CNN network architectures. \n",
        "\n",
        "For example in _Understanding Deep Learning_ section 10.5.\n"
      ]
    }
  ],
  "metadata": {
    "kernelspec": {
      "name": "python3",
      "language": "python",
      "display_name": "Python 3 (ipykernel)",
      "path": "/Users/tomg/Source/courses/tools4ds/DS701-Course-Notes/.venv/share/jupyter/kernels/python3"
    }
  },
  "nbformat": 4,
  "nbformat_minor": 4
}