{
  "cells": [
    {
      "cell_type": "markdown",
      "metadata": {},
      "source": [
        "---\n",
        "title: Introduction to Python\n",
        "jupyter: python3\n",
        "code-fold: false\n",
        "---\n",
        "\n",
        "[![](https://colab.research.google.com/assets/colab-badge.svg)](https://colab.research.google.com/github/tools4ds/DS701-Course-Notes/blob/main/ds701_book/jupyter_notebooks/01-Intro-to-Python.ipynb)\n",
        "\n",
        "This chapter will not be covered in lecture. It's here to refresh the memory of those who haven't used Python in a while.\n",
        "\n",
        "For those that don't know Python -- but do know programming -- this chapter will give you an idea of how Python is similar to, and different from, your favorite programming language.\n",
        "\n",
        "Python is a fully object oriented programming language. It was originally created by Dutch programmer Guido van Rossum as a hobby project during his 1989 Christmas vacation. The name was inspired by Monty Python's Flying circus.\n",
        "\n",
        "To install Python, we recommend using the free [Anaconda Scientific Python](https://anaconda.org/) distribution.\n",
        "\n",
        "## How do I run code?\n",
        "\n",
        "Python can be run interactively or via a script. For interactive versions of Python you can use Python interpreter `ipython`. [Jupyter](https://jupyter.org/) notebooks (.ipynb extension) run `ipython` in a browser. This is a great way to test out the code you are writing, demonstrate algorithms, and show visualizations. It allows for you to interact with the interpreter and fix mistakes as they happen. It has all the advantages of `ipython` plus interleaved documentation and graphical output.\n",
        "\n",
        "To run Python as a script, you place all your code into a file, for example **program.py** and run `python program.py`. Scripts are used when your code has been fully debugged and tested. You want to run Python as a script when you are performing significant computations that do not require interactivity. An example of when to use a script over an interactive Jupyter notebook is if you are training a large machine learning model.\n",
        "\n",
        "Regardless of whether you are writing scripts or notebook files, it is essential to use an Integrated Development Environment (IDE). This is a software application that helps programmers develop code efficiently. For Python, Jupyter Notebook and Jupyter Lab are both examples of interactive Python IDEs. [Spyder](https://www.spyder-ide.org/) is a Python specific IDE for developing Python scripts.\n",
        "\n",
        "In this course, we advise using [Visual Studio Code](https://code.visualstudio.com/) (VSCode) as your IDE. VSCode is an IDE that works for programming languages aside from Python. It has the advantage that you can develop both Python scripts (.py) and notebooks (.ipynb). In addition, there are many packages that you can install to help perform static analysis on the code you are writing. It is a very important tool to know how to use.\n",
        "\n",
        "## Functions and Methods\n",
        "\n",
        "Function calls use standard syntax:\n",
        "\n",
        "```        \n",
        "func(argument1, argument2)\n",
        "```\n",
        "\n",
        "However most things you interact with in Python are **objects** and they have **methods**. A method is a function that operates on an object:\n",
        "\n",
        "```       \n",
        "object.method(argument1, argument2)\n",
        "```\n",
        "\n",
        "Note that the method might modify the object, or it might return a new, different object. You just have to know the method and keep track of what it does."
      ]
    },
    {
      "cell_type": "code",
      "metadata": {},
      "source": [
        "number_list = [1, 3, 5, 7]\n",
        "number_list.append(8)"
      ],
      "execution_count": null,
      "outputs": []
    },
    {
      "cell_type": "code",
      "metadata": {},
      "source": [
        "number_list"
      ],
      "execution_count": null,
      "outputs": []
    },
    {
      "cell_type": "code",
      "metadata": {},
      "source": [
        "string = 'This is a string'\n",
        "string.split()"
      ],
      "execution_count": null,
      "outputs": []
    },
    {
      "cell_type": "code",
      "metadata": {},
      "source": [
        "string"
      ],
      "execution_count": null,
      "outputs": []
    },
    {
      "cell_type": "markdown",
      "metadata": {},
      "source": [
        "## Printing\n",
        "\n",
        "From the interactive Python environment:"
      ]
    },
    {
      "cell_type": "code",
      "metadata": {},
      "source": [
        "print(\"Hello World\")"
      ],
      "execution_count": null,
      "outputs": []
    },
    {
      "cell_type": "markdown",
      "metadata": {},
      "source": [
        "From a file:"
      ]
    },
    {
      "cell_type": "code",
      "metadata": {},
      "source": [
        "print(\"Hello World!\")"
      ],
      "execution_count": null,
      "outputs": []
    },
    {
      "cell_type": "markdown",
      "metadata": {},
      "source": [
        "## Data types\n",
        "\n",
        "Basic data types:\n",
        "\n",
        "1.  Strings\n",
        "2.  Integers\n",
        "3.  Floats\n",
        "4.  Booleans\n",
        "\n",
        "These are all objects in Python."
      ]
    },
    {
      "cell_type": "code",
      "metadata": {},
      "source": [
        "a = 7\n",
        "type(a)"
      ],
      "execution_count": null,
      "outputs": []
    },
    {
      "cell_type": "code",
      "metadata": {},
      "source": [
        "b = 3\n",
        "type(b)"
      ],
      "execution_count": null,
      "outputs": []
    },
    {
      "cell_type": "code",
      "metadata": {},
      "source": [
        "c = 3.2\n",
        "type(c)"
      ],
      "execution_count": null,
      "outputs": []
    },
    {
      "cell_type": "code",
      "metadata": {},
      "source": [
        "d = True\n",
        "type(d)"
      ],
      "execution_count": null,
      "outputs": []
    },
    {
      "cell_type": "markdown",
      "metadata": {},
      "source": [
        "Python **doesn't require explicitly declared variable types** like C and other languages. Python is dynamically typed."
      ]
    },
    {
      "cell_type": "code",
      "metadata": {},
      "source": [
        "myVar = 'I am a string'\n",
        "print(myVar)\n",
        "myVar = 2.3\n",
        "print(myVar)"
      ],
      "execution_count": null,
      "outputs": []
    },
    {
      "cell_type": "markdown",
      "metadata": {},
      "source": [
        "## Strings\n",
        "\n",
        "String manipulation will be very important for many of the tasks we will do. Here are some important string operations.\n",
        "\n",
        "A string uses either single quotes or double quotes. Pick one option and be consistent."
      ]
    },
    {
      "cell_type": "code",
      "metadata": {},
      "source": [
        "'This is a string'"
      ],
      "execution_count": null,
      "outputs": []
    },
    {
      "cell_type": "code",
      "metadata": {},
      "source": [
        "\"This is also a string\""
      ],
      "execution_count": null,
      "outputs": []
    },
    {
      "cell_type": "markdown",
      "metadata": {},
      "source": [
        "The '+' operator concatenates strings."
      ]
    },
    {
      "cell_type": "code",
      "metadata": {},
      "source": [
        "a = \"Hello\"  \n",
        "b = \" World\" \n",
        "a + b"
      ],
      "execution_count": null,
      "outputs": []
    },
    {
      "cell_type": "markdown",
      "metadata": {},
      "source": [
        "Portions of strings are manipulated using indexing (which Python calls 'slicing')."
      ]
    },
    {
      "cell_type": "code",
      "metadata": {},
      "source": [
        "a = \"World\"\n",
        "a[0]"
      ],
      "execution_count": null,
      "outputs": []
    },
    {
      "cell_type": "code",
      "metadata": {},
      "source": [
        "a[-1]"
      ],
      "execution_count": null,
      "outputs": []
    },
    {
      "cell_type": "code",
      "metadata": {},
      "source": [
        "\"World\"[0:4]"
      ],
      "execution_count": null,
      "outputs": []
    },
    {
      "cell_type": "code",
      "metadata": {},
      "source": [
        "a[::-1]"
      ],
      "execution_count": null,
      "outputs": []
    },
    {
      "cell_type": "markdown",
      "metadata": {},
      "source": [
        "Some important string functions:"
      ]
    },
    {
      "cell_type": "code",
      "metadata": {},
      "source": [
        "a = \"Hello World\"\n",
        "\"-\".join(a)"
      ],
      "execution_count": null,
      "outputs": []
    },
    {
      "cell_type": "code",
      "metadata": {},
      "source": [
        "a.startswith(\"Wo\")"
      ],
      "execution_count": null,
      "outputs": []
    },
    {
      "cell_type": "code",
      "metadata": {},
      "source": [
        "a.endswith(\"rld\")"
      ],
      "execution_count": null,
      "outputs": []
    },
    {
      "cell_type": "code",
      "metadata": {},
      "source": [
        "a.replace(\"o\", \"0\").replace(\"d\", \"[)\").replace(\"l\", \"1\")"
      ],
      "execution_count": null,
      "outputs": []
    },
    {
      "cell_type": "code",
      "metadata": {},
      "source": [
        "a.split()"
      ],
      "execution_count": null,
      "outputs": []
    },
    {
      "cell_type": "code",
      "metadata": {},
      "source": [
        "a.split('o')"
      ],
      "execution_count": null,
      "outputs": []
    },
    {
      "cell_type": "markdown",
      "metadata": {},
      "source": [
        "Strings are an example of an **immutable** data type. Once you instantiate a string you cannot change any characters in it's set."
      ]
    },
    {
      "cell_type": "code",
      "metadata": {},
      "source": [
        "#| error: true\n",
        "string = \"string\"\n",
        "string[-1] = \"y\"  # This will generate and error as we attempt to modify the string"
      ],
      "execution_count": null,
      "outputs": []
    },
    {
      "cell_type": "markdown",
      "metadata": {},
      "source": [
        "To create a string with embedded objects use the `.format()` method:"
      ]
    },
    {
      "cell_type": "code",
      "metadata": {},
      "source": [
        "course_name = 'DS701'\n",
        "enrollment = 90\n",
        "percent_full = 100.0\n",
        "'The course {} has an enrollment of {} and is {} percent full.'.format(\n",
        "    course_name, enrollment, percent_full)"
      ],
      "execution_count": null,
      "outputs": []
    },
    {
      "cell_type": "markdown",
      "metadata": {},
      "source": [
        "A special formatting called an f-string allows you to print out variables very conveniently:"
      ]
    },
    {
      "cell_type": "code",
      "metadata": {},
      "source": [
        "f'The course {course_name} has an enrollment of {enrollment} and is {percent_full} percent full.'"
      ],
      "execution_count": null,
      "outputs": []
    },
    {
      "cell_type": "markdown",
      "metadata": {},
      "source": [
        "## Code Structure\n",
        "\n",
        "Python uses indents and whitespace to group statements together. To write a short loop in C, you might use:\n",
        "\n",
        "``` c\n",
        "for (i = 0, i < 5, i++){\n",
        "      printf(\"Hi! \\n\");\n",
        "   }\n",
        "```\n",
        "\n",
        "Python does not use curly braces like C, so the same program as above is written in Python as follows:"
      ]
    },
    {
      "cell_type": "code",
      "metadata": {},
      "source": [
        "for i in range(5):\n",
        "    print(\"Hi\")"
      ],
      "execution_count": null,
      "outputs": []
    },
    {
      "cell_type": "markdown",
      "metadata": {},
      "source": [
        "If you have nested for-loops, there is a further indent for the inner loop."
      ]
    },
    {
      "cell_type": "code",
      "metadata": {},
      "source": [
        "for i in range(3):\n",
        "    for j in range(3):\n",
        "        print(i, j)\n",
        "    \n",
        "    print(\"This statement is within the i-loop, but not the j-loop\")"
      ],
      "execution_count": null,
      "outputs": []
    },
    {
      "cell_type": "markdown",
      "metadata": {},
      "source": [
        "## File I/O\n",
        "\n",
        "`open()` and `close()` are used to access files. However if you use the `with` statement the file close is automatically done for you.\n",
        "\n",
        "You should use `with`."
      ]
    },
    {
      "cell_type": "code",
      "metadata": {},
      "source": [
        "with open(\"example.txt\", \"w\") as f:\n",
        "    f.write(\"Hello World! \\n\")\n",
        "    f.write(\"How are you? \\n\")\n",
        "    f.write(\"I'm fine. OK.\\n\")"
      ],
      "execution_count": null,
      "outputs": []
    },
    {
      "cell_type": "markdown",
      "metadata": {},
      "source": [
        "Reading from a file:"
      ]
    },
    {
      "cell_type": "code",
      "metadata": {},
      "source": [
        "with open(\"example.txt\", \"r\") as f:\n",
        "    data = f.readlines()\n",
        "    for line in data:\n",
        "        words = line.split()\n",
        "        print(words)"
      ],
      "execution_count": null,
      "outputs": []
    },
    {
      "cell_type": "markdown",
      "metadata": {},
      "source": [
        "Here is an example of counting the number of lines and words in a file:"
      ]
    },
    {
      "cell_type": "code",
      "metadata": {},
      "source": [
        "lines = 0\n",
        "words = 0\n",
        "the_file = \"example.txt\"\n",
        "\n",
        "with open(the_file, 'r') as f:\n",
        "    for line in f:\n",
        "        lines += 1\n",
        "        words += len(line.split())\n",
        "print(f\"There are {lines} lines and {words} words in the {the_file} file.\")"
      ],
      "execution_count": null,
      "outputs": []
    },
    {
      "cell_type": "markdown",
      "metadata": {},
      "source": [
        "## Lists, Tuples, Sets and Dictionaries\n",
        "\n",
        "Number and strings alone are not enough! We need data types that can hold multiple values.\n",
        "\n",
        "### Lists\n",
        "\n",
        "A list is a collection of data items, which can be of differing types.\n",
        "\n",
        "Here is an empty list:"
      ]
    },
    {
      "cell_type": "code",
      "metadata": {},
      "source": [
        "groceries = []"
      ],
      "execution_count": null,
      "outputs": []
    },
    {
      "cell_type": "markdown",
      "metadata": {},
      "source": [
        "A list is **mutable**, meaning that it can be altered.\n",
        "\n",
        "Adding to the list:"
      ]
    },
    {
      "cell_type": "code",
      "metadata": {},
      "source": [
        "groceries.append(\"oranges\")  \n",
        "groceries.append(\"meat\")\n",
        "groceries.append(\"asparagus\")\n",
        "groceries"
      ],
      "execution_count": null,
      "outputs": []
    },
    {
      "cell_type": "markdown",
      "metadata": {},
      "source": [
        "Accessing list items by index:"
      ]
    },
    {
      "cell_type": "code",
      "metadata": {},
      "source": [
        "groceries[0]"
      ],
      "execution_count": null,
      "outputs": []
    },
    {
      "cell_type": "code",
      "metadata": {},
      "source": [
        "groceries[2]"
      ],
      "execution_count": null,
      "outputs": []
    },
    {
      "cell_type": "code",
      "metadata": {},
      "source": [
        "len(groceries)"
      ],
      "execution_count": null,
      "outputs": []
    },
    {
      "cell_type": "markdown",
      "metadata": {},
      "source": [
        "Sort the items in the list:"
      ]
    },
    {
      "cell_type": "code",
      "metadata": {},
      "source": [
        "groceries.sort()\n",
        "groceries"
      ],
      "execution_count": null,
      "outputs": []
    },
    {
      "cell_type": "markdown",
      "metadata": {},
      "source": [
        "Remove an item from a list:"
      ]
    },
    {
      "cell_type": "code",
      "metadata": {},
      "source": [
        "groceries.remove('asparagus')\n",
        "groceries"
      ],
      "execution_count": null,
      "outputs": []
    },
    {
      "cell_type": "markdown",
      "metadata": {},
      "source": [
        "Because lists are mutable, you can arbitrarily modify them."
      ]
    },
    {
      "cell_type": "code",
      "metadata": {},
      "source": [
        "groceries[0] = 'peanut butter'\n",
        "groceries"
      ],
      "execution_count": null,
      "outputs": []
    },
    {
      "cell_type": "markdown",
      "metadata": {},
      "source": [
        "### List Comprehensions\n",
        "\n",
        "A **list comprehension** makes a new list from an old list.\n",
        "\n",
        "It is **incredibly** useful and you definitely need to know how to use it."
      ]
    },
    {
      "cell_type": "code",
      "metadata": {},
      "source": [
        "groceries = ['asparagus', 'meat', 'oranges']\n",
        "veggie = [x for x in groceries if x != \"meat\"]\n",
        "veggie"
      ],
      "execution_count": null,
      "outputs": []
    },
    {
      "cell_type": "markdown",
      "metadata": {},
      "source": [
        "This is the same as:"
      ]
    },
    {
      "cell_type": "code",
      "metadata": {},
      "source": [
        "newlist = []\n",
        "for x in groceries:\n",
        "    if x != 'meat':\n",
        "        newlist.append(x)\n",
        "newlist"
      ],
      "execution_count": null,
      "outputs": []
    },
    {
      "cell_type": "markdown",
      "metadata": {},
      "source": [
        "Recall the mathematical notation:\n",
        "\n",
        "$$L_1 = \\left\\{x^2 : x \\in \\{0\\ldots 9\\}\\right\\}$$\n",
        "\n",
        "$$L_2 = \\left\\{2^0, 2^1, 2^2, 2^3,\\ldots, 2^{12}\\right\\}$$\n",
        "\n",
        "$$M = \\left\\{x \\mid x \\in L_1 \\text{ and } x \\text{ is even}\\right\\}$$"
      ]
    },
    {
      "cell_type": "code",
      "metadata": {},
      "source": [
        "L1 = [x**2 for x in range(10)]\n",
        "L2 = [2**i for i in range(13)]\n",
        "print(f'L1 is {L1}')\n",
        "print(f'L2 is {L2}')"
      ],
      "execution_count": null,
      "outputs": []
    },
    {
      "cell_type": "code",
      "metadata": {},
      "source": [
        "M = [x for x in L1 if x % 2 == 0]\n",
        "print('M is {}'.format(M))"
      ],
      "execution_count": null,
      "outputs": []
    },
    {
      "cell_type": "markdown",
      "metadata": {},
      "source": [
        "A  \"Sieve of Eratosthenes\" in list comprehensions.\n",
        "\n",
        "Basic idea: generate composite numbers, remove them from the set of all numbers, and what is left are the prime nnumbers."
      ]
    },
    {
      "cell_type": "code",
      "metadata": {},
      "source": [
        "limit = 50\n",
        "composites = [n for n in range(4, limit+1) if any(n % i == 0 for i in range(2, int(n**0.5)+1))]"
      ],
      "execution_count": null,
      "outputs": []
    },
    {
      "cell_type": "code",
      "metadata": {},
      "source": [
        "primes = [x for x in range(1, 50) if x not in composites]\n",
        "print(primes)"
      ],
      "execution_count": null,
      "outputs": []
    },
    {
      "cell_type": "markdown",
      "metadata": {},
      "source": [
        "Notice how much more concise and clear the list comprehension is. It's more efficient too.\n",
        "\n",
        "### Sets\n",
        "\n",
        "A set is a collecton of items that cannot contain duplicates.\n",
        "\n",
        "Sets handle operations like sets in mathematics."
      ]
    },
    {
      "cell_type": "code",
      "metadata": {},
      "source": [
        "numbers = range(10)\n",
        "numbers = set(numbers)\n",
        "\n",
        "evens = {0, 2, 4, 6, 8}\n",
        "\n",
        "odds = numbers - evens\n",
        "odds"
      ],
      "execution_count": null,
      "outputs": []
    },
    {
      "cell_type": "markdown",
      "metadata": {},
      "source": [
        "Sets also support the use of union (\\|), and intersection (&)\n",
        "\n",
        "### Dictionaries\n",
        "\n",
        "A dictionary is a map of keys to values.\n",
        "\n",
        "**Keys must be unique**."
      ]
    },
    {
      "cell_type": "code",
      "metadata": {},
      "source": [
        "simple_dict = {}\n",
        "\n",
        "simple_dict['DS701'] = 'tools for data science'\n",
        "\n",
        "simple_dict['DS701']"
      ],
      "execution_count": null,
      "outputs": []
    },
    {
      "cell_type": "markdown",
      "metadata": {},
      "source": [
        "Creating an already-initialized dictionary. Note the use of curly braces."
      ]
    },
    {
      "cell_type": "code",
      "metadata": {},
      "source": [
        "classes = {\n",
        "    'DS701': 'tools for data science',\n",
        "    'DS542': 'deep learning for data science'\n",
        "}"
      ],
      "execution_count": null,
      "outputs": []
    },
    {
      "cell_type": "markdown",
      "metadata": {},
      "source": [
        "Check if item is in dictionary"
      ]
    },
    {
      "cell_type": "code",
      "metadata": {},
      "source": [
        "'DS680' in classes"
      ],
      "execution_count": null,
      "outputs": []
    },
    {
      "cell_type": "markdown",
      "metadata": {},
      "source": [
        "Add new item"
      ]
    },
    {
      "cell_type": "code",
      "metadata": {},
      "source": [
        "classes['DS680'] = 'data society and ethics'\n",
        "classes['DS680']"
      ],
      "execution_count": null,
      "outputs": []
    },
    {
      "cell_type": "markdown",
      "metadata": {},
      "source": [
        "Get just the keys"
      ]
    },
    {
      "cell_type": "code",
      "metadata": {},
      "source": [
        "classes.keys()"
      ],
      "execution_count": null,
      "outputs": []
    },
    {
      "cell_type": "markdown",
      "metadata": {},
      "source": [
        "Get just the values"
      ]
    },
    {
      "cell_type": "code",
      "metadata": {},
      "source": [
        "classes.values()"
      ],
      "execution_count": null,
      "outputs": []
    },
    {
      "cell_type": "markdown",
      "metadata": {},
      "source": [
        "Get the items in the dictionary"
      ]
    },
    {
      "cell_type": "code",
      "metadata": {},
      "source": [
        "classes.items()"
      ],
      "execution_count": null,
      "outputs": []
    },
    {
      "cell_type": "markdown",
      "metadata": {},
      "source": [
        "Get dictionary pairs another way"
      ]
    },
    {
      "cell_type": "code",
      "metadata": {},
      "source": [
        "for key, value in classes.items():\n",
        "    print(key, value)"
      ],
      "execution_count": null,
      "outputs": []
    },
    {
      "cell_type": "markdown",
      "metadata": {},
      "source": [
        "Dictionaries can be combined to make complex (and very useful) data structures.\n",
        "\n",
        "Here is a list within a dictionary within a dictionary."
      ]
    },
    {
      "cell_type": "code",
      "metadata": {},
      "source": [
        "professors = {\n",
        "    \"prof1\": {\n",
        "        \"name\": \"Thomas Gardos\",\n",
        "        \"interests\": [\"large language models\", \"deep learning\", \"machine learning\"]\n",
        "    },\n",
        "    \"prof2\": {\n",
        "        \"name\": \"Mark Crovella\",\n",
        "        \"interests\": [\"computer networks\", \"data mining\", \"biological networks\"]\n",
        "    },\n",
        "    \"prof3\": {\n",
        "        \"name\": \"Scott Ladenheim\",\n",
        "        \"interests\": [\"numerical linear algebra\", \"deep learning\", \"quantum machine learning\"]\n",
        "    }\n",
        "}"
      ],
      "execution_count": null,
      "outputs": []
    },
    {
      "cell_type": "code",
      "metadata": {},
      "source": [
        "for prof in professors:\n",
        "    print('{} is interested in {}.'.format(\n",
        "            professors[prof][\"name\"],\n",
        "            professors[prof][\"interests\"][0]))"
      ],
      "execution_count": null,
      "outputs": []
    },
    {
      "cell_type": "markdown",
      "metadata": {},
      "source": [
        "### Tuples\n",
        "\n",
        "Tuples are an **immutable** type. Like strings, once you create them, you cannot change them.\n",
        "\n",
        "Because they are immutabile you can use them as keys in dictionaries.\n",
        "\n",
        "However, they are similar to lists in that they are a collection of data and that data can be of differing types.\n",
        "\n",
        "Here is a tuple version of our grocery list."
      ]
    },
    {
      "cell_type": "code",
      "metadata": {},
      "source": [
        "groceries = ('orange', 'meat', 'asparagus', 2.5, True)\n",
        "groceries"
      ],
      "execution_count": null,
      "outputs": []
    },
    {
      "cell_type": "code",
      "metadata": {},
      "source": [
        "groceries[2]"
      ],
      "execution_count": null,
      "outputs": []
    },
    {
      "cell_type": "markdown",
      "metadata": {},
      "source": [
        "What will happen here?"
      ]
    },
    {
      "cell_type": "code",
      "metadata": {},
      "source": [
        "#| error: true\n",
        "groceries[2] = 'milk'"
      ],
      "execution_count": null,
      "outputs": []
    },
    {
      "cell_type": "markdown",
      "metadata": {},
      "source": [
        "### Iterators and Generators\n",
        "\n",
        "We can loop over the elements of a list using **for**"
      ]
    },
    {
      "cell_type": "code",
      "metadata": {},
      "source": [
        "for i in range(4):\n",
        "    print(i)"
      ],
      "execution_count": null,
      "outputs": []
    },
    {
      "cell_type": "markdown",
      "metadata": {},
      "source": [
        "When we use **for** for dictionaries it loops over the keys of the dictionary"
      ]
    },
    {
      "cell_type": "code",
      "metadata": {},
      "source": [
        "for k in {'thomas': 'gardos', 'scott': 'ladenheim'}:\n",
        "    print(k)"
      ],
      "execution_count": null,
      "outputs": []
    },
    {
      "cell_type": "markdown",
      "metadata": {},
      "source": [
        "When we use **for** for strings it loops over the letters of the string:"
      ]
    },
    {
      "cell_type": "code",
      "metadata": {},
      "source": [
        "for l in 'python is magic':\n",
        "    print(l)"
      ],
      "execution_count": null,
      "outputs": []
    },
    {
      "cell_type": "markdown",
      "metadata": {},
      "source": [
        "What do these cases all have in common? All of them are **iterable** objects."
      ]
    },
    {
      "cell_type": "code",
      "metadata": {},
      "source": [
        "list({'thomas': 'gardos', 'scott': 'ladenheim'})"
      ],
      "execution_count": null,
      "outputs": []
    },
    {
      "cell_type": "code",
      "metadata": {},
      "source": [
        "list('python is magic')"
      ],
      "execution_count": null,
      "outputs": []
    },
    {
      "cell_type": "code",
      "metadata": {},
      "source": [
        "'-'.join('thomas')"
      ],
      "execution_count": null,
      "outputs": []
    },
    {
      "cell_type": "code",
      "metadata": {},
      "source": [
        "'-'.join(['a', 'b', 'c'])"
      ],
      "execution_count": null,
      "outputs": []
    },
    {
      "cell_type": "markdown",
      "metadata": {},
      "source": [
        "## Defining Functions"
      ]
    },
    {
      "cell_type": "code",
      "metadata": {},
      "source": [
        "def displayperson(name,age):\n",
        "    print(\"My name is {} and I am {} years old.\".format(name,age))\n",
        "    return\n",
        "    \n",
        "displayperson(\"Larry\", \"40\")"
      ],
      "execution_count": null,
      "outputs": []
    },
    {
      "cell_type": "markdown",
      "metadata": {},
      "source": [
        "## Functional Programming\n",
        "\n",
        "<img src=\"figs/Functional-Homer.png\" width=\"400px\"/>\n",
        "\n",
        "Functional programming is particularly valuable and common when working with data.\n",
        "\n",
        "We'll see more sophisticated examples of this sort of programming later.\n",
        "\n",
        "### Lambda functions\n",
        "\n",
        "Python supports the creation of anonymous functions (i.e. functions that are not bound to a name) at runtime, using a construct called `lambda`."
      ]
    },
    {
      "cell_type": "code",
      "metadata": {},
      "source": [
        "def f(x):\n",
        "    return x**2\n",
        "f(8)"
      ],
      "execution_count": null,
      "outputs": []
    },
    {
      "cell_type": "code",
      "metadata": {},
      "source": [
        "g = lambda x: x**2\n",
        "g(8)"
      ],
      "execution_count": null,
      "outputs": []
    },
    {
      "cell_type": "code",
      "metadata": {},
      "source": [
        "(lambda x: x**2)(8)"
      ],
      "execution_count": null,
      "outputs": []
    },
    {
      "cell_type": "markdown",
      "metadata": {},
      "source": [
        "The above pieces of code are all equivalent! Note that there is no `return` statement in the `lambda` function. Instead there is just a single expression, which defines what the function returns.\n",
        "\n",
        "A `lambda` function can take multiple arguments. However it has to get all its work done in a single line of code!"
      ]
    },
    {
      "cell_type": "code",
      "metadata": {},
      "source": [
        "f = lambda x, y : x + y\n",
        "f(2,3)"
      ],
      "execution_count": null,
      "outputs": []
    },
    {
      "cell_type": "markdown",
      "metadata": {},
      "source": [
        "A `lambda` function does not need to be assigned to variable, but it can be used within the code wherever a function is expected.\n",
        "\n",
        "Here is an example of 'currying': a function that returns a new function, with some of the original arguments bound."
      ]
    },
    {
      "cell_type": "code",
      "metadata": {},
      "source": [
        "def multiply (n): \n",
        "    return lambda x: x*n\n",
        " \n",
        "f = multiply(2)\n",
        "g = multiply(6)\n",
        "f"
      ],
      "execution_count": null,
      "outputs": []
    },
    {
      "cell_type": "code",
      "metadata": {},
      "source": [
        "f(10)"
      ],
      "execution_count": null,
      "outputs": []
    },
    {
      "cell_type": "code",
      "metadata": {},
      "source": [
        "g(10)"
      ],
      "execution_count": null,
      "outputs": []
    },
    {
      "cell_type": "code",
      "metadata": {},
      "source": [
        "multiply(3)(30)"
      ],
      "execution_count": null,
      "outputs": []
    },
    {
      "cell_type": "markdown",
      "metadata": {},
      "source": [
        "### Map\n",
        "\n",
        "Our first example of functional programming will be the **map** operator:\n",
        "\n",
        "`r = map(func, s)`\n",
        "\n",
        "`func` is a function and `s` is a sequence (e.g., a list).\n",
        "\n",
        "`map()` returns an object that will apply function `func` to each of the elements of `s`."
      ]
    },
    {
      "cell_type": "code",
      "metadata": {},
      "source": [
        "def dollar2euro(x):\n",
        "    return 0.89*x\n",
        "def euro2dollar(x):\n",
        "    return 1.12*x\n",
        "\n",
        "amounts= (100, 200, 300, 400)\n",
        "dollars = map(dollar2euro, amounts)\n",
        "list(dollars)"
      ],
      "execution_count": null,
      "outputs": []
    },
    {
      "cell_type": "code",
      "metadata": {},
      "source": [
        "amounts= (100, 200, 300, 400)\n",
        "euros = map(euro2dollar, amounts)\n",
        "list(euros)"
      ],
      "execution_count": null,
      "outputs": []
    },
    {
      "cell_type": "code",
      "metadata": {},
      "source": [
        "list(map(lambda x: 0.89*x, amounts))"
      ],
      "execution_count": null,
      "outputs": []
    },
    {
      "cell_type": "markdown",
      "metadata": {},
      "source": [
        "**map** can also be applied to more than one list as long as they are of the same size and type"
      ]
    },
    {
      "cell_type": "code",
      "metadata": {},
      "source": [
        "a = [1, 2, 3, 4, 5]\n",
        "b = [10, 20 , 30, 40, 50]\n",
        "\n",
        "l1 = map(lambda x,y: x+y, a, b)\n",
        "list(l1)"
      ],
      "execution_count": null,
      "outputs": []
    },
    {
      "cell_type": "markdown",
      "metadata": {},
      "source": [
        "### Filter\n",
        "\n",
        "The next functional operator is **filter**.\n",
        "\n",
        "`filter(function, list)` returns a new list containing all the elements of `list` for which `function()` evaluates to `True.`"
      ]
    },
    {
      "cell_type": "code",
      "metadata": {},
      "source": [
        "nums = [i for i in range(100)]\n",
        "even = filter(lambda x: x%2==0 and x!=0, nums)\n",
        "print(even)\n",
        "list(even)"
      ],
      "execution_count": null,
      "outputs": []
    },
    {
      "cell_type": "markdown",
      "metadata": {},
      "source": [
        "## Libraries\n",
        "\n",
        "Python is a high-level open-source language. But the *Python world* is inhabited by many packages or libraries that provide useful things like array operations, plotting functions, and much more.\n",
        "\n",
        "We can (and we will) import many different libraries of functions to expand the capabilities of Python in our programs."
      ]
    },
    {
      "cell_type": "code",
      "metadata": {},
      "source": [
        "import random\n",
        "myList = [2, 109, False, 10, \"data\", 482, \"mining\"]\n",
        "random.choice(myList)"
      ],
      "execution_count": null,
      "outputs": []
    },
    {
      "cell_type": "code",
      "metadata": {},
      "source": [
        "from random import shuffle\n",
        "x = list(range(10))\n",
        "shuffle(x)\n",
        "x"
      ],
      "execution_count": null,
      "outputs": []
    },
    {
      "cell_type": "markdown",
      "metadata": {},
      "source": [
        "## APIs\n",
        "\n",
        "For example, there are libraries that make it easy to interact with RESTful APIs.\n",
        "\n",
        "A RESTful API is a service available on the Internet that uses the HTTP protocol for access."
      ]
    },
    {
      "cell_type": "code",
      "metadata": {},
      "source": [
        "import requests\n",
        "\n",
        "width = '200'\n",
        "height = '300'\n",
        "response = requests.get('http://loremflickr.com/' + width + '/' + height)\n",
        "\n",
        "print(response)\n",
        "\n",
        "with open('img.jpg', 'wb') as f:\n",
        "    f.write(response.content)\n"
      ],
      "execution_count": null,
      "outputs": []
    },
    {
      "cell_type": "code",
      "metadata": {},
      "source": [
        "from IPython.display import Image\n",
        "Image(filename=\"img.jpg\")"
      ],
      "execution_count": null,
      "outputs": []
    },
    {
      "cell_type": "markdown",
      "metadata": {},
      "source": [
        "## Resources\n",
        "\n",
        "Here are some handy Python resources.\n",
        "\n",
        "- The official Python [webpage](https://www.python.org/).\n",
        "- Wes McKinney's [Python for Data Anaylsis, 3E](https://wesmckinney.com/book/).\n",
        "\n",
        "For a quick hands-on refresher of Python you can always attend the (free) Python tutorials offered by Boston University's [Research Computing Services](https://www.bu.edu/tech/support/research/) (RCS). The tutorial schedule is at this [link](https://www.bu.edu/tech/about/training/classroom/rcs-tutorials/). In addition to Python, RCS offers tutorials on a variety of relevant topics in this course, such as machine learning, natural language processing, and using Pytorch. "
      ]
    }
  ],
  "metadata": {
    "kernelspec": {
      "name": "python3",
      "language": "python",
      "display_name": "Python 3 (ipykernel)",
      "path": "/Users/tomg/Source/courses/tools4ds/DS701-Course-Notes/.venv/share/jupyter/kernels/python3"
    }
  },
  "nbformat": 4,
  "nbformat_minor": 4
}