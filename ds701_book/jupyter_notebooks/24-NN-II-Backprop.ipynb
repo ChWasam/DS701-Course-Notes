{
  "cells": [
    {
      "cell_type": "markdown",
      "metadata": {},
      "source": [
        "---\n",
        "title: 'NN II -- Compute Graph, Backprop and Training'\n",
        "jupyter: python3\n",
        "---\n",
        "\n",
        "## Introduction\n",
        "\n",
        "[![](https://colab.research.google.com/assets/colab-badge.svg)](https://colab.research.google.com/github/tools4ds/DS701-Course-Notes/blob/main/ds701_book/jupyter_notebooks/24-NN-II-Backprop.ipynb)"
      ]
    },
    {
      "cell_type": "code",
      "metadata": {},
      "source": [
        "#| echo: false\n",
        "import numpy as np\n",
        "import matplotlib.pyplot as plt\n",
        "import matplotlib as mp\n",
        "from IPython.display import Image, HTML\n",
        "\n",
        "%matplotlib inline"
      ],
      "execution_count": null,
      "outputs": []
    },
    {
      "cell_type": "markdown",
      "metadata": {},
      "source": [
        "In this lecture we'll gradually build out a light weight neural network training framework reminiscent of PyTorch.\n",
        "\n",
        "We build:\n",
        "\n",
        "* A simple neural network engine we call `Value` class that wraps numbers and math operators and includes useful attributes and methods for implementing _forward pass_ and _back propagation_. _(~63 lines of code)_\n",
        "\n",
        "::: {.content-visible when-profile=\"slides\"}\n",
        "## Introduction\n",
        ":::\n",
        "\n",
        "We'll provide (and explain)\n",
        "\n",
        "* A simple _compute graph_ visualization function. _(34 lines of code)_\n",
        "* A small set of helper functions that easily define a neuron, layer and multi-layer perceptron (MLP). _(84 lines of code)_\n",
        "\n",
        "With that we can implement a neural network training loop, and see how similar it is to a PyTorch implementation.\n",
        "\n",
        "\n",
        "The code is based on Andrej Karpathy's [micrograd](https://github.com/karpathy/micrograd).\n",
        "\n",
        "# Artificial Neuron\n",
        "\n",
        "## Artificial Neuron\n",
        "\n",
        "Recall we looked at an artificial neuron in the\n",
        "[Neural Networks I](23-NN-I-Gradient-Descent.qmd) lecture.\n",
        "\n",
        ":::: {.columns}\n",
        "::: {.column width=\"50%\"}\n",
        "![](figs/NN-figs/neuron_model.jpeg){width=\"100%\" .lightbox}\n",
        "\n",
        "From [cs231n](https://cs231n.github.io/neural-networks-1/)\n",
        ":::\n",
        "::: {.column width=\"50%\"}\n",
        "The  common artifical neuron\n",
        "\n",
        "* collects one or more inputs, \n",
        "* each multiplied by a unique weight\n",
        "* sums the weighted inputs\n",
        "* adds a bias\n",
        "* then applies a nonlinear activation function\n",
        ":::\n",
        "::::\n",
        "\n",
        "\n",
        "## Activation Functions\n",
        "\n",
        "The activation function is typically some nonlinear function that compresses the\n",
        "input in some way. Historically, it's been the sigmoid and $\\tanh()$ functions. \n",
        "\n",
        "<br><br>\n",
        "\n",
        "::: {.callout-important}\n",
        "Without a nonlinear activation function, a neural network collapses to just a\n",
        "linear model and loses all its expressive power. To dive deeper, see the Universal\n",
        "Approximation Theorem in Chapter 3 of \n",
        "[Understanding Deep Learning](https://udlbook.github.io).\n",
        ":::\n",
        "\n",
        "::: {.content-visible when-profile=\"slides\"}\n",
        "## Activation Functions\n",
        ":::\n",
        "\n",
        "The **sigmoid function** is\n",
        "\n",
        "$$\n",
        "\\mathrm{sigmoid}(x) = \\frac{1}{1 + e^{-x}}.\n",
        "$$"
      ]
    },
    {
      "cell_type": "code",
      "metadata": {},
      "source": [
        "#| echo: false\n",
        "#| fig-align: center\n",
        "import numpy as np\n",
        "import matplotlib.pyplot as plt\n",
        "\n",
        "def sigmoid(x):\n",
        "    return 1 / (1 + np.exp(-x))\n",
        "\n",
        "x = np.linspace(-10, 10, 100)\n",
        "y = sigmoid(x)\n",
        "\n",
        "plt.figure(figsize=(6,4))\n",
        "plt.plot(x, y)\n",
        "plt.title('Sigmoid function')\n",
        "plt.xlabel('x')\n",
        "plt.ylabel('sigmoid(x)')\n",
        "plt.grid(True)\n",
        "plt.show()"
      ],
      "execution_count": null,
      "outputs": []
    },
    {
      "cell_type": "markdown",
      "metadata": {},
      "source": [
        "::: {.content-visible when-profile=\"slides\"}\n",
        "## Activation Functions\n",
        ":::\n",
        "\n",
        "The hyperbolic tangent, $\\tanh$, is basically the sigmoid function shifted and scaled to a range of [-1,1].\n",
        "The **tanh** function is\n",
        "\n",
        "$$\n",
        "\\tanh(x) = \\frac{e^x - e^{-x}}{e^x + e^{-x}}.\n",
        "$$"
      ]
    },
    {
      "cell_type": "code",
      "metadata": {},
      "source": [
        "#| echo: false\n",
        "#| fig-align: center\n",
        "plt.figure(figsize=(6,4))\n",
        "plt.plot(np.arange(-5,5,0.2), np.tanh(np.arange(-5,5,0.2)))\n",
        "plt.title('tanh(x)')\n",
        "plt.xlabel('x')\n",
        "plt.ylabel('f(x)')\n",
        "plt.grid()"
      ],
      "execution_count": null,
      "outputs": []
    },
    {
      "cell_type": "markdown",
      "metadata": {},
      "source": [
        "::: {.content-visible when-profile=\"slides\"}\n",
        "## Activation Functions\n",
        ":::\n",
        "\n",
        "A more common activation function these days and that is more efficient to implement is the _Rectified Linear Unit_ or **ReLU**.\n",
        "\n",
        "$$\n",
        "\\textrm{ReLU}(x) = \\mathrm{max}(0, x)\n",
        "$$"
      ]
    },
    {
      "cell_type": "code",
      "metadata": {},
      "source": [
        "#| echo: false\n",
        "#| fig-align: center\n",
        "plt.figure(figsize=(5,3))\n",
        "plt.plot(np.arange(-5,5,0.2), np.maximum(0,np.arange(-5,5,0.2)))\n",
        "plt.title('ReLU(x)')\n",
        "plt.xlabel('x')\n",
        "plt.ylabel('f(x)')\n",
        "plt.grid()"
      ],
      "execution_count": null,
      "outputs": []
    },
    {
      "cell_type": "markdown",
      "metadata": {},
      "source": [
        "There are many other variations. See for example [PyTorch Non-linear Activations](https://pytorch.org/docs/stable/nn.html#non-linear-activations-weighted-sum-nonlinearity).\n",
        "\n",
        "## Relating Back to an Earlier Lecture\n",
        "\n",
        "__Question__\n",
        "\n",
        "What does \n",
        "\n",
        "$$\n",
        "\\mathrm{sigmoid}\\left(\\sum_i w_i x_i + b\\right) \\hspace{10pt} \\textrm{where} \\hspace{10pt} \\mathrm{sigmoid}(x) = \\frac{1}{1 + e^{-x}}\n",
        "$$\n",
        "\n",
        "remind you of?\n",
        "\n",
        ":::: {.fragment}\n",
        "__Answer__\n",
        "\n",
        "How about the Logistic Regression model?\n",
        "\n",
        "In fact, just like in Logistic Regression, we use the sigmoid function on the last layer of a neural network that is\n",
        "doing binary classification to output the probabilities.\n",
        "\n",
        "> So Logistic Regression is similar to one neuron with a sigmoid activation\n",
        "> function.\n",
        "::::\n",
        "\n",
        "# Fully Connected Network (FCN)\n",
        "\n",
        "## Fully Connected Network (FCN)\n",
        "\n",
        "![FCN from UDL.](figs/NN-figs/L24-fcn-dag.png){width=\"75%\" fig-align=\"center\"}\n",
        "\n",
        "* **Layer**: Multiple artificial neurons acting on the same inputs.\n",
        "* **Network**: Multiple cascading __layers__ produce one or more outputs.\n",
        "\n",
        "::: {.content-visible when-profile=\"slides\"}\n",
        "## Fully Connected Network (FCN)\n",
        "![FCN from UDL.](figs/NN-figs/L24-fcn-dag.png){width=\"75%\" fig-align=\"center\"}\n",
        ":::\n",
        "\n",
        "The above network has\n",
        "\n",
        "* _3 inputs_, \n",
        "* three hidden layers of 4, 2 and 3 neurons, respectively, followed by \n",
        "* one layer that produces two continuous value outputs. \n",
        "\n",
        "> This is a **regression model** that is predicting two continuous valued\n",
        "> outputs.\n",
        "\n",
        "## FCN Matrix Equations\n",
        "\n",
        "We can express the matrix equations for a $K$ layer network as\n",
        "\n",
        "$$\n",
        "\\begin{aligned}\n",
        "\\mathbf{h}_1 &= \\mathbf{a}(\\boldsymbol{\\beta}_0 + \\boldsymbol{\\Omega}_0 \\mathbf{x}) \\\\\n",
        "\\mathbf{h}_2 &= \\mathbf{a}(\\boldsymbol{\\beta}_1 + \\boldsymbol{\\Omega}_1 \\mathbf{h}_1) \\\\\n",
        "\\vdots \\\\\n",
        "\\mathbf{h}_K &= \\mathbf{a}(\\boldsymbol{\\beta}_{K-1} + \\boldsymbol{\\Omega}_{K-1} \\mathbf{h}_{K-1}) \\\\\n",
        "\\mathbf{\\hat{y}} &= \\boldsymbol{\\beta}_K + \\boldsymbol{\\Omega}_K \\mathbf{h}_K \\\\\n",
        "\\end{aligned}\n",
        "$$\n",
        "\n",
        "where $\\mathbf{a}(\\cdot)$ is the element-wise activation function.\n",
        "\n",
        "::: {.content-visible when-profile=\"slides\"}\n",
        "## FCN Matrix Equations\n",
        ":::\n",
        "\n",
        "The square loss function is\n",
        "\n",
        "$$\n",
        "L = \\sum_{i=1}^N \\ell_i = \\sum_{i=1}^N \\|\\mathbf{y}_i - \\mathbf{\\hat{y}}_i\\|_2^2.\n",
        "$$\n",
        "\n",
        "The total loss is the sum of the losses over the $i$ training examples.\n",
        "\n",
        "What we want to do is find weights in the NN that minimize the above loss function. We do this by\n",
        "\n",
        "* finding the partial derivatives of $L$ with respect to each parameter in the network\n",
        "* updating the parameters with the negative of its partial derivatives\n",
        "\n",
        "::: {.content-visible when-profile=\"slides\"}\n",
        "## FCN Matrix Equations\n",
        ":::\n",
        "\n",
        "In other words, we compute\n",
        "\n",
        "$$\n",
        "\\frac{\\partial L}{\\partial \\boldsymbol{\\beta}_k}, \\frac{\\partial L}{\\partial \\boldsymbol{\\Omega}_k}, \\frac{\\partial L}{\\partial \\boldsymbol{\\beta}_{k-1}}, \\frac{\\partial L}{\\partial \\boldsymbol{\\Omega}_{k-1}}, \\ldots, \\frac{\\partial L}{\\partial \\boldsymbol{\\beta}_0}, \\frac{\\partial L}{\\partial \\boldsymbol{\\Omega}_0}.\n",
        "$$\n",
        "\n",
        "In the notation above, $\\boldsymbol{\\beta}_k$ and $\\mathbf{\\Omega}_k$ are the bias\n",
        "vectors and weight matrices of the $k$-th layer. \n",
        "\n",
        "Just as with partial derivatives with respect to scalars, there are well-defined\n",
        "rules for how to compute the partial derivatives of vector and matrix expressions.\n",
        "PyTorch and TensorFlow implement these calculations.\n",
        "\n",
        "::: {.content-visible when-profile=\"slides\"}\n",
        "## FCN Matrix Equations\n",
        ":::\n",
        "\n",
        "The update rules for the parameters are given by\n",
        "\n",
        "$$\n",
        "\\boldsymbol{\\beta}_k \\leftarrow \\boldsymbol{\\beta}_k - \\frac{\\partial L}{\\partial \\boldsymbol{\\beta}_k},\n",
        "$$\n",
        "\n",
        "$$\n",
        "\\boldsymbol{\\Omega}_k \\leftarrow \\boldsymbol{\\Omega}_k - \\frac{\\partial L}{\\partial \\boldsymbol{\\Omega}_k}.\n",
        "$$\n",
        "\n",
        "# Computation Graph\n",
        "\n",
        "## Computation Graph\n",
        "\n",
        "The way we are going to differentiate more complex functions is to first build a\n",
        "\"computation graph.\"\n",
        "\n",
        "We'll see that we can \"propagate backwards\" through the graph to calculate the gradients\n",
        "of the loss function with respect to the parameters.\n",
        "\n",
        "It's a scalable approach employed by TensorFlow and PyTorch, and in fact we'll\n",
        "follow PyTorch interface definition.\n",
        "\n",
        "## Building the `Value` Class\n",
        "\n",
        "To do that we will \n",
        "\n",
        "* build a data wrapper as a `class` called `Value`, \n",
        "* gradually build in on all the functionality we need to define a Multi-Layer Neural Network\n",
        "(a.k.a. Multi-Layer Perceptron),\n",
        "* and train the full network.\n",
        "\n",
        "This is similar to how PyTorch defines its `Tensor` class.\n",
        "\n",
        "::: {.content-visible when-profile=\"slides\"}\n",
        "## Building the `Value` Class\n",
        ":::\n",
        "First, the class has only a simple initialization method and a representation method."
      ]
    },
    {
      "cell_type": "code",
      "metadata": {},
      "source": [
        "#| code-fold: false\n",
        "# Value version 1\n",
        "class Value:\n",
        "\n",
        "    def __init__(self, data):\n",
        "        self.data = data\n",
        "\n",
        "    def __repr__(self):\n",
        "        \"\"\"Return a string representation of the object for display\"\"\"\n",
        "        return f\"Value(data={self.data})\""
      ],
      "execution_count": null,
      "outputs": []
    },
    {
      "cell_type": "markdown",
      "metadata": {},
      "source": [
        "Which we can instantiate and evaluate as follows."
      ]
    },
    {
      "cell_type": "code",
      "metadata": {},
      "source": [
        "#| code-fold: false\n",
        "a = Value(4.0)\n",
        "a"
      ],
      "execution_count": null,
      "outputs": []
    },
    {
      "cell_type": "markdown",
      "metadata": {},
      "source": [
        "If you are not familiar with [python classes](https://docs.python.org/3/tutorial/classes.html), there are a few things to note here.\n",
        "\n",
        "1. The property `self` is just a pointer to the object itself.\n",
        "2. The `__init__` method is called when you initialize a class object.\n",
        "3. The `__repr__` method is how you represent the class object.\n",
        "\n",
        "## Implementing Addition\n",
        "\n",
        "The `Value` object doesn't do much yet except for taking a value and printing it. We'd also like to do things like addition and other operations with them, but..."
      ]
    },
    {
      "cell_type": "code",
      "metadata": {},
      "source": [
        "#| code-fold: false\n",
        "a = Value(4.0)\n",
        "b = Value(-3.0)\n",
        "\n",
        "try:\n",
        "    a+b \n",
        "except Exception as e:\n",
        "    print(\"Uh oh!\", e)\n",
        "else:\n",
        "    print(\"It worked!\")"
      ],
      "execution_count": null,
      "outputs": []
    },
    {
      "cell_type": "markdown",
      "metadata": {},
      "source": [
        "::: {.content-visible when-profile=\"slides\"}\n",
        "## Implementing Addition\n",
        ":::\n",
        "\n",
        "When python tries to add two objects `a` and `b`, internally it will call\n",
        "`a.__add__(b)`. We have to add the `__add__()` method."
      ]
    },
    {
      "cell_type": "code",
      "metadata": {},
      "source": [
        "#| code-fold: false\n",
        "# Value version 2\n",
        "class Value:\n",
        "\n",
        "    def __init__(self, data):\n",
        "        self.data = data\n",
        "\n",
        "    def __repr__(self):\n",
        "        \"\"\"Return a string representation of the object for display\"\"\"\n",
        "        return f\"Value(data={self.data})\"\n",
        "\n",
        "    def __add__(self, other):\n",
        "        other = other if isinstance(other, Value) else Value(other)\n",
        "        out = Value(self.data + other.data)\n",
        "        return out"
      ],
      "execution_count": null,
      "outputs": []
    },
    {
      "cell_type": "markdown",
      "metadata": {},
      "source": [
        "::: {.content-visible when-profile=\"slides\"}\n",
        "## Implementing Addition\n",
        ":::\n",
        "\n",
        "Now we try adding two `Value` objects again."
      ]
    },
    {
      "cell_type": "code",
      "metadata": {},
      "source": [
        "#| code-fold: false\n",
        "a = Value(4.0)\n",
        "b = Value(-3.0)\n",
        "\n",
        "try:\n",
        "    a+b\n",
        "except Exception as e:\n",
        "    print(\"Uh oh!\", e)\n",
        "else:\n",
        "    print(\"It worked!\")"
      ],
      "execution_count": null,
      "outputs": []
    },
    {
      "cell_type": "markdown",
      "metadata": {},
      "source": [
        "Which, as mentioned is equivalent to calling the `__add__` method on `a`."
      ]
    },
    {
      "cell_type": "code",
      "metadata": {},
      "source": [
        "#| code-fold: false\n",
        "a.__add__(b)"
      ],
      "execution_count": null,
      "outputs": []
    },
    {
      "cell_type": "markdown",
      "metadata": {},
      "source": [
        "## Implementing More Operations\n",
        "\n",
        "Similarly we can add define a multiplication operation and a ReLU function."
      ]
    },
    {
      "cell_type": "code",
      "metadata": {},
      "source": [
        "#| code-fold: false\n",
        "import numpy as np\n",
        "\n",
        "# Value version 3\n",
        "class Value:\n",
        "\n",
        "    def __init__(self, data):\n",
        "        self.data = data\n",
        "\n",
        "    def __repr__(self):\n",
        "        \"\"\"Return a string representation of the object for display\"\"\"\n",
        "        return f\"Value(data={self.data})\"\n",
        "\n",
        "    def __add__(self, other): # self + other\n",
        "        other = other if isinstance(other, Value) else Value(other)\n",
        "        out = Value(self.data + other.data)\n",
        "        return out\n",
        "    \n",
        "    def __mul__(self, other): # self * other\n",
        "        other = other if isinstance(other, Value) else Value(other)\n",
        "        out = Value(self.data * other.data)\n",
        "        return out\n",
        "    \n",
        "    def relu(self):\n",
        "        out = Value(np.maximum(0, self.data))\n",
        "        return out"
      ],
      "execution_count": null,
      "outputs": []
    },
    {
      "cell_type": "markdown",
      "metadata": {},
      "source": [
        "::: {.content-visible when-profile=\"slides\"}\n",
        "## Implementing More Operations\n",
        ":::\n",
        "\n",
        "Now we can use the additional operations."
      ]
    },
    {
      "cell_type": "code",
      "metadata": {},
      "source": [
        "#| code-fold: false\n",
        "a = Value(4.0)\n",
        "b = Value(-3.0)\n",
        "c = Value(8.0)\n",
        "\n",
        "d = a*b+c\n",
        "d"
      ],
      "execution_count": null,
      "outputs": []
    },
    {
      "cell_type": "code",
      "metadata": {},
      "source": [
        "#| code-fold: false\n",
        "d.relu()"
      ],
      "execution_count": null,
      "outputs": []
    },
    {
      "cell_type": "markdown",
      "metadata": {},
      "source": [
        "Internally, python will call `__mul__` on `a`, then `__add__` on the temporary product object."
      ]
    },
    {
      "cell_type": "code",
      "metadata": {},
      "source": [
        "#| code-fold: false\n",
        "(a.__mul__(b)).__add__(c)"
      ],
      "execution_count": null,
      "outputs": []
    },
    {
      "cell_type": "markdown",
      "metadata": {},
      "source": [
        "## Child Nodes\n",
        "\n",
        "In order to calculate the gradients, we will need to capture the computation graphs. \n",
        "\n",
        "To do that, we'll need to store pointers to the operands of each operation as a\n",
        "tuple of child nodes in the initializer."
      ]
    },
    {
      "cell_type": "code",
      "metadata": {},
      "source": [
        "#| code-fold: false\n",
        "# Value version 4\n",
        "class Value:\n",
        "                        #    vvvvvvvvvvvv\n",
        "    def __init__(self, data, _children=()):\n",
        "        self.data = data\n",
        "        self._prev = set(_children)\n",
        "\n",
        "    def __repr__(self):\n",
        "        \"\"\"Return a string representation of the object for display\"\"\"\n",
        "        return f\"Value(data={self.data})\"\n",
        "\n",
        "    def __add__(self, other):\n",
        "        other = other if isinstance(other, Value) else Value(other)\n",
        "        out = Value(self.data + other.data, (self, other)) # store tuple of children\n",
        "        return out                        # ^^^^^^^^^^^^^\n",
        "    \n",
        "    def __mul__(self, other):\n",
        "        other = other if isinstance(other, Value) else Value(other)\n",
        "        out = Value(self.data * other.data, (self, other)) # store tuple of children\n",
        "        return out                        # ^^^^^^^^^^^^^\n",
        "    \n",
        "    def relu(self):\n",
        "        out = Value(np.maximum(0, self.data), (self,))\n",
        "        return out                         #  ^^^^^^^"
      ],
      "execution_count": null,
      "outputs": []
    },
    {
      "cell_type": "markdown",
      "metadata": {},
      "source": [
        "::: {.content-visible when-profile=\"slides\"}\n",
        "## Child Nodes\n",
        ":::\n",
        "\n",
        "Let's instantiate a few `Value` objects and perform some operations with them."
      ]
    },
    {
      "cell_type": "code",
      "metadata": {},
      "source": [
        "#| code-fold: false\n",
        "a = Value(4.0)\n",
        "b = Value(-3.0)\n",
        "c = Value(8.0)\n",
        "\n",
        "d = a*b\n",
        "e = d + c"
      ],
      "execution_count": null,
      "outputs": []
    },
    {
      "cell_type": "markdown",
      "metadata": {},
      "source": [
        "We can now see the children of the operands that produced the output value by printing the `_prev` value. The name `_prev` might not be intuitive yet, but it will make more sense when we view these operations as a graph."
      ]
    },
    {
      "cell_type": "code",
      "metadata": {},
      "source": [
        "#| code-fold: false\n",
        "d._prev"
      ],
      "execution_count": null,
      "outputs": []
    },
    {
      "cell_type": "code",
      "metadata": {},
      "source": [
        "#| code-fold: false\n",
        "e._prev"
      ],
      "execution_count": null,
      "outputs": []
    },
    {
      "cell_type": "markdown",
      "metadata": {},
      "source": [
        "## Child Operations\n",
        "\n",
        "Now we've recorded pointers to the child nodes. It would be helpful to also record the operator used.\n",
        "\n",
        "We'll also add labels for convenience."
      ]
    },
    {
      "cell_type": "code",
      "metadata": {},
      "source": [
        "#| code-fold: false\n",
        "# Value version 5\n",
        "class Value:\n",
        "                                    #     vvvvvvv  vvvvvvvv\n",
        "    def __init__(self, data, _children=(), _op='', label=''):\n",
        "        self.data = data\n",
        "        self._prev = set(_children)\n",
        "        self._op = _op # store the operation that created this node\n",
        "        self.label = label # label for the node\n",
        "\n",
        "    def __repr__(self):\n",
        "        \"\"\"Return a string representation of the object for display\"\"\"\n",
        "        return f\"Value(data={self.data})\"\n",
        "\n",
        "    def __add__(self, other):\n",
        "        other = other if isinstance(other, Value) else Value(other)   \n",
        "        out = Value(self.data + other.data, (self, other), '+') # store operator used\n",
        "        return out                                      #  ^^^\n",
        "    \n",
        "    def __mul__(self, other):\n",
        "        other = other if isinstance(other, Value) else Value(other)\n",
        "        out = Value(self.data * other.data, (self, other), '*') # store operator used\n",
        "        return out                                      #  ^^^\n",
        "    \n",
        "    def relu(self):                                 #  vvvvvv\n",
        "        out = Value(np.maximum(0, self.data), (self,), 'ReLU')\n",
        "\n",
        "        return out"
      ],
      "execution_count": null,
      "outputs": []
    },
    {
      "cell_type": "markdown",
      "metadata": {},
      "source": [
        "::: {.content-visible when-profile=\"slides\"}\n",
        "## Child Operations\n",
        ":::\n",
        "\n",
        "Let's again instantiate a few `Value` objects and do some operations with them."
      ]
    },
    {
      "cell_type": "code",
      "metadata": {},
      "source": [
        "#| code-fold: false\n",
        "a = Value(4.0, label='a')\n",
        "b = Value(-3.0, label='b')\n",
        "c = Value(8.0, label='c')\n",
        "\n",
        "d = a*b ; d.label = 'd'\n",
        "e = d + c ; e.label = 'e'"
      ],
      "execution_count": null,
      "outputs": []
    },
    {
      "cell_type": "markdown",
      "metadata": {},
      "source": [
        "We can now inspect the parent operands and the operations used to create the\n",
        "current node value."
      ]
    },
    {
      "cell_type": "code",
      "metadata": {},
      "source": [
        "#| code-fold: false\n",
        "d._prev, d._op, d.label"
      ],
      "execution_count": null,
      "outputs": []
    },
    {
      "cell_type": "code",
      "metadata": {},
      "source": [
        "#| code-fold: false\n",
        "e._prev, e._op, e.label"
      ],
      "execution_count": null,
      "outputs": []
    },
    {
      "cell_type": "markdown",
      "metadata": {},
      "source": [
        "## The Compute Graph\n",
        "\n",
        "We now have enough information stored about the compute graph to visualize it.\n",
        "\n",
        "These are two functions to walk the graph and build sets of all nodes and edges (`trace`) and then draw them as a\n",
        "directed graph (`draw_dot`)."
      ]
    },
    {
      "cell_type": "code",
      "metadata": {},
      "source": [
        "#| code-fold: true\n",
        "#| code-summary: \"Show the code for `trace()` and `draw_dot()`\"\n",
        "# draw_dot version 1\n",
        "from graphviz import Digraph\n",
        "\n",
        "def trace(root):\n",
        "  # builds a set of all nodes and set of all edges in a graph\n",
        "  nodes, edges = set(), set()\n",
        "  def build(v):\n",
        "    if v not in nodes:\n",
        "      nodes.add(v)\n",
        "      for child in v._prev:\n",
        "        edges.add((child, v))\n",
        "        build(child)\n",
        "  build(root)\n",
        "  return nodes, edges\n",
        "\n",
        "def draw_dot(root):\n",
        "  dot = Digraph(format='svg', graph_attr={'rankdir': 'LR'}) # LR = left to right\n",
        "\n",
        "  nodes, edges = trace(root)\n",
        "  for n in nodes:\n",
        "    uid = str(id(n))\n",
        "    # for any value in the graph, create a rectangular ('record') node for it\n",
        "    dot.node(name = uid, label = \"{ %s | data %.4f }\" % (n.label, n.data), shape='record')\n",
        "    if n._op:\n",
        "      # if this value is a result of some operation, create an op node for it\n",
        "      dot.node(name = uid + n._op, label = n._op)\n",
        "      # and connect this no de to it\n",
        "      dot.edge(uid + n._op, uid)\n",
        "\n",
        "  for n1, n2 in edges:\n",
        "    # connect n1 to the op node of n2\n",
        "    dot.edge(str(id(n1)), str(id(n2)) + n2._op)\n",
        "\n",
        "  return dot"
      ],
      "execution_count": null,
      "outputs": []
    },
    {
      "cell_type": "code",
      "metadata": {},
      "source": [
        "#| code-fold: false\n",
        "a = Value(4.0, label='a')\n",
        "b = Value(-3.0, label='b')\n",
        "c = Value(8.0, label='c')\n",
        "\n",
        "d = a*b ; d.label = 'd'\n",
        "e = d + c ; e.label = 'e'\n",
        "\n",
        "draw_dot(e)"
      ],
      "execution_count": null,
      "outputs": []
    },
    {
      "cell_type": "markdown",
      "metadata": {},
      "source": [
        "Note that every value object becomes a node in the graph. The operators are also\n",
        "represented as a kind of fake node so they can be visualized too."
      ]
    },
    {
      "cell_type": "code",
      "metadata": {},
      "source": [
        "#| code-fold: false\n",
        "nodes, edges = trace(e)\n",
        "print(\"Nodes: \", nodes)\n",
        "print(\"Edges: \", edges)"
      ],
      "execution_count": null,
      "outputs": []
    },
    {
      "cell_type": "markdown",
      "metadata": {},
      "source": [
        "::: {.content-visible when-profile=\"slides\"}\n",
        "## The Compute Graph\n",
        ":::\n",
        "\n",
        "Lets add one more operation, or stage, in the compute graph."
      ]
    },
    {
      "cell_type": "code",
      "metadata": {},
      "source": [
        "#| code-fold: false\n",
        "a = Value(4.0, label='a')\n",
        "b = Value(-3.0, label='b')\n",
        "c = Value(8.0, label='c')\n",
        "\n",
        "d = a*b; d.label = 'd'\n",
        "e = d + c; e.label = 'e'\n",
        "f = Value(2.0, label='f')\n",
        "\n",
        "L = e*f; L.label = 'L'\n",
        "\n",
        "draw_dot(L)"
      ],
      "execution_count": null,
      "outputs": []
    },
    {
      "cell_type": "markdown",
      "metadata": {},
      "source": [
        "## Recap\n",
        "\n",
        "So far we've:\n",
        "\n",
        "* built a `Value` class and associated data structures,\n",
        "* captured a computational graph, and\n",
        "* calculated the output based on the inputs and operations. \n",
        "\n",
        "We'll call this the __forward pass__ (or forward propagation).\n",
        "\n",
        "We now need to calculate the gradient of the loss function $L$ with respect to\n",
        "the parameters of the model. \n",
        "\n",
        "Next we'll update our `Value` class to capture the partial derivative at each\n",
        "node relative to `L`.\n",
        "\n",
        "# Calculating Gradients\n",
        "\n",
        "## Calculating Gradients\n",
        "\n",
        "We now add a gradient member variable, `grad`, to our class to store the partial\n",
        "derivative of the node with respect to the output node."
      ]
    },
    {
      "cell_type": "code",
      "metadata": {},
      "source": [
        "#| code-fold: false\n",
        "#| code-line-numbers: true\n",
        "# Value version 6\n",
        "class Value:\n",
        "\n",
        "    def __init__(self, data, _children=(), _op='', label=''):\n",
        "        self.data = data\n",
        "        self.grad = 0.0 # default to 0  <<<<<<<<<<<<<<<<<<<<<<<<<<<<<<<<<<<<<<<<\n",
        "        self._prev = set(_children)\n",
        "        self._op = _op # store the operation that created this node\n",
        "        self.label = label # label for the node\n",
        "\n",
        "    def __repr__(self):\n",
        "        \"\"\"Return a string representation of the object for display\"\"\"\n",
        "        return f\"Value(data={self.data})\"\n",
        "\n",
        "    def __add__(self, other):\n",
        "        other = other if isinstance(other, Value) else Value(other)   \n",
        "        out = Value(self.data + other.data, (self, other), '+')\n",
        "        return out\n",
        "    \n",
        "    def __mul__(self, other):\n",
        "        other = other if isinstance(other, Value) else Value(other)   \n",
        "        out = Value(self.data * other.data, (self, other), '*')\n",
        "        return out\n",
        "    \n",
        "    def relu(self):         \n",
        "        out = Value(np.maximum(0, self.data), (self,), 'ReLU')\n",
        "\n",
        "        return out"
      ],
      "execution_count": null,
      "outputs": []
    },
    {
      "cell_type": "markdown",
      "metadata": {},
      "source": [
        "::: {.content-visible when-profile=\"slides\"}\n",
        "## Calculating Gradients\n",
        ":::\n",
        "\n",
        "We update `draw_dot()` to show `grad` in the node info."
      ]
    },
    {
      "cell_type": "code",
      "metadata": {},
      "source": [
        "#| code-fold: true\n",
        "#| code-summary: \"Show the code for `draw_dot()`\"\n",
        "# draw_dot version 2\n",
        "from graphviz import Digraph\n",
        "\n",
        "def trace(root):\n",
        "  # builds a set of all nodes and set of all edges in a graph\n",
        "  nodes, edges = set(), set()\n",
        "  def build(v):\n",
        "    if v not in nodes:\n",
        "      nodes.add(v)\n",
        "      for child in v._prev:\n",
        "        edges.add((child, v))\n",
        "        build(child)\n",
        "  build(root)\n",
        "  return nodes, edges\n",
        "\n",
        "def draw_dot(root):\n",
        "  dot = Digraph(format='svg', graph_attr={'rankdir': 'LR'}) # LR = left to right\n",
        " \n",
        "  nodes, edges = trace(root)\n",
        "  for n in nodes:\n",
        "    uid = str(id(n))\n",
        "    # for any value in the graph, create a rectangular ('record') node for it\n",
        "    dot.node(name = uid, label = \"{ %s | data %.4f | grad %.4f }\" % (n.label, n.data, n.grad), shape='record')\n",
        "    if n._op:\n",
        "      # if this value is a result of some operation, create an op node for it\n",
        "      dot.node(name = uid + n._op, label = n._op)\n",
        "      # and connect this node to it\n",
        "      dot.edge(uid + n._op, uid)\n",
        "\n",
        "  for n1, n2 in edges:\n",
        "    # connect n1 to the op node of n2\n",
        "    dot.edge(str(id(n1)), str(id(n2)) + n2._op)\n",
        "\n",
        "  return dot        "
      ],
      "execution_count": null,
      "outputs": []
    },
    {
      "cell_type": "markdown",
      "metadata": {},
      "source": [
        "We also reinitialize and redraw the computational graph."
      ]
    },
    {
      "cell_type": "code",
      "metadata": {},
      "source": [
        "#| code-fold: true\n",
        "a = Value(4.0, label='a')\n",
        "b = Value(-3.0, label='b')\n",
        "c = Value(8.0, label='c')\n",
        "\n",
        "d = a*b; d.label = 'd'\n",
        "e = d + c; e.label = 'e'\n",
        "f = Value(2.0, label='f')\n",
        "\n",
        "L = e*f; L.label = 'L'\n",
        "\n",
        "draw_dot(L)"
      ],
      "execution_count": null,
      "outputs": []
    },
    {
      "cell_type": "markdown",
      "metadata": {},
      "source": [
        "We have placeholders for the gradients, but they are currently all zero.\n",
        "\n",
        "## Manual Gradient Calculation\n",
        "\n",
        "Before we start implementing backpropagation, it is helpful to manually calculate some gradients to better understand the procedure.\n",
        "\n",
        "For the node $L$, we trivially calculate $\\frac{dL}{dL} = 1$. \n",
        "\n",
        "We can easily see this from the limit ratio perspective, \n",
        "\n",
        "$$\n",
        "\\frac{dL}{dL} = \\lim_{h \\rightarrow 0} \\frac{ (L+h) - L }{h} = \\frac{h}{h} = 1\n",
        "$$\n",
        "\n",
        "Let's set the gradient of the last node `L` to 1."
      ]
    },
    {
      "cell_type": "code",
      "metadata": {},
      "source": [
        "#| code-fold: false\n",
        "L.grad = 1.0"
      ],
      "execution_count": null,
      "outputs": []
    },
    {
      "cell_type": "markdown",
      "metadata": {},
      "source": [
        "::: {.content-visible when-profile=\"slides\"}\n",
        "## Manual Gradient Calculation\n",
        ":::\n",
        "\n",
        "If we go backwards a step in the graph, we see that $L=e*f$, so we calculate\n",
        "\n",
        "$$\n",
        "\\frac{\\partial{L}}{\\partial{e}} = \\frac{\\partial}{\\partial{e}} (e\\times f) = f,\n",
        "$$\n",
        "\n",
        "and\n",
        "\n",
        "$$\n",
        "\\frac{\\partial{L}}{\\partial{f}} = \\frac{\\partial}{\\partial{f}} (e\\times f) = e.\n",
        "$$\n",
        "\n",
        "So we just assign the gradient value to the value of the other operand node."
      ]
    },
    {
      "cell_type": "code",
      "metadata": {},
      "source": [
        "#| code-fold: false\n",
        "e.grad = f.data\n",
        "f.grad = e.data"
      ],
      "execution_count": null,
      "outputs": []
    },
    {
      "cell_type": "markdown",
      "metadata": {},
      "source": [
        "::: {.callout-tip}\n",
        "For **products**, the partial derivative w.r.t. to one operand is simply the _other operand_.\n",
        ":::\n",
        "\n",
        "::: {.callout-important}\n",
        "We needed the node values, e.g., `e.data` and `f.data`, in order to update the\n",
        "gradients. Remember, we calculate all the node values in the **forward pass**.\n",
        ":::\n",
        "\n",
        "::: {.content-visible when-profile=\"slides\"}\n",
        "## Manual Gradient Calculation\n",
        ":::\n",
        "\n",
        "We again redraw the above computational graph ."
      ]
    },
    {
      "cell_type": "code",
      "metadata": {},
      "source": [
        "#| code-fold: false\n",
        "draw_dot(L)"
      ],
      "execution_count": null,
      "outputs": []
    },
    {
      "cell_type": "markdown",
      "metadata": {},
      "source": [
        "::: {.content-visible when-profile=\"slides\"}\n",
        "## Manual Gradient Calculation\n",
        ":::\n",
        "\n",
        "How do the parameters $e$ and $f$ influence $L$? Here's a function to vary (or wiggle) them\n",
        "and see the effect on $L$."
      ]
    },
    {
      "cell_type": "code",
      "metadata": {},
      "source": [
        "#| code-fold: false\n",
        "#| code-line-numbers: true\n",
        "# Try uncommenting `e += h` or `f += h` and calling `wiggle()` then `wiggle(1.0)`\n",
        "# to see the influence of e or f on L\n",
        "def wiggle(h = 0.0):\n",
        "    a = Value(4.0, label='a')\n",
        "    b = Value(-3.0, label='b')\n",
        "    c = Value(8.0, label='c')\n",
        "\n",
        "    d = a*b; d.label = 'd'\n",
        "    e = d + c; e.label = 'e'\n",
        "    # e += h\n",
        "    f = Value(2.0, label='f')\n",
        "    f += h\n",
        "\n",
        "    L = e*f; L.label = 'L'\n",
        "    print(L)"
      ],
      "execution_count": null,
      "outputs": []
    },
    {
      "cell_type": "markdown",
      "metadata": {},
      "source": [
        "Let's invoke it with no change $0$ and then a change of $1$."
      ]
    },
    {
      "cell_type": "code",
      "metadata": {},
      "source": [
        "#| code-fold: false\n",
        "wiggle(0.0)"
      ],
      "execution_count": null,
      "outputs": []
    },
    {
      "cell_type": "code",
      "metadata": {},
      "source": [
        "#| code-fold: false\n",
        "wiggle(1.0)"
      ],
      "execution_count": null,
      "outputs": []
    },
    {
      "cell_type": "markdown",
      "metadata": {},
      "source": [
        "__Question__\n",
        "\n",
        "What does $L$ change by if we change $f$ by 1?\n",
        "\n",
        "How much would $L$ change if we changed $e$ by 1?\n",
        "\n",
        "Comment line 12 and uncomment line 10 to check your answer.\n",
        "\n",
        "## Propagating Back"
      ]
    },
    {
      "cell_type": "code",
      "metadata": {},
      "source": [
        "draw_dot(L)"
      ],
      "execution_count": null,
      "outputs": []
    },
    {
      "cell_type": "markdown",
      "metadata": {},
      "source": [
        "Now we want to calculate\n",
        "\n",
        "$$\n",
        "\\frac{\\partial{L}}{\\partial{c}},\n",
        "$$\n",
        "\n",
        "i.e., we want to know how much $L$ varies if we vary $c$, or how $c$ influences $L$.\n",
        "\n",
        "::: {.content-visible when-profile=\"slides\"}\n",
        "## Propagating Back"
      ]
    },
    {
      "cell_type": "code",
      "metadata": {},
      "source": [
        "draw_dot(L)"
      ],
      "execution_count": null,
      "outputs": []
    },
    {
      "cell_type": "markdown",
      "metadata": {},
      "source": [
        ":::\n",
        "\n",
        "Looking at the graph again we see that $c$ influences $e$ and $e$ influences $L$, so we should be able see the ripple effect of $c$ on $L$.\n",
        "\n",
        "$$\n",
        "c \\rightarrow e \\rightarrow L.\n",
        "$$\n",
        "\n",
        "::: {.content-visible when-profile=\"slides\"}\n",
        "## Propagating Back"
      ]
    },
    {
      "cell_type": "code",
      "metadata": {},
      "source": [
        "draw_dot(L)"
      ],
      "execution_count": null,
      "outputs": []
    },
    {
      "cell_type": "markdown",
      "metadata": {},
      "source": [
        ":::\n",
        "\n",
        "We have that $e = c + d$, and so we calculate\n",
        "\n",
        "$$ \n",
        "\\frac{\\partial{e}}{\\partial{c}} = \\frac{\\partial{}}{\\partial{c}} (d + c) = 1.\n",
        "$$\n",
        "\n",
        "::: {.callout-tip}\n",
        "For **addition**, the partial derivative w.r.t. to one operand is 1.\n",
        ":::\n",
        "\n",
        "## Question\n",
        "\n",
        "$$ \n",
        "c \\rightarrow e \\rightarrow L \n",
        "$$\n",
        "\n",
        "Now we know $\\partial{L}/\\partial{e}$ and we also know $\\partial{e}/\\partial{c}$,\n",
        "\n",
        "How do we get $\\partial{L}/\\partial{c}$?\n",
        "\n",
        "## The Chain Rule\n",
        "\n",
        "To paraphrase from the Wikipedia page on\n",
        "[Chain rule](https://en.wikipedia.org/wiki/Chain_rule), if a variable $L$ depends\n",
        "on the variable $e$, which itself depends on the variable $c$, then $L$ depends\n",
        "on $c$ as well, via the intermediate variable $e$. \n",
        "\n",
        "In this case, the chain rule is expressed as\n",
        "\n",
        "$$\n",
        "\\frac{\\partial L}{\\partial c} \n",
        "= \\frac{\\partial L}{\\partial e} \\cdot \\frac{\\partial e}{\\partial c},\n",
        "$$\n",
        "\n",
        "and\n",
        "\n",
        "$$\n",
        "\\left.\\frac{\\partial L}{\\partial c}\\right|_{c} \n",
        "= \\left.\\frac{\\partial L}{\\partial e}\\right|_{e(c)}\\cdot \\left.\n",
        "  \\frac{\\partial e}{\\partial c}\\right|_{c}.\n",
        "$$\n",
        "\n",
        "The above notation indicates at which points the derivatives have to be evaluated.\n",
        "\n",
        "> We evaluate the derivatives at the specific values of the variables that we\n",
        "> calculated in the forward pass.\n",
        "\n",
        "::: {.content-visible when-profile=\"slides\"}\n",
        "## The Chain Rule\n",
        ":::\n",
        "\n",
        "Since we've established that\n",
        "\n",
        "$$\n",
        "\\frac{\\partial{e}}{\\partial{c}} = 1,\n",
        "$$\n",
        "\n",
        "then\n",
        "\n",
        "$$\n",
        "\\frac{\\partial L}{\\partial c} = \\frac{\\partial L}{\\partial e} \\cdot \\frac{\\partial{e}}{\\partial{c}} = \\frac{\\partial L}{\\partial e} \\cdot 1.\n",
        "$$\n",
        "\n",
        "In the case of an operand in an addition operation, we just copy the gradient of the parent node.\n",
        "\n",
        "Or put another way:\n",
        "\n",
        "::: {.callout-important}\n",
        "With the **addition operator**, we just _route the parent gradient to the child_.\n",
        ":::\n",
        "\n",
        "::: {.content-visible when-profile=\"slides\"}\n",
        "## The Chain Rule\n",
        ":::\n",
        "\n",
        "So let's assign the gradient of `e` to `d` and `c`."
      ]
    },
    {
      "cell_type": "code",
      "metadata": {},
      "source": [
        "#| code-fold: false\n",
        "d.grad = e.grad\n",
        "c.grad = e.grad"
      ],
      "execution_count": null,
      "outputs": []
    },
    {
      "cell_type": "markdown",
      "metadata": {},
      "source": [
        "And redraw the graph."
      ]
    },
    {
      "cell_type": "code",
      "metadata": {},
      "source": [
        "#| echo: false\n",
        "draw_dot(L)"
      ],
      "execution_count": null,
      "outputs": []
    },
    {
      "cell_type": "markdown",
      "metadata": {},
      "source": [
        "::: {.content-visible when-profile=\"slides\"}\n",
        "## The Chain Rule\n",
        ":::\n",
        "\n",
        "How does $c$ and $d$ influence $L$?"
      ]
    },
    {
      "cell_type": "code",
      "metadata": {},
      "source": [
        "#| code-fold: false\n",
        "# Try uncommenting `c += h` or `d += h` and calling `wiggle()` then `wiggle(1.0)`\n",
        "# to see the influence of c or d on L\n",
        "def wiggle(h = 0.0):\n",
        "    a = Value(4.0, label='a')\n",
        "    b = Value(-3.0, label='b')\n",
        "    c = Value(8.0, label='c')\n",
        "    c += h\n",
        "\n",
        "    d = a*b; d.label = 'd'\n",
        "    # d += h\n",
        "\n",
        "    e = d + c; e.label = 'e'\n",
        "    f = Value(2.0, label='f')\n",
        "\n",
        "    L = e*f; L.label = 'L'\n",
        "    print(L)"
      ],
      "execution_count": null,
      "outputs": []
    },
    {
      "cell_type": "markdown",
      "metadata": {},
      "source": [
        "Let's look at the effect `c` has on `L`."
      ]
    },
    {
      "cell_type": "code",
      "metadata": {},
      "source": [
        "#| code-fold: false\n",
        "wiggle(0.0)"
      ],
      "execution_count": null,
      "outputs": []
    },
    {
      "cell_type": "code",
      "metadata": {},
      "source": [
        "#| code-fold: false\n",
        "wiggle(1.0)"
      ],
      "execution_count": null,
      "outputs": []
    },
    {
      "cell_type": "markdown",
      "metadata": {},
      "source": [
        "Change the code to see the effect of `d` on `L`.\n",
        "\n",
        "## Propagating Back Again"
      ]
    },
    {
      "cell_type": "code",
      "metadata": {},
      "source": [
        "#| echo: false\n",
        "draw_dot(L)"
      ],
      "execution_count": null,
      "outputs": []
    },
    {
      "cell_type": "markdown",
      "metadata": {},
      "source": [
        "Now we want to calculate\n",
        "$\\frac{\\partial{L}}{\\partial{b}}$ and\n",
        "$\\frac{\\partial{L}}{\\partial{a}}$\n",
        "but we have\n",
        "$\\frac{\\partial{L}}{\\partial{d}}$\n",
        "and we know that\n",
        "\n",
        "$$\n",
        "\\frac{\\partial{d}}{\\partial{b}} = \\frac{\\partial{}}{\\partial{b}}(a\\cdot b) = a,\n",
        "$$\n",
        "\n",
        "so again from the chain rule\n",
        "\n",
        "$$\n",
        "\\frac{\\partial{L}}{\\partial{b}} \n",
        "  = \\frac{\\partial{L}}{\\partial{d}} \\cdot \\frac{\\partial{d}}{\\partial{b}}\n",
        "  = \\frac{\\partial{L}}{\\partial{d}} \\cdot a.\n",
        "$$\n",
        "\n",
        "::: {.content-visible when-profile=\"slides\"}\n",
        "## Propagating Back Again"
      ]
    },
    {
      "cell_type": "code",
      "metadata": {},
      "source": [
        "#| echo: false\n",
        "draw_dot(L)"
      ],
      "execution_count": null,
      "outputs": []
    },
    {
      "cell_type": "markdown",
      "metadata": {},
      "source": [
        ":::\n",
        "\n",
        "If we expanded all the partial derivatives, we would get\n",
        "\n",
        "$$\n",
        "\\frac{\\partial{L}}{\\partial{b}} \n",
        "  = \\left(\\frac{\\partial{L}}{\\partial{e}} \\cdot \\frac{\\partial{e}}{\\partial{d}}\\right) \\cdot \\frac{\\partial{d}}{\\partial{b}}.\n",
        "$$\n",
        "\n",
        "\n",
        "\n",
        "::: {.content-visible when-profile=\"slides\"}\n",
        "## Propagating Back Again\n",
        ":::\n",
        "\n",
        "Let's assign the gradient values to `b` and `a`."
      ]
    },
    {
      "cell_type": "code",
      "metadata": {},
      "source": [
        "#| code-fold: false\n",
        "b.grad = a.data * d.grad\n",
        "a.grad = b.data * d.grad\n",
        "draw_dot(L)"
      ],
      "execution_count": null,
      "outputs": []
    },
    {
      "cell_type": "markdown",
      "metadata": {},
      "source": [
        "We've traversed all the way back to the inputs and calculated all the partial derivatives.\n",
        "\n",
        "::: {.content-visible when-profile=\"slides\"}\n",
        "## Propagating Back Again\n",
        ":::\n",
        "\n",
        "Now we can see the effects of varying `b` and `a`."
      ]
    },
    {
      "cell_type": "code",
      "metadata": {},
      "source": [
        "#| code-fold: false\n",
        "# Try uncommenting `a += h` or `b += h` and calling `wiggle()` then `wiggle(1.0)`\n",
        "# to see the influence of a or b on L\n",
        "def wiggle(h = 0.0):\n",
        "    a = Value(4.0, label='a')\n",
        "    # a += h\n",
        "    b = Value(-3.0, label='b')\n",
        "    b += h\n",
        "    c = Value(8.0, label='c')\n",
        "\n",
        "    d = a*b; d.label = 'd'\n",
        "\n",
        "    e = d + c; e.label = 'e'\n",
        "    f = Value(2.0, label='f')\n",
        "\n",
        "    L = e*f; L.label = 'L'\n",
        "    print(L)"
      ],
      "execution_count": null,
      "outputs": []
    },
    {
      "cell_type": "markdown",
      "metadata": {},
      "source": [
        "Let's look at the effect `b` has on `L` if we wiggle it by 0 and 1."
      ]
    },
    {
      "cell_type": "code",
      "metadata": {},
      "source": [
        "#| code-fold: false\n",
        "wiggle(0.0)"
      ],
      "execution_count": null,
      "outputs": []
    },
    {
      "cell_type": "code",
      "metadata": {},
      "source": [
        "#| code-fold: false\n",
        "wiggle(1.0)"
      ],
      "execution_count": null,
      "outputs": []
    },
    {
      "cell_type": "markdown",
      "metadata": {},
      "source": [
        "Change the code to see the effect of `a` on `L`.\n",
        "\n",
        "## Recap\n",
        "\n",
        "As you saw, we recursively went backwards through the computation graph and\n",
        "applied the local gradients to the gradients calculated so far to get the partial\n",
        "gradients. \n",
        "\n",
        "> We propagated this calculation backwards through the graph.\n",
        "\n",
        "Of course, in practice, we will only need the gradients on the parameters, not\n",
        "the inputs, so we won't bother calculating them on inputs.\n",
        "\n",
        "::: {.callout-note}\n",
        "PyTorch let's you control this by setting the `requires_grad` flag on Tensors.\n",
        ":::\n",
        "\n",
        "_This is the essence of Back Propagation._\n",
        "\n",
        "# Model Optimization\n",
        "\n",
        "## A Step in Optimization\n",
        "\n",
        "Let's take a look at the graph again. "
      ]
    },
    {
      "cell_type": "code",
      "metadata": {},
      "source": [
        "#| code-fold: false\n",
        "draw_dot(L)"
      ],
      "execution_count": null,
      "outputs": []
    },
    {
      "cell_type": "markdown",
      "metadata": {},
      "source": [
        "Assume we want the value of L to _decrease_. \n",
        "\n",
        "We are free to change the values of the leaf nodes -- all the other nodes are\n",
        "derived from children and leaf nodes.\n",
        "\n",
        "The leaf nodes are $a, b, c$ and $f$.\n",
        "\n",
        "> In practice only update the parameter leaf nodes, not the input\n",
        "> leaf node, but we'll ignore that distinction temporarily for this example.\n",
        "\n",
        "::: {.content-visible when-profile=\"slides\"}\n",
        "## A Step in Optimization\n",
        ":::\n",
        "\n",
        "Let's check the current value of L."
      ]
    },
    {
      "cell_type": "code",
      "metadata": {},
      "source": [
        "#| code-fold: false\n",
        "# remind ourselves what L is\n",
        "print(L.data)"
      ],
      "execution_count": null,
      "outputs": []
    },
    {
      "cell_type": "markdown",
      "metadata": {},
      "source": [
        "As we showed before, we want to nudge each of those leaf nodes by the negative\n",
        "of the gradient, multiplied by a step size, $\\eta$, i.e.,\n",
        "\n",
        "$$\n",
        "w_{n+1} = w_n - \\eta * \\frac{\\partial{L}}{\\partial{w_n}},\n",
        "$$\n",
        "\n",
        "where $n$ is the step number."
      ]
    },
    {
      "cell_type": "code",
      "metadata": {},
      "source": [
        "#| code-fold: false\n",
        "# nudge all the leaf nodes along the negative direction of the gradient\n",
        "step_size = 0.01    # also called eta above\n",
        "\n",
        "a.data -= step_size * a.grad\n",
        "b.data -= step_size * b.grad\n",
        "c.data -= step_size * c.grad\n",
        "f.data -= step_size * f.grad\n",
        "\n",
        "# recompute the forward pass\n",
        "d = a*b\n",
        "e = d + c\n",
        "L = e*f\n",
        "\n",
        "print(L.data)"
      ],
      "execution_count": null,
      "outputs": []
    },
    {
      "cell_type": "markdown",
      "metadata": {},
      "source": [
        "Observe that the value of L has indeed decreased.\n",
        "\n",
        "## A Single Neuron\n",
        "\n",
        "Let's programmatically define a single neuron with\n",
        "\n",
        "* two inputs\n",
        "* two weights (1 for each input)\n",
        "* a bias\n",
        "* the ReLU activation function\n",
        "\n",
        "Recall the neuron figure above."
      ]
    },
    {
      "cell_type": "code",
      "metadata": {},
      "source": [
        "#| code-fold: false\n",
        "# inputs x0, x1\n",
        "x1 = Value(2.0, label='x1')\n",
        "x2 = Value(0.0, label='x2')\n",
        "\n",
        "# weights w1, w2\n",
        "w1 = Value(-3.0, label='w1')\n",
        "w2 = Value(1.0, label='w2')\n",
        "\n",
        "# bias of the neuron\n",
        "b = Value(6.8813735870195432, label='b')\n",
        "\n",
        "x1w1 = x1*w1; x1w1.label = 'x1*w1'\n",
        "x2w2 = x2*w2; x2w2.label = 'x2*w2'\n",
        "\n",
        "x1w1x2w2 = x1w1 + x2w2; x1w1x2w2.label = 'x1w1 + x2w2'\n",
        "n = x1w1x2w2 + b; n.label = 'n'\n",
        "o = n.relu(); o.label = 'o'"
      ],
      "execution_count": null,
      "outputs": []
    },
    {
      "cell_type": "markdown",
      "metadata": {},
      "source": [
        "::: {.content-visible when-profile=\"slides\"}\n",
        "## A Single Neuron\n",
        ":::\n",
        "\n",
        "We can draw this compute graph:"
      ]
    },
    {
      "cell_type": "code",
      "metadata": {},
      "source": [
        "#| code-fold: false\n",
        "draw_dot(o)"
      ],
      "execution_count": null,
      "outputs": []
    },
    {
      "cell_type": "markdown",
      "metadata": {},
      "source": [
        "::: {.content-visible when-profile=\"slides\"}\n",
        "## A Single Neuron\n",
        ":::\n",
        "\n",
        "The only new operation we've added is the ReLU, so let's take a quick look at how we \n",
        "differentiate the ReLU. \n",
        "\n",
        "Like before, for the output node, o:\n",
        "\n",
        "$$\n",
        "\\frac{\\partial o}{\\partial o} = 1.\n",
        "$$"
      ]
    },
    {
      "cell_type": "code",
      "metadata": {},
      "source": [
        "#| code-fold: false\n",
        "o.grad = 1.0"
      ],
      "execution_count": null,
      "outputs": []
    },
    {
      "cell_type": "markdown",
      "metadata": {},
      "source": [
        "::: {.content-visible when-profile=\"slides\"}\n",
        "## A Single Neuron\n",
        ":::\n",
        "\n",
        "<!-- Credit: _Understanding Deep Learning_, Figure 7.6 -->\n",
        "ReLU is technically not differentiable at 0, but practically we implement the\n",
        "derivative as 0 when $\\le 0$ and 1 when $1 > 0$\n",
        "\n",
        "![](figs/NN-figs/Train2ReLUDeriv.svg){width=\"50%\" fig-align=\"center\"}"
      ]
    },
    {
      "cell_type": "code",
      "metadata": {},
      "source": [
        "#| code-fold: false\n",
        "n.grad = (o.data > 0) * o.grad  # = 0 when o.data <= 0; = o.grad when o.data > 0"
      ],
      "execution_count": null,
      "outputs": []
    },
    {
      "cell_type": "markdown",
      "metadata": {},
      "source": [
        "## Coding Backpropagation\n",
        "\n",
        "We'll update our `Value` class once more to support the backward pass.\n",
        "\n",
        "There's a\n",
        "\n",
        "* private `_backward()` function _in each operator_ that implements the local\n",
        "step of the chain rule, and\n",
        "* a `backward()` function in the class that topologically sorts the graph and calls the operator `_backward()` function starting at the end of the graph and going _backward_."
      ]
    },
    {
      "cell_type": "code",
      "metadata": {},
      "source": [
        "#| code-fold: false\n",
        "# version 7\n",
        "class Value:\n",
        "\n",
        "    def __init__(self, data, _children=(), _op='', label=''):\n",
        "        self.data = data\n",
        "        self.grad = 0.0 # default to 0, no impact on the output\n",
        "        self._backward = lambda: None  # by default backward doesn't do anything\n",
        "        self._prev = set(_children)\n",
        "        self._op = _op\n",
        "        self.label = label\n",
        "\n",
        "    def __repr__(self):\n",
        "        \"\"\"Return a string representation of the object for display\"\"\"\n",
        "        return f\"Value(data={self.data}, grad={self.grad})\"\n",
        "\n",
        "    def __add__(self, other):\n",
        "        other = other if isinstance(other, Value) else Value(other)\n",
        "        out = Value(self.data + other.data, (self, other), '+')\n",
        "\n",
        "        def _backward():\n",
        "            self.grad += out.grad\n",
        "            other.grad += out.grad\n",
        "        out._backward = _backward\n",
        "\n",
        "        return out\n",
        "\n",
        "    def __mul__(self, other):\n",
        "        other = other if isinstance(other, Value) else Value(other)\n",
        "        out = Value(self.data * other.data, (self, other), '*')\n",
        "\n",
        "        def _backward():\n",
        "            self.grad += other.data * out.grad\n",
        "            other.grad += self.data * out.grad\n",
        "        out._backward = _backward\n",
        "        return out\n",
        "\n",
        "    def relu(self):\n",
        "        out = Value(np.maximum(0, self.data), (self,), 'ReLU')\n",
        "        # out = Value(0 if self.data < 0 else self.data, (self,), 'ReLU')\n",
        "\n",
        "        def _backward():\n",
        "            self.grad += (out.data > 0) * out.grad\n",
        "        out._backward = _backward\n",
        "\n",
        "        return out\n",
        "\n",
        "    def backward(self):\n",
        "\n",
        "        # topological order all of the children in the graph\n",
        "        topo = []\n",
        "        visited = set()\n",
        "        def build_topo(v):\n",
        "            if v not in visited:\n",
        "                visited.add(v)\n",
        "                for child in v._prev:\n",
        "                    build_topo(child)\n",
        "                topo.append(v)\n",
        "        build_topo(self)\n",
        "\n",
        "        # go one variable at a time and apply the chain rule to get its gradient\n",
        "        self.grad = 1\n",
        "        for v in reversed(topo):\n",
        "            v._backward()"
      ],
      "execution_count": null,
      "outputs": []
    },
    {
      "cell_type": "markdown",
      "metadata": {},
      "source": [
        "::: {.content-visible when-profile=\"slides\"}\n",
        "## Coding Backpropagation\n",
        ":::\n",
        "\n",
        "We redefined the class so we have to reinitialize the objects and run the operations again.\n",
        "\n",
        "This constitutes the _forward pass_."
      ]
    },
    {
      "cell_type": "code",
      "metadata": {},
      "source": [
        "#| code-fold: false\n",
        "# inputs x0, x1\n",
        "x1 = Value(2.0, label='x1')\n",
        "x2 = Value(0.0, label='x2')\n",
        "\n",
        "# weights w1, w2\n",
        "w1 = Value(-3.0, label='w1')\n",
        "w2 = Value(1.0, label='w2')\n",
        "\n",
        "# bias of the neuron\n",
        "#b = Value(6.7, label='b')\n",
        "b = Value(6.8813735870195432, label='b')\n",
        "\n",
        "x1w1 = x1*w1; x1w1.label = 'x1*w1'\n",
        "x2w2 = x2*w2; x2w2.label = 'x2*w2'\n",
        "\n",
        "x1w1x2w2 = x1w1 + x2w2; x1w1x2w2.label = 'x1w1 + x2w2'\n",
        "n = x1w1x2w2 + b; n.label = 'n'\n",
        "o = n.relu(); o.label = 'o'"
      ],
      "execution_count": null,
      "outputs": []
    },
    {
      "cell_type": "markdown",
      "metadata": {},
      "source": [
        "::: {.content-visible when-profile=\"slides\"}\n",
        "## Coding Backpropagation\n",
        ":::\n",
        "\n",
        "\n",
        "So we've filled the data values for all the nodes, but haven't calculated the gradients."
      ]
    },
    {
      "cell_type": "code",
      "metadata": {},
      "source": [
        "#| code-fold: false\n",
        "draw_dot(o)"
      ],
      "execution_count": null,
      "outputs": []
    },
    {
      "cell_type": "markdown",
      "metadata": {},
      "source": [
        "::: {.content-visible when-profile=\"slides\"}\n",
        "## Coding Backpropagation\n",
        ":::\n",
        "\n",
        "All we have to do is call the `backward()` method of the last node..."
      ]
    },
    {
      "cell_type": "code",
      "metadata": {},
      "source": [
        "#| code-fold: false\n",
        "o.backward()"
      ],
      "execution_count": null,
      "outputs": []
    },
    {
      "cell_type": "markdown",
      "metadata": {},
      "source": [
        "and voila! We have all the gradients."
      ]
    },
    {
      "cell_type": "code",
      "metadata": {
        "scrolled": true
      },
      "source": [
        "#| code-fold: false\n",
        "draw_dot(o)"
      ],
      "execution_count": null,
      "outputs": []
    },
    {
      "cell_type": "markdown",
      "metadata": {},
      "source": [
        "## Accumulating the Gradients\n",
        "\n",
        "You might have noticed that we are accumulating the gradients.\n",
        "\n",
        "This is because we calculate the gradient for each sample in a batch and then\n",
        "sum them up to calculate the average gradient for the batch.\n",
        "\n",
        "The risk now is that if you don't zero the gradients for the next iteration, \n",
        "you will have incorrect gradients. \n",
        "\n",
        "::: {.callout-warning}\n",
        "Always remember to zero the gradient after each iteration where you update the parameters!\n",
        ":::\n",
        "\n",
        "::: {.content-visible when-profile=\"web\"}\n",
        "\n",
        "## Accumulating the Gradients -- Special Cases\n",
        "\n",
        "There are also special cases to handle such as when a `Value` object is on both\n",
        "sides of the operand like"
      ]
    },
    {
      "cell_type": "code",
      "metadata": {},
      "source": [
        "#| code-fold: false\n",
        "a = Value(3.0, label='a')\n",
        "b = a + a ; b.label = 'b'\n",
        "b.backward()\n",
        "\n",
        "a"
      ],
      "execution_count": null,
      "outputs": []
    },
    {
      "cell_type": "markdown",
      "metadata": {},
      "source": [
        "If we didn't have the accumulation, then `a.grad = 1` instead.\n",
        "\n",
        "Or the other case where a node goes to different operations."
      ]
    },
    {
      "cell_type": "code",
      "metadata": {},
      "source": [
        "#| code-fold: false\n",
        "a = Value(-2.0, label='a')\n",
        "b = Value(3.0, label='b')\n",
        "d = a * b  ; d.label = 'd'\n",
        "e = a + b   ; e.label = 'e'\n",
        "  \n",
        "draw_dot(f) "
      ],
      "execution_count": null,
      "outputs": []
    },
    {
      "cell_type": "markdown",
      "metadata": {},
      "source": [
        "::: {.callout-note}\n",
        "We can verify that the gradients are correct analytically.\n",
        "\n",
        "To find the partial derivative $\\frac{\\partial f}{\\partial a}$, we first need to define $f$ in terms of $a$ and $b$.\n",
        "\n",
        "Given\n",
        "$$\n",
        "\\begin{aligned}\n",
        "d &= a \\times b, \\\\\n",
        "e &= a + b,      \\\\\n",
        "f &= d \\times e\n",
        "\\end{aligned}\n",
        "$$\n",
        "\n",
        "then $f$ can be expanded as\n",
        "$$\n",
        "\\begin{aligned}\n",
        "f &= (a \\times b) \\times (a + b), \\\\\n",
        "  &= a^2 \\times b + a \\times b^2.\n",
        "\\end{aligned}\n",
        "$$\n",
        "\n",
        "Next, we find the partial derivative of $f$ with respect to $a$\n",
        "$$\n",
        "\\frac{\\partial f}{\\partial a} = 2a \\times b + b^2.\n",
        "$$\n",
        "\n",
        "Finally, we plug in the given values $a = -2.0$ and $b = 3.0$\n",
        "$$\n",
        "\\begin{aligned}\n",
        "\\frac{\\partial f}{\\partial a} &= 2(-2.0) \\times 3.0 + 3.0^2, \\\\\n",
        "\\frac{\\partial f}{\\partial a} &= -12.0 + 9.0 ,                \\\\\n",
        "\\frac{\\partial f}{\\partial a} &= -3.0.\n",
        "\\end{aligned}\n",
        "$$\n",
        "\n",
        "So the partial derivative $\\frac{\\partial f}{\\partial a}$ for the value $a = -2.0$ is $-3.0$.\n",
        ":::\n",
        ":::\n",
        "\n",
        "\n",
        "## Enhancements to `Value` Class\n",
        "\n",
        "There are still some useful operations that `Value` doesn't support, so to be more\n",
        "complete we have the final version of the `Value` class below.\n",
        "\n",
        "We added:\n",
        "\n",
        "* `__radd__` for when the `Value` object is the right operand of an add\n",
        "* `__rmul__` for when the `Value` object is the right operand of a product \n",
        "* `__pow__` to support the ** operator\n",
        "* plus some others you can see below"
      ]
    },
    {
      "cell_type": "code",
      "metadata": {},
      "source": [
        "#| code-fold: true\n",
        "#| code-summary: \"The Value Class with additional operators\"\n",
        "# version 8\n",
        "class Value:\n",
        "\n",
        "    def __init__(self, data, _children=(), _op='', label=''):\n",
        "        self.data = data\n",
        "        self.grad = 0.0 # default to 0, no impact on the output\n",
        "        self._backward = lambda: None  # by default backward doesn't do anything\n",
        "        self._prev = set(_children)\n",
        "        self._op = _op\n",
        "        self.label = label\n",
        "\n",
        "    def __add__(self, other):\n",
        "        other = other if isinstance(other, Value) else Value(other)\n",
        "        out = Value(self.data + other.data, (self, other), '+')\n",
        "\n",
        "        def _backward():\n",
        "            self.grad += out.grad\n",
        "            other.grad += out.grad\n",
        "        out._backward = _backward\n",
        "\n",
        "        return out\n",
        "    \n",
        "    def __mul__(self, other):\n",
        "        other = other if isinstance(other, Value) else Value(other)\n",
        "        out = Value(self.data * other.data, (self, other), '*')\n",
        "\n",
        "        def _backward():\n",
        "            self.grad += other.data * out.grad\n",
        "            other.grad += self.data * out.grad\n",
        "        out._backward = _backward\n",
        "        \n",
        "        return out\n",
        "\n",
        "    def __pow__(self, other):\n",
        "        \"\"\"Adding support for ** operator, which we'll need for the \n",
        "        squared loss function\"\"\"\n",
        "        assert isinstance(other, (int, float)), \"only supporting int/float powers for now\"\n",
        "        out = Value(self.data**other, (self,), f'**{other}')\n",
        "\n",
        "        def _backward():\n",
        "            self.grad += (other * self.data**(other-1)) * out.grad\n",
        "        out._backward = _backward\n",
        "\n",
        "        return out\n",
        "\n",
        "    def relu(self):\n",
        "        out = Value(np.maximum(0, self.data), (self,), 'ReLU')\n",
        "\n",
        "        def _backward():\n",
        "            self.grad += (out.data > 0) * out.grad\n",
        "        out._backward = _backward\n",
        "\n",
        "        return out\n",
        "\n",
        "    def __neg__(self): # -self\n",
        "        return self * -1\n",
        "\n",
        "    def __radd__(self, other): # other + self\n",
        "        return self + other\n",
        "\n",
        "    def __sub__(self, other): # self - other\n",
        "        return self + (-other)\n",
        "\n",
        "    def __rsub__(self, other): # other - self\n",
        "        return other + (-self)\n",
        "\n",
        "    def __rmul__(self, other): # other * self\n",
        "        return self * other\n",
        "\n",
        "    def __truediv__(self, other): # self / other\n",
        "        return self * other**-1\n",
        "\n",
        "    def __rtruediv__(self, other): # other / self\n",
        "        return other * self**-1\n",
        "    \n",
        "    def backward(self):\n",
        "\n",
        "        # topological order all of the children in the graph\n",
        "        topo = []\n",
        "        visited = set()\n",
        "        def build_topo(v):\n",
        "            if v not in visited:\n",
        "                visited.add(v)\n",
        "                for child in v._prev:\n",
        "                    build_topo(child)\n",
        "                topo.append(v)\n",
        "        build_topo(self)\n",
        "\n",
        "        # go one variable at a time and apply the chain rule to get its gradient\n",
        "        self.grad = 1\n",
        "        for v in reversed(topo):\n",
        "            v._backward()\n",
        "\n",
        "    def __repr__(self):\n",
        "        \"\"\"Return a string representation of the object for display\"\"\"\n",
        "        return f\"Value(data={self.data}, grad={self.grad})\""
      ],
      "execution_count": null,
      "outputs": []
    },
    {
      "cell_type": "markdown",
      "metadata": {},
      "source": [
        "## Comparing to PyTorch\n",
        "\n",
        "We're using a class implementation that resembles the PyTorch implementation, and in fact we can compare our implementation with PyTorch."
      ]
    },
    {
      "cell_type": "code",
      "metadata": {},
      "source": [
        "#| code-fold: false\n",
        "import torch"
      ],
      "execution_count": null,
      "outputs": []
    },
    {
      "cell_type": "code",
      "metadata": {},
      "source": [
        "#| code-fold: false\n",
        "x1 = torch.Tensor([2.0]).double()                ; x1.requires_grad = True\n",
        "x2 = torch.Tensor([0.0]).double()                ; x2.requires_grad = True\n",
        "w1 = torch.Tensor([-3.0]).double()               ; w1.requires_grad = True\n",
        "w2 = torch.Tensor([1.0]).double()                ; w2.requires_grad = True\n",
        "b = torch.Tensor([6.8813735870195432]).double()  ; b.requires_grad = True\n",
        "n = x1*w1 + x2*w2 + b\n",
        "o = torch.relu(n)\n",
        "\n",
        "print(o.data.item())\n",
        "o.backward()\n",
        "\n",
        "print('---')\n",
        "print('x2.grad', x2.grad.item())\n",
        "print('w2.grad', w2.grad.item())\n",
        "print('x1.grad', x1.grad.item())\n",
        "print('w1.grad', w1.grad.item())"
      ],
      "execution_count": null,
      "outputs": []
    },
    {
      "cell_type": "markdown",
      "metadata": {},
      "source": [
        "By default, tensors don't store gradients and so won't support backprop, so we explicitly set `requires_grad = True`.\n",
        "\n",
        "# Building a Neural Network\n",
        "\n",
        "## Neural Network Modules\n",
        "\n",
        "Now we'll define some classes which help us build out a small neural network.\n",
        "\n",
        "__Module__ -- A base class\n",
        "\n",
        "__Neuron__ -- Implement a single linear or nonlinear neuron with `nin` inputs.\n",
        "\n",
        "__Layer__ -- Implement a layer of network consisting of `nout` neurons, each taking `nin` inputs\n",
        "\n",
        "__MLP__ -- A _Multi-Layer Perceptron_ that implements `len(nouts)` layers of neurons.\n",
        "\n",
        "Each class can calculate a forward pass and enumerate all its parameters."
      ]
    },
    {
      "cell_type": "code",
      "metadata": {},
      "source": [
        "#| code-fold: true\n",
        "import random\n",
        "# we assume that Value class is already defined\n",
        "\n",
        "class Module:\n",
        "    \"\"\"Define a Neural Network Module base class \"\"\"\n",
        "\n",
        "    def zero_grad(self):\n",
        "        \"\"\"When we run in a training loop, we'll need to zero out all the gradients\n",
        "        since they are defined to accumulate in the backwards passes.\"\"\"\n",
        "        for p in self.parameters():\n",
        "            p.grad = 0\n",
        "\n",
        "    def parameters(self):\n",
        "        return []\n",
        "\n",
        "class Neuron(Module):\n",
        "    \"\"\"Define a Neuron as a subclass of Module\"\"\"\n",
        "\n",
        "    def __init__(self, nin, nonlin=True):\n",
        "        \"\"\"Randomly initialize a set of weights, one for each input, and initialize the bias to zero.\"\"\"\n",
        "        self.w = [Value(random.uniform(-1,1)) for _ in range(nin)]\n",
        "        self.b = Value(0.0)\n",
        "        self.nonlin = nonlin\n",
        "\n",
        "    def __call__(self, x):\n",
        "        \"\"\"Implement the forward pass of the neuron\"\"\"\n",
        "        act = sum((wi*xi for wi,xi in zip(self.w, x)), self.b)\n",
        "        return act.relu() if self.nonlin else act\n",
        "\n",
        "    def parameters(self):\n",
        "        return self.w + [self.b]\n",
        "\n",
        "    def __repr__(self):\n",
        "        return f\"{'ReLU' if self.nonlin else 'Linear'}Neuron({len(self.w)})\"\n",
        "\n",
        "class Layer(Module):\n",
        "    \"\"\"Define a Layer of Network as a subclass of Module\"\"\"\n",
        "\n",
        "    def __init__(self, nin, nout, **kwargs):\n",
        "        \"\"\"Initialize nout Neurons, each with nin inputs\"\"\"\n",
        "        self.neurons = [Neuron(nin, **kwargs) for _ in range(nout)]\n",
        "\n",
        "    def __call__(self, x):\n",
        "        \"\"\"Forward pass each neuron in the layer\"\"\"\n",
        "        out = [n(x) for n in self.neurons]\n",
        "        return out[0] if len(out) == 1 else out\n",
        "\n",
        "    def parameters(self):\n",
        "        return [p for n in self.neurons for p in n.parameters()]\n",
        "\n",
        "    def __repr__(self):\n",
        "        return f\"Layer of [{', '.join(str(n) for n in self.neurons)}]\"\n",
        "\n",
        "class MLP(Module):\n",
        "    \"\"\"Define a Multi-Layer Perceptron\"\"\"\n",
        "\n",
        "    def __init__(self, nin: int, nouts: list):\n",
        "        \"\"\"\n",
        "        Initialize the Multi-Layer Perceptron, by initializing each layer\n",
        "        then initializing each neuron of each layer.\n",
        "\n",
        "        Parameters:\n",
        "            nin: Number of inputs (int)\n",
        "            nouts: A list of the number of neurons in each layer\n",
        "        \"\"\"\n",
        "        sz = [nin] + nouts\n",
        "        # self.layers = [Layer(sz[i], sz[i+1]) for i in range(len(nouts))]\n",
        "\n",
        "        # Create a list of layer objects for this MLP. All but the last layer\n",
        "        # have ReLU activations. The last layer is linear.\n",
        "        self.layers = [Layer(sz[i], sz[i+1], nonlin=i!=len(nouts)-1) for i in range(len(nouts))]\n",
        "\n",
        "    def __call__(self, x):\n",
        "        \"\"\"Forward pass through the MLP\"\"\"\n",
        "        for layer in self.layers:\n",
        "            x = layer(x)\n",
        "        return x\n",
        "\n",
        "    def parameters(self):\n",
        "        \"\"\"Recursively retrieve the parameters of the MLP\"\"\"\n",
        "        return [p for layer in self.layers for p in layer.parameters()]\n",
        "\n",
        "    def __repr__(self):\n",
        "        return f\"MLP of [{', '.join(str(layer) for layer in self.layers)}]\""
      ],
      "execution_count": null,
      "outputs": []
    },
    {
      "cell_type": "markdown",
      "metadata": {},
      "source": [
        "Feel free to uncomment lines of code in the following cell to see the docstrings for each class."
      ]
    },
    {
      "cell_type": "code",
      "metadata": {},
      "source": [
        "#| code-fold: false\n",
        "# help(Module)\n",
        "# Module.__doc__\n",
        "# help(Neuron)\n",
        "# help(Layer)\n",
        "# help(MLP)"
      ],
      "execution_count": null,
      "outputs": []
    },
    {
      "cell_type": "markdown",
      "metadata": {},
      "source": [
        "## Initialize and Evaluate a Neuron"
      ]
    },
    {
      "cell_type": "code",
      "metadata": {},
      "source": [
        "#| code-fold: false\n",
        "# 2 inputs\n",
        "x = [2.0, 3.0]\n",
        "\n",
        "# initialize neuron with 2 inputs\n",
        "n = Neuron(2, nonlin=False)\n",
        "\n",
        "# evaluate our neuron with our 2 inputs\n",
        "n(x)"
      ],
      "execution_count": null,
      "outputs": []
    },
    {
      "cell_type": "code",
      "metadata": {},
      "source": [
        "#| code-fold: false\n",
        "n"
      ],
      "execution_count": null,
      "outputs": []
    },
    {
      "cell_type": "code",
      "metadata": {},
      "source": [
        "#| code-fold: false\n",
        "# list the 2 weights and the bias\n",
        "n.parameters()"
      ],
      "execution_count": null,
      "outputs": []
    },
    {
      "cell_type": "markdown",
      "metadata": {},
      "source": [
        "## Initialize and Evaluate a Layer"
      ]
    },
    {
      "cell_type": "code",
      "metadata": {},
      "source": [
        "#| code-fold: false\n",
        "# same 2 inputs again\n",
        "x = [2.0, 3.0]\n",
        "\n",
        "# Now initialize a layer of 3 neurons, each with 2 inputs\n",
        "l = Layer(2, 3, nonlin=False)\n",
        "\n",
        "# Evaluate our layer of neurons with the 2 inputs\n",
        "l(x)"
      ],
      "execution_count": null,
      "outputs": []
    },
    {
      "cell_type": "code",
      "metadata": {},
      "source": [
        "#| code-fold: false\n",
        "l"
      ],
      "execution_count": null,
      "outputs": []
    },
    {
      "cell_type": "code",
      "metadata": {},
      "source": [
        "#| code-fold: false\n",
        "l.parameters()"
      ],
      "execution_count": null,
      "outputs": []
    },
    {
      "cell_type": "markdown",
      "metadata": {},
      "source": [
        "## Initialize and Evaluate an MLP\n",
        "\n",
        "We'll instantiate an MLP like the picture below.\n",
        "\n",
        "![](figs/NN-figs/neural_net2.jpeg){width=\"25%\" fig-align=\"center\"}\n"
      ]
    },
    {
      "cell_type": "code",
      "metadata": {},
      "source": [
        "#| code-fold: false\n",
        "x = [2.0, 3.0, -1.0]\n",
        "m = MLP(3, [4, 4, 1])\n",
        "m(x)"
      ],
      "execution_count": null,
      "outputs": []
    },
    {
      "cell_type": "code",
      "metadata": {},
      "source": [
        "#| code-fold: false\n",
        "m"
      ],
      "execution_count": null,
      "outputs": []
    },
    {
      "cell_type": "code",
      "metadata": {},
      "source": [
        "#| code-fold: false\n",
        "# m.parameters()"
      ],
      "execution_count": null,
      "outputs": []
    },
    {
      "cell_type": "code",
      "metadata": {
        "scrolled": true
      },
      "source": [
        "#| code-fold: false\n",
        "draw_dot(m(x))"
      ],
      "execution_count": null,
      "outputs": []
    },
    {
      "cell_type": "markdown",
      "metadata": {},
      "source": [
        "# Training Loop\n",
        "\n",
        "## Training Loop\n",
        "\n",
        "In order to run the training loop, let's define inputs, targets, and initialize the MLP."
      ]
    },
    {
      "cell_type": "code",
      "metadata": {},
      "source": [
        "#| code-fold: false\n",
        "# Define 4 different sets of inputs\n",
        "xs = [\n",
        "    [2.0, 3.0, -1.0],\n",
        "    [3.0, -1.0, 0.5],\n",
        "    [0.5, 1.0, 1.0],\n",
        "    [1.0, 1.0, -1.0]\n",
        "]\n",
        "\n",
        "# For each input set, we have a desired target value -- binary classification\n",
        "# ys = [1.0, -1.0, -1.0, 1.0]\n",
        "ys = [1.0, 0.0, 0.0, 1.0]\n",
        "\n",
        "# Manually seed the Random Number Generator for Reproducibility\n",
        "# You can comment the next line out see the variability\n",
        "random.seed(1) \n",
        "\n",
        "# Initialize an MLP with random weights\n",
        "m = MLP(3, [4, 4, 1])"
      ],
      "execution_count": null,
      "outputs": []
    },
    {
      "cell_type": "markdown",
      "metadata": {},
      "source": [
        "::: {.content-visible when-profile=\"slides\"}\n",
        "## Training Loop\n",
        ":::\n",
        "\n",
        "Now we can run the training loop."
      ]
    },
    {
      "cell_type": "code",
      "metadata": {},
      "source": [
        "#| code-fold: false\n",
        "losses = []\n",
        "niters = 100\n",
        "step_size = 0.01\n",
        "\n",
        "for k in range(niters):\n",
        "\n",
        "    # Training Step 1: forward pass\n",
        "    ypred = [m(x) for x in xs]\n",
        "    \n",
        "    # Training Step 2: Calculate the loss\n",
        "    loss = sum((yout - ygt)**2 for ygt, yout in zip(ys, ypred))\n",
        "    losses.append(loss.data)\n",
        "\n",
        "    # Training Step 3: Zero the gradients and run the backward pass\n",
        "    m.zero_grad()\n",
        "    loss.backward()\n",
        "\n",
        "    # Training Step 4: Update parameters\n",
        "    for p in m.parameters():\n",
        "        p.data += -step_size * p.grad\n",
        "\n",
        "    # print(k, loss.data)\n",
        "\n",
        "print(\"Final Loss: \", loss.data)"
      ],
      "execution_count": null,
      "outputs": []
    },
    {
      "cell_type": "markdown",
      "metadata": {},
      "source": [
        "::: {.content-visible when-profile=\"slides\"}\n",
        "## Training Loop\n",
        ":::\n",
        "\n",
        "Let's plot the loss per iteration."
      ]
    },
    {
      "cell_type": "code",
      "metadata": {},
      "source": [
        "#| code-fold: false\n",
        "plt.plot(losses)\n",
        "plt.ylabel(\"Loss\")\n",
        "plt.xlabel(\"Iterations\")\n",
        "plt.title(\"Loss Per Iteration\")"
      ],
      "execution_count": null,
      "outputs": []
    },
    {
      "cell_type": "markdown",
      "metadata": {},
      "source": [
        "::: {.content-visible when-profile=\"slides\"}\n",
        "## Training Loop\n",
        ":::\n",
        "\n",
        "Let's look at the ground truth and predictions."
      ]
    },
    {
      "cell_type": "code",
      "metadata": {},
      "source": [
        "#| code-fold: false\n",
        "print(type(ypred))\n",
        "print(ypred[0].data)\n",
        "\n",
        "list(zip(ys, [y.data for y in ypred]))"
      ],
      "execution_count": null,
      "outputs": []
    },
    {
      "cell_type": "markdown",
      "metadata": {},
      "source": [
        "## Build and Train the MLP in PyTorch\n",
        "\n",
        "Define the MLP in PyTorch."
      ]
    },
    {
      "cell_type": "code",
      "metadata": {},
      "source": [
        "#| code-fold: false\n",
        "import torch\n",
        "from torch import nn\n",
        "from torch.optim import SGD\n",
        "\n",
        "# Manually seed the Random Number Generator for Reproducibility\n",
        "# You can comment the next line out see the variability\n",
        "torch.manual_seed(99)\n",
        "\n",
        "# Step 1: Define the MLP model\n",
        "class ptMLP(nn.Module):\n",
        "    def __init__(self):\n",
        "        super(ptMLP, self).__init__()\n",
        "        self.layers = nn.Sequential(\n",
        "            nn.Linear(3, 4),\n",
        "            nn.ReLU(),\n",
        "            nn.Linear(4, 4),\n",
        "            nn.ReLU(),\n",
        "            nn.Linear(4, 1)\n",
        "        )\n",
        "\n",
        "    def forward(self, x):\n",
        "        return self.layers(x)\n",
        "\n",
        "model = ptMLP()\n",
        "print(model)"
      ],
      "execution_count": null,
      "outputs": []
    },
    {
      "cell_type": "markdown",
      "metadata": {},
      "source": [
        "::: {.content-visible when-profile=\"slides\"}\n",
        "## Build and Train the MLP in PyTorch\n",
        ":::\n",
        "\n",
        "Define a loss function and an optimizer."
      ]
    },
    {
      "cell_type": "code",
      "metadata": {},
      "source": [
        "#| code-fold: false\n",
        "# Step 2: Define a loss function and an optimizer\n",
        "criterion = nn.MSELoss(reduction='sum')\n",
        "optimizer = SGD(model.parameters(), lr=0.01)"
      ],
      "execution_count": null,
      "outputs": []
    },
    {
      "cell_type": "markdown",
      "metadata": {},
      "source": [
        "Recreate the tiny dataset."
      ]
    },
    {
      "cell_type": "code",
      "metadata": {},
      "source": [
        "#| code-fold: false\n",
        "# Step 3: Create a tiny dataset\n",
        "xs = [\n",
        "    [2.0, 3.0, -1.0],\n",
        "    [3.0, -1.0, 0.5],\n",
        "    [0.5, 1.0, 1.0],\n",
        "    [1.0, 1.0, -1.0]\n",
        "]\n",
        "\n",
        "# we had to transpose ys for torch.tensor\n",
        "ys_transpose = [[1.0], \n",
        "      [0.0], \n",
        "      [0.0], \n",
        "      [1.0]]\n",
        "\n",
        "inputs = torch.tensor(xs)\n",
        "outputs = torch.tensor(ys_transpose)"
      ],
      "execution_count": null,
      "outputs": []
    },
    {
      "cell_type": "markdown",
      "metadata": {},
      "source": [
        "::: {.content-visible when-profile=\"slides\"}\n",
        "## Build and Train the MLP in PyTorch\n",
        ":::\n",
        "\n",
        "Now run the training loop."
      ]
    },
    {
      "cell_type": "code",
      "metadata": {},
      "source": [
        "#| code-fold: false\n",
        "# Step 4: Write the training loop\n",
        "losses = []\n",
        "niters = 100\n",
        "\n",
        "for epoch in range(niters):\n",
        "\n",
        "    # Training Step 1: Forward pass\n",
        "    predictions = model(inputs)\n",
        "\n",
        "    # Training Step 2: Calculate the loss\n",
        "    loss = criterion(predictions, outputs)\n",
        "\n",
        "    # Training Step 3: Zero the gradient and run backward pass\n",
        "    optimizer.zero_grad()\n",
        "    loss.backward()\n",
        "\n",
        "    # Training Step 4: Update parameters\n",
        "    optimizer.step()\n",
        "\n",
        "    losses.append(loss.item())\n",
        "    # print(f'Epoch {epoch+1}, Loss: {loss.item()}')\n",
        "\n",
        "print(f'Final Loss: {loss.item()}')"
      ],
      "execution_count": null,
      "outputs": []
    },
    {
      "cell_type": "markdown",
      "metadata": {},
      "source": [
        "::: {.content-visible when-profile=\"slides\"}\n",
        "## Build and Train the MLP in PyTorch\n",
        ":::\n",
        "\n",
        "Let's plot the loss per iteration."
      ]
    },
    {
      "cell_type": "code",
      "metadata": {},
      "source": [
        "#| code-fold: true\n",
        "plt.plot(losses)\n",
        "plt.ylabel(\"Loss\")\n",
        "plt.xlabel(\"Iterations\")\n",
        "plt.title(\"Loss Per Iteration\")"
      ],
      "execution_count": null,
      "outputs": []
    },
    {
      "cell_type": "markdown",
      "metadata": {},
      "source": [
        "::: {.content-visible when-profile=\"slides\"}\n",
        "## Build and Train the MLP in PyTorch\n",
        ":::\n",
        "\n",
        "Let's look at the predictions."
      ]
    },
    {
      "cell_type": "code",
      "metadata": {},
      "source": [
        "list(zip(ys, [y.item() for y in predictions]))"
      ],
      "execution_count": null,
      "outputs": []
    },
    {
      "cell_type": "markdown",
      "metadata": {},
      "source": [
        "## To Dig a Little Deeper\n",
        "\n",
        "[PyTorch Quick Start Tutorial](https://pytorch.org/tutorials/beginner/basics/intro.html)\n",
        "\n",
        "[TensorFlow Playground](https://playground.tensorflow.org/#activation=relu&batchSize=30&dataset=gauss&regDataset=reg-plane&learningRate=0.01&regularizationRate=0&noise=0&networkShape=4,4&seed=0.75152&showTestData=false&discretize=false&percTrainData=50&x=true&y=true&xTimesY=false&xSquared=false&ySquared=false&cosX=false&sinX=false&cosY=false&sinY=false&collectStats=false&problem=classification&initZero=false&hideText=false)\n",
        "\n",
        "## Summary\n",
        "\n",
        "We have now covered the following topics:\n",
        "\n",
        "* an overview of the wide applications of neural networks\n",
        "* loss functions\n",
        "* developed the notion of gradient descent first by intuition, then in the univariate case, then the multivariate case\n",
        "* defined artificial neurons\n",
        "* implemented a computation graph and visualization\n",
        "* implemented the chain rule as backpropagation on the computation graph\n",
        "* defined Neuron, Layer and MLP modules which completes a homegrown Neural Network Framework\n",
        "* trained a small MLP on a tiny dataset\n",
        "* implemented the same neural network architecture in PyTorch\n"
      ]
    }
  ],
  "metadata": {
    "kernelspec": {
      "name": "python3",
      "language": "python",
      "display_name": "Python 3 (ipykernel)",
      "path": "/opt/anaconda3/envs/ds701/share/jupyter/kernels/python3"
    }
  },
  "nbformat": 4,
  "nbformat_minor": 4
}