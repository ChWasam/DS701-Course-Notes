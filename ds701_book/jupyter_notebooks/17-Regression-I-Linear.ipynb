{
  "cells": [
    {
      "cell_type": "markdown",
      "metadata": {},
      "source": [
        "---\n",
        "title: Linear Regression\n",
        "jupyter: python3\n",
        "---\n",
        "\n",
        "[![](https://colab.research.google.com/assets/colab-badge.svg)](https://colab.research.google.com/github/tools4ds/DS701-Course-Notes/blob/main/ds701_book/jupyter_notebooks/17-Regression-I-Linear.ipynb)"
      ]
    },
    {
      "cell_type": "code",
      "metadata": {
        "hide_input": true,
        "internals": {},
        "slideshow": {
          "slide_type": "skip"
        },
        "tags": [
          "hide-cell"
        ]
      },
      "source": [
        "import numpy as np\n",
        "import scipy as sp\n",
        "import matplotlib.pyplot as plt\n",
        "import pandas as pd\n",
        "import seaborn as sns\n",
        "import matplotlib as mp\n",
        "import sklearn\n",
        "from IPython.display import Image, HTML\n",
        "\n",
        "import laUtilities as ut\n",
        "\n",
        "%matplotlib inline\n",
        "\n",
        "import statsmodels.api as sm\n",
        "\n",
        "def centerAxes(ax):\n",
        "    ax.spines['left'].set_position('zero')\n",
        "    ax.spines['right'].set_color('none')\n",
        "    ax.spines['bottom'].set_position('zero')\n",
        "    ax.spines['top'].set_color('none')\n",
        "    ax.xaxis.set_ticks_position('bottom')\n",
        "    ax.yaxis.set_ticks_position('left')\n",
        "    bounds = np.array([ax.axes.get_xlim(), ax.axes.get_ylim()])\n",
        "    ax.plot(bounds[0][0],bounds[1][0],'')\n",
        "    ax.plot(bounds[0][1],bounds[1][1],'')"
      ],
      "execution_count": null,
      "outputs": []
    },
    {
      "cell_type": "markdown",
      "metadata": {},
      "source": [
        "<img src=\"figs/Sir_Francis_Galton_by_Charles_Wellington_Furse.jpg\" alt=\"Figure\" width=\"45%\">"
      ]
    },
    {
      "cell_type": "code",
      "metadata": {
        "hide_input": true,
        "tags": [
          "hide-input"
        ]
      },
      "source": [
        "HTML(u'<a href=\"https://commons.wikimedia.org/wiki/File:Sir_Francis_Galton_by_Charles_Wellington_Furse.jpg#/media/File:Sir_Francis_Galton_by_Charles_Wellington_Furse.jpg\">Sir Francis Galton by Charles Wellington Furse</a> by Charles Wellington Furse (died 1904) - <a href=\"//en.wikipedia.org/wiki/National_Portrait_Gallery,_London\" class=\"extiw\" title=\"en:National Portrait Gallery, London\">National Portrait Gallery</a>: <a rel=\"nofollow\" class=\"external text\" href=\"http://www.npg.org.uk/collections/search/portrait.php?search=ap&amp;npgno=3916&amp;eDate=&amp;lDate=\">NPG 3916</a>')"
      ],
      "execution_count": null,
      "outputs": []
    },
    {
      "cell_type": "markdown",
      "metadata": {},
      "source": [
        "<img src=\"figs/galton-title.png\" alt=\"Figure\" width=\"55%\">\n",
        "\n",
        "In 1886 Francis Galton published his observations about how random factors affect outliers.\n",
        "\n",
        "This notion has come to be called \"regression to the mean\" because unusually large or small phenomena, after the influence of random events, become closer to their mean values (less extreme).\n",
        "\n",
        "<img src=\"figs/galton-regression.png\" alt=\"Figure\" width=\"55%\">\n",
        "\n",
        "Galton fit a straight line to this effect, and the fitting of lines or curves to data has come to be called regression as well.\n",
        "\n",
        "The most common form of machine learning is __regression__, which means constructing an equation that describes the relationships among variables.\n",
        "\n",
        "It is a form of supervised learning: whereas __classification__ deals with predicting categorical features (labels or classes), __regression__ deals with predicting continuous features (real values).\n",
        "\n",
        "For example, we may look at these points and decide to model them using a line."
      ]
    },
    {
      "cell_type": "code",
      "metadata": {
        "hide_input": true,
        "tags": [
          "hide-input"
        ]
      },
      "source": [
        "ax = plt.figure(figsize = (7, 7)).add_subplot()\n",
        "centerAxes(ax)\n",
        "line = np.array([1, 0.5])\n",
        "xlin = -10.0 + 20.0 * np.random.random(100)\n",
        "ylin = line[0] + (line[1] * xlin) + np.random.randn(100)\n",
        "ax.plot(xlin, ylin, 'ro', markersize = 4);"
      ],
      "execution_count": null,
      "outputs": []
    },
    {
      "cell_type": "markdown",
      "metadata": {},
      "source": [
        "We may look at these points and decide to model them using a quadratic function."
      ]
    },
    {
      "cell_type": "code",
      "metadata": {
        "hide_input": true,
        "tags": [
          "hide-input"
        ]
      },
      "source": [
        "ax = plt.figure(figsize = (7, 7)).add_subplot()\n",
        "centerAxes(ax)\n",
        "quad = np.array([1, 3, 0.5])\n",
        "xquad = -10.0 + 20.0 * np.random.random(100)\n",
        "yquad = quad[0] + (quad[1] * xquad) + (quad[2] * xquad * xquad) + np.random.randn(100)\n",
        "ax.plot(xquad, yquad, 'ro', markersize = 4);"
      ],
      "execution_count": null,
      "outputs": []
    },
    {
      "cell_type": "markdown",
      "metadata": {},
      "source": [
        "And we may look at these points and decide to model them using a logarithmic function."
      ]
    },
    {
      "cell_type": "code",
      "metadata": {
        "hide_input": true,
        "tags": [
          "hide-input"
        ]
      },
      "source": [
        "ax = plt.figure(figsize = (7, 7)).add_subplot()\n",
        "centerAxes(ax)\n",
        "log = np.array([1, 4])\n",
        "xlog = 10.0 * np.random.random(100)\n",
        "ylog = log[0] + log[1] * np.log(xlog) + np.random.randn(100)\n",
        "ax.plot(xlog, ylog, 'ro', markersize=4);"
      ],
      "execution_count": null,
      "outputs": []
    },
    {
      "cell_type": "markdown",
      "metadata": {},
      "source": [
        "Clearly, none of these datasets agrees perfectly with the proposed model.   So the question arises:\n",
        "\n",
        "How do we find the __best__ linear function (or quadratic function, or logarithmic function) given the data?\n",
        "\n",
        "__Framework.__\n",
        "\n",
        "This problem has been studied extensively in the field of statistics.   Certain terminology is used:\n",
        "\n",
        "* Some values are referred to as \"independent,\" and\n",
        "* Some values are referred to as \"dependent.\"\n",
        "\n",
        "The basic regression task is: \n",
        "* given a set of independent variables \n",
        "* and the associated dependent variables, \n",
        "* estimate the parameters of a model (such as a line, parabola, etc) that describes how the dependent variables are related to the independent variables.\n",
        "\n",
        "The independent variables are collected into a matrix $X,$ which is called the __design matrix.__\n",
        "\n",
        "The dependent variables are collected into an __observation__ vector $\\mathbf{y}.$\n",
        "\n",
        "The parameters of the model (for any kind of model) are collected into a __parameter__ vector $\\mathbf{\\beta}.$"
      ]
    },
    {
      "cell_type": "code",
      "metadata": {
        "hide_input": true,
        "slideshow": {
          "slide_type": "skip"
        },
        "tags": [
          "hide-input"
        ]
      },
      "source": [
        "ax = plt.figure(figsize = (7, 7)).add_subplot()\n",
        "centerAxes(ax)\n",
        "line = np.array([1, 0.5])\n",
        "xlin = -10.0 + 20.0 * np.random.random(100)\n",
        "ylin = line[0] + (line[1] * xlin) + np.random.randn(100)\n",
        "ax.plot(xlin, ylin, 'ro', markersize = 4)\n",
        "ax.plot(xlin, line[0] + line[1] * xlin, 'b-')\n",
        "plt.text(-9, 3, r'$y = \\beta_0 + \\beta_1x$', size=20);"
      ],
      "execution_count": null,
      "outputs": []
    },
    {
      "cell_type": "markdown",
      "metadata": {},
      "source": [
        "## Least-Squares Lines\n",
        "\n",
        "The first kind of model we'll study is a linear equation, $y = \\beta_0 + \\beta_1 x.$\n",
        "\n",
        "Experimental data often produce points $(x_1, y_1), \\dots, (x_n,y_n)$ that seem to lie close to a line.   \n",
        "\n",
        "We want to determine the parameters $\\beta_0, \\beta_1$ that define a line that is as \"close\" to the points as possible.\n",
        "\n",
        "Suppose we have a line $y = \\beta_0 + \\beta_1 x$.   For each data point $(x_j, y_j),$ there is a point $(x_j, \\beta_0 + \\beta_1 x_j)$ that is the point on the line with the same $x$-coordinate.\n",
        "\n",
        "<img src=\"figs/Lay-fig-6-6-1.jpg\" alt=\"Figure\" width=\"55%\">\n",
        "\n",
        "Image from Lay, _Linear Algebra and its Applications,_ 4th edition\n",
        "\n",
        "We call \n",
        "* $y_j$ the __observed__ value of $y$ and \n",
        "* $\\beta_0 + \\beta_1 x_j$ the __predicted__ $y$-value.   \n",
        "\n",
        "The difference between an observed $y$-value and a predicted $y$-value is called a __residual__.\n",
        "\n",
        "There are several ways of measure how \"close\" the line is to the data. \n",
        "\n",
        "The usual choice is to sum the squares of the residuals.  \n",
        "\n",
        "The __least-squares line__ is the line $y = \\beta_0 + \\beta_1x$ that minimizes the sum of squares of the residuals. \n",
        "\n",
        "The coefficients $\\beta_0, \\beta_1$ of the line are called __regression coefficients.__\n",
        "\n",
        "__A least-squares problem.__\n",
        "\n",
        "If the data points were on the line, the parameters $\\beta_0$ and $\\beta_1$ would satisfy the equations\n",
        "\n",
        "$$\\beta_0 + \\beta_1 x_1 = y_1 $$\n",
        "$$\\beta_0 + \\beta_1 x_2 = y_2 $$\n",
        "$$\\beta_0 + \\beta_1 x_3 = y_3 $$\n",
        "$$ \\vdots$$\n",
        "$$\\beta_0 + \\beta_1 x_n = y_n $$\n",
        "\n",
        "We can write this system as \n",
        "\n",
        "$$X\\mathbf{\\beta} = \\mathbf{y}$$\n",
        "\n",
        "where \n",
        "\n",
        "$$X=\\begin{bmatrix}1&x_1\\\\1&x_2\\\\\\vdots&\\vdots\\\\1&x_n\\end{bmatrix},\\;\\;\\mathbf{\\beta} = \\begin{bmatrix}\\beta_0\\\\\\beta_1\\end{bmatrix},\\;\\;\\mathbf{y}=\\begin{bmatrix}y_1\\\\y_2\\\\\\vdots\\\\y_n\\end{bmatrix}$$\n",
        "\n",
        "Of course, if the data points don't actually lie exactly on a line, \n",
        "\n",
        "... then there are no parameters $\\beta_0, \\beta_1$ for which the predicted $y$-values in $X\\mathbf{\\beta}$ equal the observed $y$-values in $\\mathbf{y}$, \n",
        "\n",
        "... and $X\\mathbf{\\beta}=\\mathbf{y}$ has no solution.\n",
        "\n",
        "Now, since the data doesn't fall exactly on a line, we have decided to seek the $\\beta$ that minimizes the sum of squared residuals, ie,\n",
        "\n",
        "$$\\sum_i (\\beta_0 + \\beta_1 x_i - y_i)^2$$\n",
        "\n",
        "$$=\\Vert X\\beta -\\mathbf{y}\\Vert^2$$\n",
        "\n",
        "This is key: __the sum of squares of the residuals__ is __exactly__ the __square of the distance between the vectors $X\\mathbf{\\beta}$ and $\\mathbf{y}.$__\n",
        "\n",
        "Computing the least-squares solution of $X\\beta = \\mathbf{y}$ is equivalent to finding the $\\mathbf{\\beta}$ that determines the least-squares line."
      ]
    },
    {
      "cell_type": "code",
      "metadata": {
        "hide_input": true,
        "tags": [
          "hide-input"
        ]
      },
      "source": [
        "ax = plt.figure(figsize = (7, 7)).add_subplot()\n",
        "centerAxes(ax)\n",
        "line = np.array([1, 0.5])\n",
        "xlin = -10.0 + 20.0 * np.random.random(100)\n",
        "ylin = line[0] + (line[1] * xlin) + np.random.randn(100)\n",
        "ax.plot(xlin, ylin, 'ro', markersize = 4)\n",
        "ax.plot(xlin, line[0] + line[1] * xlin, 'b-')\n",
        "plt.text(-9, 3, r'$y = \\beta_0 + \\beta_1x$', size=20);"
      ],
      "execution_count": null,
      "outputs": []
    },
    {
      "cell_type": "markdown",
      "metadata": {},
      "source": [
        "Now, to obtain the least-squares line, find the least-squares solution to $X\\mathbf{\\beta} = \\mathbf{y}.$\n",
        "\n",
        "From linear algebra we know that the least squares solution of $X\\mathbf{\\beta} = \\mathbf{y}$ is given by the solution of the __normal equations__:\n",
        "\n",
        "$$X^TX\\mathbf{\\beta} = X^T\\mathbf{y}$$\n",
        "\n",
        "We also know that the normal equations __always__ have at least one solution.\n",
        "\n",
        "And if $X^TX$ is invertible, there is a unique solution that is given by:\n",
        "    \n",
        "$$\\hat{\\mathbf{\\beta}} = (X^TX)^{-1} X^T\\mathbf{y}$$\n",
        "\n",
        "## The General Linear Model\n",
        "\n",
        "Another way that the inconsistent linear system is often written is to collect all the residuals into a __residual vector.__ \n",
        "\n",
        "Then an exact equation is\n",
        "\n",
        "$$y = X\\mathbf{\\beta} + {\\mathbf\\epsilon}$$\n",
        "\n",
        "Any equation of this form is referred to as a __linear model.__ \n",
        "\n",
        "In this formulation, the goal is to find the $\\beta$ so as to minimize the length of $\\epsilon$, ie, $\\Vert\\epsilon\\Vert.$\n",
        "\n",
        "In some cases, one would like to fit data points with something other than a straight line.  \n",
        "\n",
        "In cases like this, the matrix equation is still $X\\mathbf{\\beta} = \\mathbf{y}$, but the specific form of $X$ changes from one problem to the next.\n",
        "\n",
        "## Least-Squares Fitting of Other Models\n",
        "\n",
        "In model fitting, the parameters of the model are what is unknown.  \n",
        "\n",
        "A central question for us is whether the model is _linear_ in its parameters.\n",
        "\n",
        "For example, the model \n",
        "\n",
        "$$y = \\beta_0 e^{-\\beta_1 x}$$\n",
        "\n",
        "is __not__ linear in its parameters.  \n",
        "\n",
        "The model \n",
        "\n",
        "$$y = \\beta_0 e^{-2 x}$$\n",
        "\n",
        "__is__ linear in its parameters.\n",
        "\n",
        "For a model that is linear in its parameters, an observation is a linear combination of (arbitrary) known functions.\n",
        "\n",
        "In other words, a model that is linear in its parameters is\n",
        "\n",
        "$$y = \\beta_0f_0(x) + \\beta_1f_1(x) + \\dots + \\beta_nf_n(x)$$\n",
        "\n",
        "where $f_0, \\dots, f_n$ are known functions and $\\beta_0,\\dots,\\beta_k$ are parameters.\n",
        "\n",
        "__Example.__  \n",
        "\n",
        "Suppose data points $(x_1, y_1), \\dots, (x_n, y_n)$ appear to lie along some sort of parabola instead of a straight line.  "
      ]
    },
    {
      "cell_type": "code",
      "metadata": {
        "hide_input": true,
        "tags": [
          "hide-input"
        ]
      },
      "source": [
        "ax = plt.figure(figsize = (7, 7)).add_subplot()\n",
        "centerAxes(ax)\n",
        "quad = np.array([1, 3, 0.5])\n",
        "xquad = -10.0 + 20.0 * np.random.random(100)\n",
        "yquad = quad[0] + (quad[1] * xquad) + (quad[2] * xquad * xquad) + np.random.randn(100)\n",
        "ax.plot(xquad, yquad, 'ro', markersize = 4);"
      ],
      "execution_count": null,
      "outputs": []
    },
    {
      "cell_type": "markdown",
      "metadata": {},
      "source": [
        "As a result, we wish to approximate the data by an equation of the form\n",
        "\n",
        "$$y = \\beta_0 + \\beta_1x + \\beta_2x^2.$$\n",
        "\n",
        "Let's describe the linear model that produces a \"least squares fit\" of the data by the equation.\n",
        "\n",
        "__Solution.__  The ideal relationship is $y = \\beta_0 + \\beta_1x + \\beta_2x^2.$\n",
        "\n",
        "Suppose the actual values of the parameters are $\\beta_0, \\beta_1, \\beta_2.$  Then the coordinates of the first data point satisfy the equation\n",
        "\n",
        "$$y_1 = \\beta_0 + \\beta_1x_1 + \\beta_2x_1^2 + \\epsilon_1$$\n",
        "\n",
        "where $\\epsilon_1$ is the residual error between the observed value $y_1$ and the predicted $y$-value.\n",
        "\n",
        "Each data point determines a similar equation:\n",
        "\n",
        "$$y_1 = \\beta_0 + \\beta_1x_1 + \\beta_2x_1^2 + \\epsilon_1$$\n",
        "$$y_2 = \\beta_0 + \\beta_1x_2 + \\beta_2x_2^2 + \\epsilon_2$$\n",
        "$$\\vdots$$\n",
        "$$y_n = \\beta_0 + \\beta_1x_n + \\beta_2x_n^2 + \\epsilon_n$$\n",
        "\n",
        "Clearly, this system can be written as $\\mathbf{y} = X\\mathbf{\\beta} + \\mathbf{\\epsilon}.$\n",
        "\n",
        "$$\\begin{bmatrix}y_1\\\\y_2\\\\\\vdots\\\\y_n\\end{bmatrix} = \\begin{bmatrix}1&x_1&x_1^2\\\\1&x_2&x_2^2\\\\\\vdots&\\vdots&\\vdots\\\\1&x_n&x_n^2\\end{bmatrix} \\begin{bmatrix}\\beta_0\\\\\\beta_1\\\\\\beta_2\\end{bmatrix} + \\begin{bmatrix}\\epsilon_1\\\\\\epsilon_2\\\\\\vdots\\\\\\epsilon_n\\end{bmatrix}$$"
      ]
    },
    {
      "cell_type": "code",
      "metadata": {
        "hide_input": false,
        "slideshow": {
          "slide_type": "fragment"
        }
      },
      "source": [
        "#\n",
        "# Input data are in the vectors xquad and yquad\n",
        "#\n",
        "# estimate the parameters of the linear model\n",
        "#\n",
        "m = np.shape(xquad)[0]\n",
        "X = np.array([np.ones(m), xquad, xquad**2]).T\n",
        "beta = np.linalg.inv(X.T @ X) @ X.T @ yquad"
      ],
      "execution_count": null,
      "outputs": []
    },
    {
      "cell_type": "code",
      "metadata": {
        "hide_input": true,
        "slideshow": {
          "slide_type": "fragment"
        },
        "tags": [
          "hide-input"
        ]
      },
      "source": [
        "#\n",
        "# plot the results\n",
        "#\n",
        "ax = ut.plotSetup(-10, 10, -10, 20)\n",
        "ut.centerAxes(ax)\n",
        "xplot = np.linspace(-10, 10, 50)\n",
        "yestplot = beta[0] + beta[1] * xplot + beta[2] * xplot**2\n",
        "ax.plot(xplot, yestplot, 'b-', lw=2)\n",
        "ax.plot(xquad, yquad, 'ro', markersize=4);"
      ],
      "execution_count": null,
      "outputs": []
    },
    {
      "cell_type": "code",
      "metadata": {
        "slideshow": {
          "slide_type": "fragment"
        }
      },
      "source": [
        "#\n",
        "# Input data are in the vectors xlog and ylog\n",
        "#\n",
        "# estimate the parameters of the linear model\n",
        "#\n",
        "m = np.shape(xlog)[0]\n",
        "X = np.array([np.ones(m), np.log(xlog)]).T\n",
        "beta = np.linalg.inv(X.T @ X) @ X.T @ ylog"
      ],
      "execution_count": null,
      "outputs": []
    },
    {
      "cell_type": "code",
      "metadata": {
        "hide_input": true,
        "slideshow": {
          "slide_type": "fragment"
        },
        "tags": [
          "hide-input"
        ]
      },
      "source": [
        "# \n",
        "# plot the results\n",
        "#\n",
        "ax = ut.plotSetup(-10,10,-10,15)\n",
        "ut.centerAxes(ax)\n",
        "xplot = np.logspace(np.log10(0.0001),1,100)\n",
        "yestplot = beta[0]+beta[1]*np.log(xplot)\n",
        "ax.plot(xplot,yestplot,'b-',lw=2)\n",
        "ax.plot(xlog,ylog,'ro',markersize=4);"
      ],
      "execution_count": null,
      "outputs": []
    },
    {
      "cell_type": "markdown",
      "metadata": {},
      "source": [
        "## Multiple Regression\n",
        "\n",
        "Suppose an experiment involves two independent variables -- say, $u$ and $v$, -- and one dependent variable, $y$.  A simple equation for predicting $y$ from $u$ and $v$ has the form\n",
        "\n",
        "$$y = \\beta_0 + \\beta_1 u + \\beta_2 v$$\n",
        "\n",
        "Since there is more than one independent variable, this is called __multiple regression.__\n",
        "\n",
        "A more general prediction equation might have the form\n",
        "\n",
        "$$y = \\beta_0 + \\beta_1 u + \\beta_2 v + \\beta_3u^2 + \\beta_4 uv + \\beta_5 v^2$$\n",
        "\n",
        "A least squares fit to equations like this is called a __trend surface.__\n",
        "\n",
        "In general, a linear model will arise whenever $y$ is to be predicted by an equation of the form\n",
        "\n",
        "$$y = \\beta_0f_0(u,v) + \\beta_1f_1(u,v) + \\cdots + \\beta_kf_k(u,v)$$\n",
        "\n",
        "with $f_0,\\dots,f_k$ any sort of known functions and $\\beta_0,...,\\beta_k$ unknown weights.\n",
        "\n",
        "Let's take an example.   Here are a set of points in $\\mathbb{R}^3$:"
      ]
    },
    {
      "cell_type": "code",
      "metadata": {
        "hide_input": false,
        "scrolled": true,
        "tags": [
          "hide-input"
        ]
      },
      "source": [
        "# %matplotlib qt\n",
        "%matplotlib nbagg\n",
        "ax = ut.plotSetup3d(-7, 7, -7, 7, -10, 10, figsize = (7, 7))\n",
        "v = [4.0, 4.0, 2.0]\n",
        "u = [-4.0, 3.0, 1.0]\n",
        "npts = 50\n",
        "# set locations of points that fall within x,y\n",
        "xc = -7.0 + 14.0 * np.random.random(npts)\n",
        "yc = -7.0 + 14.0 * np.random.random(npts)\n",
        "A = np.array([u,v]).T\n",
        "# project these points onto the plane\n",
        "P = A @ np.linalg.inv(A.T @ A) @ A.T\n",
        "coords = P @ np.array([xc, yc, np.zeros(npts)])\n",
        "coords[2] += np.random.randn(npts)\n",
        "ax.plot(coords[0], coords[1], 'ro', zs=coords[2], markersize = 6);"
      ],
      "execution_count": null,
      "outputs": []
    },
    {
      "cell_type": "markdown",
      "metadata": {},
      "source": [
        "__Example.__  \n",
        "\n",
        "In geography, local models of terrain are constructed from data $(u_1, v_1, y_1), \\dots, (u_n, v_n, y_n)$ where $u_j, v_j$, and $y_j$ are latitude, longitude, and altitude, respectively.\n",
        "\n",
        "Let's describe the linear models that gives a least-squares fit to such data.  The solution is called the least-squares _plane._\n",
        "\n",
        "__Solution.__  We expect the data to satisfy these equations:\n",
        "\n",
        "$$y_1 = \\beta_0 + \\beta_1 u_1 + \\beta_2 v_1 + \\epsilon_1$$\n",
        "$$y_1 = \\beta_0 + \\beta_1 u_2 + \\beta_2 v_2 + \\epsilon_2$$\n",
        "$$\\vdots$$\n",
        "$$y_1 = \\beta_0 + \\beta_1 u_n + \\beta_2 v_n + \\epsilon_n$$\n",
        "\n",
        "This system has the matrix for $\\mathbf{y} = X\\mathbf{\\beta} + \\epsilon,$ where\n",
        "\n",
        "$$\\mathbf{y} = \\begin{bmatrix}y_1\\\\y_1\\\\\\vdots\\\\y_n\\end{bmatrix},\\;\\;X = \\begin{bmatrix}1&u_1&v_1\\\\1&u_2&v_2\\\\\\vdots&\\vdots&\\vdots\\\\1&u_n&v_n\\end{bmatrix},\\;\\;\\mathbf{\\beta}=\\begin{bmatrix}\\beta_0\\\\\\beta_1\\\\\\beta_2\\end{bmatrix},\\;\\;\\epsilon = \\begin{bmatrix}\\epsilon_1\\\\\\epsilon_2\\\\\\vdots\\\\\\epsilon_n\\end{bmatrix}$$"
      ]
    },
    {
      "cell_type": "code",
      "metadata": {
        "hide_input": false,
        "slideshow": {
          "slide_type": "fragment"
        },
        "tags": [
          "hide-input"
        ]
      },
      "source": [
        "%matplotlib nbagg\n",
        "ax = ut.plotSetup3d(-7, 7, -7, 7, -10, 10, figsize = (7, 7))\n",
        "v = [4.0, 4.0, 2.0]\n",
        "u = [-4.0, 3.0, 1.0]\n",
        "# plotting the span of v\n",
        "ut.plotSpan3d(ax,u,v,'Green')\n",
        "npts = 50\n",
        "ax.plot(coords[0], coords[1], 'ro', zs = coords[2], markersize=6);"
      ],
      "execution_count": null,
      "outputs": []
    },
    {
      "cell_type": "markdown",
      "metadata": {},
      "source": [
        "This example shows that the linear model for multiple regression has the same form as the model for the simple regression in the earlier examples.\n",
        "\n",
        "We can see that there the general principle is the same across all the different kinds of linear models.\n",
        "\n",
        "Once $X$ is defined properly, the normal equations for $\\mathbf{\\beta}$ have the same matrix form, no matter how many variables are involved.\n",
        "\n",
        "Thus, for any linear model where $X^TX$ is invertible, the least squares estimate $\\hat{\\mathbf{\\beta}}$ is given by $(X^TX)^{-1}X^T\\mathbf{y}$.\n",
        "\n",
        "## Measuring the fit of a regression model: $R^2$\n",
        "\n",
        "Given any $X$ and $\\mathbf{y}$, the above algorithm will produce an output $\\hat{\\beta}$.\n",
        "\n",
        "But how do we know whether the data is in fact well described by the model?\n",
        "\n",
        "The most common measure of fit is $R^2$.\n",
        "\n",
        "$R^2$ measures the __fraction of the variance__ of $\\mathbf{y}$ that can be explained by the model $X\\hat{\\beta}$.\n",
        "\n",
        "The variance of $\\mathbf{y}$ is \n",
        "\n",
        "$$\\text{Var}(\\mathbf{y}) =\\frac{1}{n} \\sum_{i=1}^n \\left(y_i-\\overline{y}\\right)^2$$\n",
        "\n",
        "where $\\overline{y}=\\frac{1}{n}\\sum_{i=1}^ny_i$.\n",
        "\n",
        "For any given $n$, we can equally work with just \n",
        "$$\\sum_{i=1}^n \\left(y_i-\\overline{y}\\right)^2$$\n",
        "which is called the __Total Sum of Squares__ (TSS).\n",
        "\n",
        "Now to measure the quality of fit of a model, we break TSS down into two components. \n",
        "\n",
        "For any given $\\mathbf{x}_i$, the prediction made by the model is $\\hat{y_i} = \\mathbf{x}_i^T\\beta$.\n",
        "\n",
        "Therefore, \n",
        "* the residual $\\epsilon$ is $y_i - \\hat{y_i}$, and \n",
        "* the part that the model \"explains\" is $\\hat{y_i} - \\overline{y_i}.$\n",
        "\n",
        "Se we define Residual Sum of Squares (RSS) as:\n",
        "\n",
        "$$\\text{RSS} = \\sum_{i=1}^n \\left(y_i-\\hat{y_i}\\right)^2,$$\n",
        "\n",
        "and Explained Sum of Squares (ESS) as:\n",
        "\n",
        "$$\\text{ESS} = \\sum_{i=1}^n \\left(\\hat{y_i}-\\overline{y}\\right)^2,$$\n",
        "\n",
        "Then it turns out that the total sum of squares is exactly equal to the sum of squares of the residuals plus the sum of squares of the explained part.\n",
        "\n",
        "In other words:\n",
        "\n",
        "$$\\text{TSS} = \\text{RSS} + \\text{ESS}$$\n",
        "\n",
        "Now, a good fit is one in which the model explains a large part of the variance of $\\mathbf{y}$.  \n",
        "\n",
        "So the measure of fit $R^2$ is defined as:\n",
        "\n",
        "\\begin{eqnarray}\n",
        "R^2 & = & \\frac{\\text{ESS}}{\\text{TSS}} = 1-\\frac{\\text{RSS}}{\\text{TSS}}\n",
        "\\end{eqnarray}\n",
        "\n",
        "As a result, $0\\leq R^2\\leq 1$.\n",
        "\n",
        "The closer the value of $R^2$ is to $1$ the better the fit of the regression:\n",
        "* small values of RSS imply that the residuals are small and therefore we have a better fit.\n",
        "\n",
        "$R^2$ is called the __coefficient of determination.__  \n",
        "\n",
        "It tells us \"how well does the model predict the data?\"\n",
        "\n",
        "__WARNING -- WARNING -- WARNING__\n",
        "\n",
        "Do __not__ confuse $R^2$ with Pearson's $r$, which is the __correlation coefficient.__\n",
        "\n",
        "(To make matters worse, sometimes people talk about $r^2$... very confusing!)\n",
        "\n",
        "The correlation coefficient tells us whether two variables are __correlated__.   \n",
        "\n",
        "However, just because two variables are correlated does not mean that one is a good __predictor__ of the other!\n",
        "\n",
        "To compare ground truth with predictions, we always use $R^2$.\n",
        "\n",
        "## OLS in Practice\n",
        "\n",
        "First, we'll look at a test case on synthetic data."
      ]
    },
    {
      "cell_type": "code",
      "metadata": {
        "slideshow": {
          "slide_type": "fragment"
        }
      },
      "source": [
        "from sklearn import datasets\n",
        "X, y = datasets.make_regression(n_samples=100, n_features=20, n_informative=5, bias=0.1, noise=30, random_state=1)"
      ],
      "execution_count": null,
      "outputs": []
    },
    {
      "cell_type": "code",
      "metadata": {
        "slideshow": {
          "slide_type": "fragment"
        }
      },
      "source": [
        "model = sm.OLS(y, X)\n",
        "results = model.fit()\n",
        "print(results.summary())"
      ],
      "execution_count": null,
      "outputs": []
    },
    {
      "cell_type": "markdown",
      "metadata": {},
      "source": [
        "The $R^2$ value is very good.   We can see that the linear model does a very good job of predicting the observations $y_i$.\n",
        "\n",
        "However, some of the independent variables may not contribute to the accuracy of the prediction. "
      ]
    },
    {
      "cell_type": "code",
      "metadata": {
        "hide_input": false,
        "scrolled": true,
        "slideshow": {
          "slide_type": "fragment"
        },
        "tags": [
          "hide-input"
        ]
      },
      "source": [
        "%matplotlib nbagg\n",
        "ax = ut.plotSetup3d(-2, 2, -2, 2, -200, 200)\n",
        "# try columns of X with large coefficients, or not\n",
        "ax.plot(X[:, 1], X[:, 2], 'ro', zs=y, markersize = 4)"
      ],
      "execution_count": null,
      "outputs": []
    },
    {
      "cell_type": "markdown",
      "metadata": {},
      "source": [
        "Note that each parameter of an independent variable has an associated confidence interval. \n",
        "\n",
        "If a coefficient is not distinguishable from zero, then we cannot assume that there is any relationship between the independent variable and the observations.\n",
        "\n",
        "In other words, if the confidence interval for the parameter includes zero, the associated independent variable may not have any predictive value."
      ]
    },
    {
      "cell_type": "code",
      "metadata": {
        "slideshow": {
          "slide_type": "fragment"
        }
      },
      "source": [
        "print('Confidence Intervals: {}'.format(results.conf_int()))\n",
        "print('Parameters: {}'.format(results.params))"
      ],
      "execution_count": null,
      "outputs": []
    },
    {
      "cell_type": "code",
      "metadata": {
        "slideshow": {
          "slide_type": "fragment"
        }
      },
      "source": [
        "CIs = results.conf_int()\n",
        "notSignificant = (CIs[:,0] < 0) & (CIs[:,1] > 0)\n",
        "notSignificant"
      ],
      "execution_count": null,
      "outputs": []
    },
    {
      "cell_type": "code",
      "metadata": {
        "slideshow": {
          "slide_type": "fragment"
        }
      },
      "source": [
        "Xsignif = X[:,~notSignificant]\n",
        "Xsignif.shape"
      ],
      "execution_count": null,
      "outputs": []
    },
    {
      "cell_type": "markdown",
      "metadata": {},
      "source": [
        "By eliminating independent variables that are not significant, we help avoid overfitting."
      ]
    },
    {
      "cell_type": "code",
      "metadata": {
        "slideshow": {
          "slide_type": "fragment"
        }
      },
      "source": [
        "model = sm.OLS(y, Xsignif)\n",
        "results = model.fit()\n",
        "print(results.summary())"
      ],
      "execution_count": null,
      "outputs": []
    },
    {
      "cell_type": "markdown",
      "metadata": {},
      "source": [
        "## Real Data: House Prices in Ames, Iowa\n",
        "\n",
        "Let's see how powerful multiple regression can be on a real-world example.\n",
        "\n",
        "A typical application of linear models is predicting house prices.   Linear models have been used for this problem for decades, and when a municipality does a value assessment on your house, they typically use a linear model.\n",
        "\n",
        "We can consider various measurable attributes of a house (its \"features\") as the independent variables, and the most recent sale price of the house as the dependent variable.\n",
        "\n",
        "For our case study, we will use the features:\n",
        "* Lot Area (sq ft), \n",
        "* Gross Living Area (sq ft), \n",
        "* Number of Fireplaces, \n",
        "* Number of Full Baths, \n",
        "* Number of Half Baths, \n",
        "* Garage Area (sq ft), \n",
        "* Basement Area (sq ft)\n",
        "\n",
        "So our design matrix will have 8 columns (including the constant for the intercept):\n",
        "\n",
        "$$ X\\beta = \\mathbf{y}$$\n",
        "\n",
        "and it will have one row for each house in the data set, with $y$ the sale price of the house.\n",
        "\n",
        "We will use data from housing sales in Ames, Iowa from 2006 to 2009:\n",
        "\n",
        "<img src=\"figs/ames-iowa-downtown.jpeg\" alt=\"Figure\" width=\"45%\">\n",
        "\n",
        "<p style = \"text-align: center;\">\n",
        "Ames, Iowa</p>\n",
        "<p style = \"text-align: center;\">\n",
        "<a href=\"https://commons.wikimedia.org/wiki/File:Ames_Iowa_Main_Street.jpg\">Tim Kiser (w:User:Malepheasant)</a>, <a href=\"https://creativecommons.org/licenses/by-sa/2.5\">CC BY-SA 2.5</a>, via Wikimedia Commons</p>"
      ]
    },
    {
      "cell_type": "code",
      "metadata": {
        "slideshow": {
          "slide_type": "fragment"
        }
      },
      "source": [
        "df = pd.read_csv('data/ames-housing-data/train.csv')"
      ],
      "execution_count": null,
      "outputs": []
    },
    {
      "cell_type": "code",
      "metadata": {
        "slideshow": {
          "slide_type": "fragment"
        }
      },
      "source": [
        "df[['LotArea', 'GrLivArea', 'Fireplaces', 'FullBath', 'HalfBath', 'GarageArea', 'TotalBsmtSF', 'SalePrice']].head()"
      ],
      "execution_count": null,
      "outputs": []
    },
    {
      "cell_type": "markdown",
      "metadata": {},
      "source": [
        "Some things to note here:\n",
        "* House prices are in dollars\n",
        "* Areas are in square feet\n",
        "* Rooms are in counts\n",
        "\n",
        "Do we have scaling concerns here?  \n",
        "\n",
        "No, because each feature will get its own $\\beta$, which will correct for the scaling differences between different units of measure."
      ]
    },
    {
      "cell_type": "code",
      "metadata": {
        "slideshow": {
          "slide_type": "slide"
        }
      },
      "source": [
        "X_no_intercept = df[['LotArea', 'GrLivArea', 'Fireplaces', 'FullBath', 'HalfBath', 'GarageArea', 'TotalBsmtSF']]\n",
        "X_intercept = sm.add_constant(X_no_intercept)\n",
        "y = df['SalePrice'].values"
      ],
      "execution_count": null,
      "outputs": []
    },
    {
      "cell_type": "markdown",
      "metadata": {},
      "source": [
        "```{note}\n",
        "Note that removing the intercept will cause the $R^2$ to go up, which is counter-intuitive.  The reason is explained here -- but amounts to the fact that the formula for R2 with/without an intercept is different.\n",
        "https://stats.stackexchange.com/questions/26176/removal-of-statistically-significant-intercept-term-increases-r2-in-linear-mo/26205#26205\n",
        "```"
      ]
    },
    {
      "cell_type": "code",
      "metadata": {
        "slideshow": {
          "slide_type": "fragment"
        }
      },
      "source": [
        "from sklearn import utils, model_selection\n",
        "X_train, X_test, y_train, y_test = model_selection.train_test_split(\n",
        "    X_intercept, y, test_size = 0.5, random_state = 0)"
      ],
      "execution_count": null,
      "outputs": []
    },
    {
      "cell_type": "code",
      "metadata": {
        "slideshow": {
          "slide_type": "fragment"
        }
      },
      "source": [
        "model = sm.OLS(y_train, X_train)\n",
        "results = model.fit()\n",
        "print(results.summary())"
      ],
      "execution_count": null,
      "outputs": []
    },
    {
      "cell_type": "markdown",
      "metadata": {},
      "source": [
        "We see that we have:\n",
        "* $\\beta_0$: Intercept of -\\$42,850\n",
        "* $\\beta_1$: Marginal value of one square foot of Lot Area: \\$0.23 \n",
        "    * but __NOTICE__ - this coefficient is not statistically different from zero!\n",
        "* $\\beta_2$: Marginal value of one square foot of Gross Living Area: \\$48 \n",
        "* $\\beta_3$: Marginal value of one additional fireplace: \\$10,890\n",
        "* $\\beta_4$: Marginal value of one additional full bath: \\$14,900\n",
        "* $\\beta_5$: Marginal value of one additional half bath: \\$15,600\n",
        "* $\\beta_6$: Marginal value of one square foot of Garage Area: \\$99\n",
        "* $\\beta_7$: Marginal value of one square foot of Basement Area: \\$62\n",
        "\n",
        "Is our model doing a good job?  \n",
        "\n",
        "There are many statistics for testing this question, but we'll just look at the predictions versus the ground truth.\n",
        "\n",
        "For each house we compute its predicted sale value according to our model:\n",
        "\n",
        "$$\\hat{\\mathbf{y}} = X\\hat{\\beta}$$"
      ]
    },
    {
      "cell_type": "code",
      "metadata": {
        "hide_input": true,
        "slideshow": {
          "slide_type": "fragment"
        },
        "tags": [
          "hide-input"
        ]
      },
      "source": [
        "%matplotlib inline\n",
        "from sklearn.metrics import r2_score\n",
        "\n",
        "fig, (ax1, ax2) = plt.subplots(1,2,sharey = 'row', figsize=(12, 5))\n",
        "y_oos_predict = results.predict(X_test)\n",
        "r2_test = r2_score(y_test, y_oos_predict)\n",
        "ax1.scatter(y_test, y_oos_predict, s = 8)\n",
        "ax1.set_xlabel('True Price')\n",
        "ax1.set_ylabel('Predicted Price')\n",
        "ax1.plot([0,500000], [0,500000], 'r-')\n",
        "ax1.axis('equal')\n",
        "ax1.set_ylim([0, 500000])\n",
        "ax1.set_xlim([0, 500000])\n",
        "ax1.set_title(f'Out of Sample Prediction, $R^2$ is {r2_test:0.3f}')\n",
        "#\n",
        "y_is_predict = results.predict(X_train)\n",
        "ax2.scatter(y_train, y_is_predict, s = 8)\n",
        "r2_train = r2_score(y_train, y_is_predict)\n",
        "ax2.set_xlabel('True Price')\n",
        "ax2.plot([0,500000],[0,500000],'r-')\n",
        "ax2.axis('equal')\n",
        "ax2.set_ylim([0,500000])\n",
        "ax2.set_xlim([0,500000])\n",
        "ax2.set_title(f'In Sample Prediction, $R^2$ is {r2_train:0.3f}');"
      ],
      "execution_count": null,
      "outputs": []
    },
    {
      "cell_type": "markdown",
      "metadata": {},
      "source": [
        "We see that the model does a reasonable job for house values less than about \\$250,000. \n",
        "\n",
        "It tends to underestimate at both ends of the price range.\n",
        "\n",
        "Note that the $R^2$ on the (held out) test data is 0.610.   \n",
        "\n",
        "We are not doing as well on test data as on training data (somewhat to be expected).\n",
        "\n",
        "For a better model, we'd want to consider more features of each house, and perhaps some additional functions such as polynomials as components of our model.\n"
      ]
    }
  ],
  "metadata": {
    "kernelspec": {
      "name": "python3",
      "language": "python",
      "display_name": "Python 3 (ipykernel)",
      "path": "/Users/tomg/Source/courses/tools4ds/DS701-Course-Notes/.venv/share/jupyter/kernels/python3"
    }
  },
  "nbformat": 4,
  "nbformat_minor": 4
}