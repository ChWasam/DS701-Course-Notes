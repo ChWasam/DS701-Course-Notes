{
  "cells": [
    {
      "cell_type": "markdown",
      "metadata": {},
      "source": [
        "---\n",
        "title: 'Essential Tools: Pandas'\n",
        "jupyter: python3\n",
        "---\n",
        "\n",
        "[![](https://colab.research.google.com/assets/colab-badge.svg)](https://colab.research.google.com/github/tools4ds/DS701-Course-Notes/blob/main/ds701_book/jupyter_notebooks/02B-Pandas.ipynb)\n",
        "\n",
        "In this chapter we discuss the first of two important Python packages, Pandas.\n",
        "\n",
        "# Pandas\n",
        "\n",
        "Pandas is a Python library for data manipulation and analysis. It ca be used to produce high quality plots and integrates nicely with other libraries that expect NumPy arrays. Knowledge and use of Pandas is essential as a data scientist.\n",
        "\n",
        "The most important data structure provided by Pandas is the dataframe implemented in the [DataFrame](https://pandas.pydata.org/docs/reference/frame.html) class. A data frame is a table (2-D array) where each row and column has a label. \n",
        "\n",
        "Make it a habit that when you're given a dataset, load it into a dataframe.\n",
        "\n",
        "## Fetching, storing and retrieving your data\n",
        "\n",
        "For demonstration purposes, we'll use a utility library that fetches data from standard online sources, such as Yahoo! Finance."
      ]
    },
    {
      "cell_type": "code",
      "metadata": {},
      "source": [
        "# Import pandas and yfinance\n",
        "import pandas as pd\n",
        "import yfinance as yf\n",
        "\n",
        "yahoo_stocks = pd.DataFrame(yf.download('YELP',start='2015-01-01',end='2015-12-31', progress = False))\n",
        "\n",
        "yahoo_stocks.head()"
      ],
      "execution_count": null,
      "outputs": []
    },
    {
      "cell_type": "markdown",
      "metadata": {},
      "source": [
        "This is a typical example of a dataframe.  \n",
        "\n",
        "Notice how each row has a label and each column has a label.\n",
        "\n",
        "A DataFrame is an object that has associated methods that help you explore and manipulate the data.\n",
        "\n",
        "Here is a simple method: `.info()`"
      ]
    },
    {
      "cell_type": "code",
      "metadata": {},
      "source": [
        "yahoo_stocks.info()"
      ],
      "execution_count": null,
      "outputs": []
    },
    {
      "cell_type": "markdown",
      "metadata": {},
      "source": [
        "## Reading to/from a ``.csv`` file\n",
        "\n",
        "Continuing to explore methods, let's write the dataframe out to a ``.csv`` file:"
      ]
    },
    {
      "cell_type": "code",
      "metadata": {},
      "source": [
        "yahoo_stocks.to_csv('yahoo_data.csv')"
      ],
      "execution_count": null,
      "outputs": []
    },
    {
      "cell_type": "code",
      "metadata": {},
      "source": [
        "!head yahoo_data.csv"
      ],
      "execution_count": null,
      "outputs": []
    },
    {
      "cell_type": "markdown",
      "metadata": {},
      "source": [
        "And of course we can likewise read a ``.csv`` file into a dataframe.  This is probably the most common way you will get data into Pandas."
      ]
    },
    {
      "cell_type": "code",
      "metadata": {},
      "source": [
        "df = pd.read_csv('yahoo_data.csv')\n",
        "df.head()"
      ],
      "execution_count": null,
      "outputs": []
    },
    {
      "cell_type": "markdown",
      "metadata": {},
      "source": [
        "## Working with data columns\n",
        "\n",
        "In general, we'll typically describe the rows in the dataframe as **items** and the columns as **features**."
      ]
    },
    {
      "cell_type": "code",
      "metadata": {},
      "source": [
        "df.columns"
      ],
      "execution_count": null,
      "outputs": []
    },
    {
      "cell_type": "markdown",
      "metadata": {},
      "source": [
        "Pandas allows you to use standard python __indexing__ using square brackets to refer to columns (e.g., features) in your dataframe:"
      ]
    },
    {
      "cell_type": "code",
      "metadata": {},
      "source": [
        "df['Open']"
      ],
      "execution_count": null,
      "outputs": []
    },
    {
      "cell_type": "markdown",
      "metadata": {},
      "source": [
        "Pandas also allows you to refer to columns using an object attribute syntax.\n",
        "\n",
        "Note that the column name cannot include a space in this case."
      ]
    },
    {
      "cell_type": "code",
      "metadata": {},
      "source": [
        "df.Open"
      ],
      "execution_count": null,
      "outputs": []
    },
    {
      "cell_type": "markdown",
      "metadata": {},
      "source": [
        "You can select a list of columns:"
      ]
    },
    {
      "cell_type": "code",
      "metadata": {},
      "source": [
        "df[['Open', 'Close']].head()"
      ],
      "execution_count": null,
      "outputs": []
    },
    {
      "cell_type": "markdown",
      "metadata": {},
      "source": [
        "Putting things together -- make sure this syntax is clear to you:"
      ]
    },
    {
      "cell_type": "code",
      "metadata": {},
      "source": [
        "df.Date.head(10)"
      ],
      "execution_count": null,
      "outputs": []
    },
    {
      "cell_type": "code",
      "metadata": {},
      "source": [
        "df.Date.tail(10)"
      ],
      "execution_count": null,
      "outputs": []
    },
    {
      "cell_type": "markdown",
      "metadata": {},
      "source": [
        "Changing column names is as simple as assigning to the `.columns` property.\n",
        "\n",
        "Let's adjust the column names using to remove spaces."
      ]
    },
    {
      "cell_type": "code",
      "metadata": {},
      "source": [
        "new_column_names = [x.lower().replace(' ', '_') for x in df.columns]\n",
        "df.columns = new_column_names\n",
        "df.info()"
      ],
      "execution_count": null,
      "outputs": []
    },
    {
      "cell_type": "markdown",
      "metadata": {},
      "source": [
        "Observe that we first created a list of column names without spaces using __list comprehension__. This is the pythonic way to generate a new list.\n",
        "\n",
        "Now **all** columns can be accessed using the **dot** notation:"
      ]
    },
    {
      "cell_type": "code",
      "metadata": {},
      "source": [
        "df.adj_close.head()"
      ],
      "execution_count": null,
      "outputs": []
    },
    {
      "cell_type": "markdown",
      "metadata": {},
      "source": [
        "## A sampling of DataFrame methods.\n",
        "\n",
        "There are many useful methods in the DataFrame object. It is important to familiarize yourself with these methods.\n",
        "\n",
        "The following methods calculate the mean, standard deviation, and median of the specified numeric columns."
      ]
    },
    {
      "cell_type": "code",
      "metadata": {},
      "source": [
        "df[['high', 'low', 'open', 'close', 'volume', 'adj_close']].mean()"
      ],
      "execution_count": null,
      "outputs": []
    },
    {
      "cell_type": "code",
      "metadata": {},
      "source": [
        "df[['high', 'low', 'open', 'close', 'volume', 'adj_close']].std()"
      ],
      "execution_count": null,
      "outputs": []
    },
    {
      "cell_type": "code",
      "metadata": {},
      "source": [
        "df[['high', 'low', 'open', 'close', 'volume', 'adj_close']].median()"
      ],
      "execution_count": null,
      "outputs": []
    },
    {
      "cell_type": "code",
      "metadata": {},
      "source": [
        "df.open.mean()"
      ],
      "execution_count": null,
      "outputs": []
    },
    {
      "cell_type": "code",
      "metadata": {},
      "source": [
        "df.high.mean()"
      ],
      "execution_count": null,
      "outputs": []
    },
    {
      "cell_type": "markdown",
      "metadata": {},
      "source": [
        "## Plotting methods\n",
        "\n",
        "Pandas also implements a variety of easy-to-use plotting functions.\n",
        "\n",
        "These are your \"first look\" functions and useful in exploratory data analysis.\n",
        "\n",
        "Later, we will use more specialized graphics packages to create more sophisticated visualizations."
      ]
    },
    {
      "cell_type": "code",
      "metadata": {},
      "source": [
        "import matplotlib.pyplot as plt\n",
        "\n",
        "df.high.plot(label='High')\n",
        "df.low.plot(label='Low')\n",
        "plt.title('YELP Stock Price')\n",
        "plt.ylabel('Dollars')\n",
        "plt.legend(loc='best')\n",
        "plt.show()"
      ],
      "execution_count": null,
      "outputs": []
    },
    {
      "cell_type": "code",
      "metadata": {},
      "source": [
        "df.adj_close.hist()\n",
        "plt.xlabel('Adjusted Closing Price')\n",
        "plt.ylabel('Dollars')\n",
        "plt.title('YELP')\n",
        "plt.show()"
      ],
      "execution_count": null,
      "outputs": []
    },
    {
      "cell_type": "markdown",
      "metadata": {},
      "source": [
        "## Bulk Operations\n",
        "\n",
        "Methods like ``sum()`` and ``std()`` work on entire columns. \n",
        "\n",
        "We can run our own functions across all values in a column (or row) using ``apply()``.\n",
        "\n",
        "As an example, let's go back to this plot:"
      ]
    },
    {
      "cell_type": "code",
      "metadata": {},
      "source": [
        "df.high.plot(label='High')\n",
        "df.low.plot(label='Low')\n",
        "plt.title('YELP Stock Price')\n",
        "plt.ylabel('Dollars')\n",
        "plt.legend(loc='best')\n",
        "plt.show()"
      ],
      "execution_count": null,
      "outputs": []
    },
    {
      "cell_type": "markdown",
      "metadata": {},
      "source": [
        "It's __almost__ perfect.  The only problem is the $x$-axis: it should show time.\n",
        "\n",
        "To fix this, we need to make the dataframe __index__ -- that is, the __row labels__ -- into dates.\n",
        "\n",
        "The \"dates\" in our data are currently __strings__. We need to convert them to an appropriate data type so that Pandas understands that they are actually dates."
      ]
    },
    {
      "cell_type": "code",
      "metadata": {},
      "source": [
        "df.date.head()"
      ],
      "execution_count": null,
      "outputs": []
    },
    {
      "cell_type": "markdown",
      "metadata": {},
      "source": [
        "To convert each string in the `date` column to an actual date we will use `.apply()`:"
      ]
    },
    {
      "cell_type": "code",
      "metadata": {},
      "source": [
        "from datetime import datetime\n",
        "\n",
        "new_df = df.copy()\n",
        "new_df.date = df.date.apply(lambda d: datetime.strptime(d.split()[0], \"%Y-%m-%d\"))\n",
        "new_df.date.head()"
      ],
      "execution_count": null,
      "outputs": []
    },
    {
      "cell_type": "markdown",
      "metadata": {},
      "source": [
        "Each row in a DataFrame is associated with an index, which is a label that uniquely identifies that row.\n",
        "\n",
        "The row indices so far have been auto-generated by Pandas. They are integers starting from 0. \n",
        "\n",
        "To fix this set the `index` property of the DataFrame to equal the date column."
      ]
    },
    {
      "cell_type": "code",
      "metadata": {},
      "source": [
        "new_df.index = new_df.date\n",
        "new_df.head()"
      ],
      "execution_count": null,
      "outputs": []
    },
    {
      "cell_type": "markdown",
      "metadata": {},
      "source": [
        "Now that we have made an index based on a real date, we can drop the original `date` column."
      ]
    },
    {
      "cell_type": "code",
      "metadata": {},
      "source": [
        "new_df = new_df.drop(['date'], axis=1)\n",
        "new_df.head()"
      ],
      "execution_count": null,
      "outputs": []
    },
    {
      "cell_type": "markdown",
      "metadata": {},
      "source": [
        "Now we can see that Pandas handles these dates quite nicely."
      ]
    },
    {
      "cell_type": "code",
      "metadata": {},
      "source": [
        "new_df.high.plot(label='High')\n",
        "new_df.low.plot(label='Low')\n",
        "plt.title('YELP Stock Price')\n",
        "plt.ylabel('Dollars')\n",
        "plt.legend(loc='best')\n",
        "plt.show()"
      ],
      "execution_count": null,
      "outputs": []
    },
    {
      "cell_type": "markdown",
      "metadata": {},
      "source": [
        "## Accessing rows of the DataFrame\n",
        "\n",
        "So far we've seen how to access a column of the DataFrame. To access a row we use different syntax.\n",
        "\n",
        "To access a row by its index label, use the **`.loc()`** method ('location')."
      ]
    },
    {
      "cell_type": "code",
      "metadata": {},
      "source": [
        "new_df.loc[datetime(2015, 1, 23, 0, 0)]"
      ],
      "execution_count": null,
      "outputs": []
    },
    {
      "cell_type": "markdown",
      "metadata": {},
      "source": [
        "To access a row by its index number (i.e., like an array index), use **`.iloc()`** ('integer location')"
      ]
    },
    {
      "cell_type": "code",
      "metadata": {},
      "source": [
        "new_df.iloc[0, :]"
      ],
      "execution_count": null,
      "outputs": []
    },
    {
      "cell_type": "markdown",
      "metadata": {},
      "source": [
        "To iterate over the rows you can use **`.iterrows()`**."
      ]
    },
    {
      "cell_type": "code",
      "metadata": {},
      "source": [
        "num_positive_days = 0\n",
        "for idx, row in df.iterrows():\n",
        "    if row.close > row.open:\n",
        "        num_positive_days += 1\n",
        "        \n",
        "print(\"The total number of positive-gain days is {}.\".format(num_positive_days))"
      ],
      "execution_count": null,
      "outputs": []
    },
    {
      "cell_type": "markdown",
      "metadata": {},
      "source": [
        "## Filtering\n",
        "\n",
        "It is easy to select rows from the data.  \n",
        "\n",
        "All the operations below return a new DataFrame, which itself can be treated the same way as all DataFrames we have seen so far."
      ]
    },
    {
      "cell_type": "code",
      "metadata": {},
      "source": [
        "tmp_high = new_df.high > 55\n",
        "tmp_high.head()"
      ],
      "execution_count": null,
      "outputs": []
    },
    {
      "cell_type": "markdown",
      "metadata": {},
      "source": [
        "Summing a Boolean array is the same as counting the number of `True` values."
      ]
    },
    {
      "cell_type": "code",
      "metadata": {},
      "source": [
        "sum(tmp_high)"
      ],
      "execution_count": null,
      "outputs": []
    },
    {
      "cell_type": "markdown",
      "metadata": {},
      "source": [
        "Now, let's select only the rows of `new_df` that correspond to `tmp_high`,."
      ]
    },
    {
      "cell_type": "code",
      "metadata": {},
      "source": [
        "new_df[tmp_high]"
      ],
      "execution_count": null,
      "outputs": []
    },
    {
      "cell_type": "markdown",
      "metadata": {},
      "source": [
        "Putting it all together, we have the following commonly-used patterns."
      ]
    },
    {
      "cell_type": "code",
      "metadata": {},
      "source": [
        "positive_days = new_df[new_df.close > new_df.open]\n",
        "positive_days.head()"
      ],
      "execution_count": null,
      "outputs": []
    },
    {
      "cell_type": "code",
      "metadata": {},
      "source": [
        "very_positive_days = new_df[(new_df.close - new_df.open) > 4]\n",
        "very_positive_days.head()"
      ],
      "execution_count": null,
      "outputs": []
    },
    {
      "cell_type": "markdown",
      "metadata": {},
      "source": [
        "## Creating new columns\n",
        "\n",
        "To create a new column, simply assign values to it. The column name is similar to a key in a dictionary."
      ]
    },
    {
      "cell_type": "code",
      "metadata": {},
      "source": [
        "new_df['profit'] = (new_df.open < new_df.close)\n",
        "new_df.head()"
      ],
      "execution_count": null,
      "outputs": []
    },
    {
      "cell_type": "markdown",
      "metadata": {},
      "source": [
        "Let's give each row a `gain` value as a categorical variable."
      ]
    },
    {
      "cell_type": "code",
      "metadata": {},
      "source": [
        "for idx, row in new_df.iterrows():\n",
        "    if row.open > row.close:\n",
        "        new_df.loc[idx,'gain']='negative'\n",
        "    elif (row.close - row.open) < 1:\n",
        "        new_df.loc[idx,'gain']='small_gain'\n",
        "    elif (row.close - row.open) < 6:\n",
        "        new_df.loc[idx,'gain']='medium_gain'\n",
        "    else:\n",
        "        new_df.loc[idx,'gain']='large_gain'\n",
        "new_df.head()"
      ],
      "execution_count": null,
      "outputs": []
    },
    {
      "cell_type": "markdown",
      "metadata": {},
      "source": [
        "Here is another, more \"functional\", way to accomplish the same thing.\n",
        "\n",
        "Define a function that classifies rows, and `apply` it to each row."
      ]
    },
    {
      "cell_type": "code",
      "metadata": {},
      "source": [
        "def namerow(row):\n",
        "    if row.open > row.close:\n",
        "        return 'negative'\n",
        "    elif (row.close - row.open) < 1:\n",
        "        return 'small_gain'\n",
        "    elif (row.close - row.open) < 6:\n",
        "        return 'medium_gain'\n",
        "    else:\n",
        "        return 'large_gain'\n",
        "\n",
        "new_df['test_column'] = new_df.apply(namerow, axis=1)"
      ],
      "execution_count": null,
      "outputs": []
    },
    {
      "cell_type": "code",
      "metadata": {},
      "source": [
        "new_df.head()"
      ],
      "execution_count": null,
      "outputs": []
    },
    {
      "cell_type": "markdown",
      "metadata": {},
      "source": [
        "OK, point made, let's get rid of the extraneous `test_column`."
      ]
    },
    {
      "cell_type": "code",
      "metadata": {},
      "source": [
        "new_df.drop('test_column', axis=1)"
      ],
      "execution_count": null,
      "outputs": []
    },
    {
      "cell_type": "markdown",
      "metadata": {},
      "source": [
        "## Grouping\n",
        "\n",
        "A powerful DataFrame method is `groupby()`. \n",
        "\n",
        "This is analagous to `GROUP BY` in SQL.\n",
        "\n",
        "It will group the rows of a DataFrame by the values in one (or more) columns and let you iterate through each group.\n",
        "\n",
        "Here we will look at the average gain among the categories of gains (negative, small, medium, and large) we defined above and stored in the column `gain`."
      ]
    },
    {
      "cell_type": "code",
      "metadata": {},
      "source": [
        "gain_groups = new_df.groupby('gain')"
      ],
      "execution_count": null,
      "outputs": []
    },
    {
      "cell_type": "markdown",
      "metadata": {},
      "source": [
        "Essentially, `gain_groups` behaves like a dictionary:\n",
        "* the keys are the unique values found in the `gain` column, and \n",
        "* the values are DataFrames that contain only the rows having the corresponding unique values."
      ]
    },
    {
      "cell_type": "code",
      "metadata": {},
      "source": [
        "for gain, gain_data in gain_groups:\n",
        "    print(gain)\n",
        "    print(gain_data.head())\n",
        "    print('=============================')"
      ],
      "execution_count": null,
      "outputs": []
    },
    {
      "cell_type": "code",
      "metadata": {},
      "source": [
        "for gain, gain_data in new_df.groupby(\"gain\"):\n",
        "    print('The average closing value for the {} group is {}'.format(gain,\n",
        "                                                           gain_data.close.mean()))"
      ],
      "execution_count": null,
      "outputs": []
    },
    {
      "cell_type": "markdown",
      "metadata": {},
      "source": [
        "## Other Pandas Classes\n",
        "\n",
        "A DataFrame is essentially an annotated 2-D array.\n",
        "\n",
        "Pandas also has annotated versions of 1-D and 3-D arrays.\n",
        "\n",
        "A 1-D array in Pandas is called a [Series](https://pandas.pydata.org/docs/reference/series.html). You can think of DataFrames as a dictionary of Series.\n",
        "\n",
        "A 3-D array in Pandas is created using a [MultiIndex](https://pandas.pydata.org/docs/reference/api/pandas.MultiIndex.html#).\n",
        "\n",
        "For more information read the documentation.\n",
        "\n",
        "## Comparing multiple stocks\n",
        "\n",
        "As a last task, we will use the experience we obtained so far -- and learn some new things -- in order to compare the performance of different stocks we obtained from Yahoo finance."
      ]
    },
    {
      "cell_type": "code",
      "metadata": {},
      "source": [
        "stocks = ['ORCL', 'TSLA', 'IBM','YELP', 'MSFT']\n",
        "stock_df = pd.DataFrame()\n",
        "for s in stocks:\n",
        "    stock_df[s] = pd.DataFrame(yf.download(s, \n",
        "                                           start='2014-01-01', \n",
        "                                           end='2014-12-31', \n",
        "                                           progress=False))['Close']\n",
        "stock_df.head()"
      ],
      "execution_count": null,
      "outputs": []
    },
    {
      "cell_type": "code",
      "metadata": {},
      "source": [
        "stock_df.plot()\n",
        "plt.show()"
      ],
      "execution_count": null,
      "outputs": []
    },
    {
      "cell_type": "markdown",
      "metadata": {},
      "source": [
        "Next, we calculate the returns over a period of length $T$. The returns are defined as\n",
        "\n",
        "$$ r(t) = \\frac{f(t)-f(t-T)}{f(t)}. $$\n",
        "\n",
        "The returns can be computed with a simple DataFrame method `pct_change()`.  Note that for the first $T$ timesteps, this value is not defined."
      ]
    },
    {
      "cell_type": "code",
      "metadata": {},
      "source": [
        "rets = stock_df.pct_change(30)\n",
        "rets.iloc[25:35]"
      ],
      "execution_count": null,
      "outputs": []
    },
    {
      "cell_type": "markdown",
      "metadata": {},
      "source": [
        "Now we'll plot the timeseries of the returns of the different stocks.\n",
        "\n",
        "Notice that the `NaN` values are dropped by the plotting function."
      ]
    },
    {
      "cell_type": "code",
      "metadata": {},
      "source": [
        "rets.plot()\n",
        "plt.show()"
      ],
      "execution_count": null,
      "outputs": []
    },
    {
      "cell_type": "code",
      "metadata": {},
      "source": [
        "plt.scatter(rets.TSLA, rets.YELP)\n",
        "plt.xlabel('TESLA 30-day returns')\n",
        "plt.ylabel('YELP 30-day returns')\n",
        "plt.show()"
      ],
      "execution_count": null,
      "outputs": []
    },
    {
      "cell_type": "markdown",
      "metadata": {},
      "source": [
        "There appears to be some (fairly strong) correlation between the movement of TSLA and YELP stocks.  Let's measure this.\n",
        "\n",
        "The correlation coefficient between variables $X$ and $Y$ is defined as follows\n",
        "\n",
        "$$ \\text{Corr}(X,Y) = \\frac{E\\left[(X-\\mu_X)(Y-\\mu_Y)\\right]}{\\sigma_X\\sigma_Y}. $$\n",
        "\n",
        "Pandas provides a DataFrame method called `corr()` that computes the correlation coefficient of all pairs of columns."
      ]
    },
    {
      "cell_type": "code",
      "metadata": {},
      "source": [
        "rets.corr()"
      ],
      "execution_count": null,
      "outputs": []
    },
    {
      "cell_type": "markdown",
      "metadata": {},
      "source": [
        "It takes a bit of time to examine that table and draw conclusions.  \n",
        "\n",
        "To speed that process up let's visualize the table.\n"
      ]
    },
    {
      "cell_type": "code",
      "metadata": {},
      "source": [
        "import seaborn as sns\n",
        "\n",
        "sns.heatmap(rets.corr(), annot=True)\n",
        "plt.show()"
      ],
      "execution_count": null,
      "outputs": []
    },
    {
      "cell_type": "markdown",
      "metadata": {},
      "source": [
        "Finally, it is important to know that the plotting performed by Pandas is just a layer on top of `matplotlib` (i.e., the `plt` package).  \n",
        "\n",
        "So Panda's plots can (and often should) be replaced or improved by using additional functions from `matplotlib`.\n",
        "\n",
        "For example, suppose we want to know both the returns as well as the standard deviation of the returns of a stock (i.e., its risk).  \n",
        "\n",
        "Here is a visualization of the result of such an analysis. We construct the plot using only functions from `matplotlib`."
      ]
    },
    {
      "cell_type": "code",
      "metadata": {},
      "source": [
        "plt.scatter(rets.mean(), rets.std())\n",
        "plt.xlabel('Expected returns')\n",
        "plt.ylabel('Standard Deviation (Risk)')\n",
        "plt.xlim([-.05,.1])\n",
        "plt.ylim([0,.3])\n",
        "for label, x, y in zip(rets.columns, rets.mean(), rets.std()):\n",
        "    plt.annotate(\n",
        "        label, \n",
        "        xy = (x, y), xytext = (30, -30),\n",
        "        textcoords = 'offset points', ha = 'right', va = 'bottom',\n",
        "        bbox = dict(boxstyle = 'round,pad=0.5', fc = 'yellow', alpha = 0.5),\n",
        "        arrowprops = dict(arrowstyle = '->', connectionstyle = 'arc3,rad=0'))\n",
        "plt.show()"
      ],
      "execution_count": null,
      "outputs": []
    },
    {
      "cell_type": "markdown",
      "metadata": {},
      "source": [
        "To understand what these functions are doing, (especially the [annotate](https://matplotlib.org/stable/api/_as_gen/matplotlib.pyplot.annotate.html) function), you will need to consult the online documentation for [matplotlib](https://matplotlib.org/stable/api/index.html). \n"
      ]
    }
  ],
  "metadata": {
    "kernelspec": {
      "name": "python3",
      "language": "python",
      "display_name": "Python 3 (ipykernel)",
      "path": "/Users/tomg/Source/courses/tools4ds/DS701-Course-Notes/.venv/share/jupyter/kernels/python3"
    }
  },
  "nbformat": 4,
  "nbformat_minor": 4
}